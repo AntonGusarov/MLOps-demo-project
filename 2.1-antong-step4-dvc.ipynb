{
 "cells": [
  {
   "cell_type": "markdown",
   "metadata": {},
   "source": [
    "# DVC data tracking\n",
    "\n",
    "## Add dvc remote storage"
   ]
  },
  {
   "cell_type": "code",
   "execution_count": 3,
   "metadata": {},
   "outputs": [
    {
     "name": "stdout",
     "output_type": "stream",
     "text": [
      "DVC version: 1.11.15 (pip)\n",
      "---------------------------------\n",
      "Platform: Python 3.7.6 on Darwin-18.7.0-x86_64-i386-64bit\n",
      "Supports: hdfs, http, https\n",
      "Cache types: <\u001b[36mhttps://error.dvc.org/no-dvc-cache\u001b[39m>\n",
      "Caches: local\n",
      "Remotes: None\n",
      "Repo: dvc, git\n",
      "\u001b[0m"
     ]
    }
   ],
   "source": [
    "! dvc doctor"
   ]
  },
  {
   "cell_type": "code",
   "execution_count": 5,
   "metadata": {},
   "outputs": [
    {
     "name": "stdout",
     "output_type": "stream",
     "text": [
      "\u001b[0m"
     ]
    }
   ],
   "source": [
    "! dvc remote add myremote gdrive://18jPWh1VHDjd2sdBRqMnNvm_8uOmUhfoP"
   ]
  },
  {
   "cell_type": "code",
   "execution_count": 9,
   "metadata": {
    "scrolled": true
   },
   "outputs": [
    {
     "name": "stdout",
     "output_type": "stream",
     "text": [
      "myremote\tgdrive://18jPWh1VHDjd2sdBRqMnNvm_8uOmUhfoP\n",
      "\u001b[0m"
     ]
    }
   ],
   "source": [
    "! dvc remote list"
   ]
  },
  {
   "cell_type": "code",
   "execution_count": 12,
   "metadata": {},
   "outputs": [
    {
     "name": "stdout",
     "output_type": "stream",
     "text": [
      "DVC version: 1.11.15 (pip)\n",
      "---------------------------------\n",
      "Platform: Python 3.7.6 on Darwin-18.7.0-x86_64-i386-64bit\n",
      "Supports: hdfs, http, https\n",
      "Cache types: <\u001b[36mhttps://error.dvc.org/no-dvc-cache\u001b[39m>\n",
      "Caches: local\n",
      "Remotes: gdrive\n",
      "Repo: dvc, git\n",
      "\u001b[0m"
     ]
    }
   ],
   "source": [
    "! dvc doctor"
   ]
  },
  {
   "cell_type": "markdown",
   "metadata": {},
   "source": [
    "Notice that now the remote storage for data is listed in DVC configs:"
   ]
  },
  {
   "cell_type": "code",
   "execution_count": 14,
   "metadata": {},
   "outputs": [
    {
     "name": "stdout",
     "output_type": "stream",
     "text": [
      "['remote \"myremote\"']\r\n",
      "    url = gdrive://18jPWh1VHDjd2sdBRqMnNvm_8uOmUhfoP\r\n"
     ]
    }
   ],
   "source": [
    "! cat .dvc/config"
   ]
  },
  {
   "cell_type": "markdown",
   "metadata": {},
   "source": [
    "Do not forget to commit this in git:"
   ]
  },
  {
   "cell_type": "code",
   "execution_count": 10,
   "metadata": {},
   "outputs": [
    {
     "name": "stdout",
     "output_type": "stream",
     "text": [
      "[master 76bc73d] Configure local remote\n",
      " 1 file changed, 2 insertions(+)\n"
     ]
    }
   ],
   "source": [
    "! git commit .dvc/config -m \"Configure local remote\""
   ]
  },
  {
   "cell_type": "markdown",
   "metadata": {},
   "source": [
    "## Add a folder with data to DVC"
   ]
  },
  {
   "cell_type": "code",
   "execution_count": 15,
   "metadata": {},
   "outputs": [
    {
     "name": "stdout",
     "output_type": "stream",
     "text": [
      "features.feather      target.feather        user_features.feather\r\n"
     ]
    }
   ],
   "source": [
    "! ls data/processed"
   ]
  },
  {
   "cell_type": "code",
   "execution_count": 16,
   "metadata": {
    "scrolled": true
   },
   "outputs": [
    {
     "name": "stdout",
     "output_type": "stream",
     "text": [
      "Adding...                                                                       \n",
      "!\u001b[A\n",
      "  0%|          |Computing file/dir hashes (only done o0/4 [00:00<?,      ?md5/s]\u001b[A\n",
      " 75%|███████▌  |Computing file/dir hashes (only do3/4 [00:00<00:00,   9.12md5/s]\u001b[A\n",
      "                                                                                \u001b[A\n",
      "!\u001b[A\n",
      "Saving processed                                      |0.00 [00:00,     ?file/s]\u001b[A\n",
      "100% Add|██████████████████████████████████████████████|1/1 [00:01,  1.03s/file]\u001b[A\n",
      "\n",
      "To track the changes with git, run:\n",
      "\n",
      "\tgit add data/processed.dvc\n",
      "\u001b[0m"
     ]
    }
   ],
   "source": [
    "! dvc add data/processed"
   ]
  },
  {
   "cell_type": "markdown",
   "metadata": {},
   "source": [
    "Look now what is in the metafile that describes this folder:"
   ]
  },
  {
   "cell_type": "code",
   "execution_count": 18,
   "metadata": {},
   "outputs": [
    {
     "name": "stdout",
     "output_type": "stream",
     "text": [
      "outs:\r\n",
      "- md5: ea8b8d7ea046a9f40691fda47247189b.dir\r\n",
      "  size: 267733246\r\n",
      "  nfiles: 4\r\n",
      "  path: processed\r\n"
     ]
    }
   ],
   "source": [
    "! cat data/processed.dvc"
   ]
  },
  {
   "cell_type": "markdown",
   "metadata": {},
   "source": [
    "Also, data moved from to `.dvc/cache`:"
   ]
  },
  {
   "cell_type": "code",
   "execution_count": 22,
   "metadata": {},
   "outputs": [
    {
     "name": "stdout",
     "output_type": "stream",
     "text": [
      "\u001b[01;34m.dvc/cache\u001b[00m\r\n",
      "├── \u001b[01;34m16\u001b[00m\r\n",
      "│   └── 5404e51882c0f44029968ee161e16a\r\n",
      "├── \u001b[01;34m60\u001b[00m\r\n",
      "│   └── 252c4d3b15ae011aa1ab373dd13fa1\r\n",
      "├── \u001b[01;34md3\u001b[00m\r\n",
      "│   └── 8f5c849227f93171eccb777043e526\r\n",
      "├── \u001b[01;34md4\u001b[00m\r\n",
      "│   └── 1d8cd98f00b204e9800998ecf8427e\r\n",
      "└── \u001b[01;34mea\u001b[00m\r\n",
      "    └── 8b8d7ea046a9f40691fda47247189b.dir\r\n",
      "\r\n",
      "5 directories, 5 files\r\n"
     ]
    }
   ],
   "source": [
    "! tree .dvc/cache"
   ]
  },
  {
   "cell_type": "code",
   "execution_count": 25,
   "metadata": {},
   "outputs": [],
   "source": [
    "! git add data/processed.dvc -f"
   ]
  },
  {
   "cell_type": "markdown",
   "metadata": {},
   "source": [
    "## Push added folder to remote"
   ]
  },
  {
   "cell_type": "code",
   "execution_count": 1,
   "metadata": {},
   "outputs": [
    {
     "name": "stdout",
     "output_type": "stream",
     "text": [
      "myremote\tgdrive://18jPWh1VHDjd2sdBRqMnNvm_8uOmUhfoP\n",
      "\u001b[0m"
     ]
    }
   ],
   "source": [
    "! dvc remote list"
   ]
  },
  {
   "cell_type": "code",
   "execution_count": 32,
   "metadata": {},
   "outputs": [
    {
     "name": "stdout",
     "output_type": "stream",
     "text": [
      "\u001b[31mERROR\u001b[39m: failed to push data to the cloud - URL 'gdrive://18jPWh1VHDjd2sdBRqMnNvm_8uOmUhfoP' is supported but requires these missing dependencies: ['pydrive2']. To install dvc with those dependencies, run:\n",
      "\n",
      "\tpip install 'dvc[gdrive]'\n",
      "\n",
      "See <\u001b[36mhttps://dvc.org/doc/install\u001b[39m> for more info.\n",
      "\u001b[0m"
     ]
    }
   ],
   "source": [
    "! dvc push -r myremote "
   ]
  },
  {
   "cell_type": "code",
   "execution_count": null,
   "metadata": {},
   "outputs": [],
   "source": [
    "! pip install 'dvc[gdrive]'"
   ]
  },
  {
   "cell_type": "code",
   "execution_count": null,
   "metadata": {},
   "outputs": [
    {
     "name": "stdout",
     "output_type": "stream",
     "text": [
      "  0% Querying remote cache|                          |0/1 [00:00<?,     ?file/s]Go to the following link in your browser:\n",
      "\n",
      "    https://accounts.google.com/o/oauth2/auth?client_id=710796635688-iivsgbgsb6uv1fap6635dhvuei09o66c.apps.googleusercontent.com&redirect_uri=urn%3Aietf%3Awg%3Aoauth%3A2.0%3Aoob&scope=https%3A%2F%2Fwww.googleapis.com%2Fauth%2Fdrive+https%3A%2F%2Fwww.googleapis.com%2Fauth%2Fdrive.appdata&access_type=offline&response_type=code&approval_prompt=force\n",
      "\n",
      "Enter verification code: "
     ]
    }
   ],
   "source": [
    "! dvc push -r myremote"
   ]
  },
  {
   "cell_type": "code",
   "execution_count": 32,
   "metadata": {},
   "outputs": [
    {
     "name": "stdout",
     "output_type": "stream",
     "text": [
      "[master cd80bc6] Add a folder data/processed to DVC\r\n",
      " 1 file changed, 5 insertions(+)\r\n",
      " create mode 100644 data/processed.dvc\r\n"
     ]
    }
   ],
   "source": [
    "! git commit -m \"Add a folder data/processed to DVC\""
   ]
  },
  {
   "cell_type": "markdown",
   "metadata": {},
   "source": [
    "## Making changes to data"
   ]
  },
  {
   "cell_type": "code",
   "execution_count": 33,
   "metadata": {},
   "outputs": [
    {
     "name": "stdout",
     "output_type": "stream",
     "text": [
      "features.feather      target.feather        user_features.feather\r\n"
     ]
    }
   ],
   "source": [
    "! ls data/processed"
   ]
  },
  {
   "cell_type": "markdown",
   "metadata": {},
   "source": [
    "The minimal `dvc diff`, run without arguments, defaults to comparing DVC-tracked files between HEAD (last Git commit) and the current workspace (uncommitted changes, if any):"
   ]
  },
  {
   "cell_type": "code",
   "execution_count": 37,
   "metadata": {},
   "outputs": [
    {
     "name": "stdout",
     "output_type": "stream",
     "text": [
      "\u001b[0m                                                                  core\u001b[39m>"
     ]
    }
   ],
   "source": [
    "! dvc diff"
   ]
  },
  {
   "cell_type": "code",
   "execution_count": 39,
   "metadata": {},
   "outputs": [
    {
     "name": "stdout",
     "output_type": "stream",
     "text": [
      "\u001b[32mAdded\u001b[39m:                                                      core\u001b[39m>\n",
      "    data/processed/\n",
      "    data/processed/.gitkeep\n",
      "    data/processed/features.feather\n",
      "    data/processed/target.feather\n",
      "    data/processed/user_features.feather\n",
      "\n",
      "files summary: 4 added, 0 deleted, 0 modified, 0 not in cache\n",
      "\u001b[0m"
     ]
    }
   ],
   "source": [
    "! dvc diff HEAD^1"
   ]
  },
  {
   "cell_type": "code",
   "execution_count": 38,
   "metadata": {},
   "outputs": [
    {
     "name": "stdout",
     "output_type": "stream",
     "text": [
      "Data and pipelines are up to date.                                    core\u001b[39m>\n",
      "\u001b[0m"
     ]
    }
   ],
   "source": [
    "! dvc status"
   ]
  },
  {
   "cell_type": "markdown",
   "metadata": {},
   "source": [
    "`b7` with file `.dir` appeared:"
   ]
  },
  {
   "cell_type": "markdown",
   "metadata": {},
   "source": [
    "Add a new file to the tracked folder:"
   ]
  },
  {
   "cell_type": "code",
   "execution_count": 43,
   "metadata": {},
   "outputs": [
    {
     "name": "stdout",
     "output_type": "stream",
     "text": [
      "features.feather             target.feather\r\n",
      "scoring_target_added.feather user_features.feather\r\n"
     ]
    }
   ],
   "source": [
    "! ls data/processed"
   ]
  },
  {
   "cell_type": "code",
   "execution_count": 45,
   "metadata": {},
   "outputs": [
    {
     "name": "stdout",
     "output_type": "stream",
     "text": [
      "\u001b[32mAdded\u001b[39m:                                                      core\u001b[39m>\n",
      "    data/processed/scoring_target_added.feather\n",
      "\n",
      "\u001b[33mModified\u001b[39m:\n",
      "    data/processed/\n",
      "\n",
      "files summary: 1 added, 0 deleted, 0 modified, 0 not in cache\n",
      "\u001b[0m"
     ]
    }
   ],
   "source": [
    "! dvc diff"
   ]
  },
  {
   "cell_type": "code",
   "execution_count": 46,
   "metadata": {
    "scrolled": true
   },
   "outputs": [
    {
     "name": "stdout",
     "output_type": "stream",
     "text": [
      "data/processed.dvc:                                                   core\u001b[39m>\n",
      "\tchanged outs:\n",
      "\t\tmodified:           data/processed\n",
      "\u001b[0m"
     ]
    }
   ],
   "source": [
    "! dvc status"
   ]
  },
  {
   "cell_type": "code",
   "execution_count": 15,
   "metadata": {},
   "outputs": [
    {
     "name": "stdout",
     "output_type": "stream",
     "text": [
      "[master d66f7c2] Add a new file to data/processed which is tracked by DVC\r\n",
      " 2 files changed, 15 insertions(+), 108 deletions(-)\r\n",
      " delete mode 100644 requrements.txt\r\n"
     ]
    }
   ],
   "source": [
    "! git commit -m \"Add a new file to data/processed which is tracked by DVC\""
   ]
  },
  {
   "cell_type": "markdown",
   "metadata": {},
   "source": [
    "- Add yet another .txt file in our DVC folder:"
   ]
  },
  {
   "cell_type": "code",
   "execution_count": 28,
   "metadata": {},
   "outputs": [
    {
     "name": "stdout",
     "output_type": "stream",
     "text": [
      "\u001b[32mAdded\u001b[39m:                                                                \n",
      "    data/processed/dvc_test_data.txt\n",
      "    data/processed/scoring_target_added.feather\n",
      "\n",
      "\u001b[33mModified\u001b[39m:\n",
      "    data/processed/\n",
      "\n",
      "files summary: 2 added, 0 deleted, 0 modified, 0 not in cache\n",
      "\u001b[0m"
     ]
    }
   ],
   "source": [
    "! dvc diff"
   ]
  },
  {
   "cell_type": "code",
   "execution_count": 29,
   "metadata": {},
   "outputs": [
    {
     "name": "stdout",
     "output_type": "stream",
     "text": [
      "data/processed.dvc:                                                   core\u001b[39m>\n",
      "\tchanged outs:\n",
      "\t\tmodified:           data/processed\n",
      "\u001b[0m"
     ]
    }
   ],
   "source": [
    "! dvc status"
   ]
  },
  {
   "cell_type": "code",
   "execution_count": 30,
   "metadata": {},
   "outputs": [
    {
     "name": "stdout",
     "output_type": "stream",
     "text": [
      "outs:\r\n",
      "- md5: ea8b8d7ea046a9f40691fda47247189b.dir\r\n",
      "  size: 267733246\r\n",
      "  nfiles: 4\r\n",
      "  path: processed\r\n"
     ]
    }
   ],
   "source": [
    "! cat data/processed.dvc"
   ]
  },
  {
   "cell_type": "code",
   "execution_count": 31,
   "metadata": {},
   "outputs": [
    {
     "name": "stdout",
     "output_type": "stream",
     "text": [
      "dvc_test_data.txt            target.feather\r\n",
      "features.feather             user_features.feather\r\n",
      "scoring_target_added.feather\r\n"
     ]
    }
   ],
   "source": [
    "! ls data/processed"
   ]
  },
  {
   "cell_type": "markdown",
   "metadata": {},
   "source": [
    "**DO NOT FORGET TO RUN `dvc add` TO TRACK CHANGES!**"
   ]
  },
  {
   "cell_type": "code",
   "execution_count": 34,
   "metadata": {},
   "outputs": [
    {
     "name": "stdout",
     "output_type": "stream",
     "text": [
      "Adding...                                                                       \n",
      "!\u001b[A\n",
      "Saving processed                                      |0.00 [00:00,     ?file/s]\u001b[A\n",
      "100% Add|██████████████████████████████████████████████|1/1 [00:00,  1.32file/s]\u001b[A\n",
      "\n",
      "To track the changes with git, run:\n",
      "\n",
      "\tgit add data/processed.dvc\n",
      "\u001b[0m"
     ]
    }
   ],
   "source": [
    "! dvc add data/processed"
   ]
  },
  {
   "cell_type": "code",
   "execution_count": 35,
   "metadata": {},
   "outputs": [],
   "source": [
    "! git add data/processed.dvc"
   ]
  },
  {
   "cell_type": "code",
   "execution_count": 36,
   "metadata": {},
   "outputs": [
    {
     "name": "stdout",
     "output_type": "stream",
     "text": [
      "On branch master\r\n",
      "Your branch is ahead of 'origin/master' by 4 commits.\r\n",
      "  (use \"git push\" to publish your local commits)\r\n",
      "\r\n",
      "Changes to be committed:\r\n",
      "  (use \"git reset HEAD <file>...\" to unstage)\r\n",
      "\r\n",
      "\t\u001b[32mmodified:   data/processed.dvc\u001b[m\r\n",
      "\r\n",
      "Untracked files:\r\n",
      "  (use \"git add <file>...\" to include in what will be committed)\r\n",
      "\r\n",
      "\t\u001b[31m2.1-antong_step4_dvc.ipynb\u001b[m\r\n",
      "\r\n"
     ]
    }
   ],
   "source": [
    "! git status"
   ]
  },
  {
   "cell_type": "code",
   "execution_count": 37,
   "metadata": {},
   "outputs": [
    {
     "name": "stdout",
     "output_type": "stream",
     "text": [
      "[master 719cb56] Add a new .TXT file to data/processed which is tracked by DVC\r\n",
      " 1 file changed, 3 insertions(+), 3 deletions(-)\r\n"
     ]
    }
   ],
   "source": [
    "! git commit -m \"Add a new .TXT file to data/processed which is tracked by DVC\""
   ]
  },
  {
   "cell_type": "markdown",
   "metadata": {},
   "source": [
    "## Switch between data versions"
   ]
  },
  {
   "cell_type": "code",
   "execution_count": 38,
   "metadata": {},
   "outputs": [
    {
     "name": "stdout",
     "output_type": "stream",
     "text": [
      "On branch master\r\n",
      "Your branch is ahead of 'origin/master' by 5 commits.\r\n",
      "  (use \"git push\" to publish your local commits)\r\n",
      "\r\n",
      "Untracked files:\r\n",
      "  (use \"git add <file>...\" to include in what will be committed)\r\n",
      "\r\n",
      "\t\u001b[31m2.1-antong_step4_dvc.ipynb\u001b[m\r\n",
      "\r\n",
      "nothing added to commit but untracked files present (use \"git add\" to track)\r\n"
     ]
    }
   ],
   "source": [
    "! git status"
   ]
  },
  {
   "cell_type": "code",
   "execution_count": 39,
   "metadata": {},
   "outputs": [
    {
     "name": "stdout",
     "output_type": "stream",
     "text": [
      "\u001b[33mcommit 719cb56ce0d98c5666f04983d54debce2d9591dc\u001b[m\u001b[33m (\u001b[m\u001b[1;36mHEAD -> \u001b[m\u001b[1;32mmaster\u001b[m\u001b[33m)\u001b[m\r\n",
      "Author: AntonGusarov <gusarov@kth.se>\r\n",
      "Date:   Thu Feb 11 14:22:00 2021 +0100\r\n",
      "\r\n",
      "    Add a new .TXT file to data/processed which is tracked by DVC\r\n",
      "\r\n",
      "\u001b[33mcommit d66f7c20adbeea7bbd99684b564cd74f6ef9ec77\u001b[m\r\n",
      "Author: AntonGusarov <gusarov@kth.se>\r\n",
      "Date:   Thu Feb 11 13:56:22 2021 +0100\r\n",
      "\r\n",
      "    Add a new file to data/processed which is tracked by DVC\r\n",
      "\r\n",
      "\u001b[33mcommit cd80bc6274b4e0ec9c58cfdf32c315f5b65d0c73\u001b[m\r\n",
      "Author: AntonGusarov <gusarov@kth.se>\r\n",
      "Date:   Wed Feb 10 22:58:51 2021 +0100\r\n",
      "\r\n",
      "    Add a folder data/processed to DVC\r\n",
      "\r\n",
      "\u001b[33mcommit 76bc73dc6b879719e5817ec1ccf7e93ed7bca38b\u001b[m\r\n",
      "Author: AntonGusarov <gusarov@kth.se>\r\n",
      "Date:   Wed Feb 10 21:43:51 2021 +0100\r\n",
      "\r\n",
      "    Configure local remote\r\n",
      "\r\n",
      "\u001b[33mcommit 3c8d8cb9766220742025a1f6aa37c8da19e9fd7b\u001b[m\r\n",
      "Author: AntonGusarov <gusarov@kth.se>\r\n",
      "Date:   Wed Feb 10 21:02:22 2021 +0100\r\n",
      "\r\n",
      "    Initialize DVC\r\n"
     ]
    }
   ],
   "source": [
    "! git log -5"
   ]
  },
  {
   "cell_type": "markdown",
   "metadata": {},
   "source": [
    "The two ways to track a difference in data between commits:\n",
    "- Compare relatively to the current state (HEAD)\n",
    "- Compare two commits by their id:s"
   ]
  },
  {
   "cell_type": "code",
   "execution_count": 42,
   "metadata": {},
   "outputs": [
    {
     "name": "stdout",
     "output_type": "stream",
     "text": [
      "\u001b[32mAdded\u001b[39m:                                                      core\u001b[39m>\n",
      "    data/processed/dvc_test_data.txt\n",
      "    data/processed/scoring_target_added.feather\n",
      "\n",
      "\u001b[33mModified\u001b[39m:\n",
      "    data/processed/\n",
      "\n",
      "files summary: 2 added, 0 deleted, 0 modified, 0 not in cache\n",
      "\u001b[0m"
     ]
    }
   ],
   "source": [
    "! dvc diff HEAD^1"
   ]
  },
  {
   "cell_type": "code",
   "execution_count": 43,
   "metadata": {},
   "outputs": [
    {
     "name": "stdout",
     "output_type": "stream",
     "text": [
      "\u001b[32mAdded\u001b[39m:                                                      core\u001b[39m>\n",
      "    data/processed/dvc_test_data.txt\n",
      "    data/processed/scoring_target_added.feather\n",
      "\n",
      "\u001b[33mModified\u001b[39m:\n",
      "    data/processed/\n",
      "\n",
      "files summary: 2 added, 0 deleted, 0 modified\n",
      "\u001b[0m"
     ]
    }
   ],
   "source": [
    "! dvc diff cd80bc627 719cb56ce"
   ]
  },
  {
   "cell_type": "markdown",
   "metadata": {},
   "source": [
    "### Git tags"
   ]
  },
  {
   "cell_type": "markdown",
   "metadata": {},
   "source": [
    "First, add git tags to conveniently refer to commits with different data. \n",
    "\n",
    "Add an annotated tag to the current commit:"
   ]
  },
  {
   "cell_type": "code",
   "execution_count": 45,
   "metadata": {},
   "outputs": [],
   "source": [
    "! git tag -a v0.2 -m \"dvc tag #2 - added new files\""
   ]
  },
  {
   "cell_type": "markdown",
   "metadata": {},
   "source": [
    "View added tag.\n",
    "\n",
    "Simple view:"
   ]
  },
  {
   "cell_type": "code",
   "execution_count": 46,
   "metadata": {},
   "outputs": [
    {
     "name": "stdout",
     "output_type": "stream",
     "text": [
      "v0.2\r\n"
     ]
    }
   ],
   "source": [
    "! git tag"
   ]
  },
  {
   "cell_type": "markdown",
   "metadata": {},
   "source": [
    "View with more verbose options: "
   ]
  },
  {
   "cell_type": "code",
   "execution_count": 47,
   "metadata": {},
   "outputs": [
    {
     "name": "stdout",
     "output_type": "stream",
     "text": [
      "v0.2            dvc tag #2 - added new files\r\n"
     ]
    }
   ],
   "source": [
    "! git tag -n"
   ]
  },
  {
   "cell_type": "markdown",
   "metadata": {},
   "source": [
    "Add annotated tag to the old commit:"
   ]
  },
  {
   "cell_type": "code",
   "execution_count": 48,
   "metadata": {},
   "outputs": [],
   "source": [
    "! git tag -a v0.1 cd80bc6274b -m \"dvc tag #1 - initial dvc commit\""
   ]
  },
  {
   "cell_type": "code",
   "execution_count": 49,
   "metadata": {},
   "outputs": [
    {
     "name": "stdout",
     "output_type": "stream",
     "text": [
      "v0.1            dvc tag #1 - initial dvc commit\r\n",
      "v0.2            dvc tag #2 - added new files\r\n"
     ]
    }
   ],
   "source": [
    "! git tag -n"
   ]
  },
  {
   "cell_type": "markdown",
   "metadata": {},
   "source": [
    "Check the difference between two commits (experiments):"
   ]
  },
  {
   "cell_type": "code",
   "execution_count": 50,
   "metadata": {},
   "outputs": [
    {
     "name": "stdout",
     "output_type": "stream",
     "text": [
      "\u001b[32mAdded\u001b[39m:                                                      core\u001b[39m>\n",
      "    data/processed/dvc_test_data.txt\n",
      "    data/processed/scoring_target_added.feather\n",
      "\n",
      "\u001b[33mModified\u001b[39m:\n",
      "    data/processed/\n",
      "\n",
      "files summary: 2 added, 0 deleted, 0 modified\n",
      "\u001b[0m"
     ]
    }
   ],
   "source": [
    "! dvc diff v0.1 v0.2"
   ]
  },
  {
   "cell_type": "code",
   "execution_count": 51,
   "metadata": {},
   "outputs": [
    {
     "name": "stdout",
     "output_type": "stream",
     "text": [
      "\u001b[33mcommit 719cb56ce0d98c5666f04983d54debce2d9591dc\u001b[m\u001b[33m (\u001b[m\u001b[1;36mHEAD -> \u001b[m\u001b[1;32mmaster\u001b[m\u001b[33m, \u001b[m\u001b[1;33mtag: v0.2\u001b[m\u001b[33m)\u001b[m\r\n",
      "Author: AntonGusarov <gusarov@kth.se>\r\n",
      "Date:   Thu Feb 11 14:22:00 2021 +0100\r\n",
      "\r\n",
      "    Add a new .TXT file to data/processed which is tracked by DVC\r\n",
      "\r\n",
      "\u001b[33mcommit d66f7c20adbeea7bbd99684b564cd74f6ef9ec77\u001b[m\r\n",
      "Author: AntonGusarov <gusarov@kth.se>\r\n",
      "Date:   Thu Feb 11 13:56:22 2021 +0100\r\n",
      "\r\n",
      "    Add a new file to data/processed which is tracked by DVC\r\n",
      "\r\n",
      "\u001b[33mcommit cd80bc6274b4e0ec9c58cfdf32c315f5b65d0c73\u001b[m\u001b[33m (\u001b[m\u001b[1;33mtag: v0.1\u001b[m\u001b[33m)\u001b[m\r\n",
      "Author: AntonGusarov <gusarov@kth.se>\r\n",
      "Date:   Wed Feb 10 22:58:51 2021 +0100\r\n",
      "\r\n",
      "    Add a folder data/processed to DVC\r\n",
      "\r\n",
      "\u001b[33mcommit 76bc73dc6b879719e5817ec1ccf7e93ed7bca38b\u001b[m\r\n",
      "Author: AntonGusarov <gusarov@kth.se>\r\n",
      "Date:   Wed Feb 10 21:43:51 2021 +0100\r\n",
      "\r\n",
      "    Configure local remote\r\n",
      "\r\n",
      "\u001b[33mcommit 3c8d8cb9766220742025a1f6aa37c8da19e9fd7b\u001b[m\r\n",
      "Author: AntonGusarov <gusarov@kth.se>\r\n",
      "Date:   Wed Feb 10 21:02:22 2021 +0100\r\n",
      "\r\n",
      "    Initialize DVC\r\n"
     ]
    }
   ],
   "source": [
    "! git log -5"
   ]
  },
  {
   "cell_type": "markdown",
   "metadata": {},
   "source": [
    "Switch between experimets and see the appropriate data:\n",
    "\n",
    "1. Current experiment (v0.2):"
   ]
  },
  {
   "cell_type": "code",
   "execution_count": 53,
   "metadata": {},
   "outputs": [
    {
     "name": "stdout",
     "output_type": "stream",
     "text": [
      "dvc_test_data.txt            target.feather\r\n",
      "features.feather             user_features.feather\r\n",
      "scoring_target_added.feather\r\n"
     ]
    }
   ],
   "source": [
    "! ls data/processed"
   ]
  },
  {
   "cell_type": "markdown",
   "metadata": {},
   "source": [
    "Switch to old experiment:"
   ]
  },
  {
   "cell_type": "code",
   "execution_count": 54,
   "metadata": {},
   "outputs": [
    {
     "name": "stdout",
     "output_type": "stream",
     "text": [
      "Note: checking out 'v0.1'.\r\n",
      "\r\n",
      "You are in 'detached HEAD' state. You can look around, make experimental\r\n",
      "changes and commit them, and you can discard any commits you make in this\r\n",
      "state without impacting any branches by performing another checkout.\r\n",
      "\r\n",
      "If you want to create a new branch to retain commits you create, you may\r\n",
      "do so (now or later) by using -b with the checkout command again. Example:\r\n",
      "\r\n",
      "  git checkout -b <new-branch-name>\r\n",
      "\r\n",
      "HEAD is now at cd80bc6 Add a folder data/processed to DVC\r\n"
     ]
    }
   ],
   "source": [
    "! git checkout v0.1"
   ]
  },
  {
   "cell_type": "code",
   "execution_count": 57,
   "metadata": {},
   "outputs": [
    {
     "name": "stdout",
     "output_type": "stream",
     "text": [
      "\u001b[33mcommit cd80bc6274b4e0ec9c58cfdf32c315f5b65d0c73\u001b[m\u001b[33m (\u001b[m\u001b[1;36mHEAD\u001b[m\u001b[33m, \u001b[m\u001b[1;33mtag: v0.1\u001b[m\u001b[33m)\u001b[m\r\n",
      "Author: AntonGusarov <gusarov@kth.se>\r\n",
      "Date:   Wed Feb 10 22:58:51 2021 +0100\r\n",
      "\r\n",
      "    Add a folder data/processed to DVC\r\n",
      "\r\n",
      "\u001b[33mcommit 76bc73dc6b879719e5817ec1ccf7e93ed7bca38b\u001b[m\r\n",
      "Author: AntonGusarov <gusarov@kth.se>\r\n",
      "Date:   Wed Feb 10 21:43:51 2021 +0100\r\n",
      "\r\n",
      "    Configure local remote\r\n",
      "\r\n",
      "\u001b[33mcommit 3c8d8cb9766220742025a1f6aa37c8da19e9fd7b\u001b[m\r\n",
      "Author: AntonGusarov <gusarov@kth.se>\r\n",
      "Date:   Wed Feb 10 21:02:22 2021 +0100\r\n",
      "\r\n",
      "    Initialize DVC\r\n"
     ]
    }
   ],
   "source": [
    "! git log -3"
   ]
  },
  {
   "cell_type": "markdown",
   "metadata": {},
   "source": [
    "**DO NOT FORGET TO DO A `dvc checkout`**:"
   ]
  },
  {
   "cell_type": "code",
   "execution_count": 59,
   "metadata": {},
   "outputs": [
    {
     "name": "stdout",
     "output_type": "stream",
     "text": [
      "\u001b[33mM\u001b[39m\tdata/processed/                                                     \n",
      "\u001b[0m"
     ]
    }
   ],
   "source": [
    "! dvc checkout"
   ]
  },
  {
   "cell_type": "code",
   "execution_count": 34,
   "metadata": {},
   "outputs": [
    {
     "name": "stdout",
     "output_type": "stream",
     "text": [
      "dvc_test_data.txt            target.feather\r\n",
      "features.feather             user_features.feather\r\n",
      "scoring_target_added.feather\r\n"
     ]
    }
   ],
   "source": [
    "! ls data/processed"
   ]
  },
  {
   "cell_type": "markdown",
   "metadata": {},
   "source": [
    "**Return back** to the latest commit:"
   ]
  },
  {
   "cell_type": "code",
   "execution_count": 61,
   "metadata": {},
   "outputs": [
    {
     "name": "stdout",
     "output_type": "stream",
     "text": [
      "Previous HEAD position was cd80bc6 Add a folder data/processed to DVC\r\n",
      "Switched to branch 'master'\r\n",
      "Your branch is ahead of 'origin/master' by 5 commits.\r\n",
      "  (use \"git push\" to publish your local commits)\r\n"
     ]
    }
   ],
   "source": [
    "! git checkout -"
   ]
  },
  {
   "cell_type": "code",
   "execution_count": 62,
   "metadata": {},
   "outputs": [
    {
     "name": "stdout",
     "output_type": "stream",
     "text": [
      "\u001b[33mcommit 719cb56ce0d98c5666f04983d54debce2d9591dc\u001b[m\u001b[33m (\u001b[m\u001b[1;36mHEAD -> \u001b[m\u001b[1;32mmaster\u001b[m\u001b[33m, \u001b[m\u001b[1;33mtag: v0.2\u001b[m\u001b[33m)\u001b[m\r\n",
      "Author: AntonGusarov <gusarov@kth.se>\r\n",
      "Date:   Thu Feb 11 14:22:00 2021 +0100\r\n",
      "\r\n",
      "    Add a new .TXT file to data/processed which is tracked by DVC\r\n",
      "\r\n",
      "\u001b[33mcommit d66f7c20adbeea7bbd99684b564cd74f6ef9ec77\u001b[m\r\n",
      "Author: AntonGusarov <gusarov@kth.se>\r\n",
      "Date:   Thu Feb 11 13:56:22 2021 +0100\r\n",
      "\r\n",
      "    Add a new file to data/processed which is tracked by DVC\r\n",
      "\r\n",
      "\u001b[33mcommit cd80bc6274b4e0ec9c58cfdf32c315f5b65d0c73\u001b[m\u001b[33m (\u001b[m\u001b[1;33mtag: v0.1\u001b[m\u001b[33m)\u001b[m\r\n",
      "Author: AntonGusarov <gusarov@kth.se>\r\n",
      "Date:   Wed Feb 10 22:58:51 2021 +0100\r\n",
      "\r\n",
      "    Add a folder data/processed to DVC\r\n",
      "\r\n",
      "\u001b[33mcommit 76bc73dc6b879719e5817ec1ccf7e93ed7bca38b\u001b[m\r\n",
      "Author: AntonGusarov <gusarov@kth.se>\r\n",
      "Date:   Wed Feb 10 21:43:51 2021 +0100\r\n",
      "\r\n",
      "    Configure local remote\r\n",
      "\r\n",
      "\u001b[33mcommit 3c8d8cb9766220742025a1f6aa37c8da19e9fd7b\u001b[m\r\n",
      "Author: AntonGusarov <gusarov@kth.se>\r\n",
      "Date:   Wed Feb 10 21:02:22 2021 +0100\r\n",
      "\r\n",
      "    Initialize DVC\r\n"
     ]
    }
   ],
   "source": [
    "! git log -5"
   ]
  },
  {
   "cell_type": "markdown",
   "metadata": {},
   "source": [
    "# DVC automated pipelines"
   ]
  },
  {
   "cell_type": "code",
   "execution_count": 19,
   "metadata": {},
   "outputs": [
    {
     "name": "stdout",
     "output_type": "stream",
     "text": [
      "DVC version: 1.11.15 (pip)\n",
      "---------------------------------\n",
      "Platform: Python 3.7.6 on Darwin-18.7.0-x86_64-i386-64bit\n",
      "Supports: gdrive, hdfs, http, https\n",
      "Cache types: reflink, hardlink, symlink\n",
      "Caches: local\n",
      "Remotes: gdrive\n",
      "Repo: dvc, git\n",
      "\u001b[0m"
     ]
    }
   ],
   "source": [
    "! dvc doctor"
   ]
  },
  {
   "cell_type": "code",
   "execution_count": 33,
   "metadata": {},
   "outputs": [
    {
     "name": "stderr",
     "output_type": "stream",
     "text": [
      "ERROR: output 'data/processed' is already specified in stage: 'data/processed.dvc'.\n"
     ]
    },
    {
     "ename": "CalledProcessError",
     "evalue": "Command 'b'dvc run -n load_data_stage \\\\\\n        -d src/data/load.py -d src/data/process.py -d src/utils/logging.py \\\\\\n        -p config/params.yaml:base,data_load \\\\\\n        -o data/processed \\\\\\n        python -m src.pipelines.load_data --config=config/params.yaml\\n'' returned non-zero exit status 1.",
     "output_type": "error",
     "traceback": [
      "\u001b[0;31m---------------------------------------------------------------------------\u001b[0m",
      "\u001b[0;31mCalledProcessError\u001b[0m                        Traceback (most recent call last)",
      "\u001b[0;32m<ipython-input-33-5c8383395ea7>\u001b[0m in \u001b[0;36m<module>\u001b[0;34m\u001b[0m\n\u001b[0;32m----> 1\u001b[0;31m \u001b[0mget_ipython\u001b[0m\u001b[0;34m(\u001b[0m\u001b[0;34m)\u001b[0m\u001b[0;34m.\u001b[0m\u001b[0mrun_cell_magic\u001b[0m\u001b[0;34m(\u001b[0m\u001b[0;34m'bash'\u001b[0m\u001b[0;34m,\u001b[0m \u001b[0;34m''\u001b[0m\u001b[0;34m,\u001b[0m \u001b[0;34m'dvc run -n load_data_stage \\\\\\n        -d src/data/load.py -d src/data/process.py -d src/utils/logging.py \\\\\\n        -p config/params.yaml:base,data_load \\\\\\n        -o data/processed \\\\\\n        python -m src.pipelines.load_data --config=config/params.yaml\\n'\u001b[0m\u001b[0;34m)\u001b[0m\u001b[0;34m\u001b[0m\u001b[0;34m\u001b[0m\u001b[0m\n\u001b[0m",
      "\u001b[0;32m~/ML_REPA/tutorial-predict-device-change/venv/lib/python3.7/site-packages/IPython/core/interactiveshell.py\u001b[0m in \u001b[0;36mrun_cell_magic\u001b[0;34m(self, magic_name, line, cell)\u001b[0m\n\u001b[1;32m   2369\u001b[0m             \u001b[0;32mwith\u001b[0m \u001b[0mself\u001b[0m\u001b[0;34m.\u001b[0m\u001b[0mbuiltin_trap\u001b[0m\u001b[0;34m:\u001b[0m\u001b[0;34m\u001b[0m\u001b[0;34m\u001b[0m\u001b[0m\n\u001b[1;32m   2370\u001b[0m                 \u001b[0margs\u001b[0m \u001b[0;34m=\u001b[0m \u001b[0;34m(\u001b[0m\u001b[0mmagic_arg_s\u001b[0m\u001b[0;34m,\u001b[0m \u001b[0mcell\u001b[0m\u001b[0;34m)\u001b[0m\u001b[0;34m\u001b[0m\u001b[0;34m\u001b[0m\u001b[0m\n\u001b[0;32m-> 2371\u001b[0;31m                 \u001b[0mresult\u001b[0m \u001b[0;34m=\u001b[0m \u001b[0mfn\u001b[0m\u001b[0;34m(\u001b[0m\u001b[0;34m*\u001b[0m\u001b[0margs\u001b[0m\u001b[0;34m,\u001b[0m \u001b[0;34m**\u001b[0m\u001b[0mkwargs\u001b[0m\u001b[0;34m)\u001b[0m\u001b[0;34m\u001b[0m\u001b[0;34m\u001b[0m\u001b[0m\n\u001b[0m\u001b[1;32m   2372\u001b[0m             \u001b[0;32mreturn\u001b[0m \u001b[0mresult\u001b[0m\u001b[0;34m\u001b[0m\u001b[0;34m\u001b[0m\u001b[0m\n\u001b[1;32m   2373\u001b[0m \u001b[0;34m\u001b[0m\u001b[0m\n",
      "\u001b[0;32m~/ML_REPA/tutorial-predict-device-change/venv/lib/python3.7/site-packages/IPython/core/magics/script.py\u001b[0m in \u001b[0;36mnamed_script_magic\u001b[0;34m(line, cell)\u001b[0m\n\u001b[1;32m    140\u001b[0m             \u001b[0;32melse\u001b[0m\u001b[0;34m:\u001b[0m\u001b[0;34m\u001b[0m\u001b[0;34m\u001b[0m\u001b[0m\n\u001b[1;32m    141\u001b[0m                 \u001b[0mline\u001b[0m \u001b[0;34m=\u001b[0m \u001b[0mscript\u001b[0m\u001b[0;34m\u001b[0m\u001b[0;34m\u001b[0m\u001b[0m\n\u001b[0;32m--> 142\u001b[0;31m             \u001b[0;32mreturn\u001b[0m \u001b[0mself\u001b[0m\u001b[0;34m.\u001b[0m\u001b[0mshebang\u001b[0m\u001b[0;34m(\u001b[0m\u001b[0mline\u001b[0m\u001b[0;34m,\u001b[0m \u001b[0mcell\u001b[0m\u001b[0;34m)\u001b[0m\u001b[0;34m\u001b[0m\u001b[0;34m\u001b[0m\u001b[0m\n\u001b[0m\u001b[1;32m    143\u001b[0m \u001b[0;34m\u001b[0m\u001b[0m\n\u001b[1;32m    144\u001b[0m         \u001b[0;31m# write a basic docstring:\u001b[0m\u001b[0;34m\u001b[0m\u001b[0;34m\u001b[0m\u001b[0;34m\u001b[0m\u001b[0m\n",
      "\u001b[0;32m<decorator-gen-110>\u001b[0m in \u001b[0;36mshebang\u001b[0;34m(self, line, cell)\u001b[0m\n",
      "\u001b[0;32m~/ML_REPA/tutorial-predict-device-change/venv/lib/python3.7/site-packages/IPython/core/magic.py\u001b[0m in \u001b[0;36m<lambda>\u001b[0;34m(f, *a, **k)\u001b[0m\n\u001b[1;32m    185\u001b[0m     \u001b[0;31m# but it's overkill for just that one bit of state.\u001b[0m\u001b[0;34m\u001b[0m\u001b[0;34m\u001b[0m\u001b[0;34m\u001b[0m\u001b[0m\n\u001b[1;32m    186\u001b[0m     \u001b[0;32mdef\u001b[0m \u001b[0mmagic_deco\u001b[0m\u001b[0;34m(\u001b[0m\u001b[0marg\u001b[0m\u001b[0;34m)\u001b[0m\u001b[0;34m:\u001b[0m\u001b[0;34m\u001b[0m\u001b[0;34m\u001b[0m\u001b[0m\n\u001b[0;32m--> 187\u001b[0;31m         \u001b[0mcall\u001b[0m \u001b[0;34m=\u001b[0m \u001b[0;32mlambda\u001b[0m \u001b[0mf\u001b[0m\u001b[0;34m,\u001b[0m \u001b[0;34m*\u001b[0m\u001b[0ma\u001b[0m\u001b[0;34m,\u001b[0m \u001b[0;34m**\u001b[0m\u001b[0mk\u001b[0m\u001b[0;34m:\u001b[0m \u001b[0mf\u001b[0m\u001b[0;34m(\u001b[0m\u001b[0;34m*\u001b[0m\u001b[0ma\u001b[0m\u001b[0;34m,\u001b[0m \u001b[0;34m**\u001b[0m\u001b[0mk\u001b[0m\u001b[0;34m)\u001b[0m\u001b[0;34m\u001b[0m\u001b[0;34m\u001b[0m\u001b[0m\n\u001b[0m\u001b[1;32m    188\u001b[0m \u001b[0;34m\u001b[0m\u001b[0m\n\u001b[1;32m    189\u001b[0m         \u001b[0;32mif\u001b[0m \u001b[0mcallable\u001b[0m\u001b[0;34m(\u001b[0m\u001b[0marg\u001b[0m\u001b[0;34m)\u001b[0m\u001b[0;34m:\u001b[0m\u001b[0;34m\u001b[0m\u001b[0;34m\u001b[0m\u001b[0m\n",
      "\u001b[0;32m~/ML_REPA/tutorial-predict-device-change/venv/lib/python3.7/site-packages/IPython/core/magics/script.py\u001b[0m in \u001b[0;36mshebang\u001b[0;34m(self, line, cell)\u001b[0m\n\u001b[1;32m    243\u001b[0m             \u001b[0msys\u001b[0m\u001b[0;34m.\u001b[0m\u001b[0mstderr\u001b[0m\u001b[0;34m.\u001b[0m\u001b[0mflush\u001b[0m\u001b[0;34m(\u001b[0m\u001b[0;34m)\u001b[0m\u001b[0;34m\u001b[0m\u001b[0;34m\u001b[0m\u001b[0m\n\u001b[1;32m    244\u001b[0m         \u001b[0;32mif\u001b[0m \u001b[0margs\u001b[0m\u001b[0;34m.\u001b[0m\u001b[0mraise_error\u001b[0m \u001b[0;32mand\u001b[0m \u001b[0mp\u001b[0m\u001b[0;34m.\u001b[0m\u001b[0mreturncode\u001b[0m\u001b[0;34m!=\u001b[0m\u001b[0;36m0\u001b[0m\u001b[0;34m:\u001b[0m\u001b[0;34m\u001b[0m\u001b[0;34m\u001b[0m\u001b[0m\n\u001b[0;32m--> 245\u001b[0;31m             \u001b[0;32mraise\u001b[0m \u001b[0mCalledProcessError\u001b[0m\u001b[0;34m(\u001b[0m\u001b[0mp\u001b[0m\u001b[0;34m.\u001b[0m\u001b[0mreturncode\u001b[0m\u001b[0;34m,\u001b[0m \u001b[0mcell\u001b[0m\u001b[0;34m,\u001b[0m \u001b[0moutput\u001b[0m\u001b[0;34m=\u001b[0m\u001b[0mout\u001b[0m\u001b[0;34m,\u001b[0m \u001b[0mstderr\u001b[0m\u001b[0;34m=\u001b[0m\u001b[0merr\u001b[0m\u001b[0;34m)\u001b[0m\u001b[0;34m\u001b[0m\u001b[0;34m\u001b[0m\u001b[0m\n\u001b[0m\u001b[1;32m    246\u001b[0m \u001b[0;34m\u001b[0m\u001b[0m\n\u001b[1;32m    247\u001b[0m     \u001b[0;32mdef\u001b[0m \u001b[0m_run_script\u001b[0m\u001b[0;34m(\u001b[0m\u001b[0mself\u001b[0m\u001b[0;34m,\u001b[0m \u001b[0mp\u001b[0m\u001b[0;34m,\u001b[0m \u001b[0mcell\u001b[0m\u001b[0;34m,\u001b[0m \u001b[0mto_close\u001b[0m\u001b[0;34m)\u001b[0m\u001b[0;34m:\u001b[0m\u001b[0;34m\u001b[0m\u001b[0;34m\u001b[0m\u001b[0m\n",
      "\u001b[0;31mCalledProcessError\u001b[0m: Command 'b'dvc run -n load_data_stage \\\\\\n        -d src/data/load.py -d src/data/process.py -d src/utils/logging.py \\\\\\n        -p config/params.yaml:base,data_load \\\\\\n        -o data/processed \\\\\\n        python -m src.pipelines.load_data --config=config/params.yaml\\n'' returned non-zero exit status 1."
     ]
    }
   ],
   "source": [
    "%%bash\n",
    "dvc run -n load_data_stage \\\n",
    "        -d src/data/load.py -d src/data/process.py -d src/utils/logging.py \\\n",
    "        -p config/params.yaml:base,data_load \\\n",
    "        -o data/processed \\\n",
    "        python -m src.pipelines.load_data --config=config/params.yaml"
   ]
  },
  {
   "cell_type": "markdown",
   "metadata": {},
   "source": [
    "The problem might be that this -o folder is already tracked by DVC"
   ]
  },
  {
   "cell_type": "markdown",
   "metadata": {},
   "source": [
    "Try again to create a pipeline stage:"
   ]
  },
  {
   "cell_type": "code",
   "execution_count": 28,
   "metadata": {},
   "outputs": [
    {
     "name": "stdout",
     "output_type": "stream",
     "text": [
      "Running stage 'load_data_stage' with command:\n",
      "\tpython -m src.pipelines.load_data --config=config/params.yaml\n",
      "2021-02-12 18:33:00,230 — DATA_LOAD — INFO — Load dataset\n",
      "2021-02-12 18:33:00,465 — DATA_LOAD — INFO — Process target\n",
      "2021-02-12 18:33:00,491 — DATA_LOAD — INFO — Process dataset\n",
      "2021-02-12 18:33:00,786 — DATA_LOAD — INFO — Save processed data and target\n",
      "2021-02-12 18:33:00,984 — DATA_LOAD — DEBUG — Processed data path: data/processed/user_features.feather\n",
      "2021-02-12 18:33:00,984 — DATA_LOAD — DEBUG — Processed data path: data/processed/target.feather\n",
      "Creating 'dvc.yaml'\n",
      "Adding stage 'load_data_stage' in 'dvc.yaml'\n",
      "Generating lock file 'dvc.lock'\n",
      "Updating lock file 'dvc.lock'\n",
      "\n",
      "To track the changes with git, run:\n",
      "\n",
      "\tgit add dvc.yaml dvc.lock\n"
     ]
    }
   ],
   "source": [
    "%%bash\n",
    "dvc run -n load_data_stage \\\n",
    "        -d src/data/load.py -d src/data/process.py -d src/utils/logging.py \\\n",
    "        -p config/params.yaml:base,data_load \\\n",
    "        python -m src.pipelines.load_data --config=config/params.yaml"
   ]
  },
  {
   "cell_type": "markdown",
   "metadata": {},
   "source": [
    "Update git repo accordingly:"
   ]
  },
  {
   "cell_type": "code",
   "execution_count": 31,
   "metadata": {},
   "outputs": [
    {
     "name": "stdout",
     "output_type": "stream",
     "text": [
      "On branch dvc_pipelines\r\n",
      "Untracked files:\r\n",
      "  (use \"git add <file>...\" to include in what will be committed)\r\n",
      "\r\n",
      "\t\u001b[31m2.1-antong_step4_dvc.ipynb\u001b[m\r\n",
      "\t\u001b[31mdvc.lock\u001b[m\r\n",
      "\t\u001b[31mdvc.yaml\u001b[m\r\n",
      "\r\n",
      "nothing added to commit but untracked files present (use \"git add\" to track)\r\n"
     ]
    }
   ],
   "source": [
    "! git status"
   ]
  },
  {
   "cell_type": "code",
   "execution_count": 32,
   "metadata": {},
   "outputs": [],
   "source": [
    "! git add dvc.yaml dvc.lock"
   ]
  },
  {
   "cell_type": "code",
   "execution_count": 33,
   "metadata": {
    "scrolled": true
   },
   "outputs": [
    {
     "name": "stdout",
     "output_type": "stream",
     "text": [
      "On branch dvc_pipelines\r\n",
      "Changes to be committed:\r\n",
      "  (use \"git reset HEAD <file>...\" to unstage)\r\n",
      "\r\n",
      "\t\u001b[32mnew file:   dvc.lock\u001b[m\r\n",
      "\t\u001b[32mnew file:   dvc.yaml\u001b[m\r\n",
      "\r\n",
      "Untracked files:\r\n",
      "  (use \"git add <file>...\" to include in what will be committed)\r\n",
      "\r\n",
      "\t\u001b[31m2.1-antong_step4_dvc.ipynb\u001b[m\r\n",
      "\r\n"
     ]
    }
   ],
   "source": [
    "! git status"
   ]
  },
  {
   "cell_type": "markdown",
   "metadata": {},
   "source": [
    "Inspect created files:"
   ]
  },
  {
   "cell_type": "code",
   "execution_count": 29,
   "metadata": {
    "scrolled": true
   },
   "outputs": [
    {
     "name": "stdout",
     "output_type": "stream",
     "text": [
      "stages:\r\n",
      "  load_data_stage:\r\n",
      "    cmd: python -m src.pipelines.load_data --config=config/params.yaml\r\n",
      "    deps:\r\n",
      "    - src/data/load.py\r\n",
      "    - src/data/process.py\r\n",
      "    - src/utils/logging.py\r\n",
      "    params:\r\n",
      "    - config/params.yaml:\r\n",
      "      - base\r\n",
      "      - data_load\r\n"
     ]
    }
   ],
   "source": [
    "! cat dvc.yaml"
   ]
  },
  {
   "cell_type": "code",
   "execution_count": 30,
   "metadata": {},
   "outputs": [
    {
     "name": "stdout",
     "output_type": "stream",
     "text": [
      "load_data_stage:\r\n",
      "  cmd: python -m src.pipelines.load_data --config=config/params.yaml\r\n",
      "  deps:\r\n",
      "  - path: src/data/load.py\r\n",
      "    md5: 0a5f96acb043c689f0ed53ec95c89c91\r\n",
      "    size: 435\r\n",
      "  - path: src/data/process.py\r\n",
      "    md5: 50961f7de0d85f0141cff8623921318a\r\n",
      "    size: 908\r\n",
      "  - path: src/utils/logging.py\r\n",
      "    md5: 65c8fc45ee7ec9baf85c1aa9050b27ed\r\n",
      "    size: 1059\r\n",
      "  params:\r\n",
      "    config/params.yaml:\r\n",
      "      base:\r\n",
      "        project_dir: .\r\n",
      "        random_state: 42\r\n",
      "        log_level: DEBUG\r\n",
      "      data_load:\r\n",
      "        target: data/raw/target.feather\r\n",
      "        dataset: data/raw/user_features.feather\r\n",
      "        target_processed: data/processed/target.feather\r\n",
      "        dataset_processed: data/processed/user_features.feather\r\n"
     ]
    }
   ],
   "source": [
    "! cat dvc.lock"
   ]
  },
  {
   "cell_type": "code",
   "execution_count": 35,
   "metadata": {},
   "outputs": [
    {
     "name": "stdout",
     "output_type": "stream",
     "text": [
      "Running stage 'featurize_stage' with command:\n",
      "\tpython -m src.pipelines.featurize --config=config/params.yaml\n",
      "2021-02-12 18:49:37,553 — FEATURIZE — INFO — Load dataset\n",
      "2021-02-12 18:49:37,996 — FEATURIZE — INFO — Process dataset\n",
      "2021-02-12 18:49:38,210 — FEATURIZE — INFO — Add target column\n",
      "2021-02-12 18:49:38,992 — FEATURIZE — INFO — Process nulls\n",
      "2021-02-12 18:49:39,466 — FEATURIZE — INFO — Save features\n",
      "2021-02-12 18:49:39,822 — FEATURIZE — DEBUG — Features path: data/processed/features.feather\n",
      "Adding stage 'featurize_stage' in 'dvc.yaml'\n",
      "Updating lock file 'dvc.lock'\n",
      "\n",
      "To track the changes with git, run:\n",
      "\n",
      "\tgit add dvc.lock dvc.yaml\n"
     ]
    }
   ],
   "source": [
    "%%bash\n",
    "dvc run -n featurize_stage \\\n",
    "        -d src/data/load.py -d src/data/process.py -d src/utils/logging.py \\\n",
    "        -p config/params.yaml:base,featurize \\\n",
    "        python -m src.pipelines.featurize --config=config/params.yaml"
   ]
  },
  {
   "cell_type": "code",
   "execution_count": 36,
   "metadata": {},
   "outputs": [
    {
     "name": "stdout",
     "output_type": "stream",
     "text": [
      "stages:\r\n",
      "  load_data_stage:\r\n",
      "    cmd: python -m src.pipelines.load_data --config=config/params.yaml\r\n",
      "    deps:\r\n",
      "    - src/data/load.py\r\n",
      "    - src/data/process.py\r\n",
      "    - src/utils/logging.py\r\n",
      "    params:\r\n",
      "    - config/params.yaml:\r\n",
      "      - base\r\n",
      "      - data_load\r\n",
      "  featurize_stage:\r\n",
      "    cmd: python -m src.pipelines.featurize --config=config/params.yaml\r\n",
      "    deps:\r\n",
      "    - src/data/load.py\r\n",
      "    - src/data/process.py\r\n",
      "    - src/utils/logging.py\r\n",
      "    params:\r\n",
      "    - config/params.yaml:\r\n",
      "      - base\r\n",
      "      - featurize\r\n"
     ]
    }
   ],
   "source": [
    "! cat dvc.yaml"
   ]
  },
  {
   "cell_type": "markdown",
   "metadata": {},
   "source": [
    "Remove data with train metrics and model outputs out of git (so that DVC will start to track it)"
   ]
  },
  {
   "cell_type": "code",
   "execution_count": 46,
   "metadata": {},
   "outputs": [
    {
     "name": "stdout",
     "output_type": "stream",
     "text": [
      "rm 'reports/raw_metrics.csv'\n",
      "[dvc_pipelines e6a9b73] stop tracking reports/raw_metrics.csv\n",
      " 3 files changed, 34 insertions(+), 5 deletions(-)\n",
      " create mode 100644 dvc.lock\n",
      " create mode 100644 dvc.yaml\n",
      " delete mode 100644 reports/raw_metrics.csv\n"
     ]
    }
   ],
   "source": [
    "%%bash\n",
    "git rm -r --cached 'reports/raw_metrics.csv'\n",
    "git commit -m \"stop tracking reports/raw_metrics.csv\" "
   ]
  },
  {
   "cell_type": "code",
   "execution_count": 48,
   "metadata": {},
   "outputs": [
    {
     "name": "stdout",
     "output_type": "stream",
     "text": [
      "rm 'models/model.joblib'\n",
      "[dvc_pipelines 887a476] stop tracking models/model.joblib\n",
      " 1 file changed, 0 insertions(+), 0 deletions(-)\n",
      " delete mode 100644 models/model.joblib\n"
     ]
    }
   ],
   "source": [
    "%%bash\n",
    "git rm -r --cached 'models/model.joblib'\n",
    "git commit -m \"stop tracking models/model.joblib\" "
   ]
  },
  {
   "cell_type": "code",
   "execution_count": 49,
   "metadata": {},
   "outputs": [
    {
     "name": "stdout",
     "output_type": "stream",
     "text": [
      "Running stage 'train_stage' with command:\n",
      "\tpython -m src.pipelines.train --config=config/params.yaml\n",
      "{'project_dir': '.', 'random_state': 42, 'log_level': 'DEBUG'}\n",
      "2021-02-12 19:25:51,164 — TRAIN — INFO — Load data\n",
      "2021-02-12 19:25:51,327 — TRAIN — INFO — Instantiate model\n",
      "2021-02-12 19:25:51,405 — TRAIN — INFO — Top_K 5.0% of the dataset size: 37606\n",
      "2021-02-12 19:25:51,405 — TRAIN — INFO — Fold 1:\n",
      "2021-02-12 19:25:51,405 — TRAIN — INFO — Train: 2020-04-30 00:00:00 - 2020-04-30 00:00:00\n",
      "2021-02-12 19:25:51,406 — TRAIN — INFO — Test: 2020-05-31 00:00:00 \n",
      "\n",
      "2021-02-12 19:25:51,508 — TRAIN — INFO — Train shapes: X - (150484, 30), y - (150484,)\n",
      "2021-02-12 19:25:51,508 — TRAIN — INFO — Test shapes: X - (150411, 30), y - (150411,)\n",
      "Learning rate set to 0.5\n",
      "0:\tlearn: 0.6136792\ttotal: 129ms\tremaining: 2.45s\n",
      "1:\tlearn: 0.5580362\ttotal: 181ms\tremaining: 1.63s\n",
      "2:\tlearn: 0.5270051\ttotal: 232ms\tremaining: 1.31s\n",
      "3:\tlearn: 0.5080045\ttotal: 288ms\tremaining: 1.15s\n",
      "4:\tlearn: 0.4978499\ttotal: 341ms\tremaining: 1.02s\n",
      "5:\tlearn: 0.4870497\ttotal: 390ms\tremaining: 911ms\n",
      "6:\tlearn: 0.4816503\ttotal: 447ms\tremaining: 829ms\n",
      "7:\tlearn: 0.4764344\ttotal: 500ms\tremaining: 750ms\n",
      "8:\tlearn: 0.4704595\ttotal: 558ms\tremaining: 682ms\n",
      "9:\tlearn: 0.4606868\ttotal: 610ms\tremaining: 610ms\n",
      "10:\tlearn: 0.4547115\ttotal: 665ms\tremaining: 544ms\n",
      "11:\tlearn: 0.4504684\ttotal: 721ms\tremaining: 481ms\n",
      "12:\tlearn: 0.4481462\ttotal: 780ms\tremaining: 420ms\n",
      "13:\tlearn: 0.4446295\ttotal: 835ms\tremaining: 358ms\n",
      "14:\tlearn: 0.4414735\ttotal: 892ms\tremaining: 297ms\n",
      "15:\tlearn: 0.4402453\ttotal: 952ms\tremaining: 238ms\n",
      "16:\tlearn: 0.4389055\ttotal: 1s\tremaining: 177ms\n",
      "17:\tlearn: 0.4365894\ttotal: 1.05s\tremaining: 117ms\n",
      "18:\tlearn: 0.4347508\ttotal: 1.11s\tremaining: 58.4ms\n",
      "19:\tlearn: 0.4331521\ttotal: 1.16s\tremaining: 0us\n",
      "2021-02-12 19:25:53,087 — TRAIN — INFO — Max probas: 0.9871681095571868\n",
      "2021-02-12 19:25:53,124 — src.evaluate.metrics — INFO — Lift: 0.8375259267138223 / 0.39038368204453133 = 2.1453917395509507\n",
      "2021-02-12 19:25:53,190 — TRAIN — INFO — Precision at 37606: 0.8375259267138223\n",
      "2021-02-12 19:25:53,190 — TRAIN — INFO — Recall at 37606: 1.0\n",
      "\n",
      "2021-02-12 19:25:53,190 — TRAIN — INFO — Fold 2:\n",
      "2021-02-12 19:25:53,190 — TRAIN — INFO — Train: 2020-04-30 00:00:00 - 2020-05-31 00:00:00\n",
      "2021-02-12 19:25:53,190 — TRAIN — INFO — Test: 2020-06-30 00:00:00 \n",
      "\n",
      "2021-02-12 19:25:53,335 — TRAIN — INFO — Train shapes: X - (300895, 30), y - (300895,)\n",
      "2021-02-12 19:25:53,335 — TRAIN — INFO — Test shapes: X - (150187, 30), y - (150187,)\n",
      "Learning rate set to 0.5\n",
      "0:\tlearn: 0.6104631\ttotal: 91.3ms\tremaining: 1.73s\n",
      "1:\tlearn: 0.5544946\ttotal: 177ms\tremaining: 1.59s\n",
      "2:\tlearn: 0.5271744\ttotal: 265ms\tremaining: 1.5s\n",
      "3:\tlearn: 0.5124134\ttotal: 345ms\tremaining: 1.38s\n",
      "4:\tlearn: 0.5026628\ttotal: 422ms\tremaining: 1.27s\n",
      "5:\tlearn: 0.4963831\ttotal: 497ms\tremaining: 1.16s\n",
      "6:\tlearn: 0.4866665\ttotal: 582ms\tremaining: 1.08s\n",
      "7:\tlearn: 0.4773124\ttotal: 652ms\tremaining: 978ms\n",
      "8:\tlearn: 0.4698307\ttotal: 735ms\tremaining: 899ms\n",
      "9:\tlearn: 0.4645964\ttotal: 818ms\tremaining: 818ms\n",
      "10:\tlearn: 0.4599309\ttotal: 898ms\tremaining: 735ms\n",
      "11:\tlearn: 0.4564951\ttotal: 975ms\tremaining: 650ms\n",
      "12:\tlearn: 0.4521219\ttotal: 1.06s\tremaining: 573ms\n",
      "13:\tlearn: 0.4491513\ttotal: 1.14s\tremaining: 490ms\n",
      "14:\tlearn: 0.4447869\ttotal: 1.21s\tremaining: 405ms\n",
      "15:\tlearn: 0.4425909\ttotal: 1.29s\tremaining: 324ms\n",
      "16:\tlearn: 0.4395536\ttotal: 1.38s\tremaining: 243ms\n",
      "17:\tlearn: 0.4379529\ttotal: 1.45s\tremaining: 162ms\n",
      "18:\tlearn: 0.4357037\ttotal: 1.52s\tremaining: 80.2ms\n",
      "19:\tlearn: 0.4342798\ttotal: 1.6s\tremaining: 0us\n",
      "2021-02-12 19:25:55,546 — TRAIN — INFO — Max probas: 0.9869278333116273\n",
      "2021-02-12 19:25:55,585 — src.evaluate.metrics — INFO — Lift: 0.8371004626921236 / 0.38953438047234445 = 2.1489770984452417\n",
      "2021-02-12 19:25:55,651 — TRAIN — INFO — Precision at 37606: 0.8371004626921236\n",
      "2021-02-12 19:25:55,651 — TRAIN — INFO — Recall at 37606: 1.0\n",
      "\n",
      "2021-02-12 19:25:55,651 — TRAIN — INFO — Fold 3:\n",
      "2021-02-12 19:25:55,651 — TRAIN — INFO — Train: 2020-04-30 00:00:00 - 2020-06-30 00:00:00\n",
      "2021-02-12 19:25:55,651 — TRAIN — INFO — Test: 2020-07-31 00:00:00 \n",
      "\n",
      "2021-02-12 19:25:55,856 — TRAIN — INFO — Train shapes: X - (451082, 30), y - (451082,)\n",
      "2021-02-12 19:25:55,856 — TRAIN — INFO — Test shapes: X - (150492, 30), y - (150492,)\n",
      "Learning rate set to 0.5\n",
      "0:\tlearn: 0.6136329\ttotal: 129ms\tremaining: 2.44s\n",
      "1:\tlearn: 0.5574970\ttotal: 240ms\tremaining: 2.16s\n",
      "2:\tlearn: 0.5261245\ttotal: 332ms\tremaining: 1.88s\n",
      "3:\tlearn: 0.5099224\ttotal: 424ms\tremaining: 1.69s\n",
      "4:\tlearn: 0.4954246\ttotal: 529ms\tremaining: 1.58s\n",
      "5:\tlearn: 0.4866363\ttotal: 655ms\tremaining: 1.53s\n",
      "6:\tlearn: 0.4835736\ttotal: 765ms\tremaining: 1.42s\n",
      "7:\tlearn: 0.4769144\ttotal: 874ms\tremaining: 1.31s\n",
      "8:\tlearn: 0.4671975\ttotal: 970ms\tremaining: 1.19s\n",
      "9:\tlearn: 0.4634357\ttotal: 1.07s\tremaining: 1.07s\n",
      "10:\tlearn: 0.4577202\ttotal: 1.17s\tremaining: 960ms\n",
      "11:\tlearn: 0.4535041\ttotal: 1.29s\tremaining: 859ms\n",
      "12:\tlearn: 0.4491261\ttotal: 1.41s\tremaining: 758ms\n",
      "13:\tlearn: 0.4455420\ttotal: 1.52s\tremaining: 654ms\n",
      "14:\tlearn: 0.4428389\ttotal: 1.63s\tremaining: 542ms\n",
      "15:\tlearn: 0.4400514\ttotal: 1.74s\tremaining: 436ms\n",
      "16:\tlearn: 0.4380481\ttotal: 1.83s\tremaining: 324ms\n",
      "17:\tlearn: 0.4355952\ttotal: 1.94s\tremaining: 216ms\n",
      "18:\tlearn: 0.4339538\ttotal: 2.05s\tremaining: 108ms\n",
      "19:\tlearn: 0.4320864\ttotal: 2.16s\tremaining: 0us\n",
      "2021-02-12 19:25:58,796 — TRAIN — INFO — Max probas: 0.9899003328573063\n",
      "2021-02-12 19:25:58,833 — src.evaluate.metrics — INFO — Lift: 0.8331915119927671 / 0.38920341280599635 = 2.1407610636962286\n",
      "2021-02-12 19:25:58,899 — TRAIN — INFO — Precision at 37606: 0.8331915119927671\n",
      "2021-02-12 19:25:58,899 — TRAIN — INFO — Recall at 37606: 1.0\n",
      "\n",
      "2021-02-12 19:25:58,899 — TRAIN — INFO — Fold 4:\n",
      "2021-02-12 19:25:58,899 — TRAIN — INFO — Train: 2020-04-30 00:00:00 - 2020-07-31 00:00:00\n",
      "2021-02-12 19:25:58,899 — TRAIN — INFO — Test: 2020-08-31 00:00:00 \n",
      "\n",
      "2021-02-12 19:25:59,151 — TRAIN — INFO — Train shapes: X - (601574, 30), y - (601574,)\n",
      "2021-02-12 19:25:59,151 — TRAIN — INFO — Test shapes: X - (150554, 30), y - (150554,)\n",
      "Learning rate set to 0.5\n",
      "0:\tlearn: 0.6141153\ttotal: 167ms\tremaining: 3.17s\n",
      "1:\tlearn: 0.5583069\ttotal: 294ms\tremaining: 2.65s\n",
      "2:\tlearn: 0.5296820\ttotal: 418ms\tremaining: 2.37s\n",
      "3:\tlearn: 0.5112843\ttotal: 551ms\tremaining: 2.2s\n",
      "4:\tlearn: 0.4997697\ttotal: 681ms\tremaining: 2.04s\n",
      "5:\tlearn: 0.4896203\ttotal: 821ms\tremaining: 1.92s\n",
      "6:\tlearn: 0.4819019\ttotal: 945ms\tremaining: 1.75s\n",
      "7:\tlearn: 0.4765184\ttotal: 1.09s\tremaining: 1.63s\n",
      "8:\tlearn: 0.4683325\ttotal: 1.21s\tremaining: 1.48s\n",
      "9:\tlearn: 0.4650332\ttotal: 1.35s\tremaining: 1.35s\n",
      "10:\tlearn: 0.4598382\ttotal: 1.47s\tremaining: 1.2s\n",
      "11:\tlearn: 0.4548769\ttotal: 1.6s\tremaining: 1.07s\n",
      "12:\tlearn: 0.4508626\ttotal: 1.72s\tremaining: 927ms\n",
      "13:\tlearn: 0.4465254\ttotal: 1.85s\tremaining: 791ms\n",
      "14:\tlearn: 0.4432983\ttotal: 1.96s\tremaining: 653ms\n",
      "15:\tlearn: 0.4410902\ttotal: 2.1s\tremaining: 524ms\n",
      "16:\tlearn: 0.4390184\ttotal: 2.23s\tremaining: 394ms\n",
      "17:\tlearn: 0.4370420\ttotal: 2.35s\tremaining: 261ms\n",
      "18:\tlearn: 0.4342460\ttotal: 2.47s\tremaining: 130ms\n",
      "19:\tlearn: 0.4332474\ttotal: 2.63s\tremaining: 0us\n",
      "2021-02-12 19:26:02,692 — TRAIN — INFO — Max probas: 0.9909481618927353\n",
      "2021-02-12 19:26:02,732 — src.evaluate.metrics — INFO — Lift: 0.8344147210551508 / 0.39068374138182976 = 2.1357805116329276\n",
      "2021-02-12 19:26:02,803 — TRAIN — INFO — Precision at 37606: 0.8344147210551508\n",
      "2021-02-12 19:26:02,803 — TRAIN — INFO — Recall at 37606: 1.0\n",
      "\n",
      "2021-02-12 19:26:02,803 — src.train.train — INFO — 2020-09-30 00:00:00\n",
      "2021-02-12 19:26:02,803 — src.train.train — INFO — 2020-08-31T00:00:00.000000000\n",
      "2021-02-12 19:26:02,804 — TRAIN — INFO — Save \"raw\" metrics for plotting\n",
      "2021-02-12 19:26:02,807 — TRAIN — INFO — Save aggregated metrics\n",
      "2021-02-12 19:26:02,812 — TRAIN — INFO — Generate & save plots\n",
      "2021-02-12 19:26:03,074 — TRAIN — INFO — Save model\n",
      "2021-02-12 19:26:03,075 — TRAIN — INFO — Model saved to: ./models/model.joblib\n",
      "Adding stage 'train_stage' in 'dvc.yaml'\n",
      "Updating lock file 'dvc.lock'\n",
      "\n",
      "To track the changes with git, run:\n",
      "\n",
      "\tgit add models/.gitignore reports/.gitignore dvc.lock dvc.yaml\n"
     ]
    }
   ],
   "source": [
    "%%bash\n",
    "dvc run -n train_stage \\\n",
    "        -d src/train/train.py -d src/evaluate/metrics.py -d src/utils/logging.py \\\n",
    "        -o models/model.joblib \\\n",
    "        -p config/params.yaml:base,featurize.features_path,train \\\n",
    "        -m reports/raw_metrics.csv \\\n",
    "        python -m src.pipelines.train --config=config/params.yaml"
   ]
  },
  {
   "cell_type": "code",
   "execution_count": 52,
   "metadata": {},
   "outputs": [
    {
     "name": "stdout",
     "output_type": "stream",
     "text": [
      "On branch dvc_pipelines\r\n",
      "Changes to be committed:\r\n",
      "  (use \"git reset HEAD <file>...\" to unstage)\r\n",
      "\r\n",
      "\t\u001b[32mmodified:   dvc.lock\u001b[m\r\n",
      "\t\u001b[32mmodified:   dvc.yaml\u001b[m\r\n",
      "\t\u001b[32mnew file:   models/.gitignore\u001b[m\r\n",
      "\t\u001b[32mmodified:   reports/.gitignore\u001b[m\r\n",
      "\r\n",
      "Changes not staged for commit:\r\n",
      "  (use \"git add <file>...\" to update what will be committed)\r\n",
      "  (use \"git checkout -- <file>...\" to discard changes in working directory)\r\n",
      "\r\n",
      "\t\u001b[31mmodified:   .gitignore\u001b[m\r\n",
      "\r\n",
      "Untracked files:\r\n",
      "  (use \"git add <file>...\" to include in what will be committed)\r\n",
      "\r\n",
      "\t\u001b[31m2.1-antong_step4_dvc.ipynb\u001b[m\r\n",
      "\r\n"
     ]
    }
   ],
   "source": [
    "!git status"
   ]
  },
  {
   "cell_type": "code",
   "execution_count": 51,
   "metadata": {},
   "outputs": [],
   "source": [
    "! git add models/.gitignore reports/.gitignore dvc.lock dvc.yaml"
   ]
  },
  {
   "cell_type": "code",
   "execution_count": null,
   "metadata": {},
   "outputs": [
    {
     "name": "stdout",
     "output_type": "stream",
     "text": [
      "\u001b7\u001b[?47h\u001b[?1h\u001b=\r\n",
      "\r\n",
      "\r\n",
      "\r\n",
      "\r\n",
      "\r\n",
      "\r\n",
      "\r\n",
      "\r\n",
      "\r\n",
      "\r\n",
      "\r\n",
      "\r\n",
      "\r\n",
      "\r\n",
      "\r\n",
      "\r\n",
      "\r\n",
      "\r\n",
      "\r\n",
      "\r\n",
      "\r\n",
      "\r\n",
      "\u001b[H\u001b[2J\u001b[H\u001b[H\u001b[2J\u001b[H+-----------------+  \u001b[m\r\n",
      "| load_data_stage |  \u001b[m\r\n",
      "+-----------------+  \u001b[m\r\n",
      "+-----------------+  \u001b[m\r\n",
      "| featurize_stage |  \u001b[m\r\n",
      "+-----------------+  \u001b[m\r\n",
      "+-------------+  \u001b[m\r\n",
      "| train_stage |  \u001b[m\r\n",
      "+-------------+  \u001b[m\r\n",
      "+--------------------+ \u001b[m\r\n",
      "| data/processed.dvc | \u001b[m\r\n",
      "+--------------------+ \u001b[m\r\n",
      "\u001b[1m~\u001b[m\r\n",
      "\u001b[1m~\u001b[m\r\n",
      "\u001b[1m~\u001b[m\r\n",
      "\u001b[1m~\u001b[m\r\n",
      "\u001b[1m~\u001b[m\r\n",
      "\u001b[1m~\u001b[m\r\n",
      "\u001b[1m~\u001b[m\r\n",
      "\u001b[1m~\u001b[m\r\n",
      "\u001b[1m~\u001b[m\r\n",
      "\u001b[1m~\u001b[m\r\n",
      "\u001b[1m~\u001b[m\r\n",
      "\u001b[7m/var/folders/vp/zg2nfhts6q74ptj2dn93gxfr0000gn/T/tmpmfa84sm2 (END)\u001b[m\u001b[K"
     ]
    }
   ],
   "source": [
    "! dvc dag"
   ]
  },
  {
   "cell_type": "code",
   "execution_count": 6,
   "metadata": {},
   "outputs": [
    {
     "name": "stdout",
     "output_type": "stream",
     "text": [
      "stages:\r\n",
      "  load_data_stage:\r\n",
      "    cmd: python -m src.pipelines.load_data --config=config/params.yaml\r\n",
      "    deps:\r\n",
      "    - src/data/load.py\r\n",
      "    - src/data/process.py\r\n",
      "    - src/utils/logging.py\r\n",
      "    params:\r\n",
      "    - config/params.yaml:\r\n",
      "      - base\r\n",
      "      - data_load\r\n",
      "  featurize_stage:\r\n",
      "    cmd: python -m src.pipelines.featurize --config=config/params.yaml\r\n",
      "    deps:\r\n",
      "    - src/data/load.py\r\n",
      "    - src/data/process.py\r\n",
      "    - src/utils/logging.py\r\n",
      "    params:\r\n",
      "    - config/params.yaml:\r\n",
      "      - base\r\n",
      "      - featurize\r\n",
      "  train_stage:\r\n",
      "    cmd: python -m src.pipelines.train --config=config/params.yaml\r\n",
      "    deps:\r\n",
      "    - src/evaluate/metrics.py\r\n",
      "    - src/train/train.py\r\n",
      "    - src/utils/logging.py\r\n",
      "    params:\r\n",
      "    - config/params.yaml:\r\n",
      "      - base\r\n",
      "      - featurize.features_path\r\n",
      "      - train\r\n",
      "    outs:\r\n",
      "    - models/model.joblib\r\n",
      "    metrics:\r\n",
      "    - reports/raw_metrics.csv\r\n",
      "    - reports/train_metrics.json\r\n"
     ]
    }
   ],
   "source": [
    "! cat dvc.yaml"
   ]
  },
  {
   "cell_type": "code",
   "execution_count": 7,
   "metadata": {},
   "outputs": [
    {
     "name": "stdout",
     "output_type": "stream",
     "text": [
      "load_data_stage:\r\n",
      "  cmd: python -m src.pipelines.load_data --config=config/params.yaml\r\n",
      "  deps:\r\n",
      "  - path: src/data/load.py\r\n",
      "    md5: 0a5f96acb043c689f0ed53ec95c89c91\r\n",
      "    size: 435\r\n",
      "  - path: src/data/process.py\r\n",
      "    md5: 50961f7de0d85f0141cff8623921318a\r\n",
      "    size: 908\r\n",
      "  - path: src/utils/logging.py\r\n",
      "    md5: 65c8fc45ee7ec9baf85c1aa9050b27ed\r\n",
      "    size: 1059\r\n",
      "  params:\r\n",
      "    config/params.yaml:\r\n",
      "      base:\r\n",
      "        project_dir: .\r\n",
      "        random_state: 42\r\n",
      "        log_level: DEBUG\r\n",
      "      data_load:\r\n",
      "        target: data/raw/target.feather\r\n",
      "        dataset: data/raw/user_features.feather\r\n",
      "        target_processed: data/processed/target.feather\r\n",
      "        dataset_processed: data/processed/user_features.feather\r\n",
      "featurize_stage:\r\n",
      "  cmd: python -m src.pipelines.featurize --config=config/params.yaml\r\n",
      "  deps:\r\n",
      "  - path: src/data/load.py\r\n",
      "    md5: 0a5f96acb043c689f0ed53ec95c89c91\r\n",
      "    size: 435\r\n",
      "  - path: src/data/process.py\r\n",
      "    md5: 50961f7de0d85f0141cff8623921318a\r\n",
      "    size: 908\r\n",
      "  - path: src/utils/logging.py\r\n",
      "    md5: 65c8fc45ee7ec9baf85c1aa9050b27ed\r\n",
      "    size: 1059\r\n",
      "  params:\r\n",
      "    config/params.yaml:\r\n",
      "      base:\r\n",
      "        project_dir: .\r\n",
      "        random_state: 42\r\n",
      "        log_level: DEBUG\r\n",
      "      featurize:\r\n",
      "        features_path: data/processed/features.feather\r\n",
      "        categories:\r\n",
      "        - feature_17\r\n",
      "        - feature_21\r\n",
      "        - feature_11\r\n",
      "        - feature_16\r\n",
      "        - feature_22\r\n",
      "train_stage:\r\n",
      "  cmd: python -m src.pipelines.train --config=config/params.yaml\r\n",
      "  deps:\r\n",
      "  - path: src/evaluate/metrics.py\r\n",
      "    md5: ecffe3e3bf09221a0705262caec223d1\r\n",
      "    size: 3999\r\n",
      "  - path: src/train/train.py\r\n",
      "    md5: bb22e2e541db94bb1fe279fad01c61e0\r\n",
      "    size: 2292\r\n",
      "  - path: src/utils/logging.py\r\n",
      "    md5: 65c8fc45ee7ec9baf85c1aa9050b27ed\r\n",
      "    size: 1059\r\n",
      "  params:\r\n",
      "    config/params.yaml:\r\n",
      "      base:\r\n",
      "        project_dir: .\r\n",
      "        random_state: 42\r\n",
      "        log_level: DEBUG\r\n",
      "      featurize.features_path: data/processed/features.feather\r\n",
      "      train:\r\n",
      "        catboost_params:\r\n",
      "          iterations: 21\r\n",
      "          thread_count: 20\r\n",
      "          has_time: true\r\n",
      "          allow_writing_files: false\r\n",
      "        top_K_coef: 0.05\r\n",
      "        model_path: models/model.joblib\r\n",
      "        train_metrics: reports/train_metrics.json\r\n",
      "        train_metrics_path: reports/train_metrics.json\r\n",
      "        train_metrics_png: reports/train_metrics.png\r\n",
      "        train_plots_path: reports/train_plots.csv\r\n",
      "        raw_metrics_path: reports/raw_metrics.csv\r\n",
      "        encoder_path: models/encoder.pickle\r\n",
      "  outs:\r\n",
      "  - path: models/model.joblib\r\n",
      "    md5: 8c030dc709a6184dd473b665457a6771\r\n",
      "    size: 35750\r\n",
      "  - path: reports/raw_metrics.csv\r\n",
      "    md5: 87e844a3320ddcbd3738749ab830462a\r\n",
      "    size: 253\r\n"
     ]
    }
   ],
   "source": [
    "! cat dvc.lock"
   ]
  },
  {
   "cell_type": "markdown",
   "metadata": {},
   "source": [
    "##  Run the pipeline:"
   ]
  },
  {
   "cell_type": "code",
   "execution_count": 9,
   "metadata": {
    "scrolled": false
   },
   "outputs": [
    {
     "name": "stdout",
     "output_type": "stream",
     "text": [
      "Stage 'featurize_stage' didn't change, skipping                       core\u001b[39m>\n",
      "Stage 'train_stage' didn't change, skipping\n",
      "Stage 'load_data_stage' didn't change, skipping\n",
      "Data and pipelines are up to date.\n",
      "\u001b[0m"
     ]
    }
   ],
   "source": [
    "! dvc repro"
   ]
  },
  {
   "cell_type": "code",
   "execution_count": 9,
   "metadata": {},
   "outputs": [
    {
     "name": "stdout",
     "output_type": "stream",
     "text": [
      "\treports/train_metrics.json:                                          core\u001b[39m>\n",
      "\t\tlift_max: 2.1505471897179307\n",
      "\t\tlift_min: 2.1383669439424997\n",
      "\t\tlift_std: 0.005093759905144943\n",
      "\t\tlift_mean: 2.145029726481869\n",
      "\t\tprecision_at_k_max: 0.8380311652395894\n",
      "\t\tprecision_at_k_min: 0.8346540445673563\n",
      "\t\tprecision_at_k_std: 0.0016701742169299028\n",
      "\t\tprecision_at_k_mean: 0.8364556187842366\n",
      "\t\trecall_at_k_max: 1.0\n",
      "\t\trecall_at_k_min: 1.0\n",
      "\t\trecall_at_k_std: 0.0\n",
      "\t\trecall_at_k_mean: 1.0\n",
      "\u001b[0m"
     ]
    }
   ],
   "source": [
    "! dvc metrics show"
   ]
  },
  {
   "cell_type": "code",
   "execution_count": 2,
   "metadata": {},
   "outputs": [
    {
     "name": "stdout",
     "output_type": "stream",
     "text": [
      "rm 'reports/train_metrics.json'\r\n"
     ]
    }
   ],
   "source": [
    "! git rm -r --cached 'reports/train_metrics.json'"
   ]
  },
  {
   "cell_type": "code",
   "execution_count": 6,
   "metadata": {},
   "outputs": [],
   "source": [
    "! git reset --soft HEAD~1"
   ]
  },
  {
   "cell_type": "code",
   "execution_count": 7,
   "metadata": {},
   "outputs": [
    {
     "name": "stdout",
     "output_type": "stream",
     "text": [
      "\u001b[33mcommit d9e2823506a24e4bfd171427f7ca51f8686997d8\u001b[m\u001b[33m (\u001b[m\u001b[1;36mHEAD -> \u001b[m\u001b[1;32mdvc_pipelines\u001b[m\u001b[33m, \u001b[m\u001b[1;33mtag: exp_1.0\u001b[m\u001b[33m, \u001b[m\u001b[1;31morigin/dvc_pipelines\u001b[m\u001b[33m)\u001b[m\r\n",
      "Author: AntonGusarov <gusarov@kth.se>\r\n",
      "Date:   Fri Feb 12 19:42:33 2021 +0100\r\n",
      "\r\n",
      "    pipeline is automated by DVC\r\n",
      "\r\n",
      "\u001b[33mcommit 887a476a2fc05c092c15c7aaa11bd2dbe7d2790f\u001b[m\r\n",
      "Author: AntonGusarov <gusarov@kth.se>\r\n",
      "Date:   Fri Feb 12 19:25:33 2021 +0100\r\n",
      "\r\n",
      "    stop tracking models/model.joblib\r\n",
      "\r\n",
      "\u001b[33mcommit e6a9b7364068d6dbf69a18596759f02a4fd6b5f5\u001b[m\r\n",
      "Author: AntonGusarov <gusarov@kth.se>\r\n",
      "Date:   Fri Feb 12 19:23:29 2021 +0100\r\n",
      "\r\n",
      "    stop tracking reports/raw_metrics.csv\r\n",
      "\r\n",
      "\u001b[33mcommit 719cb56ce0d98c5666f04983d54debce2d9591dc\u001b[m\u001b[33m (\u001b[m\u001b[1;33mtag: v0.2\u001b[m\u001b[33m)\u001b[m\r\n",
      "Author: AntonGusarov <gusarov@kth.se>\r\n",
      "Date:   Thu Feb 11 14:22:00 2021 +0100\r\n",
      "\r\n",
      "    Add a new .TXT file to data/processed which is tracked by DVC\r\n",
      "\r\n",
      "\u001b[33mcommit d66f7c20adbeea7bbd99684b564cd74f6ef9ec77\u001b[m\r\n",
      "Author: AntonGusarov <gusarov@kth.se>\r\n",
      "Date:   Thu Feb 11 13:56:22 2021 +0100\r\n",
      "\r\n",
      "    Add a new file to data/processed which is tracked by DVC\r\n",
      "\r\n",
      "\u001b[33mcommit cd80bc6274b4e0ec9c58cfdf32c315f5b65d0c73\u001b[m\u001b[33m (\u001b[m\u001b[1;33mtag: v0.1\u001b[m\u001b[33m)\u001b[m\r\n",
      "Author: AntonGusarov <gusarov@kth.se>\r\n",
      "Date:   Wed Feb 10 22:58:51 2021 +0100\r\n",
      "\r\n",
      "    Add a folder data/processed to DVC\r\n",
      "\r\n",
      "\u001b[33mcommit 76bc73dc6b879719e5817ec1ccf7e93ed7bca38b\u001b[m\r\n",
      "Author: AntonGusarov <gusarov@kth.se>\r\n",
      "Date:   Wed Feb 10 21:43:51 2021 +0100\r\n",
      "\r\n",
      "    Configure local remote\r\n",
      "\r\n",
      "\u001b[33mcommit 3c8d8cb9766220742025a1f6aa37c8da19e9fd7b\u001b[m\r\n",
      "Author: AntonGusarov <gusarov@kth.se>\r\n",
      "Date:   Wed Feb 10 21:02:22 2021 +0100\r\n",
      "\r\n",
      "    Initialize DVC\r\n",
      "\r\n",
      "\u001b[33mcommit 24cca7d9d76a51bf4f9bbe88b45f0df4f7a7e2aa\u001b[m\r\n",
      "Author: AntonGusarov <gusarov@kth.se>\r\n",
      "Date:   Wed Feb 10 16:07:03 2021 +0100\r\n",
      "\r\n",
      "    Add ML tests demo\r\n",
      "\r\n",
      "\u001b[33mcommit 154c9dfc2f823aed2d9698390658b2105a4330ee\u001b[m\r\n",
      "Author: AntonGusarov <gusarov@kth.se>\r\n",
      "Date:   Sat Jan 30 20:32:53 2021 +0100\r\n",
      "\r\n",
      "    Update README.md\r\n",
      "\r\n",
      "\u001b[33mcommit d0016e4e6b2c134d2c7b0ccd92cf4f68c3b440a5\u001b[m\r\n",
      "Author: AntonGusarov <gusarov@kth.se>\r\n",
      "Date:   Sat Jan 30 20:15:21 2021 +0100\r\n",
      "\r\n",
      "    Update README.md\r\n",
      "\r\n",
      "\u001b[33mcommit 70f63a912b2d582a832a93df170bb2deda52d7e7\u001b[m\r\n",
      "Merge: 78280dd 0ebce52\r\n",
      "Author: AntonGusarov <gusarov@kth.se>\r\n",
      "Date:   Sat Jan 30 20:09:52 2021 +0100\r\n",
      "\r\n",
      "    Merge remote-tracking branch 'origin/master'\r\n",
      "\r\n",
      "\u001b[33mcommit 78280dd8ca0acdefceaec5be5e0aec2bb9dbc76e\u001b[m\r\n",
      "Author: AntonGusarov <gusarov@kth.se>\r\n",
      "Date:   Sat Jan 30 20:04:51 2021 +0100\r\n",
      "\r\n",
      "    Update README.md\r\n",
      "\r\n",
      "\u001b[33mcommit 0ebce52d4b361aa30e339b59b3e6d9b4eaf8732e\u001b[m\r\n",
      "Author: AntonGusarov <gusarov@kth.se>\r\n",
      "Date:   Sat Jan 30 20:04:51 2021 +0100\r\n",
      "\r\n",
      "    Update README.md\r\n",
      "\r\n",
      "\u001b[33mcommit 9406b8b093dd3a3b6a70cfcf9fb47cd231d050b9\u001b[m\r\n",
      "Author: AntonGusarov <gusarov@kth.se>\r\n",
      "Date:   Thu Jan 28 16:31:51 2021 +0100\r\n",
      "\r\n",
      "    Break jupyter prototype into pipelines\r\n",
      "    \r\n",
      "    See details details in 0.2-antong-step-2-pipelining.ipynb.\r\n",
      "    Dockerfile added.\r\n",
      "\r\n",
      "\u001b[33mcommit 93fa3ef5a99278bc53a568d155fac16e59b46b1b\u001b[m\r\n",
      "Author: AntonGusarov <gusarov@kth.se>\r\n",
      "Date:   Tue Jan 26 13:13:59 2021 +0100\r\n",
      "\r\n",
      "    Add notebook with catboost solution.\r\n",
      "\r\n",
      "\u001b[33mcommit 06ce4e2bcc4004a7bbe258e9229b0eab3ce57178\u001b[m\r\n",
      "Author: AntonGusarov <gusarov@kth.se>\r\n",
      "Date:   Sat Jan 23 23:47:56 2021 +0100\r\n",
      "\r\n",
      "    Update project structure: Cookiecutter Data Science\r\n",
      "    \r\n",
      "    This reverts commit 45612fa1\r\n",
      "\r\n",
      "\u001b[33mcommit 45612fa16465a842ab1b06c58938de77bbb38c05\u001b[m\r\n",
      "Author: AntonGusarov <gusarov@kth.se>\r\n",
      "Date:   Sat Jan 23 22:17:07 2021 +0100\r\n",
      "\r\n",
      "    Update project structure: PyCharm scientific\r\n",
      "\r\n",
      "\u001b[33mcommit 0e48097689e428ef1f996299c458f8aa95b74f55\u001b[m\r\n",
      "Author: Anton Gusarov <47953514+AntonGusarov@users.noreply.github.com>\r\n",
      "Date:   Fri Jan 22 20:21:59 2021 +0100\r\n",
      "\r\n",
      "    Initial commit\r\n"
     ]
    }
   ],
   "source": [
    "! git log"
   ]
  }
 ],
 "metadata": {
  "kernelspec": {
   "display_name": "venv",
   "language": "python",
   "name": "venv"
  },
  "language_info": {
   "codemirror_mode": {
    "name": "ipython",
    "version": 3
   },
   "file_extension": ".py",
   "mimetype": "text/x-python",
   "name": "python",
   "nbconvert_exporter": "python",
   "pygments_lexer": "ipython3",
   "version": "3.7.6"
  },
  "toc": {
   "base_numbering": 1,
   "nav_menu": {
    "height": "269.2830810546875px",
    "width": "263.63970947265625px"
   },
   "number_sections": true,
   "sideBar": true,
   "skip_h1_title": false,
   "title_cell": "Table of Contents",
   "title_sidebar": "Contents",
   "toc_cell": false,
   "toc_position": {
    "height": "calc(100% - 180px)",
    "left": "10px",
    "top": "150px",
    "width": "338.8235168457031px"
   },
   "toc_section_display": true,
   "toc_window_display": true
  }
 },
 "nbformat": 4,
 "nbformat_minor": 4
}
