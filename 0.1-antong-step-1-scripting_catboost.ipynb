{
 "cells": [
  {
   "cell_type": "code",
   "execution_count": 2,
   "metadata": {
    "ExecuteTime": {
     "end_time": "2020-12-08T08:23:47.032965Z",
     "start_time": "2020-12-08T08:23:45.512834Z"
    }
   },
   "outputs": [],
   "source": [
    "%matplotlib inline\n",
    "\n",
    "import numpy as np\n",
    "import pandas as pd\n",
    "from sklearn.metrics import precision_score, recall_score, confusion_matrix\n",
    "\n",
    "import joblib  # lightweight pipelining in Python\n",
    "import json\n",
    "import os\n",
    "\n",
    "import matplotlib\n",
    "import matplotlib.pyplot as plt"
   ]
  },
  {
   "cell_type": "code",
   "execution_count": 2,
   "metadata": {},
   "outputs": [
    {
     "name": "stdout",
     "output_type": "stream",
     "text": [
      "Available Themes: \r\n",
      "   chesterish\r\n",
      "   grade3\r\n",
      "   gruvboxd\r\n",
      "   gruvboxl\r\n",
      "   monokai\r\n",
      "   oceans16\r\n",
      "   onedork\r\n",
      "   solarizedd\r\n",
      "   solarizedl\r\n"
     ]
    }
   ],
   "source": [
    "! jt -l"
   ]
  },
  {
   "cell_type": "code",
   "execution_count": 3,
   "metadata": {},
   "outputs": [],
   "source": [
    "! jt -t grade3 # select a theme"
   ]
  },
  {
   "cell_type": "code",
   "execution_count": null,
   "metadata": {},
   "outputs": [],
   "source": [
    "! jt -t gruvboxd -cellw 90% -lineh 100 # select a theme with cell width and line spacing"
   ]
  },
  {
   "cell_type": "code",
   "execution_count": 1,
   "metadata": {},
   "outputs": [
    {
     "name": "stdout",
     "output_type": "stream",
     "text": [
      "Reset css and font defaults in:\r\n",
      "/Users/antongusarov/.jupyter/custom &\r\n",
      "/Users/antongusarov/Library/Jupyter/nbextensions\r\n"
     ]
    }
   ],
   "source": [
    "# ! jt -r # return to default"
   ]
  },
  {
   "cell_type": "markdown",
   "metadata": {},
   "source": [
    "# Config"
   ]
  },
  {
   "cell_type": "code",
   "execution_count": 3,
   "metadata": {
    "ExecuteTime": {
     "end_time": "2020-12-08T08:23:47.049282Z",
     "start_time": "2020-12-08T08:23:47.045832Z"
    }
   },
   "outputs": [],
   "source": [
    "# Base\n",
    "random_state = 42\n",
    "\n",
    "# Raw data\n",
    "target_raw = '../data/raw/target.feather'\n",
    "user_features_raw = '../data/raw/user_features.feather'\n",
    "\n",
    "# Features\n",
    "categories = ['feature_17', 'feature_21', 'feature_11', 'feature_16', 'feature_22']  \n",
    "features_path = '../data/processed/features.feather'\n",
    "\n",
    "# Train\n",
    "top_K_coef = 0.05  # calculate metrics for top 5%\n",
    "model_path = '../models/model.joblib'\n",
    "train_metrics = '../reports/train_metrics.json'"
   ]
  },
  {
   "cell_type": "markdown",
   "metadata": {},
   "source": [
    "# Create features"
   ]
  },
  {
   "cell_type": "markdown",
   "metadata": {},
   "source": [
    "## Load data"
   ]
  },
  {
   "cell_type": "code",
   "execution_count": 4,
   "metadata": {
    "ExecuteTime": {
     "end_time": "2020-12-08T08:23:49.184286Z",
     "start_time": "2020-12-08T08:23:49.069441Z"
    },
    "scrolled": true
   },
   "outputs": [
    {
     "data": {
      "text/html": [
       "<div>\n",
       "<style scoped>\n",
       "    .dataframe tbody tr th:only-of-type {\n",
       "        vertical-align: middle;\n",
       "    }\n",
       "\n",
       "    .dataframe tbody tr th {\n",
       "        vertical-align: top;\n",
       "    }\n",
       "\n",
       "    .dataframe thead th {\n",
       "        text-align: right;\n",
       "    }\n",
       "</style>\n",
       "<table border=\"1\" class=\"dataframe\">\n",
       "  <thead>\n",
       "    <tr style=\"text-align: right;\">\n",
       "      <th></th>\n",
       "      <th>user_id</th>\n",
       "      <th>month</th>\n",
       "      <th>target</th>\n",
       "    </tr>\n",
       "  </thead>\n",
       "  <tbody>\n",
       "    <tr>\n",
       "      <th>0</th>\n",
       "      <td>0</td>\n",
       "      <td>2020-04-30</td>\n",
       "      <td>1.0</td>\n",
       "    </tr>\n",
       "    <tr>\n",
       "      <th>1</th>\n",
       "      <td>0</td>\n",
       "      <td>2020-05-31</td>\n",
       "      <td>0.0</td>\n",
       "    </tr>\n",
       "    <tr>\n",
       "      <th>2</th>\n",
       "      <td>0</td>\n",
       "      <td>2020-06-30</td>\n",
       "      <td>1.0</td>\n",
       "    </tr>\n",
       "    <tr>\n",
       "      <th>3</th>\n",
       "      <td>0</td>\n",
       "      <td>2020-07-31</td>\n",
       "      <td>0.0</td>\n",
       "    </tr>\n",
       "    <tr>\n",
       "      <th>4</th>\n",
       "      <td>0</td>\n",
       "      <td>2020-08-31</td>\n",
       "      <td>1.0</td>\n",
       "    </tr>\n",
       "  </tbody>\n",
       "</table>\n",
       "</div>"
      ],
      "text/plain": [
       "   user_id      month  target\n",
       "0        0 2020-04-30     1.0\n",
       "1        0 2020-05-31     0.0\n",
       "2        0 2020-06-30     1.0\n",
       "3        0 2020-07-31     0.0\n",
       "4        0 2020-08-31     1.0"
      ]
     },
     "execution_count": 4,
     "metadata": {},
     "output_type": "execute_result"
    }
   ],
   "source": [
    "target_df = pd.read_feather(target_raw)\n",
    "target_df.head()"
   ]
  },
  {
   "cell_type": "code",
   "execution_count": 5,
   "metadata": {},
   "outputs": [
    {
     "data": {
      "text/plain": [
       "(752128, 3)"
      ]
     },
     "execution_count": 5,
     "metadata": {},
     "output_type": "execute_result"
    }
   ],
   "source": [
    "target_df.shape"
   ]
  },
  {
   "cell_type": "code",
   "execution_count": 6,
   "metadata": {
    "ExecuteTime": {
     "end_time": "2020-12-08T08:23:54.528057Z",
     "start_time": "2020-12-08T08:23:49.404466Z"
    }
   },
   "outputs": [
    {
     "data": {
      "text/plain": [
       "array(['2020-04-30', '2020-05-31', '2020-06-30', '2020-07-31',\n",
       "       '2020-08-31'], dtype=object)"
      ]
     },
     "execution_count": 6,
     "metadata": {},
     "output_type": "execute_result"
    }
   ],
   "source": [
    "target_df.month.astype(str).unique()"
   ]
  },
  {
   "cell_type": "code",
   "execution_count": 7,
   "metadata": {
    "ExecuteTime": {
     "end_time": "2020-12-08T08:23:54.566552Z",
     "start_time": "2020-12-08T08:23:54.550800Z"
    }
   },
   "outputs": [
    {
     "data": {
      "text/plain": [
       "0.0    458874\n",
       "1.0    293254\n",
       "Name: target, dtype: int64"
      ]
     },
     "execution_count": 7,
     "metadata": {},
     "output_type": "execute_result"
    }
   ],
   "source": [
    "# imbalanced\n",
    "target_df.target.value_counts()"
   ]
  },
  {
   "cell_type": "code",
   "execution_count": 8,
   "metadata": {
    "ExecuteTime": {
     "end_time": "2020-12-08T08:23:54.595458Z",
     "start_time": "2020-12-08T08:23:54.585449Z"
    }
   },
   "outputs": [
    {
     "data": {
      "text/plain": [
       "2020-08-31    150554\n",
       "2020-07-31    150492\n",
       "2020-04-30    150484\n",
       "2020-05-31    150411\n",
       "2020-06-30    150187\n",
       "Name: month, dtype: int64"
      ]
     },
     "execution_count": 8,
     "metadata": {},
     "output_type": "execute_result"
    }
   ],
   "source": [
    "target_df.month.value_counts()"
   ]
  },
  {
   "cell_type": "code",
   "execution_count": 9,
   "metadata": {
    "ExecuteTime": {
     "end_time": "2020-11-24T08:24:38.386640Z",
     "start_time": "2020-11-24T08:24:37.756097Z"
    },
    "scrolled": false
   },
   "outputs": [
    {
     "data": {
      "text/html": [
       "<div>\n",
       "<style scoped>\n",
       "    .dataframe tbody tr th:only-of-type {\n",
       "        vertical-align: middle;\n",
       "    }\n",
       "\n",
       "    .dataframe tbody tr th {\n",
       "        vertical-align: top;\n",
       "    }\n",
       "\n",
       "    .dataframe thead th {\n",
       "        text-align: right;\n",
       "    }\n",
       "</style>\n",
       "<table border=\"1\" class=\"dataframe\">\n",
       "  <thead>\n",
       "    <tr style=\"text-align: right;\">\n",
       "      <th></th>\n",
       "      <th>user_id</th>\n",
       "      <th>month</th>\n",
       "      <th>feature_1</th>\n",
       "      <th>feature_2</th>\n",
       "      <th>feature_3</th>\n",
       "      <th>feature_4</th>\n",
       "      <th>feature_5</th>\n",
       "      <th>feature_6</th>\n",
       "      <th>feature_7</th>\n",
       "      <th>feature_8</th>\n",
       "      <th>...</th>\n",
       "      <th>feature_21</th>\n",
       "      <th>feature_22</th>\n",
       "      <th>feature_23</th>\n",
       "      <th>feature_24</th>\n",
       "      <th>feature_25</th>\n",
       "      <th>feature_26</th>\n",
       "      <th>feature_27</th>\n",
       "      <th>feature_28</th>\n",
       "      <th>feature_29</th>\n",
       "      <th>feature_30</th>\n",
       "    </tr>\n",
       "  </thead>\n",
       "  <tbody>\n",
       "    <tr>\n",
       "      <th>0</th>\n",
       "      <td>0</td>\n",
       "      <td>2020-04-30</td>\n",
       "      <td>0.993121</td>\n",
       "      <td>-15</td>\n",
       "      <td>2.274309</td>\n",
       "      <td>18</td>\n",
       "      <td>2868</td>\n",
       "      <td>-1.305588</td>\n",
       "      <td>-0.097643</td>\n",
       "      <td>0.617778</td>\n",
       "      <td>...</td>\n",
       "      <td>H4V75OQHSRBLA</td>\n",
       "      <td>AOKOISPPQLWGKK</td>\n",
       "      <td>-3.146305</td>\n",
       "      <td>-1.655508</td>\n",
       "      <td>25</td>\n",
       "      <td>3.032537</td>\n",
       "      <td>-29960</td>\n",
       "      <td>-1.864660</td>\n",
       "      <td>-0.212668</td>\n",
       "      <td>-3.245333</td>\n",
       "    </tr>\n",
       "    <tr>\n",
       "      <th>1</th>\n",
       "      <td>0</td>\n",
       "      <td>2020-05-31</td>\n",
       "      <td>-1.416912</td>\n",
       "      <td>-145</td>\n",
       "      <td>-1.087891</td>\n",
       "      <td>-8</td>\n",
       "      <td>-1763</td>\n",
       "      <td>-1.322007</td>\n",
       "      <td>3.143865</td>\n",
       "      <td>-0.272231</td>\n",
       "      <td>...</td>\n",
       "      <td>AUEOMIKY5CRWBNWO7S</td>\n",
       "      <td>OORLO7PMHCZFEMSR</td>\n",
       "      <td>2.365636</td>\n",
       "      <td>-2.632201</td>\n",
       "      <td>-11</td>\n",
       "      <td>-2.373654</td>\n",
       "      <td>-173398</td>\n",
       "      <td>0.458990</td>\n",
       "      <td>1.376687</td>\n",
       "      <td>-0.460150</td>\n",
       "    </tr>\n",
       "    <tr>\n",
       "      <th>2</th>\n",
       "      <td>0</td>\n",
       "      <td>2020-06-30</td>\n",
       "      <td>0.673564</td>\n",
       "      <td>23</td>\n",
       "      <td>0.016666</td>\n",
       "      <td>-7</td>\n",
       "      <td>-4092</td>\n",
       "      <td>-0.936663</td>\n",
       "      <td>-1.909813</td>\n",
       "      <td>0.715618</td>\n",
       "      <td>...</td>\n",
       "      <td>4VPOKVAQSMMTDZQ</td>\n",
       "      <td>NZFU27MWLPZRTX4G5D</td>\n",
       "      <td>-2.220931</td>\n",
       "      <td>1.930994</td>\n",
       "      <td>-10</td>\n",
       "      <td>3.301401</td>\n",
       "      <td>-46619</td>\n",
       "      <td>0.269820</td>\n",
       "      <td>0.900846</td>\n",
       "      <td>0.315063</td>\n",
       "    </tr>\n",
       "    <tr>\n",
       "      <th>3</th>\n",
       "      <td>0</td>\n",
       "      <td>2020-07-31</td>\n",
       "      <td>-2.124908</td>\n",
       "      <td>-15</td>\n",
       "      <td>1.234815</td>\n",
       "      <td>18</td>\n",
       "      <td>9348</td>\n",
       "      <td>0.233297</td>\n",
       "      <td>-0.108647</td>\n",
       "      <td>-1.831460</td>\n",
       "      <td>...</td>\n",
       "      <td>RAGXKIMJHFFGKA</td>\n",
       "      <td>KQBIGTVRDJZJLQRRPPY</td>\n",
       "      <td>1.641780</td>\n",
       "      <td>-5.166544</td>\n",
       "      <td>-23</td>\n",
       "      <td>0.531913</td>\n",
       "      <td>-131224</td>\n",
       "      <td>-0.341103</td>\n",
       "      <td>0.208832</td>\n",
       "      <td>1.869453</td>\n",
       "    </tr>\n",
       "    <tr>\n",
       "      <th>4</th>\n",
       "      <td>0</td>\n",
       "      <td>2020-08-31</td>\n",
       "      <td>-2.122264</td>\n",
       "      <td>-50</td>\n",
       "      <td>-0.584464</td>\n",
       "      <td>-8</td>\n",
       "      <td>1894</td>\n",
       "      <td>-0.092315</td>\n",
       "      <td>-0.547480</td>\n",
       "      <td>-0.065323</td>\n",
       "      <td>...</td>\n",
       "      <td>RAGXKIMJHFFGKA</td>\n",
       "      <td>KQBIGTVRDJZJLQRRPPY</td>\n",
       "      <td>1.852084</td>\n",
       "      <td>-0.761511</td>\n",
       "      <td>-24</td>\n",
       "      <td>-1.080867</td>\n",
       "      <td>68577</td>\n",
       "      <td>-1.328331</td>\n",
       "      <td>-0.681723</td>\n",
       "      <td>0.431699</td>\n",
       "    </tr>\n",
       "  </tbody>\n",
       "</table>\n",
       "<p>5 rows × 32 columns</p>\n",
       "</div>"
      ],
      "text/plain": [
       "   user_id      month  feature_1  feature_2  feature_3  feature_4  feature_5  \\\n",
       "0        0 2020-04-30   0.993121        -15   2.274309         18       2868   \n",
       "1        0 2020-05-31  -1.416912       -145  -1.087891         -8      -1763   \n",
       "2        0 2020-06-30   0.673564         23   0.016666         -7      -4092   \n",
       "3        0 2020-07-31  -2.124908        -15   1.234815         18       9348   \n",
       "4        0 2020-08-31  -2.122264        -50  -0.584464         -8       1894   \n",
       "\n",
       "   feature_6  feature_7  feature_8  ...          feature_21  \\\n",
       "0  -1.305588  -0.097643   0.617778  ...       H4V75OQHSRBLA   \n",
       "1  -1.322007   3.143865  -0.272231  ...  AUEOMIKY5CRWBNWO7S   \n",
       "2  -0.936663  -1.909813   0.715618  ...     4VPOKVAQSMMTDZQ   \n",
       "3   0.233297  -0.108647  -1.831460  ...      RAGXKIMJHFFGKA   \n",
       "4  -0.092315  -0.547480  -0.065323  ...      RAGXKIMJHFFGKA   \n",
       "\n",
       "            feature_22 feature_23  feature_24  feature_25  feature_26  \\\n",
       "0       AOKOISPPQLWGKK  -3.146305   -1.655508          25    3.032537   \n",
       "1     OORLO7PMHCZFEMSR   2.365636   -2.632201         -11   -2.373654   \n",
       "2   NZFU27MWLPZRTX4G5D  -2.220931    1.930994         -10    3.301401   \n",
       "3  KQBIGTVRDJZJLQRRPPY   1.641780   -5.166544         -23    0.531913   \n",
       "4  KQBIGTVRDJZJLQRRPPY   1.852084   -0.761511         -24   -1.080867   \n",
       "\n",
       "   feature_27 feature_28 feature_29  feature_30  \n",
       "0      -29960  -1.864660  -0.212668   -3.245333  \n",
       "1     -173398   0.458990   1.376687   -0.460150  \n",
       "2      -46619   0.269820   0.900846    0.315063  \n",
       "3     -131224  -0.341103   0.208832    1.869453  \n",
       "4       68577  -1.328331  -0.681723    0.431699  \n",
       "\n",
       "[5 rows x 32 columns]"
      ]
     },
     "execution_count": 9,
     "metadata": {},
     "output_type": "execute_result"
    }
   ],
   "source": [
    "user_features_df = pd.read_feather(user_features_raw)\n",
    "user_features_df = user_features_df.loc[user_features_df.user_id.isin(target_df.user_id)]\n",
    "user_features_df.head()"
   ]
  },
  {
   "cell_type": "code",
   "execution_count": 10,
   "metadata": {},
   "outputs": [
    {
     "data": {
      "text/plain": [
       "0         True\n",
       "1         True\n",
       "2         True\n",
       "3         True\n",
       "4         True\n",
       "          ... \n",
       "752123    True\n",
       "752124    True\n",
       "752125    True\n",
       "752126    True\n",
       "752127    True\n",
       "Name: user_id, Length: 752128, dtype: bool"
      ]
     },
     "execution_count": 10,
     "metadata": {},
     "output_type": "execute_result"
    }
   ],
   "source": [
    "user_features_df.user_id.isin(target_df.user_id)"
   ]
  },
  {
   "cell_type": "code",
   "execution_count": 11,
   "metadata": {},
   "outputs": [
    {
     "data": {
      "text/plain": [
       "True    752128\n",
       "Name: user_id, dtype: int64"
      ]
     },
     "execution_count": 11,
     "metadata": {},
     "output_type": "execute_result"
    }
   ],
   "source": [
    "user_features_df.user_id.isin(target_df.user_id).value_counts()"
   ]
  },
  {
   "cell_type": "code",
   "execution_count": 8,
   "metadata": {
    "ExecuteTime": {
     "end_time": "2020-11-24T08:24:38.400725Z",
     "start_time": "2020-11-24T08:24:38.390188Z"
    }
   },
   "outputs": [
    {
     "data": {
      "text/plain": [
       "2020-08-31    150554\n",
       "2020-07-31    150492\n",
       "2020-04-30    150484\n",
       "2020-05-31    150411\n",
       "2020-06-30    150187\n",
       "Name: month, dtype: int64"
      ]
     },
     "execution_count": 8,
     "metadata": {},
     "output_type": "execute_result"
    }
   ],
   "source": [
    "user_features_df.month.value_counts()"
   ]
  },
  {
   "cell_type": "markdown",
   "metadata": {},
   "source": [
    "## Process 'month' column"
   ]
  },
  {
   "cell_type": "code",
   "execution_count": 11,
   "metadata": {
    "ExecuteTime": {
     "end_time": "2020-11-24T08:24:38.449759Z",
     "start_time": "2020-11-24T08:24:38.403558Z"
    }
   },
   "outputs": [],
   "source": [
    "# Convert 'month' to datetime\n",
    "target_df['month'] = pd.to_datetime(target_df['month'])\n",
    "user_features_df['month'] = pd.to_datetime(user_features_df['month'])"
   ]
  },
  {
   "cell_type": "code",
   "execution_count": 19,
   "metadata": {
    "ExecuteTime": {
     "end_time": "2020-11-24T08:24:38.458530Z",
     "start_time": "2020-11-24T08:24:38.451574Z"
    }
   },
   "outputs": [
    {
     "data": {
      "text/html": [
       "<div>\n",
       "<style scoped>\n",
       "    .dataframe tbody tr th:only-of-type {\n",
       "        vertical-align: middle;\n",
       "    }\n",
       "\n",
       "    .dataframe tbody tr th {\n",
       "        vertical-align: top;\n",
       "    }\n",
       "\n",
       "    .dataframe thead th {\n",
       "        text-align: right;\n",
       "    }\n",
       "</style>\n",
       "<table border=\"1\" class=\"dataframe\">\n",
       "  <thead>\n",
       "    <tr style=\"text-align: right;\">\n",
       "      <th></th>\n",
       "      <th>user_id</th>\n",
       "      <th>month</th>\n",
       "      <th>target</th>\n",
       "    </tr>\n",
       "  </thead>\n",
       "  <tbody>\n",
       "    <tr>\n",
       "      <th>0</th>\n",
       "      <td>0</td>\n",
       "      <td>2020-04-30</td>\n",
       "      <td>1.0</td>\n",
       "    </tr>\n",
       "    <tr>\n",
       "      <th>1</th>\n",
       "      <td>0</td>\n",
       "      <td>2020-05-31</td>\n",
       "      <td>0.0</td>\n",
       "    </tr>\n",
       "    <tr>\n",
       "      <th>2</th>\n",
       "      <td>0</td>\n",
       "      <td>2020-06-30</td>\n",
       "      <td>1.0</td>\n",
       "    </tr>\n",
       "    <tr>\n",
       "      <th>3</th>\n",
       "      <td>0</td>\n",
       "      <td>2020-07-31</td>\n",
       "      <td>0.0</td>\n",
       "    </tr>\n",
       "    <tr>\n",
       "      <th>4</th>\n",
       "      <td>0</td>\n",
       "      <td>2020-08-31</td>\n",
       "      <td>1.0</td>\n",
       "    </tr>\n",
       "  </tbody>\n",
       "</table>\n",
       "</div>"
      ],
      "text/plain": [
       "   user_id      month  target\n",
       "0        0 2020-04-30     1.0\n",
       "1        0 2020-05-31     0.0\n",
       "2        0 2020-06-30     1.0\n",
       "3        0 2020-07-31     0.0\n",
       "4        0 2020-08-31     1.0"
      ]
     },
     "execution_count": 19,
     "metadata": {},
     "output_type": "execute_result"
    }
   ],
   "source": [
    "target_df.head()"
   ]
  },
  {
   "cell_type": "code",
   "execution_count": 12,
   "metadata": {
    "ExecuteTime": {
     "end_time": "2020-11-24T08:24:38.564033Z",
     "start_time": "2020-11-24T08:24:38.460203Z"
    }
   },
   "outputs": [
    {
     "data": {
      "text/html": [
       "<div>\n",
       "<style scoped>\n",
       "    .dataframe tbody tr th:only-of-type {\n",
       "        vertical-align: middle;\n",
       "    }\n",
       "\n",
       "    .dataframe tbody tr th {\n",
       "        vertical-align: top;\n",
       "    }\n",
       "\n",
       "    .dataframe thead th {\n",
       "        text-align: right;\n",
       "    }\n",
       "</style>\n",
       "<table border=\"1\" class=\"dataframe\">\n",
       "  <thead>\n",
       "    <tr style=\"text-align: right;\">\n",
       "      <th></th>\n",
       "      <th>user_id</th>\n",
       "      <th>month</th>\n",
       "      <th>feature_1</th>\n",
       "      <th>feature_2</th>\n",
       "      <th>feature_3</th>\n",
       "      <th>feature_4</th>\n",
       "      <th>feature_5</th>\n",
       "      <th>feature_6</th>\n",
       "      <th>feature_7</th>\n",
       "      <th>feature_8</th>\n",
       "      <th>...</th>\n",
       "      <th>feature_21</th>\n",
       "      <th>feature_22</th>\n",
       "      <th>feature_23</th>\n",
       "      <th>feature_24</th>\n",
       "      <th>feature_25</th>\n",
       "      <th>feature_26</th>\n",
       "      <th>feature_27</th>\n",
       "      <th>feature_28</th>\n",
       "      <th>feature_29</th>\n",
       "      <th>feature_30</th>\n",
       "    </tr>\n",
       "  </thead>\n",
       "  <tbody>\n",
       "    <tr>\n",
       "      <th>0</th>\n",
       "      <td>0</td>\n",
       "      <td>2020-04-30</td>\n",
       "      <td>0.993121</td>\n",
       "      <td>-15</td>\n",
       "      <td>2.274309</td>\n",
       "      <td>18</td>\n",
       "      <td>2868</td>\n",
       "      <td>-1.305588</td>\n",
       "      <td>-0.097643</td>\n",
       "      <td>0.617778</td>\n",
       "      <td>...</td>\n",
       "      <td>H4V75OQHSRBLA</td>\n",
       "      <td>AOKOISPPQLWGKK</td>\n",
       "      <td>-3.146305</td>\n",
       "      <td>-1.655508</td>\n",
       "      <td>25</td>\n",
       "      <td>3.032537</td>\n",
       "      <td>-29960</td>\n",
       "      <td>-1.864660</td>\n",
       "      <td>-0.212668</td>\n",
       "      <td>-3.245333</td>\n",
       "    </tr>\n",
       "    <tr>\n",
       "      <th>1</th>\n",
       "      <td>0</td>\n",
       "      <td>2020-05-31</td>\n",
       "      <td>-1.416912</td>\n",
       "      <td>-145</td>\n",
       "      <td>-1.087891</td>\n",
       "      <td>-8</td>\n",
       "      <td>-1763</td>\n",
       "      <td>-1.322007</td>\n",
       "      <td>3.143865</td>\n",
       "      <td>-0.272231</td>\n",
       "      <td>...</td>\n",
       "      <td>AUEOMIKY5CRWBNWO7S</td>\n",
       "      <td>OORLO7PMHCZFEMSR</td>\n",
       "      <td>2.365636</td>\n",
       "      <td>-2.632201</td>\n",
       "      <td>-11</td>\n",
       "      <td>-2.373654</td>\n",
       "      <td>-173398</td>\n",
       "      <td>0.458990</td>\n",
       "      <td>1.376687</td>\n",
       "      <td>-0.460150</td>\n",
       "    </tr>\n",
       "    <tr>\n",
       "      <th>2</th>\n",
       "      <td>0</td>\n",
       "      <td>2020-06-30</td>\n",
       "      <td>0.673564</td>\n",
       "      <td>23</td>\n",
       "      <td>0.016666</td>\n",
       "      <td>-7</td>\n",
       "      <td>-4092</td>\n",
       "      <td>-0.936663</td>\n",
       "      <td>-1.909813</td>\n",
       "      <td>0.715618</td>\n",
       "      <td>...</td>\n",
       "      <td>4VPOKVAQSMMTDZQ</td>\n",
       "      <td>NZFU27MWLPZRTX4G5D</td>\n",
       "      <td>-2.220931</td>\n",
       "      <td>1.930994</td>\n",
       "      <td>-10</td>\n",
       "      <td>3.301401</td>\n",
       "      <td>-46619</td>\n",
       "      <td>0.269820</td>\n",
       "      <td>0.900846</td>\n",
       "      <td>0.315063</td>\n",
       "    </tr>\n",
       "    <tr>\n",
       "      <th>3</th>\n",
       "      <td>0</td>\n",
       "      <td>2020-07-31</td>\n",
       "      <td>-2.124908</td>\n",
       "      <td>-15</td>\n",
       "      <td>1.234815</td>\n",
       "      <td>18</td>\n",
       "      <td>9348</td>\n",
       "      <td>0.233297</td>\n",
       "      <td>-0.108647</td>\n",
       "      <td>-1.831460</td>\n",
       "      <td>...</td>\n",
       "      <td>RAGXKIMJHFFGKA</td>\n",
       "      <td>KQBIGTVRDJZJLQRRPPY</td>\n",
       "      <td>1.641780</td>\n",
       "      <td>-5.166544</td>\n",
       "      <td>-23</td>\n",
       "      <td>0.531913</td>\n",
       "      <td>-131224</td>\n",
       "      <td>-0.341103</td>\n",
       "      <td>0.208832</td>\n",
       "      <td>1.869453</td>\n",
       "    </tr>\n",
       "    <tr>\n",
       "      <th>4</th>\n",
       "      <td>0</td>\n",
       "      <td>2020-08-31</td>\n",
       "      <td>-2.122264</td>\n",
       "      <td>-50</td>\n",
       "      <td>-0.584464</td>\n",
       "      <td>-8</td>\n",
       "      <td>1894</td>\n",
       "      <td>-0.092315</td>\n",
       "      <td>-0.547480</td>\n",
       "      <td>-0.065323</td>\n",
       "      <td>...</td>\n",
       "      <td>RAGXKIMJHFFGKA</td>\n",
       "      <td>KQBIGTVRDJZJLQRRPPY</td>\n",
       "      <td>1.852084</td>\n",
       "      <td>-0.761511</td>\n",
       "      <td>-24</td>\n",
       "      <td>-1.080867</td>\n",
       "      <td>68577</td>\n",
       "      <td>-1.328331</td>\n",
       "      <td>-0.681723</td>\n",
       "      <td>0.431699</td>\n",
       "    </tr>\n",
       "  </tbody>\n",
       "</table>\n",
       "<p>5 rows × 32 columns</p>\n",
       "</div>"
      ],
      "text/plain": [
       "   user_id      month  feature_1  feature_2  feature_3  feature_4  feature_5  \\\n",
       "0        0 2020-04-30   0.993121        -15   2.274309         18       2868   \n",
       "1        0 2020-05-31  -1.416912       -145  -1.087891         -8      -1763   \n",
       "2        0 2020-06-30   0.673564         23   0.016666         -7      -4092   \n",
       "3        0 2020-07-31  -2.124908        -15   1.234815         18       9348   \n",
       "4        0 2020-08-31  -2.122264        -50  -0.584464         -8       1894   \n",
       "\n",
       "   feature_6  feature_7  feature_8  ...          feature_21  \\\n",
       "0  -1.305588  -0.097643   0.617778  ...       H4V75OQHSRBLA   \n",
       "1  -1.322007   3.143865  -0.272231  ...  AUEOMIKY5CRWBNWO7S   \n",
       "2  -0.936663  -1.909813   0.715618  ...     4VPOKVAQSMMTDZQ   \n",
       "3   0.233297  -0.108647  -1.831460  ...      RAGXKIMJHFFGKA   \n",
       "4  -0.092315  -0.547480  -0.065323  ...      RAGXKIMJHFFGKA   \n",
       "\n",
       "            feature_22 feature_23  feature_24  feature_25  feature_26  \\\n",
       "0       AOKOISPPQLWGKK  -3.146305   -1.655508          25    3.032537   \n",
       "1     OORLO7PMHCZFEMSR   2.365636   -2.632201         -11   -2.373654   \n",
       "2   NZFU27MWLPZRTX4G5D  -2.220931    1.930994         -10    3.301401   \n",
       "3  KQBIGTVRDJZJLQRRPPY   1.641780   -5.166544         -23    0.531913   \n",
       "4  KQBIGTVRDJZJLQRRPPY   1.852084   -0.761511         -24   -1.080867   \n",
       "\n",
       "   feature_27 feature_28 feature_29  feature_30  \n",
       "0      -29960  -1.864660  -0.212668   -3.245333  \n",
       "1     -173398   0.458990   1.376687   -0.460150  \n",
       "2      -46619   0.269820   0.900846    0.315063  \n",
       "3     -131224  -0.341103   0.208832    1.869453  \n",
       "4       68577  -1.328331  -0.681723    0.431699  \n",
       "\n",
       "[5 rows x 32 columns]"
      ]
     },
     "execution_count": 12,
     "metadata": {},
     "output_type": "execute_result"
    }
   ],
   "source": [
    "features = user_features_df.copy()\n",
    "features.head()"
   ]
  },
  {
   "cell_type": "code",
   "execution_count": 12,
   "metadata": {
    "ExecuteTime": {
     "end_time": "2020-11-24T08:24:38.568230Z",
     "start_time": "2020-11-24T08:24:38.565916Z"
    }
   },
   "outputs": [],
   "source": [
    "# features.sort_values(by=['month']).tail()"
   ]
  },
  {
   "cell_type": "markdown",
   "metadata": {},
   "source": [
    "## Add target column"
   ]
  },
  {
   "cell_type": "code",
   "execution_count": 13,
   "metadata": {
    "ExecuteTime": {
     "end_time": "2020-11-24T08:24:39.341596Z",
     "start_time": "2020-11-24T08:24:38.570020Z"
    },
    "scrolled": true
   },
   "outputs": [
    {
     "name": "stdout",
     "output_type": "stream",
     "text": [
      "CPU times: user 502 ms, sys: 191 ms, total: 693 ms\n",
      "Wall time: 699 ms\n"
     ]
    },
    {
     "data": {
      "text/html": [
       "<div>\n",
       "<style scoped>\n",
       "    .dataframe tbody tr th:only-of-type {\n",
       "        vertical-align: middle;\n",
       "    }\n",
       "\n",
       "    .dataframe tbody tr th {\n",
       "        vertical-align: top;\n",
       "    }\n",
       "\n",
       "    .dataframe thead th {\n",
       "        text-align: right;\n",
       "    }\n",
       "</style>\n",
       "<table border=\"1\" class=\"dataframe\">\n",
       "  <thead>\n",
       "    <tr style=\"text-align: right;\">\n",
       "      <th></th>\n",
       "      <th>user_id</th>\n",
       "      <th>month</th>\n",
       "      <th>feature_1</th>\n",
       "      <th>feature_2</th>\n",
       "      <th>feature_3</th>\n",
       "      <th>feature_4</th>\n",
       "      <th>feature_5</th>\n",
       "      <th>feature_6</th>\n",
       "      <th>feature_7</th>\n",
       "      <th>feature_8</th>\n",
       "      <th>...</th>\n",
       "      <th>feature_22</th>\n",
       "      <th>feature_23</th>\n",
       "      <th>feature_24</th>\n",
       "      <th>feature_25</th>\n",
       "      <th>feature_26</th>\n",
       "      <th>feature_27</th>\n",
       "      <th>feature_28</th>\n",
       "      <th>feature_29</th>\n",
       "      <th>feature_30</th>\n",
       "      <th>target</th>\n",
       "    </tr>\n",
       "  </thead>\n",
       "  <tbody>\n",
       "    <tr>\n",
       "      <th>0</th>\n",
       "      <td>0</td>\n",
       "      <td>2020-04-30</td>\n",
       "      <td>0.993121</td>\n",
       "      <td>-15</td>\n",
       "      <td>2.274309</td>\n",
       "      <td>18</td>\n",
       "      <td>2868</td>\n",
       "      <td>-1.305588</td>\n",
       "      <td>-0.097643</td>\n",
       "      <td>0.617778</td>\n",
       "      <td>...</td>\n",
       "      <td>AOKOISPPQLWGKK</td>\n",
       "      <td>-3.146305</td>\n",
       "      <td>-1.655508</td>\n",
       "      <td>25</td>\n",
       "      <td>3.032537</td>\n",
       "      <td>-29960</td>\n",
       "      <td>-1.864660</td>\n",
       "      <td>-0.212668</td>\n",
       "      <td>-3.245333</td>\n",
       "      <td>1.0</td>\n",
       "    </tr>\n",
       "    <tr>\n",
       "      <th>1</th>\n",
       "      <td>0</td>\n",
       "      <td>2020-05-31</td>\n",
       "      <td>-1.416912</td>\n",
       "      <td>-145</td>\n",
       "      <td>-1.087891</td>\n",
       "      <td>-8</td>\n",
       "      <td>-1763</td>\n",
       "      <td>-1.322007</td>\n",
       "      <td>3.143865</td>\n",
       "      <td>-0.272231</td>\n",
       "      <td>...</td>\n",
       "      <td>OORLO7PMHCZFEMSR</td>\n",
       "      <td>2.365636</td>\n",
       "      <td>-2.632201</td>\n",
       "      <td>-11</td>\n",
       "      <td>-2.373654</td>\n",
       "      <td>-173398</td>\n",
       "      <td>0.458990</td>\n",
       "      <td>1.376687</td>\n",
       "      <td>-0.460150</td>\n",
       "      <td>0.0</td>\n",
       "    </tr>\n",
       "    <tr>\n",
       "      <th>2</th>\n",
       "      <td>0</td>\n",
       "      <td>2020-06-30</td>\n",
       "      <td>0.673564</td>\n",
       "      <td>23</td>\n",
       "      <td>0.016666</td>\n",
       "      <td>-7</td>\n",
       "      <td>-4092</td>\n",
       "      <td>-0.936663</td>\n",
       "      <td>-1.909813</td>\n",
       "      <td>0.715618</td>\n",
       "      <td>...</td>\n",
       "      <td>NZFU27MWLPZRTX4G5D</td>\n",
       "      <td>-2.220931</td>\n",
       "      <td>1.930994</td>\n",
       "      <td>-10</td>\n",
       "      <td>3.301401</td>\n",
       "      <td>-46619</td>\n",
       "      <td>0.269820</td>\n",
       "      <td>0.900846</td>\n",
       "      <td>0.315063</td>\n",
       "      <td>1.0</td>\n",
       "    </tr>\n",
       "    <tr>\n",
       "      <th>3</th>\n",
       "      <td>0</td>\n",
       "      <td>2020-07-31</td>\n",
       "      <td>-2.124908</td>\n",
       "      <td>-15</td>\n",
       "      <td>1.234815</td>\n",
       "      <td>18</td>\n",
       "      <td>9348</td>\n",
       "      <td>0.233297</td>\n",
       "      <td>-0.108647</td>\n",
       "      <td>-1.831460</td>\n",
       "      <td>...</td>\n",
       "      <td>KQBIGTVRDJZJLQRRPPY</td>\n",
       "      <td>1.641780</td>\n",
       "      <td>-5.166544</td>\n",
       "      <td>-23</td>\n",
       "      <td>0.531913</td>\n",
       "      <td>-131224</td>\n",
       "      <td>-0.341103</td>\n",
       "      <td>0.208832</td>\n",
       "      <td>1.869453</td>\n",
       "      <td>0.0</td>\n",
       "    </tr>\n",
       "    <tr>\n",
       "      <th>4</th>\n",
       "      <td>0</td>\n",
       "      <td>2020-08-31</td>\n",
       "      <td>-2.122264</td>\n",
       "      <td>-50</td>\n",
       "      <td>-0.584464</td>\n",
       "      <td>-8</td>\n",
       "      <td>1894</td>\n",
       "      <td>-0.092315</td>\n",
       "      <td>-0.547480</td>\n",
       "      <td>-0.065323</td>\n",
       "      <td>...</td>\n",
       "      <td>KQBIGTVRDJZJLQRRPPY</td>\n",
       "      <td>1.852084</td>\n",
       "      <td>-0.761511</td>\n",
       "      <td>-24</td>\n",
       "      <td>-1.080867</td>\n",
       "      <td>68577</td>\n",
       "      <td>-1.328331</td>\n",
       "      <td>-0.681723</td>\n",
       "      <td>0.431699</td>\n",
       "      <td>1.0</td>\n",
       "    </tr>\n",
       "  </tbody>\n",
       "</table>\n",
       "<p>5 rows × 33 columns</p>\n",
       "</div>"
      ],
      "text/plain": [
       "   user_id      month  feature_1  feature_2  feature_3  feature_4  feature_5  \\\n",
       "0        0 2020-04-30   0.993121        -15   2.274309         18       2868   \n",
       "1        0 2020-05-31  -1.416912       -145  -1.087891         -8      -1763   \n",
       "2        0 2020-06-30   0.673564         23   0.016666         -7      -4092   \n",
       "3        0 2020-07-31  -2.124908        -15   1.234815         18       9348   \n",
       "4        0 2020-08-31  -2.122264        -50  -0.584464         -8       1894   \n",
       "\n",
       "   feature_6  feature_7  feature_8  ...           feature_22  feature_23  \\\n",
       "0  -1.305588  -0.097643   0.617778  ...       AOKOISPPQLWGKK   -3.146305   \n",
       "1  -1.322007   3.143865  -0.272231  ...     OORLO7PMHCZFEMSR    2.365636   \n",
       "2  -0.936663  -1.909813   0.715618  ...   NZFU27MWLPZRTX4G5D   -2.220931   \n",
       "3   0.233297  -0.108647  -1.831460  ...  KQBIGTVRDJZJLQRRPPY    1.641780   \n",
       "4  -0.092315  -0.547480  -0.065323  ...  KQBIGTVRDJZJLQRRPPY    1.852084   \n",
       "\n",
       "  feature_24  feature_25  feature_26  feature_27  feature_28 feature_29  \\\n",
       "0  -1.655508          25    3.032537      -29960   -1.864660  -0.212668   \n",
       "1  -2.632201         -11   -2.373654     -173398    0.458990   1.376687   \n",
       "2   1.930994         -10    3.301401      -46619    0.269820   0.900846   \n",
       "3  -5.166544         -23    0.531913     -131224   -0.341103   0.208832   \n",
       "4  -0.761511         -24   -1.080867       68577   -1.328331  -0.681723   \n",
       "\n",
       "  feature_30  target  \n",
       "0  -3.245333     1.0  \n",
       "1  -0.460150     0.0  \n",
       "2   0.315063     1.0  \n",
       "3   1.869453     0.0  \n",
       "4   0.431699     1.0  \n",
       "\n",
       "[5 rows x 33 columns]"
      ]
     },
     "execution_count": 13,
     "metadata": {},
     "output_type": "execute_result"
    }
   ],
   "source": [
    "%%time\n",
    "\n",
    "features = pd.merge(\n",
    "        left=features,\n",
    "        right=target_df,\n",
    "        how='left',\n",
    "        on=['user_id', 'month']\n",
    ")\n",
    "\n",
    "\n",
    "features.head()"
   ]
  },
  {
   "cell_type": "code",
   "execution_count": 14,
   "metadata": {
    "ExecuteTime": {
     "end_time": "2020-11-24T08:24:39.358197Z",
     "start_time": "2020-11-24T08:24:39.343357Z"
    }
   },
   "outputs": [
    {
     "data": {
      "text/plain": [
       "0.0    458874\n",
       "1.0    293254\n",
       "Name: target, dtype: int64"
      ]
     },
     "execution_count": 14,
     "metadata": {},
     "output_type": "execute_result"
    }
   ],
   "source": [
    "features['target'].value_counts(dropna=False)"
   ]
  },
  {
   "cell_type": "code",
   "execution_count": 23,
   "metadata": {
    "ExecuteTime": {
     "end_time": "2020-11-24T08:24:39.363186Z",
     "start_time": "2020-11-24T08:24:39.360060Z"
    }
   },
   "outputs": [
    {
     "data": {
      "text/plain": [
       "(752128, 33)"
      ]
     },
     "execution_count": 23,
     "metadata": {},
     "output_type": "execute_result"
    }
   ],
   "source": [
    "features.shape"
   ]
  },
  {
   "cell_type": "code",
   "execution_count": 15,
   "metadata": {
    "ExecuteTime": {
     "end_time": "2020-11-24T08:24:40.292032Z",
     "start_time": "2020-11-24T08:24:39.364580Z"
    }
   },
   "outputs": [
    {
     "data": {
      "text/plain": [
       "target\n",
       "0.0       49354\n",
       "1.0       86519\n",
       "2.0       61592\n",
       "3.0       22215\n",
       "4.0        3924\n",
       "5.0         242\n",
       "dtype: int64"
      ]
     },
     "execution_count": 15,
     "metadata": {},
     "output_type": "execute_result"
    }
   ],
   "source": [
    "(\n",
    "    user_features_df\n",
    "    .merge(target_df[target_df.target == 1], \n",
    "           how=\"left\", \n",
    "           on=[\"user_id\", \"month\"])\n",
    "    .fillna({\"target\": 0})\n",
    "    .groupby(\"user_id\")\n",
    "    .agg({\"target\": \"sum\"})\n",
    "    .value_counts()\n",
    "    .sort_index()\n",
    ")"
   ]
  },
  {
   "cell_type": "markdown",
   "metadata": {},
   "source": [
    "## Process nulls "
   ]
  },
  {
   "cell_type": "code",
   "execution_count": 17,
   "metadata": {
    "ExecuteTime": {
     "end_time": "2020-11-24T08:24:40.777364Z",
     "start_time": "2020-11-24T08:24:40.293487Z"
    },
    "scrolled": true
   },
   "outputs": [
    {
     "name": "stdout",
     "output_type": "stream",
     "text": [
      "<class 'pandas.core.frame.DataFrame'>\n",
      "Int64Index: 752128 entries, 0 to 752127\n",
      "Data columns (total 33 columns):\n",
      " #   Column      Non-Null Count   Dtype         \n",
      "---  ------      --------------   -----         \n",
      " 0   user_id     752128 non-null  int64         \n",
      " 1   month       752128 non-null  datetime64[ns]\n",
      " 2   feature_1   752128 non-null  float64       \n",
      " 3   feature_2   752128 non-null  int32         \n",
      " 4   feature_3   752128 non-null  float64       \n",
      " 5   feature_4   752128 non-null  int32         \n",
      " 6   feature_5   752128 non-null  int32         \n",
      " 7   feature_6   752128 non-null  float64       \n",
      " 8   feature_7   752128 non-null  float64       \n",
      " 9   feature_8   752128 non-null  float64       \n",
      " 10  feature_9   752128 non-null  float64       \n",
      " 11  feature_10  752128 non-null  float64       \n",
      " 12  feature_11  752128 non-null  category      \n",
      " 13  feature_12  752128 non-null  float64       \n",
      " 14  feature_13  752128 non-null  float64       \n",
      " 15  feature_14  752128 non-null  float64       \n",
      " 16  feature_15  752128 non-null  float64       \n",
      " 17  feature_16  752128 non-null  category      \n",
      " 18  feature_17  752128 non-null  category      \n",
      " 19  feature_18  752128 non-null  int8          \n",
      " 20  feature_19  752128 non-null  float64       \n",
      " 21  feature_20  752128 non-null  float64       \n",
      " 22  feature_21  752128 non-null  category      \n",
      " 23  feature_22  752128 non-null  category      \n",
      " 24  feature_23  752128 non-null  float64       \n",
      " 25  feature_24  752128 non-null  float64       \n",
      " 26  feature_25  752128 non-null  int32         \n",
      " 27  feature_26  752128 non-null  float64       \n",
      " 28  feature_27  752128 non-null  int32         \n",
      " 29  feature_28  752128 non-null  float64       \n",
      " 30  feature_29  752128 non-null  float64       \n",
      " 31  feature_30  752128 non-null  float64       \n",
      " 32  target      752128 non-null  float64       \n",
      "dtypes: category(5), datetime64[ns](1), float64(20), int32(5), int64(1), int8(1)\n",
      "memory usage: 150.6 MB\n"
     ]
    }
   ],
   "source": [
    "# Fill NaN target 0 \n",
    "features.dropna(inplace=True)\n",
    "features.info()"
   ]
  },
  {
   "cell_type": "markdown",
   "metadata": {},
   "source": [
    "## Save features"
   ]
  },
  {
   "cell_type": "code",
   "execution_count": 18,
   "metadata": {
    "ExecuteTime": {
     "end_time": "2020-11-24T08:24:41.235133Z",
     "start_time": "2020-11-24T08:24:40.779198Z"
    }
   },
   "outputs": [],
   "source": [
    "features.to_feather(features_path)  # binary Feather format"
   ]
  },
  {
   "cell_type": "code",
   "execution_count": 19,
   "metadata": {
    "ExecuteTime": {
     "end_time": "2020-11-24T08:24:41.370321Z",
     "start_time": "2020-11-24T08:24:41.237244Z"
    }
   },
   "outputs": [
    {
     "name": "stdout",
     "output_type": "stream",
     "text": [
      "\u001b[01;34m../data\u001b[00m\r\n",
      "├── \u001b[01;34mprocessed\u001b[00m\r\n",
      "│   └── features.feather\r\n",
      "└── \u001b[01;34mraw\u001b[00m\r\n",
      "    ├── scoring_target.feather\r\n",
      "    ├── scoring_user_features.feather\r\n",
      "    ├── target.feather\r\n",
      "    └── user_features.feather\r\n",
      "\r\n",
      "2 directories, 5 files\r\n"
     ]
    }
   ],
   "source": [
    "! tree ../data  # features is in processed dir"
   ]
  },
  {
   "cell_type": "markdown",
   "metadata": {},
   "source": [
    "# Split data\n",
    "\n",
    "Time-based cross validation: forms a type of “sliding window” training approach to create a general and robust model.\n",
    "\n",
    "Example for reference: https://towardsdatascience.com/time-based-cross-validation-d259b13d42b8 "
   ]
  },
  {
   "cell_type": "code",
   "execution_count": 20,
   "metadata": {
    "ExecuteTime": {
     "end_time": "2020-11-24T08:24:41.380388Z",
     "start_time": "2020-11-24T08:24:41.373608Z"
    }
   },
   "outputs": [],
   "source": [
    "from pandas.tseries.offsets import MonthEnd\n",
    "\n",
    "def custom_ts_split(months, train_period = 0):\n",
    "    for k, month in enumerate(months):   \n",
    "        start_train = pd.to_datetime(months.min())\n",
    "        end_train = start_train + MonthEnd(train_period + k-1)\n",
    "        test_period = pd.to_datetime(end_train + MonthEnd(1))\n",
    "        \n",
    "        if test_period <= pd.to_datetime(months.max()):\n",
    "            yield start_train, end_train, test_period\n",
    "        else: \n",
    "            print(test_period)\n",
    "            print(months.max())"
   ]
  },
  {
   "cell_type": "code",
   "execution_count": 21,
   "metadata": {
    "ExecuteTime": {
     "end_time": "2020-11-24T08:24:41.461983Z",
     "start_time": "2020-11-24T08:24:41.382273Z"
    }
   },
   "outputs": [
    {
     "data": {
      "text/plain": [
       "array(['2020-04-30T00:00:00.000000000', '2020-05-31T00:00:00.000000000',\n",
       "       '2020-06-30T00:00:00.000000000', '2020-07-31T00:00:00.000000000',\n",
       "       '2020-08-31T00:00:00.000000000'], dtype='datetime64[ns]')"
      ]
     },
     "execution_count": 21,
     "metadata": {},
     "output_type": "execute_result"
    }
   ],
   "source": [
    "# months\n",
    "months = features.month.sort_values().unique()\n",
    "months"
   ]
  },
  {
   "cell_type": "code",
   "execution_count": 22,
   "metadata": {
    "ExecuteTime": {
     "end_time": "2020-11-24T08:24:41.472545Z",
     "start_time": "2020-11-24T08:24:41.463843Z"
    }
   },
   "outputs": [
    {
     "name": "stdout",
     "output_type": "stream",
     "text": [
      "Fold 1:\n",
      "Train: 2020-04-30 00:00:00 - 2020-04-30 00:00:00\n",
      "Test: 2020-05-31 00:00:00 \n",
      "\n",
      "Fold 2:\n",
      "Train: 2020-04-30 00:00:00 - 2020-05-31 00:00:00\n",
      "Test: 2020-06-30 00:00:00 \n",
      "\n",
      "Fold 3:\n",
      "Train: 2020-04-30 00:00:00 - 2020-06-30 00:00:00\n",
      "Test: 2020-07-31 00:00:00 \n",
      "\n",
      "Fold 4:\n",
      "Train: 2020-04-30 00:00:00 - 2020-07-31 00:00:00\n",
      "Test: 2020-08-31 00:00:00 \n",
      "\n",
      "2020-09-30 00:00:00\n",
      "2020-08-31T00:00:00.000000000\n"
     ]
    }
   ],
   "source": [
    "# test custom_ts_split function - iterate over splits \n",
    "k = 1\n",
    "for start_train, end_train, test_period in custom_ts_split(months, train_period=1):\n",
    "        print(f'Fold {k}:')    \n",
    "        print(f'Train: {start_train} - {end_train}')\n",
    "        print(f'Test: {test_period} \\n')\n",
    "        k+=1"
   ]
  },
  {
   "cell_type": "markdown",
   "metadata": {},
   "source": [
    "# Train"
   ]
  },
  {
   "cell_type": "markdown",
   "metadata": {},
   "source": [
    "## Metrics\n",
    "\n",
    "Reference: https://towardsdatascience.com/the-lift-curve-unveiled-998851147871"
   ]
  },
  {
   "cell_type": "markdown",
   "metadata": {},
   "source": [
    "### Lift Curve"
   ]
  },
  {
   "cell_type": "code",
   "execution_count": 1,
   "metadata": {
    "ExecuteTime": {
     "end_time": "2020-11-24T08:24:41.489585Z",
     "start_time": "2020-11-24T08:24:41.481496Z"
    },
    "scrolled": true
   },
   "outputs": [],
   "source": [
    "def plot_Lift_curve(y_true, y_pred, step=0.01):\n",
    "    \"\"\"\n",
    "    Plots a Lift curve using the real label values of a dataset \n",
    "    and the probability predictions of a Machine Learning Algorithm/model\n",
    "    \n",
    "    Params:\n",
    "    y_val: true labels\n",
    "    y_pred: probability predictions\n",
    "    step: steps in the percentiles\n",
    "    \n",
    "    Reference: https://towardsdatascience.com/the-lift-curve-unveiled-998851147871\n",
    "    \"\"\"\n",
    "    \n",
    "    # Define an auxiliar dataframe to plot the curve\n",
    "    aux_lift = pd.DataFrame()\n",
    "    aux_lift['real'] = y_true\n",
    "    aux_lift['predicted'] = y_pred\n",
    "    aux_lift.sort_values('predicted', ascending=False, inplace=True)\n",
    "   \n",
    "    x_val = np.arange(step, 1+step, step)  # values on the X axis of our plot\n",
    "    ratio_ones = aux_lift['real'].sum() / len(aux_lift)  # ratio of ones in our data\n",
    "    y_v = []  # empty vector with the values that will go on the Y axis our our plot\n",
    "    \n",
    "    # for each x value calculate its corresponding y value\n",
    "    for x in x_val:\n",
    "        num_data = int(np.ceil(x*len(aux_lift)))\n",
    "        data_here = aux_lift.iloc[:num_data,:]\n",
    "        ratio_ones_here = data_here['real'].sum() / len(data_here)\n",
    "        y_v.append(ratio_ones_here / ratio_ones)\n",
    "           \n",
    "   # plot the figure\n",
    "    fig, axis = plt.subplots()\n",
    "    fig.figsize = (40,40)\n",
    "    axis.plot(x_val, y_v, 'g-', linewidth= 3, markersize = 5)\n",
    "    axis.plot(x_val, np.ones(len(x_val)), 'k-')\n",
    "    axis.set_xlabel('Proportion of sample')\n",
    "    axis.set_ylabel('Lift')\n",
    "    plt.title('Lift Curve')\n",
    "    plt.show()\n",
    "    "
   ]
  },
  {
   "cell_type": "markdown",
   "metadata": {},
   "source": [
    "### Precision @k"
   ]
  },
  {
   "cell_type": "code",
   "execution_count": 23,
   "metadata": {
    "ExecuteTime": {
     "end_time": "2020-11-24T08:24:41.497701Z",
     "start_time": "2020-11-24T08:24:41.493766Z"
    },
    "scrolled": true
   },
   "outputs": [],
   "source": [
    "def precision_at_k_score(actual, predicted, predicted_probas, k) -> float:\n",
    "    \n",
    "    df = pd.DataFrame({'actual': actual, 'predicted': predicted, 'probas': predicted_probas})\n",
    "    df = df.sort_values(by=['probas'], ascending=False).reset_index(drop=True)\n",
    "    df = df[:k]\n",
    "\n",
    "    return precision_score(df['actual'], df['predicted'])"
   ]
  },
  {
   "cell_type": "markdown",
   "metadata": {},
   "source": [
    "### Recall @k"
   ]
  },
  {
   "cell_type": "code",
   "execution_count": 24,
   "metadata": {
    "ExecuteTime": {
     "end_time": "2020-11-24T08:24:41.503273Z",
     "start_time": "2020-11-24T08:24:41.499558Z"
    },
    "scrolled": false
   },
   "outputs": [],
   "source": [
    "def recall_at_k_score(actual, predicted, predicted_probas, k) -> float:\n",
    "\n",
    "    df = pd.DataFrame({'actual': actual, 'predicted': predicted, 'probas': predicted_probas})\n",
    "    df = df.sort_values(by=['probas'], ascending=False).reset_index(drop=True)\n",
    "    df = df[:k]\n",
    "\n",
    "    return recall_score(df['actual'], df['predicted'])\n"
   ]
  },
  {
   "cell_type": "markdown",
   "metadata": {},
   "source": [
    "### Lift @k"
   ]
  },
  {
   "cell_type": "code",
   "execution_count": 25,
   "metadata": {
    "ExecuteTime": {
     "end_time": "2020-11-24T08:24:41.508272Z",
     "start_time": "2020-11-24T08:24:41.504994Z"
    }
   },
   "outputs": [],
   "source": [
    "def lift_score(actual, predicted, predicted_probas, k) -> float:\n",
    " \n",
    "    numerator = precision_at_k_score(actual, predicted, predicted_probas, k)\n",
    "    denominator = np.mean(actual)\n",
    "\n",
    "    lift = numerator / denominator\n",
    "\n",
    "    print(f'Lift: {numerator} / {denominator} = {lift}')\n",
    "\n",
    "    return lift"
   ]
  },
  {
   "cell_type": "markdown",
   "metadata": {},
   "source": [
    "## Load data "
   ]
  },
  {
   "cell_type": "code",
   "execution_count": 27,
   "metadata": {
    "ExecuteTime": {
     "end_time": "2020-11-24T08:24:41.761266Z",
     "start_time": "2020-11-24T08:24:41.509957Z"
    }
   },
   "outputs": [
    {
     "data": {
      "text/html": [
       "<div>\n",
       "<style scoped>\n",
       "    .dataframe tbody tr th:only-of-type {\n",
       "        vertical-align: middle;\n",
       "    }\n",
       "\n",
       "    .dataframe tbody tr th {\n",
       "        vertical-align: top;\n",
       "    }\n",
       "\n",
       "    .dataframe thead th {\n",
       "        text-align: right;\n",
       "    }\n",
       "</style>\n",
       "<table border=\"1\" class=\"dataframe\">\n",
       "  <thead>\n",
       "    <tr style=\"text-align: right;\">\n",
       "      <th></th>\n",
       "      <th>user_id</th>\n",
       "      <th>month</th>\n",
       "      <th>feature_1</th>\n",
       "      <th>feature_2</th>\n",
       "      <th>feature_3</th>\n",
       "      <th>feature_4</th>\n",
       "      <th>feature_5</th>\n",
       "      <th>feature_6</th>\n",
       "      <th>feature_7</th>\n",
       "      <th>feature_8</th>\n",
       "      <th>...</th>\n",
       "      <th>feature_22</th>\n",
       "      <th>feature_23</th>\n",
       "      <th>feature_24</th>\n",
       "      <th>feature_25</th>\n",
       "      <th>feature_26</th>\n",
       "      <th>feature_27</th>\n",
       "      <th>feature_28</th>\n",
       "      <th>feature_29</th>\n",
       "      <th>feature_30</th>\n",
       "      <th>target</th>\n",
       "    </tr>\n",
       "  </thead>\n",
       "  <tbody>\n",
       "    <tr>\n",
       "      <th>0</th>\n",
       "      <td>0</td>\n",
       "      <td>2020-04-30</td>\n",
       "      <td>0.993121</td>\n",
       "      <td>-15</td>\n",
       "      <td>2.274309</td>\n",
       "      <td>18</td>\n",
       "      <td>2868</td>\n",
       "      <td>-1.305588</td>\n",
       "      <td>-0.097643</td>\n",
       "      <td>0.617778</td>\n",
       "      <td>...</td>\n",
       "      <td>AOKOISPPQLWGKK</td>\n",
       "      <td>-3.146305</td>\n",
       "      <td>-1.655508</td>\n",
       "      <td>25</td>\n",
       "      <td>3.032537</td>\n",
       "      <td>-29960</td>\n",
       "      <td>-1.864660</td>\n",
       "      <td>-0.212668</td>\n",
       "      <td>-3.245333</td>\n",
       "      <td>1.0</td>\n",
       "    </tr>\n",
       "    <tr>\n",
       "      <th>1</th>\n",
       "      <td>0</td>\n",
       "      <td>2020-05-31</td>\n",
       "      <td>-1.416912</td>\n",
       "      <td>-145</td>\n",
       "      <td>-1.087891</td>\n",
       "      <td>-8</td>\n",
       "      <td>-1763</td>\n",
       "      <td>-1.322007</td>\n",
       "      <td>3.143865</td>\n",
       "      <td>-0.272231</td>\n",
       "      <td>...</td>\n",
       "      <td>OORLO7PMHCZFEMSR</td>\n",
       "      <td>2.365636</td>\n",
       "      <td>-2.632201</td>\n",
       "      <td>-11</td>\n",
       "      <td>-2.373654</td>\n",
       "      <td>-173398</td>\n",
       "      <td>0.458990</td>\n",
       "      <td>1.376687</td>\n",
       "      <td>-0.460150</td>\n",
       "      <td>0.0</td>\n",
       "    </tr>\n",
       "    <tr>\n",
       "      <th>2</th>\n",
       "      <td>0</td>\n",
       "      <td>2020-06-30</td>\n",
       "      <td>0.673564</td>\n",
       "      <td>23</td>\n",
       "      <td>0.016666</td>\n",
       "      <td>-7</td>\n",
       "      <td>-4092</td>\n",
       "      <td>-0.936663</td>\n",
       "      <td>-1.909813</td>\n",
       "      <td>0.715618</td>\n",
       "      <td>...</td>\n",
       "      <td>NZFU27MWLPZRTX4G5D</td>\n",
       "      <td>-2.220931</td>\n",
       "      <td>1.930994</td>\n",
       "      <td>-10</td>\n",
       "      <td>3.301401</td>\n",
       "      <td>-46619</td>\n",
       "      <td>0.269820</td>\n",
       "      <td>0.900846</td>\n",
       "      <td>0.315063</td>\n",
       "      <td>1.0</td>\n",
       "    </tr>\n",
       "    <tr>\n",
       "      <th>3</th>\n",
       "      <td>0</td>\n",
       "      <td>2020-07-31</td>\n",
       "      <td>-2.124908</td>\n",
       "      <td>-15</td>\n",
       "      <td>1.234815</td>\n",
       "      <td>18</td>\n",
       "      <td>9348</td>\n",
       "      <td>0.233297</td>\n",
       "      <td>-0.108647</td>\n",
       "      <td>-1.831460</td>\n",
       "      <td>...</td>\n",
       "      <td>KQBIGTVRDJZJLQRRPPY</td>\n",
       "      <td>1.641780</td>\n",
       "      <td>-5.166544</td>\n",
       "      <td>-23</td>\n",
       "      <td>0.531913</td>\n",
       "      <td>-131224</td>\n",
       "      <td>-0.341103</td>\n",
       "      <td>0.208832</td>\n",
       "      <td>1.869453</td>\n",
       "      <td>0.0</td>\n",
       "    </tr>\n",
       "    <tr>\n",
       "      <th>4</th>\n",
       "      <td>0</td>\n",
       "      <td>2020-08-31</td>\n",
       "      <td>-2.122264</td>\n",
       "      <td>-50</td>\n",
       "      <td>-0.584464</td>\n",
       "      <td>-8</td>\n",
       "      <td>1894</td>\n",
       "      <td>-0.092315</td>\n",
       "      <td>-0.547480</td>\n",
       "      <td>-0.065323</td>\n",
       "      <td>...</td>\n",
       "      <td>KQBIGTVRDJZJLQRRPPY</td>\n",
       "      <td>1.852084</td>\n",
       "      <td>-0.761511</td>\n",
       "      <td>-24</td>\n",
       "      <td>-1.080867</td>\n",
       "      <td>68577</td>\n",
       "      <td>-1.328331</td>\n",
       "      <td>-0.681723</td>\n",
       "      <td>0.431699</td>\n",
       "      <td>1.0</td>\n",
       "    </tr>\n",
       "  </tbody>\n",
       "</table>\n",
       "<p>5 rows × 33 columns</p>\n",
       "</div>"
      ],
      "text/plain": [
       "   user_id      month  feature_1  feature_2  feature_3  feature_4  feature_5  \\\n",
       "0        0 2020-04-30   0.993121        -15   2.274309         18       2868   \n",
       "1        0 2020-05-31  -1.416912       -145  -1.087891         -8      -1763   \n",
       "2        0 2020-06-30   0.673564         23   0.016666         -7      -4092   \n",
       "3        0 2020-07-31  -2.124908        -15   1.234815         18       9348   \n",
       "4        0 2020-08-31  -2.122264        -50  -0.584464         -8       1894   \n",
       "\n",
       "   feature_6  feature_7  feature_8  ...           feature_22  feature_23  \\\n",
       "0  -1.305588  -0.097643   0.617778  ...       AOKOISPPQLWGKK   -3.146305   \n",
       "1  -1.322007   3.143865  -0.272231  ...     OORLO7PMHCZFEMSR    2.365636   \n",
       "2  -0.936663  -1.909813   0.715618  ...   NZFU27MWLPZRTX4G5D   -2.220931   \n",
       "3   0.233297  -0.108647  -1.831460  ...  KQBIGTVRDJZJLQRRPPY    1.641780   \n",
       "4  -0.092315  -0.547480  -0.065323  ...  KQBIGTVRDJZJLQRRPPY    1.852084   \n",
       "\n",
       "  feature_24  feature_25  feature_26  feature_27  feature_28 feature_29  \\\n",
       "0  -1.655508          25    3.032537      -29960   -1.864660  -0.212668   \n",
       "1  -2.632201         -11   -2.373654     -173398    0.458990   1.376687   \n",
       "2   1.930994         -10    3.301401      -46619    0.269820   0.900846   \n",
       "3  -5.166544         -23    0.531913     -131224   -0.341103   0.208832   \n",
       "4  -0.761511         -24   -1.080867       68577   -1.328331  -0.681723   \n",
       "\n",
       "  feature_30  target  \n",
       "0  -3.245333     1.0  \n",
       "1  -0.460150     0.0  \n",
       "2   0.315063     1.0  \n",
       "3   1.869453     0.0  \n",
       "4   0.431699     1.0  \n",
       "\n",
       "[5 rows x 33 columns]"
      ]
     },
     "execution_count": 27,
     "metadata": {},
     "output_type": "execute_result"
    }
   ],
   "source": [
    "features = pd.read_feather(features_path)\n",
    "\n",
    "# format data\n",
    "features['month'] = pd.to_datetime(features['month'])\n",
    "features.head()"
   ]
  },
  {
   "cell_type": "code",
   "execution_count": 28,
   "metadata": {
    "ExecuteTime": {
     "end_time": "2020-11-24T08:24:41.889696Z",
     "start_time": "2020-11-24T08:24:41.763109Z"
    },
    "scrolled": true
   },
   "outputs": [
    {
     "name": "stdout",
     "output_type": "stream",
     "text": [
      "<class 'pandas.core.frame.DataFrame'>\n",
      "RangeIndex: 752128 entries, 0 to 752127\n",
      "Data columns (total 33 columns):\n",
      " #   Column      Non-Null Count   Dtype         \n",
      "---  ------      --------------   -----         \n",
      " 0   user_id     752128 non-null  int64         \n",
      " 1   month       752128 non-null  datetime64[ns]\n",
      " 2   feature_1   752128 non-null  float64       \n",
      " 3   feature_2   752128 non-null  int32         \n",
      " 4   feature_3   752128 non-null  float64       \n",
      " 5   feature_4   752128 non-null  int32         \n",
      " 6   feature_5   752128 non-null  int32         \n",
      " 7   feature_6   752128 non-null  float64       \n",
      " 8   feature_7   752128 non-null  float64       \n",
      " 9   feature_8   752128 non-null  float64       \n",
      " 10  feature_9   752128 non-null  float64       \n",
      " 11  feature_10  752128 non-null  float64       \n",
      " 12  feature_11  752128 non-null  category      \n",
      " 13  feature_12  752128 non-null  float64       \n",
      " 14  feature_13  752128 non-null  float64       \n",
      " 15  feature_14  752128 non-null  float64       \n",
      " 16  feature_15  752128 non-null  float64       \n",
      " 17  feature_16  752128 non-null  category      \n",
      " 18  feature_17  752128 non-null  category      \n",
      " 19  feature_18  752128 non-null  int8          \n",
      " 20  feature_19  752128 non-null  float64       \n",
      " 21  feature_20  752128 non-null  float64       \n",
      " 22  feature_21  752128 non-null  category      \n",
      " 23  feature_22  752128 non-null  category      \n",
      " 24  feature_23  752128 non-null  float64       \n",
      " 25  feature_24  752128 non-null  float64       \n",
      " 26  feature_25  752128 non-null  int32         \n",
      " 27  feature_26  752128 non-null  float64       \n",
      " 28  feature_27  752128 non-null  int32         \n",
      " 29  feature_28  752128 non-null  float64       \n",
      " 30  feature_29  752128 non-null  float64       \n",
      " 31  feature_30  752128 non-null  float64       \n",
      " 32  target      752128 non-null  float64       \n",
      "dtypes: category(5), datetime64[ns](1), float64(20), int32(5), int64(1), int8(1)\n",
      "memory usage: 144.9 MB\n"
     ]
    }
   ],
   "source": [
    "features.info()"
   ]
  },
  {
   "cell_type": "markdown",
   "metadata": {},
   "source": [
    "## Fit"
   ]
  },
  {
   "cell_type": "code",
   "execution_count": 26,
   "metadata": {
    "ExecuteTime": {
     "end_time": "2020-11-24T08:50:19.208425Z",
     "start_time": "2020-11-24T08:50:19.188429Z"
    }
   },
   "outputs": [],
   "source": [
    "import catboost as ctb\n",
    "\n",
    "clf = ctb.CatBoostClassifier(\n",
    "    iterations = 10, \n",
    "    thread_count = 50, \n",
    "    has_time = True, \n",
    "    allow_writing_files = False,\n",
    "    cat_features = categories,\n",
    "    loss_function = \"Logloss\",\n",
    "#     eval_metric='AUC',\n",
    ")"
   ]
  },
  {
   "cell_type": "code",
   "execution_count": 29,
   "metadata": {},
   "outputs": [
    {
     "data": {
      "text/plain": [
       "0.05"
      ]
     },
     "execution_count": 29,
     "metadata": {},
     "output_type": "execute_result"
    }
   ],
   "source": [
    "top_K_coef # defined above in Config section "
   ]
  },
  {
   "cell_type": "code",
   "execution_count": 27,
   "metadata": {
    "ExecuteTime": {
     "end_time": "2020-11-24T08:50:48.068139Z",
     "start_time": "2020-11-24T08:50:36.262166Z"
    },
    "scrolled": true
   },
   "outputs": [
    {
     "name": "stdout",
     "output_type": "stream",
     "text": [
      "top_K is 5.0 % of dataset_size: 37606\n",
      "Fold 1:\n",
      "Train: 2020-04-30 00:00:00 - 2020-04-30 00:00:00\n",
      "Test: 2020-05-31 00:00:00 \n",
      "\n",
      "Train shapes: X - (150484, 30), y - (150484,)\n",
      "Test shapes: X - (150411, 30), y - (150411,)\n",
      "Learning rate set to 0.5\n",
      "0:\tlearn: 0.5949235\ttotal: 179ms\tremaining: 1.61s\n",
      "1:\tlearn: 0.5593754\ttotal: 303ms\tremaining: 1.21s\n",
      "2:\tlearn: 0.5432368\ttotal: 411ms\tremaining: 959ms\n",
      "3:\tlearn: 0.5085961\ttotal: 517ms\tremaining: 775ms\n",
      "4:\tlearn: 0.4996222\ttotal: 617ms\tremaining: 617ms\n",
      "5:\tlearn: 0.4875087\ttotal: 733ms\tremaining: 489ms\n",
      "6:\tlearn: 0.4764198\ttotal: 848ms\tremaining: 363ms\n",
      "7:\tlearn: 0.4701489\ttotal: 942ms\tremaining: 236ms\n",
      "8:\tlearn: 0.4664546\ttotal: 1.05s\tremaining: 117ms\n",
      "9:\tlearn: 0.4629525\ttotal: 1.17s\tremaining: 0us\n",
      "Max probas: 0.9748887441234043\n",
      "Lift: 0.8227676434611498 / 0.39038368204453133 = 2.1075871797512686\n",
      "Precision at 37606: 0.8227676434611498\n",
      "Recall at 37606: 1.0\n"
     ]
    },
    {
     "data": {
      "image/png": "[encoded data removed]",
      "text/plain": [
       "<Figure size 432x288 with 1 Axes>"
      ]
     },
     "metadata": {
      "needs_background": "light"
     },
     "output_type": "display_data"
    },
    {
     "name": "stdout",
     "output_type": "stream",
     "text": [
      "\n",
      "\n",
      "Fold 2:\n",
      "Train: 2020-04-30 00:00:00 - 2020-05-31 00:00:00\n",
      "Test: 2020-06-30 00:00:00 \n",
      "\n",
      "Train shapes: X - (300895, 30), y - (300895,)\n",
      "Test shapes: X - (150187, 30), y - (150187,)\n",
      "Learning rate set to 0.5\n",
      "0:\tlearn: 0.6046554\ttotal: 136ms\tremaining: 1.23s\n",
      "1:\tlearn: 0.5515906\ttotal: 246ms\tremaining: 986ms\n",
      "2:\tlearn: 0.5238548\ttotal: 354ms\tremaining: 826ms\n",
      "3:\tlearn: 0.5104332\ttotal: 471ms\tremaining: 706ms\n",
      "4:\tlearn: 0.4905131\ttotal: 583ms\tremaining: 583ms\n",
      "5:\tlearn: 0.4825724\ttotal: 693ms\tremaining: 462ms\n",
      "6:\tlearn: 0.4747321\ttotal: 812ms\tremaining: 348ms\n",
      "7:\tlearn: 0.4669002\ttotal: 937ms\tremaining: 234ms\n",
      "8:\tlearn: 0.4620151\ttotal: 1.06s\tremaining: 118ms\n",
      "9:\tlearn: 0.4551009\ttotal: 1.19s\tremaining: 0us\n",
      "Max probas: 0.9728085269755247\n",
      "Lift: 0.8294155188001915 / 0.38953438047234445 = 2.129248560279718\n",
      "Precision at 37606: 0.8294155188001915\n",
      "Recall at 37606: 1.0\n"
     ]
    },
    {
     "data": {
      "image/png": "[encoded data removed]",
      "text/plain": [
       "<Figure size 432x288 with 1 Axes>"
      ]
     },
     "metadata": {
      "needs_background": "light"
     },
     "output_type": "display_data"
    },
    {
     "name": "stdout",
     "output_type": "stream",
     "text": [
      "\n",
      "\n",
      "Fold 3:\n",
      "Train: 2020-04-30 00:00:00 - 2020-06-30 00:00:00\n",
      "Test: 2020-07-31 00:00:00 \n",
      "\n",
      "Train shapes: X - (451082, 30), y - (451082,)\n",
      "Test shapes: X - (150492, 30), y - (150492,)\n",
      "Learning rate set to 0.5\n",
      "0:\tlearn: 0.6046007\ttotal: 184ms\tremaining: 1.65s\n",
      "1:\tlearn: 0.5514077\ttotal: 359ms\tremaining: 1.44s\n",
      "2:\tlearn: 0.5219602\ttotal: 528ms\tremaining: 1.23s\n",
      "3:\tlearn: 0.5061158\ttotal: 668ms\tremaining: 1s\n",
      "4:\tlearn: 0.4945446\ttotal: 822ms\tremaining: 822ms\n",
      "5:\tlearn: 0.4854686\ttotal: 997ms\tremaining: 665ms\n",
      "6:\tlearn: 0.4767686\ttotal: 1.19s\tremaining: 511ms\n",
      "7:\tlearn: 0.4685659\ttotal: 1.38s\tremaining: 345ms\n",
      "8:\tlearn: 0.4629122\ttotal: 1.56s\tremaining: 173ms\n",
      "9:\tlearn: 0.4577738\ttotal: 1.74s\tremaining: 0us\n",
      "Max probas: 0.971647421673504\n",
      "Lift: 0.8193373397862044 / 0.38920341280599635 = 2.1051648388155684\n",
      "Precision at 37606: 0.8193373397862044\n",
      "Recall at 37606: 1.0\n"
     ]
    },
    {
     "data": {
      "image/png": "[encoded data removed]",
      "text/plain": [
       "<Figure size 432x288 with 1 Axes>"
      ]
     },
     "metadata": {
      "needs_background": "light"
     },
     "output_type": "display_data"
    },
    {
     "name": "stdout",
     "output_type": "stream",
     "text": [
      "\n",
      "\n",
      "Fold 4:\n",
      "Train: 2020-04-30 00:00:00 - 2020-07-31 00:00:00\n",
      "Test: 2020-08-31 00:00:00 \n",
      "\n",
      "Train shapes: X - (601574, 30), y - (601574,)\n",
      "Test shapes: X - (150554, 30), y - (150554,)\n",
      "Learning rate set to 0.5\n",
      "0:\tlearn: 0.6018234\ttotal: 214ms\tremaining: 1.93s\n",
      "1:\tlearn: 0.5505849\ttotal: 377ms\tremaining: 1.51s\n",
      "2:\tlearn: 0.5210866\ttotal: 545ms\tremaining: 1.27s\n",
      "3:\tlearn: 0.5039837\ttotal: 704ms\tremaining: 1.06s\n",
      "4:\tlearn: 0.4911040\ttotal: 881ms\tremaining: 881ms\n",
      "5:\tlearn: 0.4833513\ttotal: 1.04s\tremaining: 692ms\n",
      "6:\tlearn: 0.4762711\ttotal: 1.22s\tremaining: 523ms\n",
      "7:\tlearn: 0.4667935\ttotal: 1.37s\tremaining: 343ms\n",
      "8:\tlearn: 0.4628343\ttotal: 1.57s\tremaining: 175ms\n",
      "9:\tlearn: 0.4595804\ttotal: 1.77s\tremaining: 0us\n",
      "Max probas: 0.9663046597886773\n",
      "Lift: 0.8225549114503005 / 0.39068374138182976 = 2.105423963999533\n",
      "Precision at 37606: 0.8225549114503005\n",
      "Recall at 37606: 1.0\n"
     ]
    },
    {
     "data": {
      "image/png": "[encoded data removed]",
      "text/plain": [
       "<Figure size 432x288 with 1 Axes>"
      ]
     },
     "metadata": {
      "needs_background": "light"
     },
     "output_type": "display_data"
    },
    {
     "name": "stdout",
     "output_type": "stream",
     "text": [
      "\n",
      "\n",
      "2020-09-30 00:00:00\n",
      "2020-08-31T00:00:00.000000000\n"
     ]
    }
   ],
   "source": [
    "\"\"\"Fit / evaluate estimator for each split\n",
    "\n",
    "params from config: \n",
    "    - top_K\n",
    "\n",
    "\"\"\"\n",
    "\n",
    "# DF to store metrics for each fold\n",
    "metrics_df = pd.DataFrame(columns=['test_period', 'lift', 'precision_at_k', 'recall_at_k'])\n",
    "top_K = int(features.shape[0] * top_K_coef)\n",
    "print(f'top_K is {top_K_coef*100}% of dataset_size: {top_K}')\n",
    "\n",
    "k = 1\n",
    "for start_train, end_train, test_period in custom_ts_split(months, train_period = 1):\n",
    "    \n",
    "    print(f'Fold {k}:')    \n",
    "    print(f'Train: {start_train} - {end_train}')\n",
    "    print(f'Test: {test_period} \\n')\n",
    "\n",
    "    # Get train / test data for the split\n",
    "    X_train = (features[(features.month >= start_train) & (features.month <= end_train)]\n",
    "               .drop(columns=['user_id', 'month', 'target'], axis=1))\n",
    "    X_test = (features[(features.month == test_period)]\n",
    "              .drop(columns=['user_id', 'month', 'target'], axis=1))\n",
    "    y_train = features.loc[(features.month >= start_train) & (features.month <= end_train), 'target']\n",
    "    y_test = features.loc[(features.month == test_period), 'target']\n",
    "\n",
    "    print(f'Train shapes: X is {X_train.shape}, y is {y_train.shape}')\n",
    "    print(f'Test shapes: X is {X_test.shape}, y is {y_test.shape}')\n",
    "    \n",
    "    # Fit estimator\n",
    "    clf.fit(X_train, y_train)\n",
    "#     clf.fit(\n",
    "#         X_train, y_train,\n",
    "#         eval_set=(X_test, y_test),\n",
    "#         cat_features=categories,\n",
    "#         plot=True,\n",
    "#         verbose=False\n",
    "#     );\n",
    "    \n",
    "    y_pred = clf.predict(X_test)\n",
    "    probas = clf.predict_proba(X_test)\n",
    "    print(f'Max probas: {probas[:, 1].max()}')\n",
    "    \n",
    "    lift = lift_score(y_test, y_pred, probas[:, 1], top_K)\n",
    "    precision_at_k = precision_at_k_score(y_test, y_pred, probas[:, 1], top_K)\n",
    "    recall_at_k = recall_at_k_score(y_test, y_pred, probas[:, 1], top_K)\n",
    "    \n",
    "    metrics_df = metrics_df.append(\n",
    "        dict(zip(metrics_df.columns, [test_period, lift, precision_at_k, recall_at_k])),\n",
    "        ignore_index=True\n",
    "    )\n",
    "\n",
    "    k += 1\n",
    "    \n",
    "    print(f'Precision at {top_K}: {precision_at_k}')\n",
    "    print(f'Recall at {top_K}: {recall_at_k}')\n",
    "    plot_Lift_curve(y_test[:top_K], y_pred[:top_K], step=0.1)\n",
    "    print('\\n')"
   ]
  },
  {
   "cell_type": "code",
   "execution_count": 31,
   "metadata": {
    "ExecuteTime": {
     "end_time": "2020-11-24T08:50:50.540989Z",
     "start_time": "2020-11-24T08:50:50.533091Z"
    }
   },
   "outputs": [
    {
     "data": {
      "text/html": [
       "<div>\n",
       "<style scoped>\n",
       "    .dataframe tbody tr th:only-of-type {\n",
       "        vertical-align: middle;\n",
       "    }\n",
       "\n",
       "    .dataframe tbody tr th {\n",
       "        vertical-align: top;\n",
       "    }\n",
       "\n",
       "    .dataframe thead th {\n",
       "        text-align: right;\n",
       "    }\n",
       "</style>\n",
       "<table border=\"1\" class=\"dataframe\">\n",
       "  <thead>\n",
       "    <tr style=\"text-align: right;\">\n",
       "      <th></th>\n",
       "      <th>test_period</th>\n",
       "      <th>lift</th>\n",
       "      <th>precision_at_k</th>\n",
       "      <th>recall_at_k</th>\n",
       "    </tr>\n",
       "  </thead>\n",
       "  <tbody>\n",
       "    <tr>\n",
       "      <th>0</th>\n",
       "      <td>2020-05-31</td>\n",
       "      <td>2.107587</td>\n",
       "      <td>0.822768</td>\n",
       "      <td>1.0</td>\n",
       "    </tr>\n",
       "    <tr>\n",
       "      <th>1</th>\n",
       "      <td>2020-06-30</td>\n",
       "      <td>2.129249</td>\n",
       "      <td>0.829416</td>\n",
       "      <td>1.0</td>\n",
       "    </tr>\n",
       "    <tr>\n",
       "      <th>2</th>\n",
       "      <td>2020-07-31</td>\n",
       "      <td>2.105165</td>\n",
       "      <td>0.819337</td>\n",
       "      <td>1.0</td>\n",
       "    </tr>\n",
       "    <tr>\n",
       "      <th>3</th>\n",
       "      <td>2020-08-31</td>\n",
       "      <td>2.105424</td>\n",
       "      <td>0.822555</td>\n",
       "      <td>1.0</td>\n",
       "    </tr>\n",
       "  </tbody>\n",
       "</table>\n",
       "</div>"
      ],
      "text/plain": [
       "  test_period      lift  precision_at_k  recall_at_k\n",
       "0  2020-05-31  2.107587        0.822768          1.0\n",
       "1  2020-06-30  2.129249        0.829416          1.0\n",
       "2  2020-07-31  2.105165        0.819337          1.0\n",
       "3  2020-08-31  2.105424        0.822555          1.0"
      ]
     },
     "execution_count": 31,
     "metadata": {},
     "output_type": "execute_result"
    }
   ],
   "source": [
    "metrics_df"
   ]
  },
  {
   "cell_type": "code",
   "execution_count": 32,
   "metadata": {
    "ExecuteTime": {
     "end_time": "2020-11-24T08:24:52.953641Z",
     "start_time": "2020-11-24T08:24:52.937360Z"
    }
   },
   "outputs": [
    {
     "data": {
      "text/html": [
       "<div>\n",
       "<style scoped>\n",
       "    .dataframe tbody tr th:only-of-type {\n",
       "        vertical-align: middle;\n",
       "    }\n",
       "\n",
       "    .dataframe tbody tr th {\n",
       "        vertical-align: top;\n",
       "    }\n",
       "\n",
       "    .dataframe thead th {\n",
       "        text-align: right;\n",
       "    }\n",
       "</style>\n",
       "<table border=\"1\" class=\"dataframe\">\n",
       "  <thead>\n",
       "    <tr style=\"text-align: right;\">\n",
       "      <th></th>\n",
       "      <th>lift</th>\n",
       "      <th>precision_at_k</th>\n",
       "      <th>recall_at_k</th>\n",
       "    </tr>\n",
       "  </thead>\n",
       "  <tbody>\n",
       "    <tr>\n",
       "      <th>max</th>\n",
       "      <td>2.129249</td>\n",
       "      <td>0.829416</td>\n",
       "      <td>1.0</td>\n",
       "    </tr>\n",
       "    <tr>\n",
       "      <th>min</th>\n",
       "      <td>2.105165</td>\n",
       "      <td>0.819337</td>\n",
       "      <td>1.0</td>\n",
       "    </tr>\n",
       "    <tr>\n",
       "      <th>std</th>\n",
       "      <td>0.011646</td>\n",
       "      <td>0.004233</td>\n",
       "      <td>0.0</td>\n",
       "    </tr>\n",
       "    <tr>\n",
       "      <th>mean</th>\n",
       "      <td>2.111856</td>\n",
       "      <td>0.823519</td>\n",
       "      <td>1.0</td>\n",
       "    </tr>\n",
       "  </tbody>\n",
       "</table>\n",
       "</div>"
      ],
      "text/plain": [
       "          lift  precision_at_k  recall_at_k\n",
       "max   2.129249        0.829416          1.0\n",
       "min   2.105165        0.819337          1.0\n",
       "std   0.011646        0.004233          0.0\n",
       "mean  2.111856        0.823519          1.0"
      ]
     },
     "execution_count": 32,
     "metadata": {},
     "output_type": "execute_result"
    }
   ],
   "source": [
    "metrics_aggs = metrics_df[['lift', 'precision_at_k', 'recall_at_k']].agg(['max', 'min', 'std', 'mean'])\n",
    "metrics = {\n",
    "    f'{metric}_{agg}': metrics_aggs.loc[agg, metric]\n",
    "    for metric in metrics_aggs.columns\n",
    "    for agg in metrics_aggs.index\n",
    "}\n",
    "\n",
    "with open(train_metrics, 'w') as metrics_f:\n",
    "    json.dump(obj=metrics, fp=metrics_f, indent=4)\n",
    "\n",
    "metrics_aggs"
   ]
  },
  {
   "cell_type": "markdown",
   "metadata": {},
   "source": [
    "### Save model"
   ]
  },
  {
   "cell_type": "code",
   "execution_count": 30,
   "metadata": {
    "ExecuteTime": {
     "end_time": "2020-11-24T08:24:52.963654Z",
     "start_time": "2020-11-24T08:24:52.956062Z"
    }
   },
   "outputs": [
    {
     "data": {
      "text/plain": [
       "['../models/model.joblib']"
      ]
     },
     "execution_count": 30,
     "metadata": {},
     "output_type": "execute_result"
    }
   ],
   "source": [
    "joblib.dump(clf, model_path)"
   ]
  },
  {
   "cell_type": "markdown",
   "metadata": {},
   "source": [
    "# Predict"
   ]
  },
  {
   "cell_type": "code",
   "execution_count": 34,
   "metadata": {
    "ExecuteTime": {
     "end_time": "2020-11-24T08:25:48.746986Z",
     "start_time": "2020-11-24T08:25:48.744557Z"
    }
   },
   "outputs": [],
   "source": [
    "PATH_TO_DATA = '../data/raw'"
   ]
  },
  {
   "cell_type": "code",
   "execution_count": 35,
   "metadata": {
    "ExecuteTime": {
     "end_time": "2020-11-24T08:33:57.844186Z",
     "start_time": "2020-11-24T08:33:57.783067Z"
    }
   },
   "outputs": [
    {
     "data": {
      "text/html": [
       "<div>\n",
       "<style scoped>\n",
       "    .dataframe tbody tr th:only-of-type {\n",
       "        vertical-align: middle;\n",
       "    }\n",
       "\n",
       "    .dataframe tbody tr th {\n",
       "        vertical-align: top;\n",
       "    }\n",
       "\n",
       "    .dataframe thead th {\n",
       "        text-align: right;\n",
       "    }\n",
       "</style>\n",
       "<table border=\"1\" class=\"dataframe\">\n",
       "  <thead>\n",
       "    <tr style=\"text-align: right;\">\n",
       "      <th></th>\n",
       "      <th>user_id</th>\n",
       "      <th>month</th>\n",
       "      <th>target</th>\n",
       "    </tr>\n",
       "  </thead>\n",
       "  <tbody>\n",
       "    <tr>\n",
       "      <th>0</th>\n",
       "      <td>0</td>\n",
       "      <td>2020-09-30</td>\n",
       "      <td>1.0</td>\n",
       "    </tr>\n",
       "    <tr>\n",
       "      <th>1</th>\n",
       "      <td>1</td>\n",
       "      <td>2020-09-30</td>\n",
       "      <td>1.0</td>\n",
       "    </tr>\n",
       "    <tr>\n",
       "      <th>2</th>\n",
       "      <td>2</td>\n",
       "      <td>2020-09-30</td>\n",
       "      <td>1.0</td>\n",
       "    </tr>\n",
       "    <tr>\n",
       "      <th>3</th>\n",
       "      <td>3</td>\n",
       "      <td>2020-09-30</td>\n",
       "      <td>0.0</td>\n",
       "    </tr>\n",
       "    <tr>\n",
       "      <th>4</th>\n",
       "      <td>4</td>\n",
       "      <td>2020-09-30</td>\n",
       "      <td>1.0</td>\n",
       "    </tr>\n",
       "  </tbody>\n",
       "</table>\n",
       "</div>"
      ],
      "text/plain": [
       "   user_id      month  target\n",
       "0        0 2020-09-30     1.0\n",
       "1        1 2020-09-30     1.0\n",
       "2        2 2020-09-30     1.0\n",
       "3        3 2020-09-30     0.0\n",
       "4        4 2020-09-30     1.0"
      ]
     },
     "execution_count": 35,
     "metadata": {},
     "output_type": "execute_result"
    }
   ],
   "source": [
    "df_scoring = pd.read_feather(os.path.join(PATH_TO_DATA, 'scoring_user_features.feather'))\n",
    "df_scoring_targets = pd.read_feather(os.path.join(PATH_TO_DATA, 'scoring_target.feather'))\n",
    "df_scoring_targets.head()"
   ]
  },
  {
   "cell_type": "code",
   "execution_count": 36,
   "metadata": {
    "ExecuteTime": {
     "end_time": "2020-11-24T08:44:03.047478Z",
     "start_time": "2020-11-24T08:44:02.510633Z"
    },
    "scrolled": true
   },
   "outputs": [
    {
     "name": "stdout",
     "output_type": "stream",
     "text": [
      "Scoring period: 2020-09-30T00:00:00.000000000\n",
      "Max probas: 0.9663046597886773\n",
      "Lift: 0.5410040950912088 / 0.5003375450440177 = 1.0812782299669585\n"
     ]
    },
    {
     "data": {
      "text/html": [
       "<div>\n",
       "<style scoped>\n",
       "    .dataframe tbody tr th:only-of-type {\n",
       "        vertical-align: middle;\n",
       "    }\n",
       "\n",
       "    .dataframe tbody tr th {\n",
       "        vertical-align: top;\n",
       "    }\n",
       "\n",
       "    .dataframe thead th {\n",
       "        text-align: right;\n",
       "    }\n",
       "</style>\n",
       "<table border=\"1\" class=\"dataframe\">\n",
       "  <thead>\n",
       "    <tr style=\"text-align: right;\">\n",
       "      <th></th>\n",
       "      <th>scoring_period</th>\n",
       "      <th>lift</th>\n",
       "      <th>precision_at_k</th>\n",
       "      <th>recall_at_k</th>\n",
       "    </tr>\n",
       "  </thead>\n",
       "  <tbody>\n",
       "    <tr>\n",
       "      <th>0</th>\n",
       "      <td>2020-09-30T00:00:00.000000000</td>\n",
       "      <td>1.081278</td>\n",
       "      <td>0.541004</td>\n",
       "      <td>1.0</td>\n",
       "    </tr>\n",
       "  </tbody>\n",
       "</table>\n",
       "</div>"
      ],
      "text/plain": [
       "                  scoring_period      lift  precision_at_k  recall_at_k\n",
       "0  2020-09-30T00:00:00.000000000  1.081278        0.541004          1.0"
      ]
     },
     "execution_count": 36,
     "metadata": {},
     "output_type": "execute_result"
    }
   ],
   "source": [
    "# Get train / test data for the split\n",
    "scoring_period = str(df_scoring_targets.month.unique()[0])\n",
    "print(f'Scoring period: {scoring_period}')\n",
    "    \n",
    "y_true_scoring = df_scoring_targets['target']\n",
    "y_pred_scoring = clf.predict(df_scoring.drop(columns=['user_id', 'month'], axis=1))\n",
    "probas_scoring = clf.predict_proba(df_scoring.drop(columns=['user_id', 'month'], axis=1))\n",
    "print(f'Max probas: {probas[:, 1].max()}')\n",
    "\n",
    "metrics_scoring = pd.DataFrame(columns=['scoring_period', 'lift', 'precision_at_k', 'recall_at_k'])\n",
    "\n",
    "lift = lift_score(y_true_scoring, y_pred_scoring, probas_scoring[:, 1], top_K)\n",
    "precision_at_k = precision_at_k_score(y_true_scoring, y_pred_scoring, probas_scoring[:, 1], top_K)\n",
    "recall_at_k = recall_at_k_score(y_true_scoring, y_pred_scoring, probas_scoring[:, 1], top_K)\n",
    "\n",
    "metrics_scoring = metrics_scoring.append(\n",
    "    dict(zip(metrics_scoring.columns, [scoring_period, lift, precision_at_k, recall_at_k])),\n",
    "    ignore_index=True,\n",
    ")\n",
    "metrics_scoring"
   ]
  },
  {
   "cell_type": "code",
   "execution_count": 37,
   "metadata": {
    "ExecuteTime": {
     "end_time": "2020-11-24T08:44:54.968787Z",
     "start_time": "2020-11-24T08:44:54.907968Z"
    }
   },
   "outputs": [
    {
     "data": {
      "text/plain": [
       "0.5069956656409516"
      ]
     },
     "execution_count": 37,
     "metadata": {},
     "output_type": "execute_result"
    }
   ],
   "source": [
    "from sklearn.metrics import roc_auc_score\n",
    "\n",
    "roc_auc_score(y_true_scoring, y_pred_scoring)\n",
    "\n"
   ]
  }
 ],
 "metadata": {
  "kernelspec": {
   "display_name": "venv",
   "language": "python",
   "name": "venv"
  },
  "language_info": {
   "codemirror_mode": {
    "name": "ipython",
    "version": 3
   },
   "file_extension": ".py",
   "mimetype": "text/x-python",
   "name": "python",
   "nbconvert_exporter": "python",
   "pygments_lexer": "ipython3",
   "version": "3.7.6"
  },
  "toc": {
   "base_numbering": 1,
   "nav_menu": {},
   "number_sections": true,
   "sideBar": true,
   "skip_h1_title": false,
   "title_cell": "Table of Contents",
   "title_sidebar": "Contents",
   "toc_cell": false,
   "toc_position": {
    "height": "calc(100% - 180px)",
    "left": "10px",
    "top": "150px",
    "width": "280.9007263183594px"
   },
   "toc_section_display": true,
   "toc_window_display": true
  },
  "varInspector": {
   "cols": {
    "lenName": 16,
    "lenType": 16,
    "lenVar": 40
   },
   "kernels_config": {
    "python": {
     "delete_cmd_postfix": "",
     "delete_cmd_prefix": "del ",
     "library": "var_list.py",
     "varRefreshCmd": "print(var_dic_list())"
    },
    "r": {
     "delete_cmd_postfix": ") ",
     "delete_cmd_prefix": "rm(",
     "library": "var_list.r",
     "varRefreshCmd": "cat(var_dic_list()) "
    }
   },
   "types_to_exclude": [
    "module",
    "function",
    "builtin_function_or_method",
    "instance",
    "_Feature"
   ],
   "window_display": false
  }
 },
 "nbformat": 4,
 "nbformat_minor": 4
}
