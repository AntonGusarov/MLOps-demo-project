{
 "cells": [
  {
   "cell_type": "markdown",
   "metadata": {
    "toc": true
   },
   "source": [
    "<h1>Table of Contents<span class=\"tocSkip\"></span></h1>\n",
    "<div class=\"toc\"><ul class=\"toc-item\"><li><span><a href=\"#ML-Flow\" data-toc-modified-id=\"ML-Flow-1\"><span class=\"toc-item-num\">1&nbsp;&nbsp;</span>ML Flow</a></span><ul class=\"toc-item\"><li><span><a href=\"#Log-metrics\" data-toc-modified-id=\"Log-metrics-1.1\"><span class=\"toc-item-num\">1.1&nbsp;&nbsp;</span>Log metrics</a></span></li><li><span><a href=\"#Log-Params\" data-toc-modified-id=\"Log-Params-1.2\"><span class=\"toc-item-num\">1.2&nbsp;&nbsp;</span>Log Params</a></span></li></ul></li><li><span><a href=\"#Metrics-tracking-with-DVC\" data-toc-modified-id=\"Metrics-tracking-with-DVC-2\"><span class=\"toc-item-num\">2&nbsp;&nbsp;</span>Metrics tracking with DVC</a></span><ul class=\"toc-item\"><li><span><a href=\"#Show-metrics\" data-toc-modified-id=\"Show-metrics-2.1\"><span class=\"toc-item-num\">2.1&nbsp;&nbsp;</span>Show metrics</a></span></li></ul></li><li><span><a href=\"#Model-life-cycle-managenent-in-ML-Flow\" data-toc-modified-id=\"Model-life-cycle-managenent-in-ML-Flow-3\"><span class=\"toc-item-num\">3&nbsp;&nbsp;</span>Model life-cycle managenent in ML Flow</a></span><ul class=\"toc-item\"><li><span><a href=\"#Create-logger\" data-toc-modified-id=\"Create-logger-3.1\"><span class=\"toc-item-num\">3.1&nbsp;&nbsp;</span>Create logger</a></span></li><li><span><a href=\"#Read-config\" data-toc-modified-id=\"Read-config-3.2\"><span class=\"toc-item-num\">3.2&nbsp;&nbsp;</span>Read config</a></span></li><li><span><a href=\"#Load-features\" data-toc-modified-id=\"Load-features-3.3\"><span class=\"toc-item-num\">3.3&nbsp;&nbsp;</span>Load features</a></span></li><li><span><a href=\"#SkLearn-Model\" data-toc-modified-id=\"SkLearn-Model-3.4\"><span class=\"toc-item-num\">3.4&nbsp;&nbsp;</span>SkLearn Model</a></span><ul class=\"toc-item\"><li><span><a href=\"#Prepare\" data-toc-modified-id=\"Prepare-3.4.1\"><span class=\"toc-item-num\">3.4.1&nbsp;&nbsp;</span>Prepare</a></span></li><li><span><a href=\"#Define-a-classifer\" data-toc-modified-id=\"Define-a-classifer-3.4.2\"><span class=\"toc-item-num\">3.4.2&nbsp;&nbsp;</span>Define a classifer</a></span></li><li><span><a href=\"#Train-a-classifier\" data-toc-modified-id=\"Train-a-classifier-3.4.3\"><span class=\"toc-item-num\">3.4.3&nbsp;&nbsp;</span>Train a classifier</a></span></li><li><span><a href=\"#Examine-metrics\" data-toc-modified-id=\"Examine-metrics-3.4.4\"><span class=\"toc-item-num\">3.4.4&nbsp;&nbsp;</span>Examine metrics</a></span></li><li><span><a href=\"#Aggregate-metrics\" data-toc-modified-id=\"Aggregate-metrics-3.4.5\"><span class=\"toc-item-num\">3.4.5&nbsp;&nbsp;</span>Aggregate metrics</a></span></li><li><span><a href=\"#Save-model\" data-toc-modified-id=\"Save-model-3.4.6\"><span class=\"toc-item-num\">3.4.6&nbsp;&nbsp;</span>Save model</a></span></li><li><span><a href=\"#Log-to-MLflow\" data-toc-modified-id=\"Log-to-MLflow-3.4.7\"><span class=\"toc-item-num\">3.4.7&nbsp;&nbsp;</span>Log to MLflow</a></span></li></ul></li></ul></li></ul></div>"
   ]
  },
  {
   "cell_type": "markdown",
   "metadata": {},
   "source": [
    "# ML Flow"
   ]
  },
  {
   "cell_type": "markdown",
   "metadata": {},
   "source": [
    "The latest version of MLFlow is 1.14.10"
   ]
  },
  {
   "cell_type": "code",
   "execution_count": 1,
   "metadata": {
    "scrolled": true
   },
   "outputs": [
    {
     "name": "stdout",
     "output_type": "stream",
     "text": [
      "Collecting mlflow\n",
      "  Downloading mlflow-1.14.0-py3-none-any.whl (14.2 MB)\n",
      "\u001b[K     |████████████████████████████████| 14.2 MB 15.1 MB/s eta 0:00:01\n",
      "\u001b[?25hRequirement already satisfied: entrypoints in /Users/antongusarov/ML_REPA/tutorial-predict-device-change/venv/lib/python3.7/site-packages (from mlflow) (0.3)\n",
      "Requirement already satisfied: pyyaml in /Users/antongusarov/ML_REPA/tutorial-predict-device-change/venv/lib/python3.7/site-packages (from mlflow) (5.4.1)\n",
      "Requirement already satisfied: requests>=2.17.3 in /Users/antongusarov/ML_REPA/tutorial-predict-device-change/venv/lib/python3.7/site-packages (from mlflow) (2.24.0)\n",
      "Collecting databricks-cli>=0.8.7\n",
      "  Downloading databricks-cli-0.14.1.tar.gz (54 kB)\n",
      "\u001b[K     |████████████████████████████████| 54 kB 5.2 MB/s  eta 0:00:01\n",
      "\u001b[?25hCollecting alembic<=1.4.1\n",
      "  Downloading alembic-1.4.1.tar.gz (1.1 MB)\n",
      "\u001b[K     |████████████████████████████████| 1.1 MB 30.7 MB/s eta 0:00:01\n",
      "\u001b[?25hRequirement already satisfied: click>=7.0 in /Users/antongusarov/ML_REPA/tutorial-predict-device-change/venv/lib/python3.7/site-packages (from mlflow) (7.1.2)\n",
      "Collecting cloudpickle\n",
      "  Downloading cloudpickle-1.6.0-py3-none-any.whl (23 kB)\n",
      "Collecting prometheus-flask-exporter\n",
      "  Downloading prometheus_flask_exporter-0.18.1.tar.gz (21 kB)\n",
      "Collecting querystring-parser\n",
      "  Downloading querystring_parser-1.2.4-py2.py3-none-any.whl (7.9 kB)\n",
      "Requirement already satisfied: pytz in /Users/antongusarov/ML_REPA/tutorial-predict-device-change/venv/lib/python3.7/site-packages (from mlflow) (2020.5)\n",
      "Collecting sqlparse>=0.3.1\n",
      "  Downloading sqlparse-0.4.1-py3-none-any.whl (42 kB)\n",
      "\u001b[K     |████████████████████████████████| 42 kB 3.4 MB/s  eta 0:00:01\n",
      "\u001b[?25hCollecting docker>=4.0.0\n",
      "  Downloading docker-4.4.3-py2.py3-none-any.whl (146 kB)\n",
      "\u001b[K     |████████████████████████████████| 146 kB 53.5 MB/s eta 0:00:01\n",
      "\u001b[?25hRequirement already satisfied: gitpython>=2.1.0 in /Users/antongusarov/ML_REPA/tutorial-predict-device-change/venv/lib/python3.7/site-packages (from mlflow) (3.1.13)\n",
      "Collecting sqlalchemy\n",
      "  Downloading SQLAlchemy-1.3.23-cp37-cp37m-macosx_10_14_x86_64.whl (1.2 MB)\n",
      "\u001b[K     |████████████████████████████████| 1.2 MB 31.3 MB/s eta 0:00:01\n",
      "\u001b[?25hRequirement already satisfied: protobuf>=3.6.0 in /Users/antongusarov/ML_REPA/tutorial-predict-device-change/venv/lib/python3.7/site-packages (from mlflow) (3.14.0)\n",
      "Collecting Flask\n",
      "  Downloading Flask-1.1.2-py2.py3-none-any.whl (94 kB)\n",
      "\u001b[K     |████████████████████████████████| 94 kB 9.8 MB/s  eta 0:00:01\n",
      "\u001b[?25hCollecting gunicorn\n",
      "  Downloading gunicorn-20.0.4-py2.py3-none-any.whl (77 kB)\n",
      "\u001b[K     |████████████████████████████████| 77 kB 14.7 MB/s eta 0:00:01\n",
      "\u001b[?25hRequirement already satisfied: numpy in /Users/antongusarov/ML_REPA/tutorial-predict-device-change/venv/lib/python3.7/site-packages (from mlflow) (1.19.4)\n",
      "Requirement already satisfied: pandas in /Users/antongusarov/ML_REPA/tutorial-predict-device-change/venv/lib/python3.7/site-packages (from mlflow) (1.1.4)\n",
      "Collecting Mako\n",
      "  Downloading Mako-1.1.4.tar.gz (479 kB)\n",
      "\u001b[K     |████████████████████████████████| 479 kB 51.4 MB/s eta 0:00:01\n",
      "\u001b[?25hCollecting python-editor>=0.3\n",
      "  Downloading python_editor-1.0.4-py3-none-any.whl (4.9 kB)\n",
      "Requirement already satisfied: python-dateutil in /Users/antongusarov/ML_REPA/tutorial-predict-device-change/venv/lib/python3.7/site-packages (from alembic<=1.4.1->mlflow) (2.8.1)\n",
      "Requirement already satisfied: tabulate>=0.7.7 in /Users/antongusarov/ML_REPA/tutorial-predict-device-change/venv/lib/python3.7/site-packages (from databricks-cli>=0.8.7->mlflow) (0.8.7)\n",
      "Requirement already satisfied: six>=1.10.0 in /Users/antongusarov/ML_REPA/tutorial-predict-device-change/venv/lib/python3.7/site-packages (from databricks-cli>=0.8.7->mlflow) (1.15.0)\n",
      "Collecting websocket-client>=0.32.0\n",
      "  Downloading websocket_client-0.57.0-py2.py3-none-any.whl (200 kB)\n",
      "\u001b[K     |████████████████████████████████| 200 kB 26.7 MB/s eta 0:00:01\n",
      "\u001b[?25hRequirement already satisfied: gitdb<5,>=4.0.1 in /Users/antongusarov/ML_REPA/tutorial-predict-device-change/venv/lib/python3.7/site-packages (from gitpython>=2.1.0->mlflow) (4.0.5)\n",
      "Requirement already satisfied: smmap<4,>=3.0.1 in /Users/antongusarov/ML_REPA/tutorial-predict-device-change/venv/lib/python3.7/site-packages (from gitdb<5,>=4.0.1->gitpython>=2.1.0->mlflow) (3.0.5)\n",
      "Requirement already satisfied: idna<3,>=2.5 in /Users/antongusarov/ML_REPA/tutorial-predict-device-change/venv/lib/python3.7/site-packages (from requests>=2.17.3->mlflow) (2.10)\n",
      "Requirement already satisfied: certifi>=2017.4.17 in /Users/antongusarov/ML_REPA/tutorial-predict-device-change/venv/lib/python3.7/site-packages (from requests>=2.17.3->mlflow) (2020.12.5)\n",
      "Requirement already satisfied: urllib3!=1.25.0,!=1.25.1,<1.26,>=1.21.1 in /Users/antongusarov/ML_REPA/tutorial-predict-device-change/venv/lib/python3.7/site-packages (from requests>=2.17.3->mlflow) (1.25.9)\n",
      "Requirement already satisfied: chardet<4,>=3.0.2 in /Users/antongusarov/ML_REPA/tutorial-predict-device-change/venv/lib/python3.7/site-packages (from requests>=2.17.3->mlflow) (3.0.4)\n",
      "Collecting itsdangerous>=0.24\n",
      "  Using cached itsdangerous-1.1.0-py2.py3-none-any.whl (16 kB)\n",
      "Collecting Werkzeug>=0.15\n",
      "  Using cached Werkzeug-1.0.1-py2.py3-none-any.whl (298 kB)\n",
      "Requirement already satisfied: Jinja2>=2.10.1 in /Users/antongusarov/ML_REPA/tutorial-predict-device-change/venv/lib/python3.7/site-packages (from Flask->mlflow) (2.11.2)\n",
      "Requirement already satisfied: MarkupSafe>=0.23 in /Users/antongusarov/ML_REPA/tutorial-predict-device-change/venv/lib/python3.7/site-packages (from Jinja2>=2.10.1->Flask->mlflow) (1.1.1)\n",
      "Requirement already satisfied: setuptools>=3.0 in /Users/antongusarov/ML_REPA/tutorial-predict-device-change/venv/lib/python3.7/site-packages (from gunicorn->mlflow) (52.0.0)\n",
      "Requirement already satisfied: prometheus_client in /Users/antongusarov/ML_REPA/tutorial-predict-device-change/venv/lib/python3.7/site-packages (from prometheus-flask-exporter->mlflow) (0.8.0)\n",
      "Using legacy 'setup.py install' for alembic, since package 'wheel' is not installed.\n",
      "Using legacy 'setup.py install' for databricks-cli, since package 'wheel' is not installed.\n",
      "Using legacy 'setup.py install' for Mako, since package 'wheel' is not installed.\n",
      "Using legacy 'setup.py install' for prometheus-flask-exporter, since package 'wheel' is not installed.\n",
      "Installing collected packages: Werkzeug, itsdangerous, websocket-client, sqlalchemy, python-editor, Mako, Flask, sqlparse, querystring-parser, prometheus-flask-exporter, gunicorn, docker, databricks-cli, cloudpickle, alembic, mlflow\n",
      "    Running setup.py install for Mako ... \u001b[?25ldone\n",
      "\u001b[?25h    Running setup.py install for prometheus-flask-exporter ... \u001b[?25ldone\n",
      "\u001b[?25h    Running setup.py install for databricks-cli ... \u001b[?25ldone\n",
      "\u001b[?25h    Running setup.py install for alembic ... \u001b[?25ldone\n",
      "\u001b[?25hSuccessfully installed Flask-1.1.2 Mako-1.1.4 Werkzeug-1.0.1 alembic-1.4.1 cloudpickle-1.6.0 databricks-cli-0.14.1 docker-4.4.3 gunicorn-20.0.4 itsdangerous-1.1.0 mlflow-1.14.0 prometheus-flask-exporter-0.18.1 python-editor-1.0.4 querystring-parser-1.2.4 sqlalchemy-1.3.23 sqlparse-0.4.1 websocket-client-0.57.0\n",
      "\u001b[33mWARNING: You are using pip version 21.0; however, version 21.0.1 is available.\n",
      "You should consider upgrading via the '/Users/antongusarov/ML_REPA/tutorial-predict-device-change/venv/bin/python -m pip install --upgrade pip' command.\u001b[0m\n"
     ]
    }
   ],
   "source": [
    "! pip install mlflow"
   ]
  },
  {
   "cell_type": "code",
   "execution_count": 2,
   "metadata": {},
   "outputs": [],
   "source": [
    "! pip freeze > requirements.txt"
   ]
  },
  {
   "cell_type": "code",
   "execution_count": 14,
   "metadata": {
    "scrolled": false
   },
   "outputs": [
    {
     "name": "stdout",
     "output_type": "stream",
     "text": [
      "Collecting python-dotenv\n",
      "  Using cached python_dotenv-0.15.0-py2.py3-none-any.whl (18 kB)\n",
      "Installing collected packages: python-dotenv\n",
      "Successfully installed python-dotenv-0.15.0\n",
      "\u001b[33mWARNING: You are using pip version 21.0; however, version 21.0.1 is available.\n",
      "You should consider upgrading via the '/Users/antongusarov/ML_REPA/tutorial-predict-device-change/venv/bin/python -m pip install --upgrade pip' command.\u001b[0m\n"
     ]
    }
   ],
   "source": [
    "! pip install python-dotenv"
   ]
  },
  {
   "cell_type": "code",
   "execution_count": 24,
   "metadata": {},
   "outputs": [
    {
     "name": "stdout",
     "output_type": "stream",
     "text": [
      "# Environment variables go here, can be read by `python-dotenv` package:\r\n",
      "#\r\n",
      "#   `src/script.py`\r\n",
      "#   ----------------------------------------------------------------\r\n",
      "#    import dotenv\r\n",
      "#\r\n",
      "#    project_dir = os.path.join(os.path.dirname(__file__), os.pardir)\r\n",
      "#    dotenv_path = os.path.join(project_dir, '.env')\r\n",
      "#    dotenv.load_dotenv(dotenv_path)\r\n",
      "#   ----------------------------------------------------------------\r\n",
      "#\r\n",
      "# DO NOT ADD THIS FILE TO VERSION CONTROL!\r\n",
      "\r\n",
      "MLFLOW_STORAGE=./ML_Project\r\n",
      "MLFLOW_TRACKING_URI=http://0.0.0.0:1234"
     ]
    }
   ],
   "source": [
    "! cat .env"
   ]
  },
  {
   "cell_type": "code",
   "execution_count": 25,
   "metadata": {},
   "outputs": [
    {
     "name": "stdout",
     "output_type": "stream",
     "text": [
      "MLFLOW_STORAGE=./ML_Project\r\n",
      "MLFLOW_TRACKING_URI=http://0.0.0.0:1234\r\n"
     ]
    }
   ],
   "source": [
    "! dotenv -f .env list"
   ]
  },
  {
   "cell_type": "code",
   "execution_count": 26,
   "metadata": {},
   "outputs": [
    {
     "data": {
      "text/plain": [
       "True"
      ]
     },
     "execution_count": 26,
     "metadata": {},
     "output_type": "execute_result"
    }
   ],
   "source": [
    "import os\n",
    "\n",
    "dotenv.load_dotenv(verbose=True, override=True)"
   ]
  },
  {
   "cell_type": "code",
   "execution_count": 27,
   "metadata": {},
   "outputs": [
    {
     "name": "stdout",
     "output_type": "stream",
     "text": [
      "./ML_Project\r\n"
     ]
    }
   ],
   "source": [
    "! printenv MLFLOW_STORAGE"
   ]
  },
  {
   "cell_type": "code",
   "execution_count": 28,
   "metadata": {},
   "outputs": [
    {
     "name": "stdout",
     "output_type": "stream",
     "text": [
      "http://0.0.0.0:1234\r\n"
     ]
    }
   ],
   "source": [
    "! printenv MLFLOW_TRACKING_URI"
   ]
  },
  {
   "cell_type": "markdown",
   "metadata": {},
   "source": [
    "In the command line start the MLFlow server locally"
   ]
  },
  {
   "cell_type": "markdown",
   "metadata": {},
   "source": [
    "%%bash\n",
    "mlflow server"
   ]
  },
  {
   "cell_type": "markdown",
   "metadata": {},
   "source": [
    "## Log metrics"
   ]
  },
  {
   "cell_type": "code",
   "execution_count": 3,
   "metadata": {},
   "outputs": [
    {
     "data": {
      "text/plain": [
       "{'lift_max': 2.1505471897179307,\n",
       " 'lift_min': 2.1383669439424997,\n",
       " 'lift_std': 0.005093759905144943,\n",
       " 'lift_mean': 2.145029726481869,\n",
       " 'precision_at_k_max': 0.8380311652395894,\n",
       " 'precision_at_k_min': 0.8346540445673563,\n",
       " 'precision_at_k_std': 0.0016701742169299028,\n",
       " 'precision_at_k_mean': 0.8364556187842366,\n",
       " 'recall_at_k_max': 1.0,\n",
       " 'recall_at_k_min': 1.0,\n",
       " 'recall_at_k_std': 0.0,\n",
       " 'recall_at_k_mean': 1.0}"
      ]
     },
     "execution_count": 3,
     "metadata": {},
     "output_type": "execute_result"
    }
   ],
   "source": [
    "train_metrics = 'reports/train_metrics.json'\n",
    "\n",
    "with open(train_metrics) as tm_file:\n",
    "    metrics = json.load(tm_file)\n",
    "\n",
    "metrics"
   ]
  },
  {
   "cell_type": "code",
   "execution_count": 1,
   "metadata": {},
   "outputs": [
    {
     "data": {
      "text/plain": [
       "'file:///Users/antongusarov/ML_REPA/github/predict-device-change/mlruns'"
      ]
     },
     "execution_count": 1,
     "metadata": {},
     "output_type": "execute_result"
    }
   ],
   "source": [
    "import mlflow\n",
    "\n",
    "# mlflow.set_tracking_uri('http://127.0.0.1:5000')\n",
    "\n",
    "# Check tracking URI\n",
    "mlflow.get_tracking_uri()"
   ]
  },
  {
   "cell_type": "code",
   "execution_count": 24,
   "metadata": {},
   "outputs": [],
   "source": [
    "# Log a single metric\n",
    "mlflow.log_metric('lift_max', 2.569350542921532)"
   ]
  },
  {
   "cell_type": "code",
   "execution_count": 25,
   "metadata": {},
   "outputs": [],
   "source": [
    "# log all the metrics\n",
    "mlflow.log_metrics(metrics)"
   ]
  },
  {
   "cell_type": "markdown",
   "metadata": {},
   "source": [
    "## Log Params"
   ]
  },
  {
   "cell_type": "code",
   "execution_count": 4,
   "metadata": {},
   "outputs": [
    {
     "data": {
      "text/plain": [
       "{'project_dir': '.', 'random_state': 42, 'log_level': 'DEBUG'}"
      ]
     },
     "execution_count": 4,
     "metadata": {},
     "output_type": "execute_result"
    }
   ],
   "source": [
    "import yaml\n",
    "\n",
    "CONFIG_PATH = 'config/params.yaml'\n",
    "    \n",
    "config = yaml.safe_load(open(CONFIG_PATH))\n",
    "config['base']"
   ]
  },
  {
   "cell_type": "code",
   "execution_count": 5,
   "metadata": {},
   "outputs": [],
   "source": [
    "mlflow.log_param('random_state', 42)\n",
    "\n",
    "mlflow.log_params(config['train'])"
   ]
  },
  {
   "cell_type": "markdown",
   "metadata": {},
   "source": [
    "# Metrics tracking with DVC"
   ]
  },
  {
   "cell_type": "markdown",
   "metadata": {},
   "source": [
    "## Show metrics"
   ]
  },
  {
   "cell_type": "code",
   "execution_count": 6,
   "metadata": {},
   "outputs": [
    {
     "name": "stdout",
     "output_type": "stream",
     "text": [
      "\treports/train_metrics.json:                                          core\u001b[39m>\n",
      "\t\tlift_max: 2.1505471897179307\n",
      "\t\tlift_min: 2.1383669439424997\n",
      "\t\tlift_std: 0.005093759905144943\n",
      "\t\tlift_mean: 2.145029726481869\n",
      "\t\tprecision_at_k_max: 0.8380311652395894\n",
      "\t\tprecision_at_k_min: 0.8346540445673563\n",
      "\t\tprecision_at_k_std: 0.0016701742169299028\n",
      "\t\tprecision_at_k_mean: 0.8364556187842366\n",
      "\t\trecall_at_k_max: 1.0\n",
      "\t\trecall_at_k_min: 1.0\n",
      "\t\trecall_at_k_std: 0.0\n",
      "\t\trecall_at_k_mean: 1.0\n",
      "\u001b[0m"
     ]
    }
   ],
   "source": [
    "! dvc metrics show"
   ]
  },
  {
   "cell_type": "markdown",
   "metadata": {},
   "source": [
    "If we want to compare two different runs:"
   ]
  },
  {
   "cell_type": "code",
   "execution_count": 41,
   "metadata": {},
   "outputs": [
    {
     "name": "stdout",
     "output_type": "stream",
     "text": [
      "Path                        Metric               Old    New      Changeore\u001b[39m>\n",
      "reports/train_metrics.json  lift_max             —      2.15055  —\n",
      "reports/train_metrics.json  lift_mean            —      2.14503  —\n",
      "reports/train_metrics.json  lift_min             —      2.13837  —\n",
      "reports/train_metrics.json  lift_std             —      0.00509  —\n",
      "reports/train_metrics.json  precision_at_k_max   —      0.83803  —\n",
      "reports/train_metrics.json  precision_at_k_mean  —      0.83646  —\n",
      "reports/train_metrics.json  precision_at_k_min   —      0.83465  —\n",
      "reports/train_metrics.json  precision_at_k_std   —      0.00167  —\n",
      "reports/train_metrics.json  recall_at_k_max      —      1.0      —\n",
      "reports/train_metrics.json  recall_at_k_mean     —      1.0      —\n",
      "reports/train_metrics.json  recall_at_k_min      —      1.0      —\n",
      "reports/train_metrics.json  recall_at_k_std      —      0.0      —\n",
      "\u001b[0m"
     ]
    }
   ],
   "source": [
    "! dvc metrics diff"
   ]
  },
  {
   "cell_type": "markdown",
   "metadata": {},
   "source": [
    "# Model life-cycle managenent in ML Flow"
   ]
  },
  {
   "cell_type": "code",
   "execution_count": 7,
   "metadata": {},
   "outputs": [],
   "source": [
    "import catboost as ctb\n",
    "import joblib\n",
    "import logging\n",
    "import os\n",
    "import pandas as pd\n",
    "from sklearn.ensemble import RandomForestClassifier\n",
    "import yaml\n",
    "from envyaml import EnvYAML\n",
    "\n",
    "from src.evaluate.metrics import precision_at_k_score, recall_at_k_score, lift_score\n",
    "from src.train.train import custom_ts_split, get_split_data\n",
    "from src.utils.logging import get_logger"
   ]
  },
  {
   "cell_type": "markdown",
   "metadata": {},
   "source": [
    "## Create logger"
   ]
  },
  {
   "cell_type": "code",
   "execution_count": 8,
   "metadata": {},
   "outputs": [],
   "source": [
    "logger = get_logger(__name__, logging.INFO)"
   ]
  },
  {
   "cell_type": "markdown",
   "metadata": {},
   "source": [
    "## Read config"
   ]
  },
  {
   "cell_type": "code",
   "execution_count": 9,
   "metadata": {},
   "outputs": [
    {
     "name": "stdout",
     "output_type": "stream",
     "text": [
      "{'project_dir': '.', 'random_state': 42, 'log_level': 'DEBUG'}\n"
     ]
    }
   ],
   "source": [
    "config = EnvYAML('config/params.yaml')  # parse yaml file with configs\n",
    "\n",
    "print(config['base'])"
   ]
  },
  {
   "cell_type": "code",
   "execution_count": 10,
   "metadata": {},
   "outputs": [],
   "source": [
    "# Base params\n",
    "random_state = config['base']['random_state']\n",
    "project_dir = config['base']['project_dir']\n",
    "\n",
    "# Features params\n",
    "features_path = config['featurize']['features_path']\n",
    "categories = config['featurize']['categories']\n",
    "\n",
    "# Train params\n",
    "top_K_coef = config['train']['top_K_coef']\n",
    "\n",
    "sklearn_model_path = 'models/sklearn_model.joblib'\n",
    "catboost_model_path = 'models/catboost_model.joblib'"
   ]
  },
  {
   "cell_type": "markdown",
   "metadata": {},
   "source": [
    "## Load features"
   ]
  },
  {
   "cell_type": "code",
   "execution_count": 11,
   "metadata": {
    "scrolled": true
   },
   "outputs": [
    {
     "data": {
      "text/html": [
       "<div>\n",
       "<style scoped>\n",
       "    .dataframe tbody tr th:only-of-type {\n",
       "        vertical-align: middle;\n",
       "    }\n",
       "\n",
       "    .dataframe tbody tr th {\n",
       "        vertical-align: top;\n",
       "    }\n",
       "\n",
       "    .dataframe thead th {\n",
       "        text-align: right;\n",
       "    }\n",
       "</style>\n",
       "<table border=\"1\" class=\"dataframe\">\n",
       "  <thead>\n",
       "    <tr style=\"text-align: right;\">\n",
       "      <th></th>\n",
       "      <th>user_id</th>\n",
       "      <th>month</th>\n",
       "      <th>feature_1</th>\n",
       "      <th>feature_2</th>\n",
       "      <th>feature_3</th>\n",
       "      <th>feature_4</th>\n",
       "      <th>feature_5</th>\n",
       "      <th>feature_6</th>\n",
       "      <th>feature_7</th>\n",
       "      <th>feature_8</th>\n",
       "      <th>...</th>\n",
       "      <th>feature_20</th>\n",
       "      <th>feature_23</th>\n",
       "      <th>feature_24</th>\n",
       "      <th>feature_25</th>\n",
       "      <th>feature_26</th>\n",
       "      <th>feature_27</th>\n",
       "      <th>feature_28</th>\n",
       "      <th>feature_29</th>\n",
       "      <th>feature_30</th>\n",
       "      <th>target</th>\n",
       "    </tr>\n",
       "  </thead>\n",
       "  <tbody>\n",
       "    <tr>\n",
       "      <th>0</th>\n",
       "      <td>0</td>\n",
       "      <td>2020-04-30</td>\n",
       "      <td>0.993121</td>\n",
       "      <td>-15</td>\n",
       "      <td>2.274309</td>\n",
       "      <td>18</td>\n",
       "      <td>2868</td>\n",
       "      <td>-1.305588</td>\n",
       "      <td>-0.097643</td>\n",
       "      <td>0.617778</td>\n",
       "      <td>...</td>\n",
       "      <td>0.149854</td>\n",
       "      <td>-3.146305</td>\n",
       "      <td>-1.655508</td>\n",
       "      <td>25</td>\n",
       "      <td>3.032537</td>\n",
       "      <td>-29960</td>\n",
       "      <td>-1.864660</td>\n",
       "      <td>-0.212668</td>\n",
       "      <td>-3.245333</td>\n",
       "      <td>1.0</td>\n",
       "    </tr>\n",
       "    <tr>\n",
       "      <th>1</th>\n",
       "      <td>0</td>\n",
       "      <td>2020-05-31</td>\n",
       "      <td>-1.416912</td>\n",
       "      <td>-145</td>\n",
       "      <td>-1.087891</td>\n",
       "      <td>-8</td>\n",
       "      <td>-1763</td>\n",
       "      <td>-1.322007</td>\n",
       "      <td>3.143865</td>\n",
       "      <td>-0.272231</td>\n",
       "      <td>...</td>\n",
       "      <td>0.310881</td>\n",
       "      <td>2.365636</td>\n",
       "      <td>-2.632201</td>\n",
       "      <td>-11</td>\n",
       "      <td>-2.373654</td>\n",
       "      <td>-173398</td>\n",
       "      <td>0.458990</td>\n",
       "      <td>1.376687</td>\n",
       "      <td>-0.460150</td>\n",
       "      <td>0.0</td>\n",
       "    </tr>\n",
       "    <tr>\n",
       "      <th>2</th>\n",
       "      <td>0</td>\n",
       "      <td>2020-06-30</td>\n",
       "      <td>0.673564</td>\n",
       "      <td>23</td>\n",
       "      <td>0.016666</td>\n",
       "      <td>-7</td>\n",
       "      <td>-4092</td>\n",
       "      <td>-0.936663</td>\n",
       "      <td>-1.909813</td>\n",
       "      <td>0.715618</td>\n",
       "      <td>...</td>\n",
       "      <td>-1.561746</td>\n",
       "      <td>-2.220931</td>\n",
       "      <td>1.930994</td>\n",
       "      <td>-10</td>\n",
       "      <td>3.301401</td>\n",
       "      <td>-46619</td>\n",
       "      <td>0.269820</td>\n",
       "      <td>0.900846</td>\n",
       "      <td>0.315063</td>\n",
       "      <td>1.0</td>\n",
       "    </tr>\n",
       "    <tr>\n",
       "      <th>3</th>\n",
       "      <td>0</td>\n",
       "      <td>2020-07-31</td>\n",
       "      <td>-2.124908</td>\n",
       "      <td>-15</td>\n",
       "      <td>1.234815</td>\n",
       "      <td>18</td>\n",
       "      <td>9348</td>\n",
       "      <td>0.233297</td>\n",
       "      <td>-0.108647</td>\n",
       "      <td>-1.831460</td>\n",
       "      <td>...</td>\n",
       "      <td>-0.671608</td>\n",
       "      <td>1.641780</td>\n",
       "      <td>-5.166544</td>\n",
       "      <td>-23</td>\n",
       "      <td>0.531913</td>\n",
       "      <td>-131224</td>\n",
       "      <td>-0.341103</td>\n",
       "      <td>0.208832</td>\n",
       "      <td>1.869453</td>\n",
       "      <td>0.0</td>\n",
       "    </tr>\n",
       "    <tr>\n",
       "      <th>4</th>\n",
       "      <td>0</td>\n",
       "      <td>2020-08-31</td>\n",
       "      <td>-2.122264</td>\n",
       "      <td>-50</td>\n",
       "      <td>-0.584464</td>\n",
       "      <td>-8</td>\n",
       "      <td>1894</td>\n",
       "      <td>-0.092315</td>\n",
       "      <td>-0.547480</td>\n",
       "      <td>-0.065323</td>\n",
       "      <td>...</td>\n",
       "      <td>0.024197</td>\n",
       "      <td>1.852084</td>\n",
       "      <td>-0.761511</td>\n",
       "      <td>-24</td>\n",
       "      <td>-1.080867</td>\n",
       "      <td>68577</td>\n",
       "      <td>-1.328331</td>\n",
       "      <td>-0.681723</td>\n",
       "      <td>0.431699</td>\n",
       "      <td>1.0</td>\n",
       "    </tr>\n",
       "  </tbody>\n",
       "</table>\n",
       "<p>5 rows × 28 columns</p>\n",
       "</div>"
      ],
      "text/plain": [
       "   user_id      month  feature_1  feature_2  feature_3  feature_4  feature_5  \\\n",
       "0        0 2020-04-30   0.993121        -15   2.274309         18       2868   \n",
       "1        0 2020-05-31  -1.416912       -145  -1.087891         -8      -1763   \n",
       "2        0 2020-06-30   0.673564         23   0.016666         -7      -4092   \n",
       "3        0 2020-07-31  -2.124908        -15   1.234815         18       9348   \n",
       "4        0 2020-08-31  -2.122264        -50  -0.584464         -8       1894   \n",
       "\n",
       "   feature_6  feature_7  feature_8  ...  feature_20  feature_23  feature_24  \\\n",
       "0  -1.305588  -0.097643   0.617778  ...    0.149854   -3.146305   -1.655508   \n",
       "1  -1.322007   3.143865  -0.272231  ...    0.310881    2.365636   -2.632201   \n",
       "2  -0.936663  -1.909813   0.715618  ...   -1.561746   -2.220931    1.930994   \n",
       "3   0.233297  -0.108647  -1.831460  ...   -0.671608    1.641780   -5.166544   \n",
       "4  -0.092315  -0.547480  -0.065323  ...    0.024197    1.852084   -0.761511   \n",
       "\n",
       "   feature_25  feature_26  feature_27  feature_28  feature_29  feature_30  \\\n",
       "0          25    3.032537      -29960   -1.864660   -0.212668   -3.245333   \n",
       "1         -11   -2.373654     -173398    0.458990    1.376687   -0.460150   \n",
       "2         -10    3.301401      -46619    0.269820    0.900846    0.315063   \n",
       "3         -23    0.531913     -131224   -0.341103    0.208832    1.869453   \n",
       "4         -24   -1.080867       68577   -1.328331   -0.681723    0.431699   \n",
       "\n",
       "   target  \n",
       "0     1.0  \n",
       "1     0.0  \n",
       "2     1.0  \n",
       "3     0.0  \n",
       "4     1.0  \n",
       "\n",
       "[5 rows x 28 columns]"
      ]
     },
     "execution_count": 11,
     "metadata": {},
     "output_type": "execute_result"
    }
   ],
   "source": [
    "features = pd.read_feather(features_path)\n",
    "features = features.drop(categories, axis=1)  # leave only numerical features\n",
    "features.head()"
   ]
  },
  {
   "cell_type": "markdown",
   "metadata": {},
   "source": [
    "## SkLearn Model"
   ]
  },
  {
   "cell_type": "markdown",
   "metadata": {},
   "source": [
    "### Prepare"
   ]
  },
  {
   "cell_type": "code",
   "execution_count": 12,
   "metadata": {},
   "outputs": [],
   "source": [
    "metrics_df = pd.DataFrame(columns=['test_period', \n",
    "                                   'lift', \n",
    "                                   'precision_at_k', \n",
    "                                   'recall_at_k'])\n",
    "\n",
    "top_K = int(features.shape[0] * top_K_coef)\n",
    "months = features.month.sort_values().unique()"
   ]
  },
  {
   "cell_type": "markdown",
   "metadata": {},
   "source": [
    "### Define a classifer"
   ]
  },
  {
   "cell_type": "code",
   "execution_count": 13,
   "metadata": {},
   "outputs": [],
   "source": [
    "random_forest_params = {'n_estimators': 10, \n",
    "                        'max_depth': 3, \n",
    "                        'min_samples_split': 20}\n",
    "\n",
    "\n",
    "clf = RandomForestClassifier(**random_forest_params, random_state=random_state)"
   ]
  },
  {
   "cell_type": "markdown",
   "metadata": {},
   "source": [
    "### Train a classifier"
   ]
  },
  {
   "cell_type": "code",
   "execution_count": 16,
   "metadata": {},
   "outputs": [
    {
     "name": "stdout",
     "output_type": "stream",
     "text": [
      "2021-02-23 23:21:53,112 — __main__ — INFO — Top_K is 5.0 % of dataset_size: 37606\n",
      "2021-02-23 23:21:53,127 — __main__ — INFO — Fold 1:\n",
      "2021-02-23 23:21:53,128 — __main__ — INFO — Train: 2020-04-30 00:00:00 - 2020-04-30 00:00:00\n",
      "2021-02-23 23:21:53,129 — __main__ — INFO — Test: 2020-05-31 00:00:00 \n",
      "\n",
      "2021-02-23 23:21:53,276 — __main__ — INFO — Train shapes: X - (150484, 25), y - (150484,)\n",
      "2021-02-23 23:21:53,277 — __main__ — INFO — Test shapes: X - (150411, 25), y - (150411,)\n",
      "2021-02-23 23:21:55,278 — __main__ — INFO — Max probas: 0.6211891835991717\n",
      "2021-02-23 23:21:55,333 — src.evaluate.metrics — INFO — Lift: 0.8251686711645644 / 0.39038368204453133 = 2.1137376102478505\n",
      "2021-02-23 23:21:55,401 — __main__ — INFO — Precision at 37606: 0.8251686711645644\n",
      "2021-02-23 23:21:55,402 — __main__ — INFO — Recall at 37606: 0.2265625\n",
      "\n",
      "2021-02-23 23:21:55,403 — __main__ — INFO — Fold 2:\n",
      "2021-02-23 23:21:55,403 — __main__ — INFO — Train: 2020-04-30 00:00:00 - 2020-05-31 00:00:00\n",
      "2021-02-23 23:21:55,404 — __main__ — INFO — Test: 2020-06-30 00:00:00 \n",
      "\n",
      "2021-02-23 23:21:55,569 — __main__ — INFO — Train shapes: X - (300895, 25), y - (300895,)\n",
      "2021-02-23 23:21:55,569 — __main__ — INFO — Test shapes: X - (150187, 25), y - (150187,)\n",
      "2021-02-23 23:21:59,516 — __main__ — INFO — Max probas: 0.6115085550106008\n",
      "2021-02-23 23:21:59,569 — src.evaluate.metrics — INFO — Lift: 0.8143629074429144 / 0.38953438047234445 = 2.090605985678153\n",
      "2021-02-23 23:21:59,633 — __main__ — INFO — Precision at 37606: 0.8143629074429144\n",
      "2021-02-23 23:21:59,634 — __main__ — INFO — Recall at 37606: 0.18957192128220735\n",
      "\n",
      "2021-02-23 23:21:59,635 — __main__ — INFO — Fold 3:\n",
      "2021-02-23 23:21:59,636 — __main__ — INFO — Train: 2020-04-30 00:00:00 - 2020-06-30 00:00:00\n",
      "2021-02-23 23:21:59,636 — __main__ — INFO — Test: 2020-07-31 00:00:00 \n",
      "\n",
      "2021-02-23 23:21:59,839 — __main__ — INFO — Train shapes: X - (451082, 25), y - (451082,)\n",
      "2021-02-23 23:21:59,840 — __main__ — INFO — Test shapes: X - (150492, 25), y - (150492,)\n",
      "2021-02-23 23:22:06,013 — __main__ — INFO — Max probas: 0.6134444995740178\n",
      "2021-02-23 23:22:06,055 — src.evaluate.metrics — INFO — Lift: 0.8170502983802217 / 0.38920341280599635 = 2.0992886277374225\n",
      "2021-02-23 23:22:06,125 — __main__ — INFO — Precision at 37606: 0.8170502983802217\n",
      "2021-02-23 23:22:06,126 — __main__ — INFO — Recall at 37606: 0.19556788964616578\n",
      "\n",
      "2021-02-23 23:22:06,127 — __main__ — INFO — Fold 4:\n",
      "2021-02-23 23:22:06,128 — __main__ — INFO — Train: 2020-04-30 00:00:00 - 2020-07-31 00:00:00\n",
      "2021-02-23 23:22:06,128 — __main__ — INFO — Test: 2020-08-31 00:00:00 \n",
      "\n",
      "2021-02-23 23:22:06,375 — __main__ — INFO — Train shapes: X - (601574, 25), y - (601574,)\n",
      "2021-02-23 23:22:06,376 — __main__ — INFO — Test shapes: X - (150554, 25), y - (150554,)\n",
      "2021-02-23 23:22:16,928 — __main__ — INFO — Max probas: 0.6090121447251996\n",
      "2021-02-23 23:22:16,972 — src.evaluate.metrics — INFO — Lift: 0.8158906450234943 / 0.39068374138182976 = 2.0883660070872874\n",
      "2021-02-23 23:22:17,051 — __main__ — INFO — Precision at 37606: 0.8158906450234943\n",
      "2021-02-23 23:22:17,052 — __main__ — INFO — Recall at 37606: 0.23006504456757407\n",
      "\n",
      "2021-02-23 23:22:17,053 — src.train.train — INFO — 2020-09-30 00:00:00\n",
      "2021-02-23 23:22:17,054 — src.train.train — INFO — 2020-08-31T00:00:00.000000000\n"
     ]
    }
   ],
   "source": [
    "#=== log ===\n",
    "logger.info(f'Top_K is 5.0 % of dataset_size: {top_K}')\n",
    "#===========\n",
    "\n",
    "#=== MLflow ===\n",
    "mlflow.set_experiment(\"Try SkLearn random forest\")\n",
    "mlflow.end_run() # end active run if any existed before, otherwise a conflict and error\n",
    "#==============\n",
    "\n",
    "mlflow.start_run()\n",
    "\n",
    "k = 1 # folds counter\n",
    "for start_train, end_train, test_period in custom_ts_split(months, train_period=1):\n",
    "    #=== log ===\n",
    "    logger.info(f'Fold {k}:')\n",
    "    logger.info(f'Train: {start_train} - {end_train}')\n",
    "    logger.info(f'Test: {test_period} \\n')\n",
    "    #===========\n",
    "    \n",
    "    X_train, X_test, y_train, y_test = get_split_data(features, start_train, end_train, test_period)\n",
    "    \n",
    "    #=== log ===\n",
    "    logger.info(f'Train shapes: X - {X_train.shape}, y - {y_train.shape}')\n",
    "    logger.info(f'Test shapes: X - {X_test.shape}, y - {y_test.shape}')\n",
    "    #===========\n",
    "    \n",
    "    # Fit estimator\n",
    "    clf.fit(X_train, y_train)\n",
    "\n",
    "    y_pred = clf.predict(X_test)\n",
    "    probas = clf.predict_proba(X_test)\n",
    "    \n",
    "    #=== log ===\n",
    "    logger.info(f'Max probas: {probas[:, 1].max()}')\n",
    "    #===========\n",
    "\n",
    "    lift = lift_score(y_test, y_pred, probas[:, 1], top_K)\n",
    "    precision_at_k = precision_at_k_score(y_test, y_pred, probas[:, 1], top_K)\n",
    "    recall_at_k = recall_at_k_score(y_test, y_pred, probas[:, 1], top_K)\n",
    "    \n",
    "    #=== MLflow ===\n",
    "    metrics = {\"lift\": lift, \n",
    "               \"precision_at_k\": precision_at_k,\n",
    "               \"recall_at_k\": recall_at_k}\n",
    "    mlflow.log_metrics(metrics, step=k)\n",
    "    #==============\n",
    "    \n",
    "    metrics_df = metrics_df.append(\n",
    "        dict(zip(metrics_df.columns, [test_period, lift, precision_at_k, recall_at_k])),\n",
    "        ignore_index=True)\n",
    "\n",
    "    #=== log ===\n",
    "    logger.info(f'Precision at {top_K}: {precision_at_k}')\n",
    "    logger.info(f'Recall at {top_K}: {recall_at_k}\\n')\n",
    "    #===========\n",
    "    \n",
    "    k += 1\n",
    "    \n",
    "mlflow.end_run() "
   ]
  },
  {
   "cell_type": "markdown",
   "metadata": {},
   "source": [
    "### Examine metrics"
   ]
  },
  {
   "cell_type": "code",
   "execution_count": 11,
   "metadata": {},
   "outputs": [
    {
     "data": {
      "text/html": [
       "<div>\n",
       "<style scoped>\n",
       "    .dataframe tbody tr th:only-of-type {\n",
       "        vertical-align: middle;\n",
       "    }\n",
       "\n",
       "    .dataframe tbody tr th {\n",
       "        vertical-align: top;\n",
       "    }\n",
       "\n",
       "    .dataframe thead th {\n",
       "        text-align: right;\n",
       "    }\n",
       "</style>\n",
       "<table border=\"1\" class=\"dataframe\">\n",
       "  <thead>\n",
       "    <tr style=\"text-align: right;\">\n",
       "      <th></th>\n",
       "      <th>test_period</th>\n",
       "      <th>lift</th>\n",
       "      <th>precision_at_k</th>\n",
       "      <th>recall_at_k</th>\n",
       "    </tr>\n",
       "  </thead>\n",
       "  <tbody>\n",
       "    <tr>\n",
       "      <th>0</th>\n",
       "      <td>2020-05-31</td>\n",
       "      <td>2.113738</td>\n",
       "      <td>0.825169</td>\n",
       "      <td>0.226562</td>\n",
       "    </tr>\n",
       "    <tr>\n",
       "      <th>1</th>\n",
       "      <td>2020-06-30</td>\n",
       "      <td>2.090606</td>\n",
       "      <td>0.814363</td>\n",
       "      <td>0.189572</td>\n",
       "    </tr>\n",
       "    <tr>\n",
       "      <th>2</th>\n",
       "      <td>2020-07-31</td>\n",
       "      <td>2.099289</td>\n",
       "      <td>0.817050</td>\n",
       "      <td>0.195568</td>\n",
       "    </tr>\n",
       "    <tr>\n",
       "      <th>3</th>\n",
       "      <td>2020-08-31</td>\n",
       "      <td>2.088366</td>\n",
       "      <td>0.815891</td>\n",
       "      <td>0.230065</td>\n",
       "    </tr>\n",
       "  </tbody>\n",
       "</table>\n",
       "</div>"
      ],
      "text/plain": [
       "  test_period      lift  precision_at_k  recall_at_k\n",
       "0  2020-05-31  2.113738        0.825169     0.226562\n",
       "1  2020-06-30  2.090606        0.814363     0.189572\n",
       "2  2020-07-31  2.099289        0.817050     0.195568\n",
       "3  2020-08-31  2.088366        0.815891     0.230065"
      ]
     },
     "execution_count": 11,
     "metadata": {},
     "output_type": "execute_result"
    }
   ],
   "source": [
    "metrics_df"
   ]
  },
  {
   "cell_type": "markdown",
   "metadata": {},
   "source": [
    "### Aggregate metrics"
   ]
  },
  {
   "cell_type": "code",
   "execution_count": 17,
   "metadata": {},
   "outputs": [
    {
     "data": {
      "text/html": [
       "<div>\n",
       "<style scoped>\n",
       "    .dataframe tbody tr th:only-of-type {\n",
       "        vertical-align: middle;\n",
       "    }\n",
       "\n",
       "    .dataframe tbody tr th {\n",
       "        vertical-align: top;\n",
       "    }\n",
       "\n",
       "    .dataframe thead th {\n",
       "        text-align: right;\n",
       "    }\n",
       "</style>\n",
       "<table border=\"1\" class=\"dataframe\">\n",
       "  <thead>\n",
       "    <tr style=\"text-align: right;\">\n",
       "      <th></th>\n",
       "      <th>lift</th>\n",
       "      <th>precision_at_k</th>\n",
       "      <th>recall_at_k</th>\n",
       "    </tr>\n",
       "  </thead>\n",
       "  <tbody>\n",
       "    <tr>\n",
       "      <th>max</th>\n",
       "      <td>2.113738</td>\n",
       "      <td>0.825169</td>\n",
       "      <td>0.230065</td>\n",
       "    </tr>\n",
       "    <tr>\n",
       "      <th>min</th>\n",
       "      <td>2.088366</td>\n",
       "      <td>0.814363</td>\n",
       "      <td>0.189572</td>\n",
       "    </tr>\n",
       "    <tr>\n",
       "      <th>std</th>\n",
       "      <td>0.011501</td>\n",
       "      <td>0.004827</td>\n",
       "      <td>0.020831</td>\n",
       "    </tr>\n",
       "    <tr>\n",
       "      <th>mean</th>\n",
       "      <td>2.098000</td>\n",
       "      <td>0.818118</td>\n",
       "      <td>0.210442</td>\n",
       "    </tr>\n",
       "  </tbody>\n",
       "</table>\n",
       "</div>"
      ],
      "text/plain": [
       "          lift  precision_at_k  recall_at_k\n",
       "max   2.113738        0.825169     0.230065\n",
       "min   2.088366        0.814363     0.189572\n",
       "std   0.011501        0.004827     0.020831\n",
       "mean  2.098000        0.818118     0.210442"
      ]
     },
     "execution_count": 17,
     "metadata": {},
     "output_type": "execute_result"
    }
   ],
   "source": [
    "metrics_aggs = metrics_df[['lift', \n",
    "                           'precision_at_k', \n",
    "                           'recall_at_k']].agg(['max', 'min', 'std', 'mean'])\n",
    "metrics_aggs"
   ]
  },
  {
   "cell_type": "markdown",
   "metadata": {},
   "source": [
    "### Save model"
   ]
  },
  {
   "cell_type": "code",
   "execution_count": 59,
   "metadata": {
    "scrolled": true
   },
   "outputs": [
    {
     "name": "stdout",
     "output_type": "stream",
     "text": [
      "2021-02-23 17:42:49,591 — __main__ — INFO — Save model\n"
     ]
    },
    {
     "data": {
      "text/plain": [
       "['models/sklearn_model.joblib']"
      ]
     },
     "execution_count": 59,
     "metadata": {},
     "output_type": "execute_result"
    }
   ],
   "source": [
    "#=== L ===\n",
    "logger.info('Save model')\n",
    "#=========\n",
    "\n",
    "joblib.dump(clf, sklearn_model_path)"
   ]
  },
  {
   "cell_type": "markdown",
   "metadata": {},
   "source": [
    "### Log to MLflow"
   ]
  },
  {
   "cell_type": "code",
   "execution_count": 14,
   "metadata": {},
   "outputs": [],
   "source": [
    "import mlflow\n",
    "from mlflow.sklearn import log_model"
   ]
  },
  {
   "cell_type": "markdown",
   "metadata": {},
   "source": [
    "Use this command once to create an experiments entity:"
   ]
  },
  {
   "cell_type": "code",
   "execution_count": null,
   "metadata": {},
   "outputs": [],
   "source": [
    "# mlflow.create_experiment('Try SkLearn random forest', artifact_location='/mlruns')"
   ]
  },
  {
   "cell_type": "code",
   "execution_count": 18,
   "metadata": {},
   "outputs": [
    {
     "name": "stdout",
     "output_type": "stream",
     "text": [
      "Usage: mlflow server [OPTIONS]\r\n",
      "\r\n",
      "  Run the MLflow tracking server.\r\n",
      "\r\n",
      "  The server which listen on http://localhost:5000 by default, and only\r\n",
      "  accept connections from the local machine. To let the server accept\r\n",
      "  connections from other machines, you will need to pass ``--host 0.0.0.0``\r\n",
      "  to listen on all network interfaces (or a specific interface address).\r\n",
      "\r\n",
      "Options:\r\n",
      "  --backend-store-uri PATH     URI to which to persist experiment and run\r\n",
      "                               data. Acceptable URIs are SQLAlchemy-compatible\r\n",
      "                               database connection strings (e.g.\r\n",
      "                               'sqlite:///path/to/file.db') or local\r\n",
      "                               filesystem URIs (e.g.\r\n",
      "                               'file:///absolute/path/to/directory'). By\r\n",
      "                               default, data will be logged to the ./mlruns\r\n",
      "                               directory.\r\n",
      "\r\n",
      "  --default-artifact-root URI  Local or S3 URI to store artifacts, for new\r\n",
      "                               experiments. Note that this flag does not\r\n",
      "                               impact already-created experiments. Default:\r\n",
      "                               Within file store, if a file:/ URI is provided.\r\n",
      "                               If a sql backend is used, then this option is\r\n",
      "                               required.\r\n",
      "\r\n",
      "  -h, --host HOST              The network address to listen on (default:\r\n",
      "                               127.0.0.1). Use 0.0.0.0 to bind to all\r\n",
      "                               addresses if you want to access the tracking\r\n",
      "                               server from other machines.\r\n",
      "\r\n",
      "  -p, --port INTEGER           The port to listen on (default: 5000).\r\n",
      "  -w, --workers TEXT           Number of gunicorn worker processes to handle\r\n",
      "                               requests (default: 4).\r\n",
      "\r\n",
      "  --static-prefix TEXT         A prefix which will be prepended to the path of\r\n",
      "                               all static paths.\r\n",
      "\r\n",
      "  --gunicorn-opts TEXT         Additional command line options forwarded to\r\n",
      "                               gunicorn processes.\r\n",
      "\r\n",
      "  --waitress-opts TEXT         Additional command line options for waitress-\r\n",
      "                               serve.\r\n",
      "\r\n",
      "  --expose-prometheus TEXT     Path to the directory where metrics will be\r\n",
      "                               stored. If the directory doesn't exist, it will\r\n",
      "                               be created. Activate prometheus exporter to\r\n",
      "                               expose metrics on /metrics endpoint.\r\n",
      "\r\n",
      "  --help                       Show this message and exit.\r\n"
     ]
    }
   ],
   "source": [
    "! mlflow server --help"
   ]
  },
  {
   "cell_type": "markdown",
   "metadata": {},
   "source": [
    "To make artifacts possible to be saved, Jupyter notebook have to be run with admin rights"
   ]
  },
  {
   "cell_type": "code",
   "execution_count": null,
   "metadata": {},
   "outputs": [],
   "source": [
    "# sudo jupyter notebook --allow-root"
   ]
  },
  {
   "cell_type": "code",
   "execution_count": 20,
   "metadata": {},
   "outputs": [],
   "source": [
    "mlflow.set_experiment(\"Try SkLearn random forest\")\n",
    "\n",
    "mlflow.end_run() # end active run if any\n",
    "with mlflow.start_run():\n",
    "    \n",
    "    mlflow.set_tags({'Tag': 42})\n",
    "    \n",
    "    #=== MLflow ===\n",
    "    # Just track params that we have set above manually:\n",
    "    mlflow.log_param('random_state', random_state)\n",
    "    mlflow.log_params(random_forest_params)\n",
    "    #==============\n",
    "    \n",
    "    # Log metrics:\n",
    "    metrics = {\n",
    "        f'{metric}_{agg}': metrics_aggs.loc[agg, metric]\n",
    "        for metric in metrics_aggs.columns\n",
    "        for agg in metrics_aggs.index\n",
    "    }\n",
    "    \n",
    "    #=== MLflow ===\n",
    "    mlflow.log_metrics(metrics)\n",
    "    # mlflow.log_artifacts('./models')\n",
    "    log_model(clf, 'sklearn_model')\n",
    "    #=============="
   ]
  },
  {
   "cell_type": "code",
   "execution_count": 29,
   "metadata": {},
   "outputs": [
    {
     "data": {
      "text/plain": [
       "'/mlruns/7fdede0a44284960ae6d9728c15cf4a3/artifacts'"
      ]
     },
     "execution_count": 29,
     "metadata": {},
     "output_type": "execute_result"
    }
   ],
   "source": [
    "mlflow.get_artifact_uri()"
   ]
  },
  {
   "cell_type": "code",
   "execution_count": 27,
   "metadata": {},
   "outputs": [
    {
     "data": {
      "text/plain": [
       "'file:///Users/antongusarov/ML_REPA/github/predict-device-change/mlruns'"
      ]
     },
     "execution_count": 27,
     "metadata": {},
     "output_type": "execute_result"
    }
   ],
   "source": [
    "mlflow.get_registry_uri()"
   ]
  },
  {
   "cell_type": "markdown",
   "metadata": {},
   "source": [
    "Here is where the data behind MLflow fron-end is strored. Especially, note the meta.yaml files where stored the meta data such as user names, experiments names etc. This is editable."
   ]
  },
  {
   "cell_type": "code",
   "execution_count": 23,
   "metadata": {},
   "outputs": [
    {
     "name": "stdout",
     "output_type": "stream",
     "text": [
      ".\n",
      "├── 1\n",
      "│   ├── 0386ed0584164effa5da170bf9e39004\n",
      "│   ├── 04f3d3ac3e9a4676a50c7649a2705589\n",
      "│   ├── 059b6db9d15f4e4abb257c4dd9e3ab39\n",
      "│   ├── 0d9a991081e34f32a3119d66150ea927\n",
      "│   ├── 176b8164d7f244538b7ea873166e8c46\n",
      "│   ├── 2d7edfe382e549efb7409a8260a4a93e\n",
      "│   ├── 2ec1cfd879514321956a85f99b98bd5e\n",
      "│   ├── 4b8c2260ab134750bf0b6f4376d5f048\n",
      "│   ├── 5245115eae2c4821b04f3c05f35170ae\n",
      "│   ├── 5553f4a1ccdb42dda2f95868991e0ade\n",
      "│   ├── 7fdede0a44284960ae6d9728c15cf4a3\n",
      "│   ├── 86d93d1075a24586a738587de71082f7\n",
      "│   ├── 8e9d45e7aad942beb742eff59b924bdf\n",
      "│   ├── 920331c0c2aa475b854911c74a7487cc\n",
      "│   ├── 922165a0f65f474a96263ab07a69735d\n",
      "│   ├── 9dfe0a738a0543eeaf989eedc6d71553\n",
      "│   ├── a5d3080b771a46f29f2165b4c791075b\n",
      "│   ├── ba398553577b4de190130580ed5fe37e\n",
      "│   ├── bdb2a0ff770643b3b87a8ac2dc62f62e\n",
      "│   ├── c563dba349a6467093162aad0d2ff979\n",
      "│   ├── c5d1010dd5de4938b057066b416df50e\n",
      "│   ├── dd4d131ada344eeaa2d9fe2b0c187ba3\n",
      "│   ├── de6b982476a145939cf56dd7ee7b9be1\n",
      "│   ├── df9e5731265c4eb0bfd20cc3e5b7ef88\n",
      "│   ├── eaccc42825964a97b428d81439550feb\n",
      "│   ├── eaf8de2c17304f6e8657af9a05653642\n",
      "│   ├── eb28881bf46e4882ae3da54e04982498\n",
      "│   ├── eb7d82dbbef34f658a4b3d9e582ca619\n",
      "│   ├── f53fac9896d04c36aa838c6e352015db\n",
      "│   ├── fcc606f073414b268de06748f480ba7e\n",
      "│   └── meta.yaml\n",
      "└── 2\n",
      "    ├── 0276c728aba646adb8b9b346a07ac987\n",
      "    ├── 4c6f804f441147a89326d1879ad58749\n",
      "    ├── 537055b522f740b7af8e9b8d99a9833b\n",
      "    ├── 7943c8820ac0467f95283274e93d561d\n",
      "    ├── b3cadb31b6b5417f82452e8553c9fa8c\n",
      "    ├── c253dc2a9e17473b8c1f2510c2269c95\n",
      "    ├── ed0ed669df9742558e02d662c18141d1\n",
      "    └── meta.yaml\n",
      "\n",
      "39 directories, 2 files\n"
     ]
    }
   ],
   "source": [
    "%%bash\n",
    "cd mlruns\n",
    "tree -L 2"
   ]
  }
 ],
 "metadata": {
  "kernelspec": {
   "display_name": "venv",
   "language": "python",
   "name": "venv"
  },
  "language_info": {
   "codemirror_mode": {
    "name": "ipython",
    "version": 3
   },
   "file_extension": ".py",
   "mimetype": "text/x-python",
   "name": "python",
   "nbconvert_exporter": "python",
   "pygments_lexer": "ipython3",
   "version": "3.7.6"
  },
  "toc": {
   "base_numbering": 1,
   "nav_menu": {},
   "number_sections": true,
   "sideBar": true,
   "skip_h1_title": false,
   "title_cell": "Table of Contents",
   "title_sidebar": "Contents",
   "toc_cell": true,
   "toc_position": {},
   "toc_section_display": true,
   "toc_window_display": true
  }
 },
 "nbformat": 4,
 "nbformat_minor": 4
}
