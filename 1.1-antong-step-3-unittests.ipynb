{
 "cells": [
  {
   "cell_type": "code",
   "execution_count": 2,
   "metadata": {},
   "outputs": [],
   "source": [
    "# For virtual environment: uncomment the lines below\n",
    "# %cd ..\n",
    "# %env PYTHONPATH=.\n",
    "\n",
    "# For Docker\n",
    "# %cd /home/binary_clf_device_change"
   ]
  },
  {
   "cell_type": "markdown",
   "metadata": {},
   "source": [
    "# Import"
   ]
  },
  {
   "cell_type": "code",
   "execution_count": 1,
   "metadata": {},
   "outputs": [],
   "source": [
    "import argparse\n",
    "import numpy \n",
    "import pandas as pd\n",
    "import re\n",
    "from typing import Text\n",
    "import yaml\n",
    "\n",
    "# import testing tools \n",
    "import pytest"
   ]
  },
  {
   "cell_type": "code",
   "execution_count": 2,
   "metadata": {},
   "outputs": [
    {
     "data": {
      "text/plain": [
       "'./config//params.yaml'"
      ]
     },
     "execution_count": 2,
     "metadata": {},
     "output_type": "execute_result"
    }
   ],
   "source": [
    "# Set common vars \n",
    "\n",
    "# For Docker \n",
    "# BASE_PATH = \"/home/binary_clf_device_change\"\n",
    "\n",
    "# For venv\n",
    "BASE_PATH = \"./config/\"\n",
    "\n",
    "CONFIG_PATH = f'{BASE_PATH}/params.yaml'\n",
    "CONFIG_PATH "
   ]
  },
  {
   "cell_type": "code",
   "execution_count": 3,
   "metadata": {
    "scrolled": true
   },
   "outputs": [
    {
     "data": {
      "text/plain": [
       "{'base': {'project_dir': '.', 'random_state': 42, 'log_level': 'DEBUG'},\n",
       " 'data_load': {'target': 'data/raw/target.feather',\n",
       "  'dataset': 'data/raw/user_features.feather',\n",
       "  'target_processed': 'data/processed/target.feather',\n",
       "  'dataset_processed': 'data/processed/user_features.feather'},\n",
       " 'featurize': {'features_path': 'data/processed/features.feather',\n",
       "  'categories': ['feature_17',\n",
       "   'feature_21',\n",
       "   'feature_11',\n",
       "   'feature_16',\n",
       "   'feature_22']},\n",
       " 'data_split': {'split_oos': True,\n",
       "  'test_size': 1,\n",
       "  'train_index_path': 'data/processed/train_index.csv',\n",
       "  'test_index_path': 'data/processed/test_index.csv'},\n",
       " 'train': {'catboost_params': {'iterations': 20,\n",
       "   'thread_count': 20,\n",
       "   'has_time': True,\n",
       "   'allow_writing_files': False},\n",
       "  'top_K_coef': 0.05,\n",
       "  'model_path': 'models/model.joblib',\n",
       "  'train_metrics': 'reports/train_metrics.json',\n",
       "  'train_metrics_path': 'reports/train_metrics.json',\n",
       "  'train_metrics_png': 'reports/train_metrics.png',\n",
       "  'train_plots_path': 'reports/train_plots.csv',\n",
       "  'raw_metrics_path': 'reports/raw_metrics.csv',\n",
       "  'encoder_path': 'models/encoder.pickle'}}"
      ]
     },
     "execution_count": 3,
     "metadata": {},
     "output_type": "execute_result"
    }
   ],
   "source": [
    "config = yaml.safe_load(open(CONFIG_PATH))\n",
    "config"
   ]
  },
  {
   "cell_type": "markdown",
   "metadata": {},
   "source": [
    "# Check if code works \n"
   ]
  },
  {
   "cell_type": "markdown",
   "metadata": {},
   "source": [
    "## Manual eye sanity checks"
   ]
  },
  {
   "cell_type": "code",
   "execution_count": 14,
   "metadata": {},
   "outputs": [
    {
     "name": "stdout",
     "output_type": "stream",
     "text": [
      "Hello manual, print, unit, integration!\n"
     ]
    }
   ],
   "source": [
    "# Say hello to all tests in the world:\n",
    "list_of_tests = ['manual', 'print', 'unit', 'integration']\n",
    "\n",
    "print('Hello {}!'.format(', '.join(list_of_tests)))"
   ]
  },
  {
   "cell_type": "markdown",
   "metadata": {},
   "source": [
    "## Defensive programming: assertions "
   ]
  },
  {
   "cell_type": "code",
   "execution_count": 15,
   "metadata": {},
   "outputs": [
    {
     "name": "stdout",
     "output_type": "stream",
     "text": [
      "Hello manual, print, unit, integration!\n"
     ]
    }
   ],
   "source": [
    "# Assertion example\n",
    "\n",
    "def hello_tests(list_of_tests):\n",
    "    assert len(list_of_tests) > 0, 'Test list is empty'\n",
    "    print('Hello {}!'.format(', '.join(list_of_tests)))\n",
    "\n",
    "    \n",
    "hello_tests(['manual', 'print', 'unit', 'integration'])"
   ]
  },
  {
   "cell_type": "code",
   "execution_count": 16,
   "metadata": {},
   "outputs": [
    {
     "ename": "AssertionError",
     "evalue": "Test list is empty",
     "output_type": "error",
     "traceback": [
      "\u001b[0;31m---------------------------------------------------------------------------\u001b[0m",
      "\u001b[0;31mAssertionError\u001b[0m                            Traceback (most recent call last)",
      "\u001b[0;32m<ipython-input-16-bc20a8d2528e>\u001b[0m in \u001b[0;36m<module>\u001b[0;34m\u001b[0m\n\u001b[0;32m----> 1\u001b[0;31m \u001b[0mhello_tests\u001b[0m\u001b[0;34m(\u001b[0m\u001b[0;34m[\u001b[0m\u001b[0;34m]\u001b[0m\u001b[0;34m)\u001b[0m\u001b[0;34m\u001b[0m\u001b[0;34m\u001b[0m\u001b[0m\n\u001b[0m",
      "\u001b[0;32m<ipython-input-15-4bb010d19404>\u001b[0m in \u001b[0;36mhello_tests\u001b[0;34m(list_of_tests)\u001b[0m\n\u001b[1;32m      2\u001b[0m \u001b[0;34m\u001b[0m\u001b[0m\n\u001b[1;32m      3\u001b[0m \u001b[0;32mdef\u001b[0m \u001b[0mhello_tests\u001b[0m\u001b[0;34m(\u001b[0m\u001b[0mlist_of_tests\u001b[0m\u001b[0;34m)\u001b[0m\u001b[0;34m:\u001b[0m\u001b[0;34m\u001b[0m\u001b[0;34m\u001b[0m\u001b[0m\n\u001b[0;32m----> 4\u001b[0;31m     \u001b[0;32massert\u001b[0m \u001b[0mlen\u001b[0m\u001b[0;34m(\u001b[0m\u001b[0mlist_of_tests\u001b[0m\u001b[0;34m)\u001b[0m \u001b[0;34m>\u001b[0m \u001b[0;36m0\u001b[0m\u001b[0;34m,\u001b[0m \u001b[0;34m'Test list is empty'\u001b[0m\u001b[0;34m\u001b[0m\u001b[0;34m\u001b[0m\u001b[0m\n\u001b[0m\u001b[1;32m      5\u001b[0m     \u001b[0mprint\u001b[0m\u001b[0;34m(\u001b[0m\u001b[0;34m'Hello {}!'\u001b[0m\u001b[0;34m.\u001b[0m\u001b[0mformat\u001b[0m\u001b[0;34m(\u001b[0m\u001b[0;34m', '\u001b[0m\u001b[0;34m.\u001b[0m\u001b[0mjoin\u001b[0m\u001b[0;34m(\u001b[0m\u001b[0mlist_of_tests\u001b[0m\u001b[0;34m)\u001b[0m\u001b[0;34m)\u001b[0m\u001b[0;34m)\u001b[0m\u001b[0;34m\u001b[0m\u001b[0;34m\u001b[0m\u001b[0m\n\u001b[1;32m      6\u001b[0m \u001b[0;34m\u001b[0m\u001b[0m\n",
      "\u001b[0;31mAssertionError\u001b[0m: Test list is empty"
     ]
    }
   ],
   "source": [
    "hello_tests([])"
   ]
  },
  {
   "cell_type": "markdown",
   "metadata": {},
   "source": [
    "## Test example"
   ]
  },
  {
   "cell_type": "code",
   "execution_count": 22,
   "metadata": {},
   "outputs": [],
   "source": [
    "# content of test_sample.py\n",
    "def inc(x):\n",
    "    return x + 1\n",
    "\n",
    "\n",
    "def test_answer():\n",
    "    assert inc(3) == 4\n",
    "    assert inc(3) != 5"
   ]
  },
  {
   "cell_type": "code",
   "execution_count": 23,
   "metadata": {},
   "outputs": [],
   "source": [
    "test_answer()"
   ]
  },
  {
   "cell_type": "markdown",
   "metadata": {},
   "source": [
    "# Tools review"
   ]
  },
  {
   "cell_type": "markdown",
   "metadata": {},
   "source": [
    "## Working with Pandas DataFrames"
   ]
  },
  {
   "cell_type": "code",
   "execution_count": 4,
   "metadata": {},
   "outputs": [
    {
     "data": {
      "text/html": [
       "<div>\n",
       "<style scoped>\n",
       "    .dataframe tbody tr th:only-of-type {\n",
       "        vertical-align: middle;\n",
       "    }\n",
       "\n",
       "    .dataframe tbody tr th {\n",
       "        vertical-align: top;\n",
       "    }\n",
       "\n",
       "    .dataframe thead th {\n",
       "        text-align: right;\n",
       "    }\n",
       "</style>\n",
       "<table border=\"1\" class=\"dataframe\">\n",
       "  <thead>\n",
       "    <tr style=\"text-align: right;\">\n",
       "      <th></th>\n",
       "      <th>test</th>\n",
       "      <th>count</th>\n",
       "      <th>times</th>\n",
       "    </tr>\n",
       "  </thead>\n",
       "  <tbody>\n",
       "    <tr>\n",
       "      <th>0</th>\n",
       "      <td>unit</td>\n",
       "      <td>50</td>\n",
       "      <td>100</td>\n",
       "    </tr>\n",
       "    <tr>\n",
       "      <th>1</th>\n",
       "      <td>print</td>\n",
       "      <td>0</td>\n",
       "      <td>2050</td>\n",
       "    </tr>\n",
       "    <tr>\n",
       "      <th>2</th>\n",
       "      <td>unit</td>\n",
       "      <td>10</td>\n",
       "      <td>2050</td>\n",
       "    </tr>\n",
       "    <tr>\n",
       "      <th>3</th>\n",
       "      <td>integration</td>\n",
       "      <td>3</td>\n",
       "      <td>3232</td>\n",
       "    </tr>\n",
       "  </tbody>\n",
       "</table>\n",
       "</div>"
      ],
      "text/plain": [
       "          test  count  times\n",
       "0         unit     50    100\n",
       "1        print      0   2050\n",
       "2         unit     10   2050\n",
       "3  integration      3   3232"
      ]
     },
     "execution_count": 4,
     "metadata": {},
     "output_type": "execute_result"
    }
   ],
   "source": [
    "import pandas as pd\n",
    "import numpy as np\n",
    "\n",
    "df = pd.DataFrame({'test': ['unit', 'print', 'unit', 'integration'],\n",
    "                   'count': [50, 0, 10, 3],\n",
    "                   'times': [100, 2050, 2050, 3232]})\n",
    "df"
   ]
  },
  {
   "cell_type": "markdown",
   "metadata": {},
   "source": [
    "### Checking for duplicates and missing values"
   ]
  },
  {
   "cell_type": "code",
   "execution_count": 31,
   "metadata": {},
   "outputs": [],
   "source": [
    "# Checking missing values\n",
    "\n",
    "assert df.notnull().all().all()\n",
    "assert ~df.isnull().any().any()\n",
    "assert df.isnull().sum().sum() == 0"
   ]
  },
  {
   "cell_type": "code",
   "execution_count": 48,
   "metadata": {},
   "outputs": [
    {
     "data": {
      "text/html": [
       "<div>\n",
       "<style scoped>\n",
       "    .dataframe tbody tr th:only-of-type {\n",
       "        vertical-align: middle;\n",
       "    }\n",
       "\n",
       "    .dataframe tbody tr th {\n",
       "        vertical-align: top;\n",
       "    }\n",
       "\n",
       "    .dataframe thead th {\n",
       "        text-align: right;\n",
       "    }\n",
       "</style>\n",
       "<table border=\"1\" class=\"dataframe\">\n",
       "  <thead>\n",
       "    <tr style=\"text-align: right;\">\n",
       "      <th></th>\n",
       "      <th>test</th>\n",
       "      <th>count</th>\n",
       "      <th>times</th>\n",
       "    </tr>\n",
       "  </thead>\n",
       "  <tbody>\n",
       "    <tr>\n",
       "      <th>0</th>\n",
       "      <td>False</td>\n",
       "      <td>False</td>\n",
       "      <td>False</td>\n",
       "    </tr>\n",
       "    <tr>\n",
       "      <th>1</th>\n",
       "      <td>False</td>\n",
       "      <td>False</td>\n",
       "      <td>False</td>\n",
       "    </tr>\n",
       "    <tr>\n",
       "      <th>2</th>\n",
       "      <td>False</td>\n",
       "      <td>False</td>\n",
       "      <td>False</td>\n",
       "    </tr>\n",
       "    <tr>\n",
       "      <th>3</th>\n",
       "      <td>False</td>\n",
       "      <td>False</td>\n",
       "      <td>False</td>\n",
       "    </tr>\n",
       "  </tbody>\n",
       "</table>\n",
       "</div>"
      ],
      "text/plain": [
       "    test  count  times\n",
       "0  False  False  False\n",
       "1  False  False  False\n",
       "2  False  False  False\n",
       "3  False  False  False"
      ]
     },
     "execution_count": 48,
     "metadata": {},
     "output_type": "execute_result"
    }
   ],
   "source": [
    "df.isnull()"
   ]
  },
  {
   "cell_type": "code",
   "execution_count": 47,
   "metadata": {},
   "outputs": [
    {
     "data": {
      "text/plain": [
       "test     True\n",
       "count    True\n",
       "times    True\n",
       "dtype: bool"
      ]
     },
     "execution_count": 47,
     "metadata": {},
     "output_type": "execute_result"
    }
   ],
   "source": [
    "df.notna().all()"
   ]
  },
  {
   "cell_type": "code",
   "execution_count": 52,
   "metadata": {},
   "outputs": [
    {
     "data": {
      "text/plain": [
       "0    False\n",
       "1    False\n",
       "2    False\n",
       "3    False\n",
       "dtype: bool"
      ]
     },
     "execution_count": 52,
     "metadata": {},
     "output_type": "execute_result"
    }
   ],
   "source": [
    "df.duplicated() # Return boolean Series denoting duplicate rows."
   ]
  },
  {
   "cell_type": "code",
   "execution_count": 49,
   "metadata": {},
   "outputs": [],
   "source": [
    "# duplicated() - Checking for duplicates\n",
    "# any() - return whether any element is True, potentially over an axis.\n",
    "\n",
    "assert ~df.duplicated().any()"
   ]
  },
  {
   "cell_type": "code",
   "execution_count": 5,
   "metadata": {},
   "outputs": [
    {
     "ename": "ValueError",
     "evalue": "Duplicate records found for \"test\" attribute",
     "output_type": "error",
     "traceback": [
      "\u001b[0;31m---------------------------------------------------------------------------\u001b[0m",
      "\u001b[0;31mValueError\u001b[0m                                Traceback (most recent call last)",
      "\u001b[0;32m<ipython-input-5-3a45150985ad>\u001b[0m in \u001b[0;36m<module>\u001b[0;34m\u001b[0m\n\u001b[1;32m      1\u001b[0m \u001b[0;32mif\u001b[0m \u001b[0mdf\u001b[0m\u001b[0;34m.\u001b[0m\u001b[0mduplicated\u001b[0m\u001b[0;34m(\u001b[0m\u001b[0msubset\u001b[0m\u001b[0;34m=\u001b[0m\u001b[0;34m[\u001b[0m\u001b[0;34m'test'\u001b[0m\u001b[0;34m]\u001b[0m\u001b[0;34m)\u001b[0m\u001b[0;34m.\u001b[0m\u001b[0many\u001b[0m\u001b[0;34m(\u001b[0m\u001b[0;34m)\u001b[0m\u001b[0;34m:\u001b[0m\u001b[0;34m\u001b[0m\u001b[0;34m\u001b[0m\u001b[0m\n\u001b[0;32m----> 2\u001b[0;31m     \u001b[0;32mraise\u001b[0m \u001b[0mValueError\u001b[0m\u001b[0;34m(\u001b[0m\u001b[0;34m'Duplicate records found for \"test\" attribute'\u001b[0m\u001b[0;34m)\u001b[0m\u001b[0;34m\u001b[0m\u001b[0;34m\u001b[0m\u001b[0m\n\u001b[0m",
      "\u001b[0;31mValueError\u001b[0m: Duplicate records found for \"test\" attribute"
     ]
    }
   ],
   "source": [
    "if df.duplicated(subset=['test']).any():\n",
    "    raise ValueError('Duplicate records found for \"test\" attribute')"
   ]
  },
  {
   "cell_type": "markdown",
   "metadata": {},
   "source": [
    "### Pandas built in testing utilities \n",
    "- https://pandas.pydata.org/pandas-docs/stable/reference/api/pandas.testing.assert_frame_equal.html "
   ]
  },
  {
   "cell_type": "code",
   "execution_count": 58,
   "metadata": {},
   "outputs": [],
   "source": [
    "from pandas.testing import assert_frame_equal\n",
    "from pandas.testing import assert_index_equal\n",
    "from pandas.testing import assert_series_equal"
   ]
  },
  {
   "cell_type": "code",
   "execution_count": 63,
   "metadata": {},
   "outputs": [],
   "source": [
    "from pandas._testing import assert_frame_equal\n",
    "\n",
    "df1 = pd.DataFrame({'a': [1, 2], \n",
    "                    'b': [3, 4]})\n",
    "\n",
    "df2 = pd.DataFrame({'a': [1, 2], \n",
    "                    'b': [3.0, 4.0]})"
   ]
  },
  {
   "cell_type": "code",
   "execution_count": 64,
   "metadata": {},
   "outputs": [],
   "source": [
    "# df1 equals itself\n",
    "\n",
    "assert_frame_equal(df1, df1)"
   ]
  },
  {
   "cell_type": "code",
   "execution_count": 65,
   "metadata": {},
   "outputs": [
    {
     "ename": "AssertionError",
     "evalue": "Attributes of DataFrame.iloc[:, 1] (column name=\"b\") are different\n\nAttribute \"dtype\" are different\n[left]:  int64\n[right]: float64",
     "output_type": "error",
     "traceback": [
      "\u001b[0;31m---------------------------------------------------------------------------\u001b[0m",
      "\u001b[0;31mAssertionError\u001b[0m                            Traceback (most recent call last)",
      "\u001b[0;32m<ipython-input-65-18f842e84abf>\u001b[0m in \u001b[0;36m<module>\u001b[0;34m\u001b[0m\n\u001b[1;32m      1\u001b[0m \u001b[0;31m# df1 differs from df2 as column ‘b’ is of a different type.\u001b[0m\u001b[0;34m\u001b[0m\u001b[0;34m\u001b[0m\u001b[0;34m\u001b[0m\u001b[0m\n\u001b[1;32m      2\u001b[0m \u001b[0;34m\u001b[0m\u001b[0m\n\u001b[0;32m----> 3\u001b[0;31m \u001b[0massert_frame_equal\u001b[0m\u001b[0;34m(\u001b[0m\u001b[0mdf1\u001b[0m\u001b[0;34m,\u001b[0m \u001b[0mdf2\u001b[0m\u001b[0;34m)\u001b[0m\u001b[0;34m\u001b[0m\u001b[0;34m\u001b[0m\u001b[0m\n\u001b[0m",
      "    \u001b[0;31m[... skipping hidden 4 frame]\u001b[0m\n",
      "\u001b[0;31mAssertionError\u001b[0m: Attributes of DataFrame.iloc[:, 1] (column name=\"b\") are different\n\nAttribute \"dtype\" are different\n[left]:  int64\n[right]: float64"
     ]
    }
   ],
   "source": [
    "# df1 differs from df2 as column ‘b’ is of a different type\n",
    "\n",
    "assert_frame_equal(df1, df2)"
   ]
  },
  {
   "cell_type": "code",
   "execution_count": 66,
   "metadata": {},
   "outputs": [],
   "source": [
    "# Ignore differing dtypes in columns with check_dtype.\n",
    "\n",
    "assert_frame_equal(df1, df2, check_dtype=False)"
   ]
  },
  {
   "cell_type": "markdown",
   "metadata": {},
   "source": [
    "## Pytest\n",
    "\n",
    "Features:\n",
    "\n",
    "- All test functions are pre-fixed with test_\n",
    "- All modules containing tests are prefixed with test_\n",
    "\n",
    "\n",
    "https://docs.pytest.org/en/stable/index.html"
   ]
  },
  {
   "cell_type": "markdown",
   "metadata": {},
   "source": [
    "Move followint code to `test/test_sample.py` & run 'pytest' command in terminal\n",
    "\n",
    "```python\n",
    "def inc(x):\n",
    "    return x + 1\n",
    "\n",
    "\n",
    "def test_answer():\n",
    "    assert inc(3) == 5\n",
    "```"
   ]
  },
  {
   "cell_type": "markdown",
   "metadata": {},
   "source": [
    "Run tests in terminal: \n",
    "    \n",
    "```bash \n",
    "pytest\n",
    "```"
   ]
  },
  {
   "cell_type": "code",
   "execution_count": 34,
   "metadata": {},
   "outputs": [
    {
     "name": "stdout",
     "output_type": "stream",
     "text": [
      "\u001b[1m============================= test session starts ==============================\u001b[0m\n",
      "platform darwin -- Python 3.7.6, pytest-6.2.2, py-1.10.0, pluggy-0.13.1\n",
      "rootdir: /Users/antongusarov/ML_REPA/github/predict-device-change\n",
      "plugins: hypothesis-6.1.1\n",
      "collected 2 items                                                              \u001b[0m\n",
      "\n",
      "test/test_demo.py \u001b[31mF\u001b[0m\u001b[32m.\u001b[0m\u001b[31m                                                     [100%]\u001b[0m\n",
      "\n",
      "=================================== FAILURES ===================================\n",
      "\u001b[31m\u001b[1m________________________________ test_answer_1 _________________________________\u001b[0m\n",
      "\n",
      "    \u001b[94mdef\u001b[39;49;00m \u001b[92mtest_answer_1\u001b[39;49;00m():\n",
      ">       \u001b[94massert\u001b[39;49;00m inc(\u001b[94m3\u001b[39;49;00m) == \u001b[94m5\u001b[39;49;00m\n",
      "\u001b[1m\u001b[31mE       assert 4 == 5\u001b[0m\n",
      "\u001b[1m\u001b[31mE        +  where 4 = inc(3)\u001b[0m\n",
      "\n",
      "\u001b[1m\u001b[31mtest/test_demo.py\u001b[0m:6: AssertionError\n",
      "=========================== short test summary info ============================\n",
      "FAILED test/test_demo.py::test_answer_1 - assert 4 == 5\n",
      "\u001b[31m========================= \u001b[31m\u001b[1m1 failed\u001b[0m, \u001b[32m1 passed\u001b[0m\u001b[31m in 0.17s\u001b[0m\u001b[31m ==========================\u001b[0m\n"
     ]
    }
   ],
   "source": [
    "! pytest"
   ]
  },
  {
   "cell_type": "markdown",
   "metadata": {},
   "source": [
    "## Hypothesis\n",
    "**Propety-based** testing\n",
    "\n",
    "With Hypothesis https://hypothesis.readthedocs.io/en/latest/"
   ]
  },
  {
   "cell_type": "code",
   "execution_count": 32,
   "metadata": {},
   "outputs": [
    {
     "name": "stdout",
     "output_type": "stream",
     "text": [
      "Examples of integers:\n",
      "0\n",
      "-13\n",
      "32573\n"
     ]
    }
   ],
   "source": [
    "# Hypothesis - Automatic data generation for property based testing\n",
    "from hypothesis import strategies as st\n",
    "\n",
    "print('Examples of integers:')\n",
    "print(st.integers().example())\n",
    "print(st.integers().example())\n",
    "print(st.integers().example())"
   ]
  },
  {
   "cell_type": "code",
   "execution_count": 91,
   "metadata": {},
   "outputs": [
    {
     "data": {
      "text/plain": [
       "'0'"
      ]
     },
     "execution_count": 91,
     "metadata": {},
     "output_type": "execute_result"
    }
   ],
   "source": [
    "st.text().example()"
   ]
  },
  {
   "cell_type": "markdown",
   "metadata": {},
   "source": [
    "**Create Hypothesis test example**\n",
    "\n",
    "- Create file: notebook/tests/demo_hypothesis.py \n",
    "- Add code: demo_hypothesis.py \n",
    "Example source: https://github.com/jesford/testing-in-data-science/blob/master/intro-to-testing-presentation.ipynb "
   ]
  },
  {
   "cell_type": "code",
   "execution_count": 98,
   "metadata": {},
   "outputs": [
    {
     "name": "stdout",
     "output_type": "stream",
     "text": [
      "\u001b[1m============================= test session starts ==============================\u001b[0m\n",
      "platform darwin -- Python 3.7.6, pytest-6.2.2, py-1.10.0, pluggy-0.13.1\n",
      "rootdir: /Users/antongusarov/ML_REPA/github/predict-device-change\n",
      "plugins: hypothesis-6.1.1\n",
      "collected 4 items                                                              \u001b[0m\n",
      "\n",
      "test/test_demo.py \u001b[32m.\u001b[0m\u001b[31mF\u001b[0m\u001b[32m.\u001b[0m\u001b[31m                                                    [ 75%]\u001b[0m\n",
      "test/test_hypothesis_demo.py \u001b[32m.\u001b[0m\u001b[31m                                           [100%]\u001b[0m\n",
      "\n",
      "=================================== FAILURES ===================================\n",
      "\u001b[31m\u001b[1m________________________________ test_inc_type _________________________________\u001b[0m\n",
      "\n",
      "get_test_data = [(0, 1), (-2, -1), (-1, 0), (3, 4), (-1.0, 0.0)]\n",
      "\n",
      "    \u001b[94mdef\u001b[39;49;00m \u001b[92mtest_inc_type\u001b[39;49;00m(get_test_data):\n",
      "        \u001b[94mfor\u001b[39;49;00m data \u001b[95min\u001b[39;49;00m get_test_data:\n",
      "            num = data[\u001b[94m0\u001b[39;49;00m]\n",
      "            expected = data[\u001b[94m1\u001b[39;49;00m]\n",
      ">           \u001b[94massert\u001b[39;49;00m \u001b[96misinstance\u001b[39;49;00m(inc(num), \u001b[96mint\u001b[39;49;00m)\n",
      "\u001b[1m\u001b[31mE           assert False\u001b[0m\n",
      "\u001b[1m\u001b[31mE            +  where False = isinstance(1.0, int)\u001b[0m\n",
      "\u001b[1m\u001b[31mE            +    where 1.0 = inc(0)\u001b[0m\n",
      "\n",
      "\u001b[1m\u001b[31mtest/test_demo.py\u001b[0m:34: AssertionError\n",
      "=========================== short test summary info ============================\n",
      "FAILED test/test_demo.py::test_inc_type - assert False\n",
      "\u001b[31m========================= \u001b[31m\u001b[1m1 failed\u001b[0m, \u001b[32m3 passed\u001b[0m\u001b[31m in 0.42s\u001b[0m\u001b[31m ==========================\u001b[0m\n"
     ]
    }
   ],
   "source": [
    "# By default `pytest` looking for files with 'test_' prefix only\n",
    "\n",
    "!pytest"
   ]
  },
  {
   "cell_type": "code",
   "execution_count": 95,
   "metadata": {},
   "outputs": [
    {
     "name": "stdout",
     "output_type": "stream",
     "text": [
      "\u001b[1m============================= test session starts ==============================\u001b[0m\n",
      "platform darwin -- Python 3.7.6, pytest-6.2.2, py-1.10.0, pluggy-0.13.1\n",
      "rootdir: /Users/antongusarov/ML_REPA/github/predict-device-change\n",
      "plugins: hypothesis-6.1.1\n",
      "collected 1 item                                                               \u001b[0m\n",
      "\n",
      "test/test_hypothesis_demo.py \u001b[32m.\u001b[0m\u001b[32m                                           [100%]\u001b[0m\n",
      "\n",
      "\u001b[32m============================== \u001b[32m\u001b[1m1 passed\u001b[0m\u001b[32m in 0.26s\u001b[0m\u001b[32m ===============================\u001b[0m\n"
     ]
    }
   ],
   "source": [
    "# Specify test file name to run a specific test file \n",
    "\n",
    "!pytest test/test_hypothesis_demo.py"
   ]
  },
  {
   "cell_type": "code",
   "execution_count": 99,
   "metadata": {},
   "outputs": [
    {
     "name": "stdout",
     "output_type": "stream",
     "text": [
      "\u001b[1m============================= test session starts ==============================\u001b[0m\n",
      "platform darwin -- Python 3.7.6, pytest-6.2.2, py-1.10.0, pluggy-0.13.1\n",
      "rootdir: /Users/antongusarov/ML_REPA/github/predict-device-change\n",
      "plugins: hypothesis-6.1.1\n",
      "collected 1 item                                                               \u001b[0m\n",
      "\n",
      "test/test_hypothesis_demo.py \u001b[32m.\u001b[0m\u001b[32m                                           [100%]\u001b[0m\n",
      "============================ Hypothesis Statistics =============================\n",
      "\n",
      "test/test_hypothesis_demo.py::test_backwards_all_caps:\n",
      "\n",
      "  - during reuse phase (0.00 seconds):\n",
      "    - Typical runtimes: < 1ms, ~ 51% in data generation\n",
      "    - 2 passing examples, 0 failing examples, 0 invalid examples\n",
      "\n",
      "  - during generate phase (0.20 seconds):\n",
      "    - Typical runtimes: 0-1 ms, ~ 71% in data generation\n",
      "    - 98 passing examples, 0 failing examples, 2 invalid examples\n",
      "\n",
      "  - Stopped because settings.max_examples=100\n",
      "\n",
      "\n",
      "\u001b[32m============================== \u001b[32m\u001b[1m1 passed\u001b[0m\u001b[32m in 0.23s\u001b[0m\u001b[32m ===============================\u001b[0m\n"
     ]
    }
   ],
   "source": [
    "# Use `--hypothesis-show-statistics` to show details \n",
    "\n",
    "!pytest test/test_hypothesis_demo.py --hypothesis-show-statistics"
   ]
  },
  {
   "cell_type": "markdown",
   "metadata": {},
   "source": [
    "## Hypothesis + Pandas\n",
    "https://hypothesis.readthedocs.io/en/latest/numpy.html#pandas\n",
    "\n",
    "https://hypothesis.readthedocs.io/en/latest/numpy.html#numpy"
   ]
  },
  {
   "cell_type": "code",
   "execution_count": 102,
   "metadata": {},
   "outputs": [
    {
     "data": {
      "text/html": [
       "<div>\n",
       "<style scoped>\n",
       "    .dataframe tbody tr th:only-of-type {\n",
       "        vertical-align: middle;\n",
       "    }\n",
       "\n",
       "    .dataframe tbody tr th {\n",
       "        vertical-align: top;\n",
       "    }\n",
       "\n",
       "    .dataframe thead th {\n",
       "        text-align: right;\n",
       "    }\n",
       "</style>\n",
       "<table border=\"1\" class=\"dataframe\">\n",
       "  <thead>\n",
       "    <tr style=\"text-align: right;\">\n",
       "      <th></th>\n",
       "      <th>user_id</th>\n",
       "      <th>prob_score</th>\n",
       "    </tr>\n",
       "  </thead>\n",
       "  <tbody>\n",
       "    <tr>\n",
       "      <th>0</th>\n",
       "      <td>56626</td>\n",
       "      <td>0.723226</td>\n",
       "    </tr>\n",
       "    <tr>\n",
       "      <th>1</th>\n",
       "      <td>49808</td>\n",
       "      <td>0.031927</td>\n",
       "    </tr>\n",
       "    <tr>\n",
       "      <th>2</th>\n",
       "      <td>83502</td>\n",
       "      <td>0.445731</td>\n",
       "    </tr>\n",
       "  </tbody>\n",
       "</table>\n",
       "</div>"
      ],
      "text/plain": [
       "   user_id  prob_score\n",
       "0    56626    0.723226\n",
       "1    49808    0.031927\n",
       "2    83502    0.445731"
      ]
     },
     "execution_count": 102,
     "metadata": {},
     "output_type": "execute_result"
    }
   ],
   "source": [
    "from hypothesis import strategies as st\n",
    "from hypothesis.extra.pandas import data_frames, column, range_indexes, series\n",
    "\n",
    "\n",
    "# Generate example of sample scoring results\n",
    "# Provides a strategy for producing a pandas.DataFrame:\n",
    "data_frames([column('user_id',\n",
    "                    elements=st.integers(min_value=0, max_value=100_000),\n",
    "                    dtype=int, \n",
    "                    unique=True),\n",
    "             column('prob_score',\n",
    "                    elements=st.floats(min_value=0, max_value=1),\n",
    "                    unique=True)]\n",
    "           ).example()"
   ]
  },
  {
   "cell_type": "code",
   "execution_count": 103,
   "metadata": {},
   "outputs": [
    {
     "data": {
      "text/html": [
       "<div>\n",
       "<style scoped>\n",
       "    .dataframe tbody tr th:only-of-type {\n",
       "        vertical-align: middle;\n",
       "    }\n",
       "\n",
       "    .dataframe tbody tr th {\n",
       "        vertical-align: top;\n",
       "    }\n",
       "\n",
       "    .dataframe thead th {\n",
       "        text-align: right;\n",
       "    }\n",
       "</style>\n",
       "<table border=\"1\" class=\"dataframe\">\n",
       "  <thead>\n",
       "    <tr style=\"text-align: right;\">\n",
       "      <th></th>\n",
       "      <th>user_id</th>\n",
       "      <th>month</th>\n",
       "      <th>feature_21</th>\n",
       "    </tr>\n",
       "  </thead>\n",
       "  <tbody>\n",
       "    <tr>\n",
       "      <th>0</th>\n",
       "      <td>60692</td>\n",
       "      <td>2020-06-27 20:06:13.703764</td>\n",
       "      <td>ñ񜬅AÕ</td>\n",
       "    </tr>\n",
       "    <tr>\n",
       "      <th>1</th>\n",
       "      <td>37560</td>\n",
       "      <td>2020-06-23 03:35:27.974779</td>\n",
       "      <td>񖖭Û</td>\n",
       "    </tr>\n",
       "    <tr>\n",
       "      <th>2</th>\n",
       "      <td>4248</td>\n",
       "      <td>2020-06-01 22:08:57.506080</td>\n",
       "      <td>}􍔣¶§ü</td>\n",
       "    </tr>\n",
       "    <tr>\n",
       "      <th>3</th>\n",
       "      <td>78847</td>\n",
       "      <td>2020-06-03 01:25:22.491984</td>\n",
       "      <td>N򃏆ní³</td>\n",
       "    </tr>\n",
       "    <tr>\n",
       "      <th>4</th>\n",
       "      <td>85410</td>\n",
       "      <td>2020-06-07 04:27:12.981496</td>\n",
       "      <td>9</td>\n",
       "    </tr>\n",
       "    <tr>\n",
       "      <th>5</th>\n",
       "      <td>78726</td>\n",
       "      <td>2020-05-20 23:25:38.249477</td>\n",
       "      <td>z×</td>\n",
       "    </tr>\n",
       "    <tr>\n",
       "      <th>6</th>\n",
       "      <td>41674</td>\n",
       "      <td>2020-05-23 04:25:12.624769</td>\n",
       "      <td></td>\n",
       "    </tr>\n",
       "  </tbody>\n",
       "</table>\n",
       "</div>"
      ],
      "text/plain": [
       "   user_id                       month feature_21\n",
       "0    60692  2020-06-27 20:06:13.703764       ñ񜬅AÕ\n",
       "1    37560  2020-06-23 03:35:27.974779         񖖭Û\n",
       "2     4248  2020-06-01 22:08:57.506080      }􍔣¶§ü\n",
       "3    78847  2020-06-03 01:25:22.491984      N򃏆ní³\n",
       "4    85410  2020-06-07 04:27:12.981496          9\n",
       "5    78726  2020-05-20 23:25:38.249477         z×\n",
       "6    41674  2020-05-23 04:25:12.624769           "
      ]
     },
     "execution_count": 103,
     "metadata": {},
     "output_type": "execute_result"
    }
   ],
   "source": [
    "# Example for features sample\n",
    "data_frames(index=range_indexes(min_size=5, max_size=10),\n",
    "            columns = [column('user_id', \n",
    "                               elements=st.integers(min_value=1, max_value=100000), \n",
    "                               dtype=int, \n",
    "                               unique=True),\n",
    "                       column('month', \n",
    "                               elements=st.datetimes(\n",
    "                                   min_value=pd.Timestamp(2020, 4, 30),\n",
    "                                   max_value=pd.Timestamp(2020, 8, 31)),\n",
    "                               unique=True),\n",
    "                       column('feature_21',\n",
    "                               elements=st.text(), \n",
    "                               unique=True)\n",
    "            ]).example()\n"
   ]
  },
  {
   "cell_type": "markdown",
   "metadata": {},
   "source": [
    "# Unit Testing"
   ]
  },
  {
   "cell_type": "markdown",
   "metadata": {},
   "source": [
    "## Load feature data"
   ]
  },
  {
   "cell_type": "code",
   "execution_count": 104,
   "metadata": {},
   "outputs": [],
   "source": [
    "# Data for the project\n",
    "target_csv = 'data/raw/target.feather'\n",
    "user_features_raw = 'data/raw/user_features.feather'\n",
    "\n",
    "# Features\n",
    "categories = ['feature_17', 'feature_21', 'feature_11', 'feature_16', 'feature_22']  \n",
    "\n",
    "num_features = ['feature_1', 'feature_2', 'feature_3', 'feature_4',\n",
    "                'feature_5', 'feature_6', 'feature_7', 'feature_8', 'feature_9',\n",
    "                'feature_10', 'feature_12', 'feature_13', 'feature_14', 'feature_15',\n",
    "                'feature_18', 'feature_19', 'feature_20', 'feature_23', 'feature_24',\n",
    "                'feature_25', 'feature_26', 'feature_27', 'feature_28', 'feature_29',\n",
    "                'feature_30']"
   ]
  },
  {
   "cell_type": "code",
   "execution_count": 110,
   "metadata": {},
   "outputs": [
    {
     "data": {
      "text/html": [
       "<div>\n",
       "<style scoped>\n",
       "    .dataframe tbody tr th:only-of-type {\n",
       "        vertical-align: middle;\n",
       "    }\n",
       "\n",
       "    .dataframe tbody tr th {\n",
       "        vertical-align: top;\n",
       "    }\n",
       "\n",
       "    .dataframe thead th {\n",
       "        text-align: right;\n",
       "    }\n",
       "</style>\n",
       "<table border=\"1\" class=\"dataframe\">\n",
       "  <thead>\n",
       "    <tr style=\"text-align: right;\">\n",
       "      <th></th>\n",
       "      <th>user_id</th>\n",
       "      <th>month</th>\n",
       "      <th>target</th>\n",
       "    </tr>\n",
       "  </thead>\n",
       "  <tbody>\n",
       "    <tr>\n",
       "      <th>0</th>\n",
       "      <td>0</td>\n",
       "      <td>2020-04-30</td>\n",
       "      <td>1.0</td>\n",
       "    </tr>\n",
       "    <tr>\n",
       "      <th>1</th>\n",
       "      <td>0</td>\n",
       "      <td>2020-05-31</td>\n",
       "      <td>0.0</td>\n",
       "    </tr>\n",
       "    <tr>\n",
       "      <th>2</th>\n",
       "      <td>0</td>\n",
       "      <td>2020-06-30</td>\n",
       "      <td>1.0</td>\n",
       "    </tr>\n",
       "    <tr>\n",
       "      <th>3</th>\n",
       "      <td>0</td>\n",
       "      <td>2020-07-31</td>\n",
       "      <td>0.0</td>\n",
       "    </tr>\n",
       "    <tr>\n",
       "      <th>4</th>\n",
       "      <td>0</td>\n",
       "      <td>2020-08-31</td>\n",
       "      <td>1.0</td>\n",
       "    </tr>\n",
       "  </tbody>\n",
       "</table>\n",
       "</div>"
      ],
      "text/plain": [
       "   user_id      month  target\n",
       "0        0 2020-04-30     1.0\n",
       "1        0 2020-05-31     0.0\n",
       "2        0 2020-06-30     1.0\n",
       "3        0 2020-07-31     0.0\n",
       "4        0 2020-08-31     1.0"
      ]
     },
     "execution_count": 110,
     "metadata": {},
     "output_type": "execute_result"
    }
   ],
   "source": [
    "target_df = pd.read_feather(target_csv)\n",
    "target_df.head()"
   ]
  },
  {
   "cell_type": "code",
   "execution_count": 113,
   "metadata": {},
   "outputs": [
    {
     "data": {
      "text/html": [
       "<div>\n",
       "<style scoped>\n",
       "    .dataframe tbody tr th:only-of-type {\n",
       "        vertical-align: middle;\n",
       "    }\n",
       "\n",
       "    .dataframe tbody tr th {\n",
       "        vertical-align: top;\n",
       "    }\n",
       "\n",
       "    .dataframe thead th {\n",
       "        text-align: right;\n",
       "    }\n",
       "</style>\n",
       "<table border=\"1\" class=\"dataframe\">\n",
       "  <thead>\n",
       "    <tr style=\"text-align: right;\">\n",
       "      <th></th>\n",
       "      <th>user_id</th>\n",
       "      <th>month</th>\n",
       "      <th>feature_1</th>\n",
       "      <th>feature_2</th>\n",
       "      <th>feature_3</th>\n",
       "      <th>feature_4</th>\n",
       "      <th>feature_5</th>\n",
       "      <th>feature_6</th>\n",
       "      <th>feature_7</th>\n",
       "      <th>feature_8</th>\n",
       "      <th>...</th>\n",
       "      <th>feature_21</th>\n",
       "      <th>feature_22</th>\n",
       "      <th>feature_23</th>\n",
       "      <th>feature_24</th>\n",
       "      <th>feature_25</th>\n",
       "      <th>feature_26</th>\n",
       "      <th>feature_27</th>\n",
       "      <th>feature_28</th>\n",
       "      <th>feature_29</th>\n",
       "      <th>feature_30</th>\n",
       "    </tr>\n",
       "  </thead>\n",
       "  <tbody>\n",
       "    <tr>\n",
       "      <th>0</th>\n",
       "      <td>0</td>\n",
       "      <td>2020-04-30</td>\n",
       "      <td>0.993121</td>\n",
       "      <td>-15</td>\n",
       "      <td>2.274309</td>\n",
       "      <td>18</td>\n",
       "      <td>2868</td>\n",
       "      <td>-1.305588</td>\n",
       "      <td>-0.097643</td>\n",
       "      <td>0.617778</td>\n",
       "      <td>...</td>\n",
       "      <td>H4V75OQHSRBLA</td>\n",
       "      <td>AOKOISPPQLWGKK</td>\n",
       "      <td>-3.146305</td>\n",
       "      <td>-1.655508</td>\n",
       "      <td>25</td>\n",
       "      <td>3.032537</td>\n",
       "      <td>-29960</td>\n",
       "      <td>-1.864660</td>\n",
       "      <td>-0.212668</td>\n",
       "      <td>-3.245333</td>\n",
       "    </tr>\n",
       "    <tr>\n",
       "      <th>1</th>\n",
       "      <td>0</td>\n",
       "      <td>2020-05-31</td>\n",
       "      <td>-1.416912</td>\n",
       "      <td>-145</td>\n",
       "      <td>-1.087891</td>\n",
       "      <td>-8</td>\n",
       "      <td>-1763</td>\n",
       "      <td>-1.322007</td>\n",
       "      <td>3.143865</td>\n",
       "      <td>-0.272231</td>\n",
       "      <td>...</td>\n",
       "      <td>AUEOMIKY5CRWBNWO7S</td>\n",
       "      <td>OORLO7PMHCZFEMSR</td>\n",
       "      <td>2.365636</td>\n",
       "      <td>-2.632201</td>\n",
       "      <td>-11</td>\n",
       "      <td>-2.373654</td>\n",
       "      <td>-173398</td>\n",
       "      <td>0.458990</td>\n",
       "      <td>1.376687</td>\n",
       "      <td>-0.460150</td>\n",
       "    </tr>\n",
       "    <tr>\n",
       "      <th>2</th>\n",
       "      <td>0</td>\n",
       "      <td>2020-06-30</td>\n",
       "      <td>0.673564</td>\n",
       "      <td>23</td>\n",
       "      <td>0.016666</td>\n",
       "      <td>-7</td>\n",
       "      <td>-4092</td>\n",
       "      <td>-0.936663</td>\n",
       "      <td>-1.909813</td>\n",
       "      <td>0.715618</td>\n",
       "      <td>...</td>\n",
       "      <td>4VPOKVAQSMMTDZQ</td>\n",
       "      <td>NZFU27MWLPZRTX4G5D</td>\n",
       "      <td>-2.220931</td>\n",
       "      <td>1.930994</td>\n",
       "      <td>-10</td>\n",
       "      <td>3.301401</td>\n",
       "      <td>-46619</td>\n",
       "      <td>0.269820</td>\n",
       "      <td>0.900846</td>\n",
       "      <td>0.315063</td>\n",
       "    </tr>\n",
       "    <tr>\n",
       "      <th>3</th>\n",
       "      <td>0</td>\n",
       "      <td>2020-07-31</td>\n",
       "      <td>-2.124908</td>\n",
       "      <td>-15</td>\n",
       "      <td>1.234815</td>\n",
       "      <td>18</td>\n",
       "      <td>9348</td>\n",
       "      <td>0.233297</td>\n",
       "      <td>-0.108647</td>\n",
       "      <td>-1.831460</td>\n",
       "      <td>...</td>\n",
       "      <td>RAGXKIMJHFFGKA</td>\n",
       "      <td>KQBIGTVRDJZJLQRRPPY</td>\n",
       "      <td>1.641780</td>\n",
       "      <td>-5.166544</td>\n",
       "      <td>-23</td>\n",
       "      <td>0.531913</td>\n",
       "      <td>-131224</td>\n",
       "      <td>-0.341103</td>\n",
       "      <td>0.208832</td>\n",
       "      <td>1.869453</td>\n",
       "    </tr>\n",
       "    <tr>\n",
       "      <th>4</th>\n",
       "      <td>0</td>\n",
       "      <td>2020-08-31</td>\n",
       "      <td>-2.122264</td>\n",
       "      <td>-50</td>\n",
       "      <td>-0.584464</td>\n",
       "      <td>-8</td>\n",
       "      <td>1894</td>\n",
       "      <td>-0.092315</td>\n",
       "      <td>-0.547480</td>\n",
       "      <td>-0.065323</td>\n",
       "      <td>...</td>\n",
       "      <td>RAGXKIMJHFFGKA</td>\n",
       "      <td>KQBIGTVRDJZJLQRRPPY</td>\n",
       "      <td>1.852084</td>\n",
       "      <td>-0.761511</td>\n",
       "      <td>-24</td>\n",
       "      <td>-1.080867</td>\n",
       "      <td>68577</td>\n",
       "      <td>-1.328331</td>\n",
       "      <td>-0.681723</td>\n",
       "      <td>0.431699</td>\n",
       "    </tr>\n",
       "  </tbody>\n",
       "</table>\n",
       "<p>5 rows × 32 columns</p>\n",
       "</div>"
      ],
      "text/plain": [
       "   user_id      month  feature_1  feature_2  feature_3  feature_4  feature_5  \\\n",
       "0        0 2020-04-30   0.993121        -15   2.274309         18       2868   \n",
       "1        0 2020-05-31  -1.416912       -145  -1.087891         -8      -1763   \n",
       "2        0 2020-06-30   0.673564         23   0.016666         -7      -4092   \n",
       "3        0 2020-07-31  -2.124908        -15   1.234815         18       9348   \n",
       "4        0 2020-08-31  -2.122264        -50  -0.584464         -8       1894   \n",
       "\n",
       "   feature_6  feature_7  feature_8  ...          feature_21  \\\n",
       "0  -1.305588  -0.097643   0.617778  ...       H4V75OQHSRBLA   \n",
       "1  -1.322007   3.143865  -0.272231  ...  AUEOMIKY5CRWBNWO7S   \n",
       "2  -0.936663  -1.909813   0.715618  ...     4VPOKVAQSMMTDZQ   \n",
       "3   0.233297  -0.108647  -1.831460  ...      RAGXKIMJHFFGKA   \n",
       "4  -0.092315  -0.547480  -0.065323  ...      RAGXKIMJHFFGKA   \n",
       "\n",
       "            feature_22 feature_23  feature_24  feature_25  feature_26  \\\n",
       "0       AOKOISPPQLWGKK  -3.146305   -1.655508          25    3.032537   \n",
       "1     OORLO7PMHCZFEMSR   2.365636   -2.632201         -11   -2.373654   \n",
       "2   NZFU27MWLPZRTX4G5D  -2.220931    1.930994         -10    3.301401   \n",
       "3  KQBIGTVRDJZJLQRRPPY   1.641780   -5.166544         -23    0.531913   \n",
       "4  KQBIGTVRDJZJLQRRPPY   1.852084   -0.761511         -24   -1.080867   \n",
       "\n",
       "   feature_27 feature_28 feature_29  feature_30  \n",
       "0      -29960  -1.864660  -0.212668   -3.245333  \n",
       "1     -173398   0.458990   1.376687   -0.460150  \n",
       "2      -46619   0.269820   0.900846    0.315063  \n",
       "3     -131224  -0.341103   0.208832    1.869453  \n",
       "4       68577  -1.328331  -0.681723    0.431699  \n",
       "\n",
       "[5 rows x 32 columns]"
      ]
     },
     "execution_count": 113,
     "metadata": {},
     "output_type": "execute_result"
    }
   ],
   "source": [
    "user_features_df = pd.read_feather(user_features_raw)\n",
    "user_features_df = user_features_df.loc[user_features_df.user_id.isin(target_df.user_id),]\n",
    "user_features_df.head()"
   ]
  },
  {
   "cell_type": "code",
   "execution_count": 117,
   "metadata": {},
   "outputs": [
    {
     "data": {
      "text/plain": [
       "[42, 58, 43, 8, 44]"
      ]
     },
     "execution_count": 117,
     "metadata": {},
     "output_type": "execute_result"
    }
   ],
   "source": [
    "[user_features_df[feature].nunique() for feature in categories]"
   ]
  },
  {
   "cell_type": "markdown",
   "metadata": {},
   "source": [
    "## Testing the feature engineering"
   ]
  },
  {
   "cell_type": "markdown",
   "metadata": {},
   "source": [
    "### New feature extraction feature\n",
    "\n",
    "- What can go wrong?\n",
    "- Will it work in a production environment?\n",
    "- How to test it?"
   ]
  },
  {
   "cell_type": "code",
   "execution_count": 118,
   "metadata": {
    "scrolled": true
   },
   "outputs": [
    {
     "data": {
      "text/html": [
       "<div>\n",
       "<style scoped>\n",
       "    .dataframe tbody tr th:only-of-type {\n",
       "        vertical-align: middle;\n",
       "    }\n",
       "\n",
       "    .dataframe tbody tr th {\n",
       "        vertical-align: top;\n",
       "    }\n",
       "\n",
       "    .dataframe thead th {\n",
       "        text-align: right;\n",
       "    }\n",
       "</style>\n",
       "<table border=\"1\" class=\"dataframe\">\n",
       "  <thead>\n",
       "    <tr style=\"text-align: right;\">\n",
       "      <th></th>\n",
       "      <th>user_id</th>\n",
       "      <th>month</th>\n",
       "      <th>feature_21</th>\n",
       "      <th>feature31</th>\n",
       "    </tr>\n",
       "  </thead>\n",
       "  <tbody>\n",
       "    <tr>\n",
       "      <th>0</th>\n",
       "      <td>0</td>\n",
       "      <td>2020-04-30</td>\n",
       "      <td>H4V75OQHSRBLA</td>\n",
       "      <td>H</td>\n",
       "    </tr>\n",
       "    <tr>\n",
       "      <th>1</th>\n",
       "      <td>0</td>\n",
       "      <td>2020-05-31</td>\n",
       "      <td>AUEOMIKY5CRWBNWO7S</td>\n",
       "      <td>A</td>\n",
       "    </tr>\n",
       "    <tr>\n",
       "      <th>2</th>\n",
       "      <td>0</td>\n",
       "      <td>2020-06-30</td>\n",
       "      <td>4VPOKVAQSMMTDZQ</td>\n",
       "      <td>4</td>\n",
       "    </tr>\n",
       "    <tr>\n",
       "      <th>3</th>\n",
       "      <td>0</td>\n",
       "      <td>2020-07-31</td>\n",
       "      <td>RAGXKIMJHFFGKA</td>\n",
       "      <td>R</td>\n",
       "    </tr>\n",
       "    <tr>\n",
       "      <th>4</th>\n",
       "      <td>0</td>\n",
       "      <td>2020-08-31</td>\n",
       "      <td>RAGXKIMJHFFGKA</td>\n",
       "      <td>R</td>\n",
       "    </tr>\n",
       "  </tbody>\n",
       "</table>\n",
       "</div>"
      ],
      "text/plain": [
       "   user_id      month          feature_21 feature31\n",
       "0        0 2020-04-30       H4V75OQHSRBLA         H\n",
       "1        0 2020-05-31  AUEOMIKY5CRWBNWO7S         A\n",
       "2        0 2020-06-30     4VPOKVAQSMMTDZQ         4\n",
       "3        0 2020-07-31      RAGXKIMJHFFGKA         R\n",
       "4        0 2020-08-31      RAGXKIMJHFFGKA         R"
      ]
     },
     "execution_count": 118,
     "metadata": {},
     "output_type": "execute_result"
    }
   ],
   "source": [
    "def add_feature31(df: pd.DataFrame) -> pd.DataFrame:\n",
    "    \"\"\"Generate a new feature:a first letter of the device's code\n",
    "    \"\"\"\n",
    "    df['feature31'] = df.copy().feature_21.apply(lambda s: s[0])\n",
    "    return df\n",
    "\n",
    "df2 = add_feature31(user_features_df)\n",
    "df2[['user_id', 'month', 'feature_21', 'feature31']].head()"
   ]
  },
  {
   "cell_type": "code",
   "execution_count": 119,
   "metadata": {
    "scrolled": true
   },
   "outputs": [
    {
     "data": {
      "text/plain": [
       "H    114859\n",
       "R     72707\n",
       "J     70910\n",
       "A     56506\n",
       "7     52357\n",
       "D     52002\n",
       "W     46512\n",
       "N     46070\n",
       "L     43986\n",
       "M     34397\n",
       "Q     27852\n",
       "K     27698\n",
       "6     23481\n",
       "X     18273\n",
       "O     14149\n",
       "4     11053\n",
       "E     10735\n",
       "G      7666\n",
       "V      7618\n",
       "F      3746\n",
       "Z      3683\n",
       "3      2660\n",
       "I      2530\n",
       "U       663\n",
       "C         8\n",
       "B         4\n",
       "5         2\n",
       "T         1\n",
       "Name: feature31, dtype: int64"
      ]
     },
     "execution_count": 119,
     "metadata": {},
     "output_type": "execute_result"
    }
   ],
   "source": [
    "df2.feature31.value_counts()"
   ]
  },
  {
   "cell_type": "code",
   "execution_count": 120,
   "metadata": {
    "scrolled": true
   },
   "outputs": [
    {
     "data": {
      "text/html": [
       "<div>\n",
       "<style scoped>\n",
       "    .dataframe tbody tr th:only-of-type {\n",
       "        vertical-align: middle;\n",
       "    }\n",
       "\n",
       "    .dataframe tbody tr th {\n",
       "        vertical-align: top;\n",
       "    }\n",
       "\n",
       "    .dataframe thead th {\n",
       "        text-align: right;\n",
       "    }\n",
       "</style>\n",
       "<table border=\"1\" class=\"dataframe\">\n",
       "  <thead>\n",
       "    <tr style=\"text-align: right;\">\n",
       "      <th></th>\n",
       "      <th>0</th>\n",
       "      <th>1</th>\n",
       "      <th>2</th>\n",
       "      <th>3</th>\n",
       "      <th>4</th>\n",
       "    </tr>\n",
       "  </thead>\n",
       "  <tbody>\n",
       "    <tr>\n",
       "      <th>user_id</th>\n",
       "      <td>0</td>\n",
       "      <td>0</td>\n",
       "      <td>0</td>\n",
       "      <td>0</td>\n",
       "      <td>0</td>\n",
       "    </tr>\n",
       "    <tr>\n",
       "      <th>month</th>\n",
       "      <td>2020-04-30 00:00:00</td>\n",
       "      <td>2020-05-31 00:00:00</td>\n",
       "      <td>2020-06-30 00:00:00</td>\n",
       "      <td>2020-07-31 00:00:00</td>\n",
       "      <td>2020-08-31 00:00:00</td>\n",
       "    </tr>\n",
       "    <tr>\n",
       "      <th>feature_1</th>\n",
       "      <td>0.993121</td>\n",
       "      <td>-1.41691</td>\n",
       "      <td>0.673564</td>\n",
       "      <td>-2.12491</td>\n",
       "      <td>-2.12226</td>\n",
       "    </tr>\n",
       "    <tr>\n",
       "      <th>feature_2</th>\n",
       "      <td>-15</td>\n",
       "      <td>-145</td>\n",
       "      <td>23</td>\n",
       "      <td>-15</td>\n",
       "      <td>-50</td>\n",
       "    </tr>\n",
       "    <tr>\n",
       "      <th>feature_3</th>\n",
       "      <td>2.27431</td>\n",
       "      <td>-1.08789</td>\n",
       "      <td>0.0166665</td>\n",
       "      <td>1.23482</td>\n",
       "      <td>-0.584464</td>\n",
       "    </tr>\n",
       "    <tr>\n",
       "      <th>feature_4</th>\n",
       "      <td>18</td>\n",
       "      <td>-8</td>\n",
       "      <td>-7</td>\n",
       "      <td>18</td>\n",
       "      <td>-8</td>\n",
       "    </tr>\n",
       "    <tr>\n",
       "      <th>feature_5</th>\n",
       "      <td>2868</td>\n",
       "      <td>-1763</td>\n",
       "      <td>-4092</td>\n",
       "      <td>9348</td>\n",
       "      <td>1894</td>\n",
       "    </tr>\n",
       "    <tr>\n",
       "      <th>feature_6</th>\n",
       "      <td>-1.30559</td>\n",
       "      <td>-1.32201</td>\n",
       "      <td>-0.936663</td>\n",
       "      <td>0.233297</td>\n",
       "      <td>-0.0923148</td>\n",
       "    </tr>\n",
       "    <tr>\n",
       "      <th>feature_7</th>\n",
       "      <td>-0.0976427</td>\n",
       "      <td>3.14386</td>\n",
       "      <td>-1.90981</td>\n",
       "      <td>-0.108647</td>\n",
       "      <td>-0.54748</td>\n",
       "    </tr>\n",
       "    <tr>\n",
       "      <th>feature_8</th>\n",
       "      <td>0.617778</td>\n",
       "      <td>-0.272231</td>\n",
       "      <td>0.715618</td>\n",
       "      <td>-1.83146</td>\n",
       "      <td>-0.0653226</td>\n",
       "    </tr>\n",
       "    <tr>\n",
       "      <th>feature_9</th>\n",
       "      <td>-0.346764</td>\n",
       "      <td>-3.34717</td>\n",
       "      <td>-0.850719</td>\n",
       "      <td>-1.03045</td>\n",
       "      <td>-0.622585</td>\n",
       "    </tr>\n",
       "    <tr>\n",
       "      <th>feature_10</th>\n",
       "      <td>-2.31056</td>\n",
       "      <td>2.41214</td>\n",
       "      <td>-1.76735</td>\n",
       "      <td>0.000209226</td>\n",
       "      <td>-0.308034</td>\n",
       "    </tr>\n",
       "    <tr>\n",
       "      <th>feature_11</th>\n",
       "      <td>3NWLPIR2TFFUM62</td>\n",
       "      <td>JODPUBMS7GRNBU</td>\n",
       "      <td>F4ZLI63UCWNIKBX</td>\n",
       "      <td>LVR5XTTU37QURW4</td>\n",
       "      <td>3NFHEMIBP5C3UMLU4</td>\n",
       "    </tr>\n",
       "    <tr>\n",
       "      <th>feature_12</th>\n",
       "      <td>-2.31056</td>\n",
       "      <td>2.41214</td>\n",
       "      <td>-1.76735</td>\n",
       "      <td>0.000209226</td>\n",
       "      <td>-0.308034</td>\n",
       "    </tr>\n",
       "    <tr>\n",
       "      <th>feature_13</th>\n",
       "      <td>-1.17386</td>\n",
       "      <td>1.10823</td>\n",
       "      <td>-1.20247</td>\n",
       "      <td>-0.684636</td>\n",
       "      <td>-0.713982</td>\n",
       "    </tr>\n",
       "    <tr>\n",
       "      <th>feature_14</th>\n",
       "      <td>0.283289</td>\n",
       "      <td>-2.41861</td>\n",
       "      <td>-1.91225</td>\n",
       "      <td>-0.79867</td>\n",
       "      <td>0.232185</td>\n",
       "    </tr>\n",
       "    <tr>\n",
       "      <th>feature_15</th>\n",
       "      <td>-3.14631</td>\n",
       "      <td>2.36564</td>\n",
       "      <td>-2.22093</td>\n",
       "      <td>1.64178</td>\n",
       "      <td>1.85208</td>\n",
       "    </tr>\n",
       "    <tr>\n",
       "      <th>feature_16</th>\n",
       "      <td>NBXQL7SIGORXP</td>\n",
       "      <td>OX5LHV6NSHT5FWNELT</td>\n",
       "      <td>NBXQL7SIGORXP</td>\n",
       "      <td>NBXQL7SIGORXP</td>\n",
       "      <td>OX5LHV6NSHT5FWNELT</td>\n",
       "    </tr>\n",
       "    <tr>\n",
       "      <th>feature_17</th>\n",
       "      <td>YFPRZFIQDB54VU</td>\n",
       "      <td>OUH6V7W7UIPZ2AZI</td>\n",
       "      <td>OUH6V7W7UIPZ2AZI</td>\n",
       "      <td>E62S2GPTI3CU</td>\n",
       "      <td>E62S2GPTI3CU</td>\n",
       "    </tr>\n",
       "    <tr>\n",
       "      <th>feature_18</th>\n",
       "      <td>0</td>\n",
       "      <td>1</td>\n",
       "      <td>1</td>\n",
       "      <td>0</td>\n",
       "      <td>1</td>\n",
       "    </tr>\n",
       "    <tr>\n",
       "      <th>feature_19</th>\n",
       "      <td>-1.43778</td>\n",
       "      <td>0.0144828</td>\n",
       "      <td>1.20444</td>\n",
       "      <td>-0.323188</td>\n",
       "      <td>-0.383201</td>\n",
       "    </tr>\n",
       "    <tr>\n",
       "      <th>feature_20</th>\n",
       "      <td>0.149854</td>\n",
       "      <td>0.310881</td>\n",
       "      <td>-1.56175</td>\n",
       "      <td>-0.671608</td>\n",
       "      <td>0.0241973</td>\n",
       "    </tr>\n",
       "    <tr>\n",
       "      <th>feature_21</th>\n",
       "      <td></td>\n",
       "      <td></td>\n",
       "      <td></td>\n",
       "      <td></td>\n",
       "      <td>RAGXKIMJHFFGKA</td>\n",
       "    </tr>\n",
       "    <tr>\n",
       "      <th>feature_22</th>\n",
       "      <td>AOKOISPPQLWGKK</td>\n",
       "      <td>OORLO7PMHCZFEMSR</td>\n",
       "      <td>NZFU27MWLPZRTX4G5D</td>\n",
       "      <td>KQBIGTVRDJZJLQRRPPY</td>\n",
       "      <td>KQBIGTVRDJZJLQRRPPY</td>\n",
       "    </tr>\n",
       "    <tr>\n",
       "      <th>feature_23</th>\n",
       "      <td>-3.14631</td>\n",
       "      <td>2.36564</td>\n",
       "      <td>-2.22093</td>\n",
       "      <td>1.64178</td>\n",
       "      <td>1.85208</td>\n",
       "    </tr>\n",
       "    <tr>\n",
       "      <th>feature_24</th>\n",
       "      <td>-1.65551</td>\n",
       "      <td>-2.6322</td>\n",
       "      <td>1.93099</td>\n",
       "      <td>-5.16654</td>\n",
       "      <td>-0.761511</td>\n",
       "    </tr>\n",
       "    <tr>\n",
       "      <th>feature_25</th>\n",
       "      <td>25</td>\n",
       "      <td>-11</td>\n",
       "      <td>-10</td>\n",
       "      <td>-23</td>\n",
       "      <td>-24</td>\n",
       "    </tr>\n",
       "    <tr>\n",
       "      <th>feature_26</th>\n",
       "      <td>3.03254</td>\n",
       "      <td>-2.37365</td>\n",
       "      <td>3.3014</td>\n",
       "      <td>0.531913</td>\n",
       "      <td>-1.08087</td>\n",
       "    </tr>\n",
       "    <tr>\n",
       "      <th>feature_27</th>\n",
       "      <td>-29960</td>\n",
       "      <td>-173398</td>\n",
       "      <td>-46619</td>\n",
       "      <td>-131224</td>\n",
       "      <td>68577</td>\n",
       "    </tr>\n",
       "    <tr>\n",
       "      <th>feature_28</th>\n",
       "      <td>-1.86466</td>\n",
       "      <td>0.45899</td>\n",
       "      <td>0.26982</td>\n",
       "      <td>-0.341103</td>\n",
       "      <td>-1.32833</td>\n",
       "    </tr>\n",
       "    <tr>\n",
       "      <th>feature_29</th>\n",
       "      <td>-0.212668</td>\n",
       "      <td>1.37669</td>\n",
       "      <td>0.900846</td>\n",
       "      <td>0.208832</td>\n",
       "      <td>-0.681723</td>\n",
       "    </tr>\n",
       "    <tr>\n",
       "      <th>feature_30</th>\n",
       "      <td>-3.24533</td>\n",
       "      <td>-0.46015</td>\n",
       "      <td>0.315063</td>\n",
       "      <td>1.86945</td>\n",
       "      <td>0.431699</td>\n",
       "    </tr>\n",
       "    <tr>\n",
       "      <th>feature31</th>\n",
       "      <td>H</td>\n",
       "      <td>A</td>\n",
       "      <td>4</td>\n",
       "      <td>R</td>\n",
       "      <td>R</td>\n",
       "    </tr>\n",
       "  </tbody>\n",
       "</table>\n",
       "</div>"
      ],
      "text/plain": [
       "                              0                    1                    2  \\\n",
       "user_id                       0                    0                    0   \n",
       "month       2020-04-30 00:00:00  2020-05-31 00:00:00  2020-06-30 00:00:00   \n",
       "feature_1              0.993121             -1.41691             0.673564   \n",
       "feature_2                   -15                 -145                   23   \n",
       "feature_3               2.27431             -1.08789            0.0166665   \n",
       "feature_4                    18                   -8                   -7   \n",
       "feature_5                  2868                -1763                -4092   \n",
       "feature_6              -1.30559             -1.32201            -0.936663   \n",
       "feature_7            -0.0976427              3.14386             -1.90981   \n",
       "feature_8              0.617778            -0.272231             0.715618   \n",
       "feature_9             -0.346764             -3.34717            -0.850719   \n",
       "feature_10             -2.31056              2.41214             -1.76735   \n",
       "feature_11      3NWLPIR2TFFUM62       JODPUBMS7GRNBU      F4ZLI63UCWNIKBX   \n",
       "feature_12             -2.31056              2.41214             -1.76735   \n",
       "feature_13             -1.17386              1.10823             -1.20247   \n",
       "feature_14             0.283289             -2.41861             -1.91225   \n",
       "feature_15             -3.14631              2.36564             -2.22093   \n",
       "feature_16        NBXQL7SIGORXP   OX5LHV6NSHT5FWNELT        NBXQL7SIGORXP   \n",
       "feature_17       YFPRZFIQDB54VU     OUH6V7W7UIPZ2AZI     OUH6V7W7UIPZ2AZI   \n",
       "feature_18                    0                    1                    1   \n",
       "feature_19             -1.43778            0.0144828              1.20444   \n",
       "feature_20             0.149854             0.310881             -1.56175   \n",
       "feature_21                                                                  \n",
       "feature_22       AOKOISPPQLWGKK     OORLO7PMHCZFEMSR   NZFU27MWLPZRTX4G5D   \n",
       "feature_23             -3.14631              2.36564             -2.22093   \n",
       "feature_24             -1.65551              -2.6322              1.93099   \n",
       "feature_25                   25                  -11                  -10   \n",
       "feature_26              3.03254             -2.37365               3.3014   \n",
       "feature_27               -29960              -173398               -46619   \n",
       "feature_28             -1.86466              0.45899              0.26982   \n",
       "feature_29            -0.212668              1.37669             0.900846   \n",
       "feature_30             -3.24533             -0.46015             0.315063   \n",
       "feature31                     H                    A                    4   \n",
       "\n",
       "                              3                    4  \n",
       "user_id                       0                    0  \n",
       "month       2020-07-31 00:00:00  2020-08-31 00:00:00  \n",
       "feature_1              -2.12491             -2.12226  \n",
       "feature_2                   -15                  -50  \n",
       "feature_3               1.23482            -0.584464  \n",
       "feature_4                    18                   -8  \n",
       "feature_5                  9348                 1894  \n",
       "feature_6              0.233297           -0.0923148  \n",
       "feature_7             -0.108647             -0.54748  \n",
       "feature_8              -1.83146           -0.0653226  \n",
       "feature_9              -1.03045            -0.622585  \n",
       "feature_10          0.000209226            -0.308034  \n",
       "feature_11      LVR5XTTU37QURW4    3NFHEMIBP5C3UMLU4  \n",
       "feature_12          0.000209226            -0.308034  \n",
       "feature_13            -0.684636            -0.713982  \n",
       "feature_14             -0.79867             0.232185  \n",
       "feature_15              1.64178              1.85208  \n",
       "feature_16        NBXQL7SIGORXP   OX5LHV6NSHT5FWNELT  \n",
       "feature_17         E62S2GPTI3CU         E62S2GPTI3CU  \n",
       "feature_18                    0                    1  \n",
       "feature_19            -0.323188            -0.383201  \n",
       "feature_20            -0.671608            0.0241973  \n",
       "feature_21                            RAGXKIMJHFFGKA  \n",
       "feature_22  KQBIGTVRDJZJLQRRPPY  KQBIGTVRDJZJLQRRPPY  \n",
       "feature_23              1.64178              1.85208  \n",
       "feature_24             -5.16654            -0.761511  \n",
       "feature_25                  -23                  -24  \n",
       "feature_26             0.531913             -1.08087  \n",
       "feature_27              -131224                68577  \n",
       "feature_28            -0.341103             -1.32833  \n",
       "feature_29             0.208832            -0.681723  \n",
       "feature_30              1.86945             0.431699  \n",
       "feature31                     R                    R  "
      ]
     },
     "execution_count": 120,
     "metadata": {},
     "output_type": "execute_result"
    }
   ],
   "source": [
    "# Test case 1: Null values in source data \n",
    "# ----------------------------------------\n",
    "user_features_df.feature_21.cat.add_categories([''], inplace=True) # add a new category\n",
    "user_features_df.feature_21.iloc[:4] = ''  # replace by '' for the first 4 users\n",
    "user_features_df.head().T # rotate for a better view"
   ]
  },
  {
   "cell_type": "code",
   "execution_count": 121,
   "metadata": {
    "scrolled": true
   },
   "outputs": [
    {
     "ename": "IndexError",
     "evalue": "string index out of range",
     "output_type": "error",
     "traceback": [
      "\u001b[0;31m---------------------------------------------------------------------------\u001b[0m",
      "\u001b[0;31mIndexError\u001b[0m                                Traceback (most recent call last)",
      "\u001b[0;32m<ipython-input-121-a97be75af3cf>\u001b[0m in \u001b[0;36m<module>\u001b[0;34m\u001b[0m\n\u001b[1;32m      1\u001b[0m \u001b[0;31m# Try to add features\u001b[0m\u001b[0;34m\u001b[0m\u001b[0;34m\u001b[0m\u001b[0;34m\u001b[0m\u001b[0m\n\u001b[0;32m----> 2\u001b[0;31m \u001b[0mdf2\u001b[0m \u001b[0;34m=\u001b[0m \u001b[0madd_feature31\u001b[0m\u001b[0;34m(\u001b[0m\u001b[0muser_features_df\u001b[0m\u001b[0;34m)\u001b[0m\u001b[0;34m\u001b[0m\u001b[0;34m\u001b[0m\u001b[0m\n\u001b[0m\u001b[1;32m      3\u001b[0m \u001b[0mdf2\u001b[0m\u001b[0;34m.\u001b[0m\u001b[0mhead\u001b[0m\u001b[0;34m(\u001b[0m\u001b[0;34m)\u001b[0m\u001b[0;34m\u001b[0m\u001b[0;34m\u001b[0m\u001b[0m\n",
      "\u001b[0;32m<ipython-input-118-d360ea1751fd>\u001b[0m in \u001b[0;36madd_feature31\u001b[0;34m(df)\u001b[0m\n\u001b[1;32m      2\u001b[0m     \"\"\"Generate a new feature:a first letter of the device's code\n\u001b[1;32m      3\u001b[0m     \"\"\"\n\u001b[0;32m----> 4\u001b[0;31m     \u001b[0mdf\u001b[0m\u001b[0;34m[\u001b[0m\u001b[0;34m'feature31'\u001b[0m\u001b[0;34m]\u001b[0m \u001b[0;34m=\u001b[0m \u001b[0mdf\u001b[0m\u001b[0;34m.\u001b[0m\u001b[0mcopy\u001b[0m\u001b[0;34m(\u001b[0m\u001b[0;34m)\u001b[0m\u001b[0;34m.\u001b[0m\u001b[0mfeature_21\u001b[0m\u001b[0;34m.\u001b[0m\u001b[0mapply\u001b[0m\u001b[0;34m(\u001b[0m\u001b[0;32mlambda\u001b[0m \u001b[0ms\u001b[0m\u001b[0;34m:\u001b[0m \u001b[0ms\u001b[0m\u001b[0;34m[\u001b[0m\u001b[0;36m0\u001b[0m\u001b[0;34m]\u001b[0m\u001b[0;34m)\u001b[0m\u001b[0;34m\u001b[0m\u001b[0;34m\u001b[0m\u001b[0m\n\u001b[0m\u001b[1;32m      5\u001b[0m \u001b[0;34m\u001b[0m\u001b[0m\n\u001b[1;32m      6\u001b[0m     \u001b[0;32mreturn\u001b[0m \u001b[0mdf\u001b[0m\u001b[0;34m\u001b[0m\u001b[0;34m\u001b[0m\u001b[0m\n",
      "\u001b[0;32m~/ML_REPA/tutorial-predict-device-change/venv/lib/python3.7/site-packages/pandas/core/series.py\u001b[0m in \u001b[0;36mapply\u001b[0;34m(self, func, convert_dtype, args, **kwds)\u001b[0m\n\u001b[1;32m   4207\u001b[0m             \u001b[0;32mif\u001b[0m \u001b[0mis_extension_array_dtype\u001b[0m\u001b[0;34m(\u001b[0m\u001b[0mself\u001b[0m\u001b[0;34m.\u001b[0m\u001b[0mdtype\u001b[0m\u001b[0;34m)\u001b[0m \u001b[0;32mand\u001b[0m \u001b[0mhasattr\u001b[0m\u001b[0;34m(\u001b[0m\u001b[0mself\u001b[0m\u001b[0;34m.\u001b[0m\u001b[0m_values\u001b[0m\u001b[0;34m,\u001b[0m \u001b[0;34m\"map\"\u001b[0m\u001b[0;34m)\u001b[0m\u001b[0;34m:\u001b[0m\u001b[0;34m\u001b[0m\u001b[0;34m\u001b[0m\u001b[0m\n\u001b[1;32m   4208\u001b[0m                 \u001b[0;31m# GH#23179 some EAs do not have `map`\u001b[0m\u001b[0;34m\u001b[0m\u001b[0;34m\u001b[0m\u001b[0;34m\u001b[0m\u001b[0m\n\u001b[0;32m-> 4209\u001b[0;31m                 \u001b[0mmapped\u001b[0m \u001b[0;34m=\u001b[0m \u001b[0mself\u001b[0m\u001b[0;34m.\u001b[0m\u001b[0m_values\u001b[0m\u001b[0;34m.\u001b[0m\u001b[0mmap\u001b[0m\u001b[0;34m(\u001b[0m\u001b[0mf\u001b[0m\u001b[0;34m)\u001b[0m\u001b[0;34m\u001b[0m\u001b[0;34m\u001b[0m\u001b[0m\n\u001b[0m\u001b[1;32m   4210\u001b[0m             \u001b[0;32melse\u001b[0m\u001b[0;34m:\u001b[0m\u001b[0;34m\u001b[0m\u001b[0;34m\u001b[0m\u001b[0m\n\u001b[1;32m   4211\u001b[0m                 \u001b[0mvalues\u001b[0m \u001b[0;34m=\u001b[0m \u001b[0mself\u001b[0m\u001b[0;34m.\u001b[0m\u001b[0mastype\u001b[0m\u001b[0;34m(\u001b[0m\u001b[0mobject\u001b[0m\u001b[0;34m)\u001b[0m\u001b[0;34m.\u001b[0m\u001b[0m_values\u001b[0m\u001b[0;34m\u001b[0m\u001b[0;34m\u001b[0m\u001b[0m\n",
      "\u001b[0;32m~/ML_REPA/tutorial-predict-device-change/venv/lib/python3.7/site-packages/pandas/core/arrays/categorical.py\u001b[0m in \u001b[0;36mmap\u001b[0;34m(self, mapper)\u001b[0m\n\u001b[1;32m   1162\u001b[0m         \u001b[0mIndex\u001b[0m\u001b[0;34m(\u001b[0m\u001b[0;34m[\u001b[0m\u001b[0;34m'first'\u001b[0m\u001b[0;34m,\u001b[0m \u001b[0;34m'second'\u001b[0m\u001b[0;34m,\u001b[0m \u001b[0mnan\u001b[0m\u001b[0;34m]\u001b[0m\u001b[0;34m,\u001b[0m \u001b[0mdtype\u001b[0m\u001b[0;34m=\u001b[0m\u001b[0;34m'object'\u001b[0m\u001b[0;34m)\u001b[0m\u001b[0;34m\u001b[0m\u001b[0;34m\u001b[0m\u001b[0m\n\u001b[1;32m   1163\u001b[0m         \"\"\"\n\u001b[0;32m-> 1164\u001b[0;31m         \u001b[0mnew_categories\u001b[0m \u001b[0;34m=\u001b[0m \u001b[0mself\u001b[0m\u001b[0;34m.\u001b[0m\u001b[0mcategories\u001b[0m\u001b[0;34m.\u001b[0m\u001b[0mmap\u001b[0m\u001b[0;34m(\u001b[0m\u001b[0mmapper\u001b[0m\u001b[0;34m)\u001b[0m\u001b[0;34m\u001b[0m\u001b[0;34m\u001b[0m\u001b[0m\n\u001b[0m\u001b[1;32m   1165\u001b[0m         \u001b[0;32mtry\u001b[0m\u001b[0;34m:\u001b[0m\u001b[0;34m\u001b[0m\u001b[0;34m\u001b[0m\u001b[0m\n\u001b[1;32m   1166\u001b[0m             return self.from_codes(\n",
      "\u001b[0;32m~/ML_REPA/tutorial-predict-device-change/venv/lib/python3.7/site-packages/pandas/core/indexes/base.py\u001b[0m in \u001b[0;36mmap\u001b[0;34m(self, mapper, na_action)\u001b[0m\n\u001b[1;32m   4792\u001b[0m         \u001b[0;32mfrom\u001b[0m \u001b[0mpandas\u001b[0m\u001b[0;34m.\u001b[0m\u001b[0mcore\u001b[0m\u001b[0;34m.\u001b[0m\u001b[0mindexes\u001b[0m\u001b[0;34m.\u001b[0m\u001b[0mmulti\u001b[0m \u001b[0;32mimport\u001b[0m \u001b[0mMultiIndex\u001b[0m\u001b[0;34m\u001b[0m\u001b[0;34m\u001b[0m\u001b[0m\n\u001b[1;32m   4793\u001b[0m \u001b[0;34m\u001b[0m\u001b[0m\n\u001b[0;32m-> 4794\u001b[0;31m         \u001b[0mnew_values\u001b[0m \u001b[0;34m=\u001b[0m \u001b[0msuper\u001b[0m\u001b[0;34m(\u001b[0m\u001b[0;34m)\u001b[0m\u001b[0;34m.\u001b[0m\u001b[0m_map_values\u001b[0m\u001b[0;34m(\u001b[0m\u001b[0mmapper\u001b[0m\u001b[0;34m,\u001b[0m \u001b[0mna_action\u001b[0m\u001b[0;34m=\u001b[0m\u001b[0mna_action\u001b[0m\u001b[0;34m)\u001b[0m\u001b[0;34m\u001b[0m\u001b[0;34m\u001b[0m\u001b[0m\n\u001b[0m\u001b[1;32m   4795\u001b[0m \u001b[0;34m\u001b[0m\u001b[0m\n\u001b[1;32m   4796\u001b[0m         \u001b[0mattributes\u001b[0m \u001b[0;34m=\u001b[0m \u001b[0mself\u001b[0m\u001b[0;34m.\u001b[0m\u001b[0m_get_attributes_dict\u001b[0m\u001b[0;34m(\u001b[0m\u001b[0;34m)\u001b[0m\u001b[0;34m\u001b[0m\u001b[0;34m\u001b[0m\u001b[0m\n",
      "\u001b[0;32m~/ML_REPA/tutorial-predict-device-change/venv/lib/python3.7/site-packages/pandas/core/base.py\u001b[0m in \u001b[0;36m_map_values\u001b[0;34m(self, mapper, na_action)\u001b[0m\n\u001b[1;32m   1158\u001b[0m \u001b[0;34m\u001b[0m\u001b[0m\n\u001b[1;32m   1159\u001b[0m         \u001b[0;31m# mapper is a function\u001b[0m\u001b[0;34m\u001b[0m\u001b[0;34m\u001b[0m\u001b[0;34m\u001b[0m\u001b[0m\n\u001b[0;32m-> 1160\u001b[0;31m         \u001b[0mnew_values\u001b[0m \u001b[0;34m=\u001b[0m \u001b[0mmap_f\u001b[0m\u001b[0;34m(\u001b[0m\u001b[0mvalues\u001b[0m\u001b[0;34m,\u001b[0m \u001b[0mmapper\u001b[0m\u001b[0;34m)\u001b[0m\u001b[0;34m\u001b[0m\u001b[0;34m\u001b[0m\u001b[0m\n\u001b[0m\u001b[1;32m   1161\u001b[0m \u001b[0;34m\u001b[0m\u001b[0m\n\u001b[1;32m   1162\u001b[0m         \u001b[0;32mreturn\u001b[0m \u001b[0mnew_values\u001b[0m\u001b[0;34m\u001b[0m\u001b[0;34m\u001b[0m\u001b[0m\n",
      "\u001b[0;32mpandas/_libs/lib.pyx\u001b[0m in \u001b[0;36mpandas._libs.lib.map_infer\u001b[0;34m()\u001b[0m\n",
      "\u001b[0;32m<ipython-input-118-d360ea1751fd>\u001b[0m in \u001b[0;36m<lambda>\u001b[0;34m(s)\u001b[0m\n\u001b[1;32m      2\u001b[0m     \"\"\"Generate a new feature:a first letter of the device's code\n\u001b[1;32m      3\u001b[0m     \"\"\"\n\u001b[0;32m----> 4\u001b[0;31m     \u001b[0mdf\u001b[0m\u001b[0;34m[\u001b[0m\u001b[0;34m'feature31'\u001b[0m\u001b[0;34m]\u001b[0m \u001b[0;34m=\u001b[0m \u001b[0mdf\u001b[0m\u001b[0;34m.\u001b[0m\u001b[0mcopy\u001b[0m\u001b[0;34m(\u001b[0m\u001b[0;34m)\u001b[0m\u001b[0;34m.\u001b[0m\u001b[0mfeature_21\u001b[0m\u001b[0;34m.\u001b[0m\u001b[0mapply\u001b[0m\u001b[0;34m(\u001b[0m\u001b[0;32mlambda\u001b[0m \u001b[0ms\u001b[0m\u001b[0;34m:\u001b[0m \u001b[0ms\u001b[0m\u001b[0;34m[\u001b[0m\u001b[0;36m0\u001b[0m\u001b[0;34m]\u001b[0m\u001b[0;34m)\u001b[0m\u001b[0;34m\u001b[0m\u001b[0;34m\u001b[0m\u001b[0m\n\u001b[0m\u001b[1;32m      5\u001b[0m \u001b[0;34m\u001b[0m\u001b[0m\n\u001b[1;32m      6\u001b[0m     \u001b[0;32mreturn\u001b[0m \u001b[0mdf\u001b[0m\u001b[0;34m\u001b[0m\u001b[0;34m\u001b[0m\u001b[0m\n",
      "\u001b[0;31mIndexError\u001b[0m: string index out of range"
     ]
    }
   ],
   "source": [
    "# Try to add features \n",
    "df2 = add_feature31(user_features_df)\n",
    "df2.head()"
   ]
  },
  {
   "cell_type": "code",
   "execution_count": 122,
   "metadata": {},
   "outputs": [
    {
     "ename": "IndexError",
     "evalue": "string index out of range",
     "output_type": "error",
     "traceback": [
      "\u001b[0;31m---------------------------------------------------------------------------\u001b[0m",
      "\u001b[0;31mIndexError\u001b[0m                                Traceback (most recent call last)",
      "\u001b[0;32m<ipython-input-122-53809a435c8c>\u001b[0m in \u001b[0;36m<module>\u001b[0;34m\u001b[0m\n\u001b[1;32m      1\u001b[0m \u001b[0;31m# Reproduce error\u001b[0m\u001b[0;34m\u001b[0m\u001b[0;34m\u001b[0m\u001b[0;34m\u001b[0m\u001b[0m\n\u001b[1;32m      2\u001b[0m \u001b[0ms\u001b[0m \u001b[0;34m=\u001b[0m \u001b[0;34m''\u001b[0m\u001b[0;34m\u001b[0m\u001b[0;34m\u001b[0m\u001b[0m\n\u001b[0;32m----> 3\u001b[0;31m \u001b[0ms\u001b[0m\u001b[0;34m[\u001b[0m\u001b[0;36m0\u001b[0m\u001b[0;34m]\u001b[0m\u001b[0;34m\u001b[0m\u001b[0;34m\u001b[0m\u001b[0m\n\u001b[0m",
      "\u001b[0;31mIndexError\u001b[0m: string index out of range"
     ]
    }
   ],
   "source": [
    "# Reproduce error \n",
    "s = ''\n",
    "s[0]"
   ]
  },
  {
   "cell_type": "markdown",
   "metadata": {},
   "source": [
    "### Generate test data"
   ]
  },
  {
   "cell_type": "code",
   "execution_count": 123,
   "metadata": {
    "scrolled": true
   },
   "outputs": [
    {
     "data": {
      "text/plain": [
       "{'user_id': [0, 0, 0, 0, 0],\n",
       " 'month': [Timestamp('2020-04-30 00:00:00'),\n",
       "  Timestamp('2020-05-31 00:00:00'),\n",
       "  Timestamp('2020-06-30 00:00:00'),\n",
       "  Timestamp('2020-07-31 00:00:00'),\n",
       "  Timestamp('2020-08-31 00:00:00')],\n",
       " 'feature_21': ['', '', '', '', 'RAGXKIMJHFFGKA']}"
      ]
     },
     "execution_count": 123,
     "metadata": {},
     "output_type": "execute_result"
    }
   ],
   "source": [
    "# Extract sample data from dataset \n",
    "test_data = user_features_df[['user_id', 'month', 'feature_21']][:5].to_dict(orient='list')\n",
    "test_data"
   ]
  },
  {
   "cell_type": "code",
   "execution_count": 124,
   "metadata": {
    "scrolled": true
   },
   "outputs": [
    {
     "data": {
      "text/html": [
       "<div>\n",
       "<style scoped>\n",
       "    .dataframe tbody tr th:only-of-type {\n",
       "        vertical-align: middle;\n",
       "    }\n",
       "\n",
       "    .dataframe tbody tr th {\n",
       "        vertical-align: top;\n",
       "    }\n",
       "\n",
       "    .dataframe thead th {\n",
       "        text-align: right;\n",
       "    }\n",
       "</style>\n",
       "<table border=\"1\" class=\"dataframe\">\n",
       "  <thead>\n",
       "    <tr style=\"text-align: right;\">\n",
       "      <th></th>\n",
       "      <th>user_id</th>\n",
       "      <th>month</th>\n",
       "      <th>feature_21</th>\n",
       "    </tr>\n",
       "  </thead>\n",
       "  <tbody>\n",
       "    <tr>\n",
       "      <th>0</th>\n",
       "      <td>0</td>\n",
       "      <td>2020-04-30</td>\n",
       "      <td>RAGXKIMJHFFGKA</td>\n",
       "    </tr>\n",
       "    <tr>\n",
       "      <th>1</th>\n",
       "      <td>0</td>\n",
       "      <td>2020-05-31</td>\n",
       "      <td>2322341</td>\n",
       "    </tr>\n",
       "    <tr>\n",
       "      <th>2</th>\n",
       "      <td>0</td>\n",
       "      <td>2020-06-30</td>\n",
       "      <td>!wersrqqw</td>\n",
       "    </tr>\n",
       "    <tr>\n",
       "      <th>3</th>\n",
       "      <td>0</td>\n",
       "      <td>2020-07-31</td>\n",
       "      <td>None</td>\n",
       "    </tr>\n",
       "    <tr>\n",
       "      <th>4</th>\n",
       "      <td>0</td>\n",
       "      <td>2020-08-31</td>\n",
       "      <td></td>\n",
       "    </tr>\n",
       "  </tbody>\n",
       "</table>\n",
       "</div>"
      ],
      "text/plain": [
       "   user_id      month      feature_21\n",
       "0        0 2020-04-30  RAGXKIMJHFFGKA\n",
       "1        0 2020-05-31         2322341\n",
       "2        0 2020-06-30       !wersrqqw\n",
       "3        0 2020-07-31            None\n",
       "4        0 2020-08-31                "
      ]
     },
     "execution_count": 124,
     "metadata": {},
     "output_type": "execute_result"
    }
   ],
   "source": [
    "# Generate test data\n",
    "test_data = {\n",
    "    'user_id': [0, 0, 0, 0, 0],\n",
    "    'month': [\n",
    "        pd.Timestamp('2020-04-30 00:00:00'),\n",
    "        pd.Timestamp('2020-05-31 00:00:00'),\n",
    "        pd.Timestamp('2020-06-30 00:00:00'),\n",
    "        pd.Timestamp('2020-07-31 00:00:00'),\n",
    "        pd.Timestamp('2020-08-31 00:00:00')],\n",
    "     'feature_21': ['RAGXKIMJHFFGKA', '2322341', '!wersrqqw', None, '']\n",
    "}\n",
    "\n",
    "test_df = pd.DataFrame(test_data)\n",
    "test_df.head()"
   ]
  },
  {
   "cell_type": "markdown",
   "metadata": {},
   "source": [
    "### Update function"
   ]
  },
  {
   "cell_type": "code",
   "execution_count": 125,
   "metadata": {
    "scrolled": true
   },
   "outputs": [
    {
     "data": {
      "text/html": [
       "<div>\n",
       "<style scoped>\n",
       "    .dataframe tbody tr th:only-of-type {\n",
       "        vertical-align: middle;\n",
       "    }\n",
       "\n",
       "    .dataframe tbody tr th {\n",
       "        vertical-align: top;\n",
       "    }\n",
       "\n",
       "    .dataframe thead th {\n",
       "        text-align: right;\n",
       "    }\n",
       "</style>\n",
       "<table border=\"1\" class=\"dataframe\">\n",
       "  <thead>\n",
       "    <tr style=\"text-align: right;\">\n",
       "      <th></th>\n",
       "      <th>user_id</th>\n",
       "      <th>month</th>\n",
       "      <th>feature_21</th>\n",
       "      <th>feature_31</th>\n",
       "    </tr>\n",
       "  </thead>\n",
       "  <tbody>\n",
       "    <tr>\n",
       "      <th>0</th>\n",
       "      <td>0</td>\n",
       "      <td>2020-04-30</td>\n",
       "      <td>RAGXKIMJHFFGKA</td>\n",
       "      <td>R</td>\n",
       "    </tr>\n",
       "    <tr>\n",
       "      <th>1</th>\n",
       "      <td>0</td>\n",
       "      <td>2020-05-31</td>\n",
       "      <td>2322341</td>\n",
       "      <td>2</td>\n",
       "    </tr>\n",
       "    <tr>\n",
       "      <th>2</th>\n",
       "      <td>0</td>\n",
       "      <td>2020-06-30</td>\n",
       "      <td>!wersrqqw</td>\n",
       "      <td>w</td>\n",
       "    </tr>\n",
       "    <tr>\n",
       "      <th>3</th>\n",
       "      <td>0</td>\n",
       "      <td>2020-07-31</td>\n",
       "      <td>None</td>\n",
       "      <td>None</td>\n",
       "    </tr>\n",
       "    <tr>\n",
       "      <th>4</th>\n",
       "      <td>0</td>\n",
       "      <td>2020-08-31</td>\n",
       "      <td></td>\n",
       "      <td>None</td>\n",
       "    </tr>\n",
       "  </tbody>\n",
       "</table>\n",
       "</div>"
      ],
      "text/plain": [
       "   user_id      month      feature_21 feature_31\n",
       "0        0 2020-04-30  RAGXKIMJHFFGKA          R\n",
       "1        0 2020-05-31         2322341          2\n",
       "2        0 2020-06-30       !wersrqqw          w\n",
       "3        0 2020-07-31            None       None\n",
       "4        0 2020-08-31                       None"
      ]
     },
     "execution_count": 125,
     "metadata": {},
     "output_type": "execute_result"
    }
   ],
   "source": [
    "# Modify add_feature31()\n",
    "\n",
    "def add_feature31(df): \n",
    "    \"\"\"Add some first letter device code\"\"\"\n",
    "    \n",
    "    df['feature_31'] = df.feature_21.apply(lambda s: 'None' if s in ['', None] else re.findall(r'[\\w]', s)[0])\n",
    "    return df\n",
    " \n",
    "add_feature31(test_df)"
   ]
  },
  {
   "cell_type": "markdown",
   "metadata": {},
   "source": [
    "### Add test function"
   ]
  },
  {
   "cell_type": "code",
   "execution_count": 126,
   "metadata": {},
   "outputs": [],
   "source": [
    "def test_add_feature31(test_df):\n",
    "    \n",
    "    expected_data = {\n",
    "        'user_id': [0, 0, 0, 0, 0],\n",
    "        'month': [\n",
    "            pd.Timestamp('2020-04-30 00:00:00'),\n",
    "            pd.Timestamp('2020-05-31 00:00:00'),\n",
    "            pd.Timestamp('2020-06-30 00:00:00'),\n",
    "            pd.Timestamp('2020-07-31 00:00:00'),\n",
    "            pd.Timestamp('2020-08-31 00:00:00')],\n",
    "         'feature_21': ['RAGXKIMJHFFGKA', '2322341', '!wersrqqw', None, ''],\n",
    "         'feature_31': ['R', '2', 'w', 'None', 'None']\n",
    "    }\n",
    "    \n",
    "    expected_df = pd.DataFrame(expected_data)   \n",
    "    calculated_df = add_feature31(test_df)\n",
    "\n",
    "    assert calculated_df is not None \n",
    "    \n",
    "    # https://pandas.pydata.org/pandas-docs/stable/reference/api/pandas.testing.assert_frame_equal.html?highlight=assert \n",
    "    pd.testing.assert_frame_equal(\n",
    "        left = calculated_df, \n",
    "        right = expected_df, \n",
    "        check_dtype=True, \n",
    "        check_index_type='equiv', \n",
    "        check_column_type='equiv', \n",
    "        check_names=True, \n",
    "        check_exact=True, \n",
    "#         check_datetimelike_compat=True, \n",
    "        check_categorical=True, \n",
    "    )\n",
    "    \n",
    "    \n",
    "test_add_feature31(test_df) "
   ]
  },
  {
   "cell_type": "markdown",
   "metadata": {},
   "source": [
    "### Add new function to src/data/features.py and run feature calculation pipeline \n",
    "- add function \n",
    "- add tests "
   ]
  },
  {
   "cell_type": "code",
   "execution_count": 127,
   "metadata": {},
   "outputs": [
    {
     "name": "stdout",
     "output_type": "stream",
     "text": [
      "2021-02-10 14:34:31,842 — FEATURIZE — INFO — Load dataset\n",
      "2021-02-10 14:34:32,331 — FEATURIZE — INFO — Process dataset\n",
      "2021-02-10 14:34:32,558 — FEATURIZE — INFO — Add target column\n",
      "2021-02-10 14:34:33,425 — FEATURIZE — INFO — Process nulls\n",
      "2021-02-10 14:34:33,907 — FEATURIZE — INFO — Save features\n",
      "2021-02-10 14:34:35,860 — FEATURIZE — DEBUG — Features path: data/processed/features.feather\n"
     ]
    }
   ],
   "source": [
    "from src.pipelines.featurize import featurize\n",
    "\n",
    "featurize(CONFIG_PATH)"
   ]
  },
  {
   "cell_type": "code",
   "execution_count": 128,
   "metadata": {
    "scrolled": true
   },
   "outputs": [
    {
     "data": {
      "text/plain": [
       "H    114859\n",
       "R     72707\n",
       "J     70910\n",
       "A     56506\n",
       "7     52357\n",
       "D     52002\n",
       "W     46512\n",
       "N     46070\n",
       "L     43986\n",
       "M     34397\n",
       "Q     27852\n",
       "K     27698\n",
       "6     23481\n",
       "X     18273\n",
       "O     14149\n",
       "4     11053\n",
       "E     10735\n",
       "G      7666\n",
       "V      7618\n",
       "F      3746\n",
       "Z      3683\n",
       "3      2660\n",
       "I      2530\n",
       "U       663\n",
       "C         8\n",
       "B         4\n",
       "5         2\n",
       "T         1\n",
       "Name: feature31, dtype: int64"
      ]
     },
     "execution_count": 128,
     "metadata": {},
     "output_type": "execute_result"
    }
   ],
   "source": [
    "df2.feature31.value_counts()"
   ]
  },
  {
   "cell_type": "markdown",
   "metadata": {},
   "source": [
    "## Testing featurized data properties\n",
    "\n",
    "- All features have same data type \n",
    "- Numeric features are scaled in range between 0 and 1\n",
    "- No missing data \n",
    "- Missing data is replaced by some values\n",
    "- Data distributions meet expectations\n",
    "- No outliers\n"
   ]
  },
  {
   "cell_type": "code",
   "execution_count": 129,
   "metadata": {
    "scrolled": true
   },
   "outputs": [
    {
     "data": {
      "text/html": [
       "<div>\n",
       "<style scoped>\n",
       "    .dataframe tbody tr th:only-of-type {\n",
       "        vertical-align: middle;\n",
       "    }\n",
       "\n",
       "    .dataframe tbody tr th {\n",
       "        vertical-align: top;\n",
       "    }\n",
       "\n",
       "    .dataframe thead th {\n",
       "        text-align: right;\n",
       "    }\n",
       "</style>\n",
       "<table border=\"1\" class=\"dataframe\">\n",
       "  <thead>\n",
       "    <tr style=\"text-align: right;\">\n",
       "      <th></th>\n",
       "      <th>user_id</th>\n",
       "      <th>prob_score</th>\n",
       "    </tr>\n",
       "  </thead>\n",
       "  <tbody>\n",
       "    <tr>\n",
       "      <th>0</th>\n",
       "      <td>78213</td>\n",
       "      <td>0.678828</td>\n",
       "    </tr>\n",
       "    <tr>\n",
       "      <th>1</th>\n",
       "      <td>22804</td>\n",
       "      <td>0.247912</td>\n",
       "    </tr>\n",
       "    <tr>\n",
       "      <th>2</th>\n",
       "      <td>87087</td>\n",
       "      <td>0.091005</td>\n",
       "    </tr>\n",
       "    <tr>\n",
       "      <th>3</th>\n",
       "      <td>82303</td>\n",
       "      <td>0.480749</td>\n",
       "    </tr>\n",
       "    <tr>\n",
       "      <th>4</th>\n",
       "      <td>88798</td>\n",
       "      <td>0.673258</td>\n",
       "    </tr>\n",
       "  </tbody>\n",
       "</table>\n",
       "</div>"
      ],
      "text/plain": [
       "   user_id  prob_score\n",
       "0    78213    0.678828\n",
       "1    22804    0.247912\n",
       "2    87087    0.091005\n",
       "3    82303    0.480749\n",
       "4    88798    0.673258"
      ]
     },
     "execution_count": 129,
     "metadata": {},
     "output_type": "execute_result"
    }
   ],
   "source": [
    "# Generate sample scoring results \n",
    "df = data_frames(index=range_indexes(min_size=5, max_size=10),\n",
    "                 columns = \n",
    "                [column('user_id',\n",
    "                    elements=st.integers(min_value=0, max_value=100_000),\n",
    "                    dtype=int, \n",
    "                    unique=True),\n",
    "                 column('prob_score',\n",
    "                    elements=st.floats(min_value=0, max_value=1),\n",
    "                    unique=True)\n",
    "                ]).example()\n",
    "\n",
    "df.head()"
   ]
  },
  {
   "cell_type": "markdown",
   "metadata": {},
   "source": [
    "### Test values range "
   ]
  },
  {
   "cell_type": "code",
   "execution_count": 130,
   "metadata": {},
   "outputs": [],
   "source": [
    "def test_prob_score_range(df):\n",
    "    \"\"\"Test that score values range in [0, 1]\n",
    "    \"\"\"\n",
    "    assert df.prob_score.between(0, 1, inclusive=True).all() "
   ]
  },
  {
   "cell_type": "code",
   "execution_count": 131,
   "metadata": {},
   "outputs": [],
   "source": [
    "test_prob_score_range(df)"
   ]
  },
  {
   "cell_type": "markdown",
   "metadata": {},
   "source": [
    "### Test data type"
   ]
  },
  {
   "cell_type": "code",
   "execution_count": 132,
   "metadata": {},
   "outputs": [],
   "source": [
    "def test_prob_score_dtype(df):\n",
    "    \"\"\"test dtype is float\n",
    "    \"\"\" \n",
    "    \n",
    "    # most robust and native way to achieve dtype recognition\n",
    "    assert pd.api.types.is_float_dtype(df.prob_score) \n",
    "    \n",
    "    # test score dtype for a sigle value\n",
    "    assert isinstance(df.prob_score[0], float)\n",
    "\n",
    "test_prob_score_dtype(df)"
   ]
  },
  {
   "cell_type": "markdown",
   "metadata": {},
   "source": [
    "### Test no missing and duplicates "
   ]
  },
  {
   "cell_type": "code",
   "execution_count": 133,
   "metadata": {},
   "outputs": [],
   "source": [
    "def test_prob_score_na(df):\n",
    "    \"\"\"Test no missing and duplicates\n",
    "    \"\"\"\n",
    "    assert df.notnull().all().all()\n",
    "    assert ~df.duplicated().any()\n",
    "\n",
    "test_prob_score_na(df)"
   ]
  },
  {
   "cell_type": "markdown",
   "metadata": {},
   "source": [
    "## Test inputs "
   ]
  },
  {
   "cell_type": "markdown",
   "metadata": {},
   "source": [
    "### Generate data schema \n",
    "\n",
    "Best practice is to use a schema - a specification of rules or data properties expected for a set of fields. \n",
    "\n",
    "Example schema for Iris dataset: \n",
    "```json\n",
    "iris_schema = {\n",
    "    'sepal length': {\n",
    "        'range': {\n",
    "            'min': 4.0, \n",
    "            'max': 8.0\n",
    "        },\n",
    "        'dtype': float,\n",
    "    },\n",
    "    'sepal width': {\n",
    "        'range': {\n",
    "            'min': 1.0,\n",
    "            'max': 5.0\n",
    "        },\n",
    "        'dtype': float,\n",
    "    },\n",
    "    'petal length': {\n",
    "        'range': {\n",
    "            'min': 1.0,\n",
    "            'max': 7.0\n",
    "        },\n",
    "        'dtype': float,\n",
    "    },\n",
    "    'petal width': {\n",
    "        'range': {\n",
    "            'min': 0.1,\n",
    "            'max': 3.0\n",
    "        },\n",
    "        'dtype': float,\n",
    "    }\n",
    "}\n",
    "```"
   ]
  },
  {
   "cell_type": "code",
   "execution_count": 134,
   "metadata": {
    "scrolled": true
   },
   "outputs": [
    {
     "name": "stdout",
     "output_type": "stream",
     "text": [
      "{'feature_1': {'25%': -1.1430581298920903,\n",
      "               '50%': 0.03319521301712278,\n",
      "               '75%': 1.2199566293957183,\n",
      "               'count': 752128.0,\n",
      "               'dtype': 'float64',\n",
      "               'max': 8.71482774873068,\n",
      "               'mean': 0.04383947463088342,\n",
      "               'min': -8.908541643807217,\n",
      "               'std': 1.774547872522771},\n",
      " 'feature_10': {'25%': -1.0304815357099264,\n",
      "                '50%': 0.18618795439381358,\n",
      "                '75%': 1.4703034668456332,\n",
      "                'count': 752128.0,\n",
      "                'dtype': 'float64',\n",
      "                'max': 10.148381364385477,\n",
      "                'mean': 0.23737338661451513,\n",
      "                'min': -9.170694699579633,\n",
      "                'std': 1.9071496456722656},\n",
      " 'feature_11': {'count': 752128,\n",
      "                'dtype': 'category',\n",
      "                'freq': 69896,\n",
      "                'nunique': 43,\n",
      "                'top': 'MHQITDLH6CZQ',\n",
      "                'unique': ['3NWLPIR2TFFUM62',\n",
      "                           'JODPUBMS7GRNBU',\n",
      "                           'F4ZLI63UCWNIKBX',\n",
      "                           'LVR5XTTU37QURW4',\n",
      "                           '3NFHEMIBP5C3UMLU4',\n",
      "                           'C47SB6VWH5AA',\n",
      "                           'CKPDTMK3VXH7PA',\n",
      "                           'VZNMT5TUYMWOJ6K',\n",
      "                           'MHQITDLH6CZQ',\n",
      "                           'AFUZOFEES2K5P',\n",
      "                           'PM2FL33TIC4R',\n",
      "                           'MEHKMSSG6JICTOXY',\n",
      "                           '5H6GW5VE53THKNRAIP',\n",
      "                           'VXK6JHMITPLJLV7YM',\n",
      "                           'KS2YOMI2LEI6J26',\n",
      "                           'GD5MMFJQMLP44N6R5AN',\n",
      "                           'AGV53KIW7ETXBR6T',\n",
      "                           'IUHE6OGUE5IGSAOI',\n",
      "                           'CMURP3SP43A4V5',\n",
      "                           'U7EZX7VEFQAM3OC5L2',\n",
      "                           'C7YPJZPWEBAWVKTIKLS',\n",
      "                           'ABNLZWXEYUC3',\n",
      "                           '5RZ2LABG3I7HQUV',\n",
      "                           'P5LWOI65D7NP3TUDZH',\n",
      "                           'QWB3DGSKSNW6OOP2',\n",
      "                           '2YP2T3LS6ULALM7S7',\n",
      "                           '7EGBMNWR5IKI',\n",
      "                           'TYXMF5DFNOKTHU',\n",
      "                           'LOHTR6YGC7B5ZUNLK',\n",
      "                           'VTL3POUIX27G2',\n",
      "                           '5HNR3QDWGNKE5D',\n",
      "                           'ZQ2XU2NO6BDQEYTHOG',\n",
      "                           'H4LIBAMZTCDX',\n",
      "                           'KPKXPACITE65',\n",
      "                           'QRLYDHKK2MDCPCZOTC5',\n",
      "                           'VJXMTTCCJWD2E',\n",
      "                           'LLJA6LL7VWN7V',\n",
      "                           'BHIS24VM677FP',\n",
      "                           'EQK6XSI7KE7A36CKFS',\n",
      "                           '3XNJLGB2A2THBKJC2',\n",
      "                           'RWTDRFMTBBVR3',\n",
      "                           '34PS4YIIJVD5WXTIK7',\n",
      "                           'O5WGVEATFEB5EY2EU']},\n",
      " 'feature_12': {'25%': -1.0304815357099264,\n",
      "                '50%': 0.18618795439381358,\n",
      "                '75%': 1.4703034668456332,\n",
      "                'count': 752128.0,\n",
      "                'dtype': 'float64',\n",
      "                'max': 10.148381364385477,\n",
      "                'mean': 0.23737338661451513,\n",
      "                'min': -9.170694699579633,\n",
      "                'std': 1.9071496456722656},\n",
      " 'feature_13': {'25%': -0.6735641468969611,\n",
      "                '50%': -0.00013909073404580702,\n",
      "                '75%': 0.6752753401549871,\n",
      "                'count': 752128.0,\n",
      "                'dtype': 'float64',\n",
      "                'max': 4.692363349119657,\n",
      "                'mean': 0.000876710515465941,\n",
      "                'min': -4.473684592089528,\n",
      "                'std': 1.0001679641720669},\n",
      " 'feature_14': {'25%': -0.6727488318544301,\n",
      "                '50%': 0.0008533453932233048,\n",
      "                '75%': 0.6748620497507845,\n",
      "                'count': 752128.0,\n",
      "                'dtype': 'float64',\n",
      "                'max': 4.804359333683177,\n",
      "                'mean': 0.0005603503857457121,\n",
      "                'min': -4.570702663819187,\n",
      "                'std': 1.0002037250595632},\n",
      " 'feature_15': {'25%': -1.3484667691734344,\n",
      "                '50%': -0.11119885045486437,\n",
      "                '75%': 1.1312134271573653,\n",
      "                'count': 752128.0,\n",
      "                'dtype': 'float64',\n",
      "                'max': 8.767270338377992,\n",
      "                'mean': -0.10763435614500347,\n",
      "                'min': -8.94847817863572,\n",
      "                'std': 1.8467221917394023},\n",
      " 'feature_16': {'count': 752128,\n",
      "                'dtype': 'category',\n",
      "                'freq': 347583,\n",
      "                'nunique': 8,\n",
      "                'top': 'NBXQL7SIGORXP',\n",
      "                'unique': ['NBXQL7SIGORXP',\n",
      "                           'OX5LHV6NSHT5FWNELT',\n",
      "                           'SPSLYDYXWTWX',\n",
      "                           'C3CFZPSDNTS6',\n",
      "                           '3FKXV24HW6IF',\n",
      "                           '7T6NQXXLOYF4LFIU',\n",
      "                           '2S2NKTCHI3P43ROHZ47',\n",
      "                           '6LBMLPS6SXX7QGL4XDR']},\n",
      " 'feature_17': {'count': 752128,\n",
      "                'dtype': 'category',\n",
      "                'freq': 85326,\n",
      "                'nunique': 42,\n",
      "                'top': '6DELYKZQI2SV',\n",
      "                'unique': ['YFPRZFIQDB54VU',\n",
      "                           'OUH6V7W7UIPZ2AZI',\n",
      "                           'E62S2GPTI3CU',\n",
      "                           'ZYD5PRLZVR5BD7AX4',\n",
      "                           '6DELYKZQI2SV',\n",
      "                           '3LZIGFUE7GEWC',\n",
      "                           'DLNEDGCA2GXDPTY7FHE',\n",
      "                           '3BXLL7OXA7WJOF',\n",
      "                           'VRIHENXACNYQZJ7UWB',\n",
      "                           'O4QULL3AIZXAF4SNN',\n",
      "                           'XQJNSOAUZSBHM6SG',\n",
      "                           '2PS5YUACIZVTM',\n",
      "                           'AYZXTC4FQN72TYZ3X',\n",
      "                           'WLCUDWQWHOWX2IS',\n",
      "                           'TISIR2F7GO2FHH5',\n",
      "                           '2KHFQBXP6POIH',\n",
      "                           '5J5ZEMOAXKEC3G55YYX',\n",
      "                           'VOBRJATMDNQZJTT3AM3',\n",
      "                           'VOYR4RCJ5GUFO',\n",
      "                           'KFDZIPDRBABMF73PE',\n",
      "                           'TFOE5VNSINRQA7ZC',\n",
      "                           '6TUJF2RZDW577D2',\n",
      "                           'BYUTAENEPOFKV',\n",
      "                           '6PNYCZ6OJB4XX',\n",
      "                           'MAZL56UFZ7PGX5I',\n",
      "                           'KI2J53ANHDFTJHNNTK',\n",
      "                           'VUPSBWY45LHDQ',\n",
      "                           'HZM5LICGUTPM2PGB',\n",
      "                           'E3ZBZOIGIZ4EMKM',\n",
      "                           '3QVCL25JLUZWRXVASTI',\n",
      "                           'HX7OCKAW3X5HZ4',\n",
      "                           'Y5DMSCWGYSID2Z2YDNK',\n",
      "                           'MITGDT3MDIFWNT2',\n",
      "                           'N3RZMGWW2JMKKIF',\n",
      "                           'Y7OM4AGZNMPGG6QM',\n",
      "                           'HCQKRE3KGLPW2Y36X',\n",
      "                           'QGCJJ6BQHP4QO7EMYCQ',\n",
      "                           'LYND43LR3LP6DME7CY',\n",
      "                           'GFHVGODWU53OJ',\n",
      "                           '4WT7ZONHZCN43AT',\n",
      "                           'E36OPLGLVR7Q',\n",
      "                           '6QUO3JGRMRELRZDJ6XN']},\n",
      " 'feature_18': {'25%': 0.0,\n",
      "                '50%': 1.0,\n",
      "                '75%': 1.0,\n",
      "                'count': 752128.0,\n",
      "                'dtype': 'int8',\n",
      "                'max': 1.0,\n",
      "                'mean': 0.6835525336113002,\n",
      "                'min': 0.0,\n",
      "                'std': 0.46509005042092777},\n",
      " 'feature_19': {'25%': -0.6721653859117455,\n",
      "                '50%': 0.0009378531485977452,\n",
      "                '75%': 0.6758296278752391,\n",
      "                'count': 752128.0,\n",
      "                'dtype': 'float64',\n",
      "                'max': 4.59328307736399,\n",
      "                'mean': 0.0014325135269351802,\n",
      "                'min': -5.10709349366321,\n",
      "                'std': 0.9998094350604277},\n",
      " 'feature_2': {'25%': -67.0,\n",
      "               '50%': 0.0,\n",
      "               '75%': 67.0,\n",
      "               'count': 752128.0,\n",
      "               'dtype': 'int32',\n",
      "               'max': 450.0,\n",
      "               'mean': -0.030969462644656227,\n",
      "               'min': -482.0,\n",
      "               'std': 99.62412166912247},\n",
      " 'feature_20': {'25%': -0.6752224860087779,\n",
      "                '50%': -0.0015022002588935524,\n",
      "                '75%': 0.6748517204747557,\n",
      "                'count': 752128.0,\n",
      "                'dtype': 'float64',\n",
      "                'max': 4.530898461587161,\n",
      "                'mean': -0.0015532076255244582,\n",
      "                'min': -5.037696113919921,\n",
      "                'std': 0.99991026406013},\n",
      " 'feature_21': {'count': 752128,\n",
      "                'dtype': 'category',\n",
      "                'freq': 50886,\n",
      "                'nunique': 59,\n",
      "                'top': 'D77DCVE6WG4R6FG5O',\n",
      "                'unique': ['',\n",
      "                           'RAGXKIMJHFFGKA',\n",
      "                           'D77DCVE6WG4R6FG5O',\n",
      "                           '7GHQYXOTH4J7YSZJAW7',\n",
      "                           '6NQ3GRYOJMFLY35OQYR',\n",
      "                           'J5P7QBO5IYQW2VXL',\n",
      "                           'EZ5KZHOFPLA7F3I5',\n",
      "                           'H4V75OQHSRBLA',\n",
      "                           'HQR7KBH6I6GZ2RP',\n",
      "                           'JQ3SME3MRMWLQ2J',\n",
      "                           'R2QFV5QYMRO3HJZ3UFD',\n",
      "                           'AUEOMIKY5CRWBNWO7S',\n",
      "                           'KKFSW3XAFFMV4L',\n",
      "                           'WRVXYXLJTZCCRF',\n",
      "                           'NHAYBFLHFRSPGNBZB7',\n",
      "                           'OEOWYXY4R3WE',\n",
      "                           'LP5ZKFJDGLZU',\n",
      "                           'XQ23XBOD7DLXAXBM7T',\n",
      "                           'QHW5SNLXSUGTTHDHEZ',\n",
      "                           'MTO6EXARKG6PUUZ',\n",
      "                           'HUWPMHLGB3NMNFVEDQY',\n",
      "                           'ZDZO2JDXSCTRUFBQ5E',\n",
      "                           'MDYOLEDYPOVD',\n",
      "                           'GDBENOV3OHAV6MKJM',\n",
      "                           'DA7KLH6M5ETF67ZKIV',\n",
      "                           'AH5D25TLBHPS2M',\n",
      "                           'IQ3YDLZAWUZ6474N',\n",
      "                           '6Z6PG6BWZ5NJO6DV7',\n",
      "                           '4VPOKVAQSMMTDZQ',\n",
      "                           'LEPJR3KVFFPA',\n",
      "                           'VHZICKEMXT3PSD',\n",
      "                           'FWTIBMTZLEEVGHNQE5',\n",
      "                           '7XKZO2MOMFIDWZTLRP',\n",
      "                           'UKIFONHCHTSDLYVL55',\n",
      "                           '3XISHXAWT6FPJ7DS',\n",
      "                           '3O6ZC2466IRTPQKPP',\n",
      "                           'HVOZFIILLM5L2GQ',\n",
      "                           '4PSOKLSFQ2UJNLCQXX7',\n",
      "                           '6LS3NJZLOPB3PCZ63F',\n",
      "                           'OUVDO7CBGGDB',\n",
      "                           'RT4WV6STGSAO',\n",
      "                           'AWL7WI6OEC3W3U4SD',\n",
      "                           '7MO5PXIECETEMDSP6W',\n",
      "                           'LWG3NRFHG5MCEJZAO',\n",
      "                           '45ZG63I6CZDGKEMJ7Z',\n",
      "                           'AS4NIAY57ZHRI',\n",
      "                           'D7I3UQYGF7BJN5Y7',\n",
      "                           'MRPD2AJZOGQ4L6S',\n",
      "                           '64XEECY6RDSM',\n",
      "                           'KCZHBXTH42SF4RD',\n",
      "                           'C2TYLQU6TNKY',\n",
      "                           'EZNYFWLK5UJX7HKJ',\n",
      "                           'BGQK4U4OCHLG4',\n",
      "                           'E3OSGOFQ3OOZZO4A',\n",
      "                           'HIDDWOF7OROOQWEX',\n",
      "                           'UL3CLSEXFIXSR7KCEY',\n",
      "                           '5ZPDVOQML6TP4OG5E',\n",
      "                           'TN6SPTB6NRYP4HNEC',\n",
      "                           'C6SWQTU7ZNKLVY']},\n",
      " 'feature_22': {'count': 752128,\n",
      "                'dtype': 'category',\n",
      "                'freq': 85565,\n",
      "                'nunique': 44,\n",
      "                'top': 'TJV7T4PPEEWO42QBV4Q',\n",
      "                'unique': ['AOKOISPPQLWGKK',\n",
      "                           'OORLO7PMHCZFEMSR',\n",
      "                           'NZFU27MWLPZRTX4G5D',\n",
      "                           'KQBIGTVRDJZJLQRRPPY',\n",
      "                           'YX4BRQGHGOWNB64WUO',\n",
      "                           '2YMT2XEVTXAF',\n",
      "                           'TJV7T4PPEEWO42QBV4Q',\n",
      "                           'GBEZXKBWLNI3JBI67M3',\n",
      "                           'Y4767TDLNIDWZZ',\n",
      "                           '4XG5UHOZBMLV7SA',\n",
      "                           'J7F777J74COMOLPJGP7',\n",
      "                           'GMRCAFLU7L7WY',\n",
      "                           'HWB3ZZGL246CVDOXKH',\n",
      "                           '5MQFNBSAF7XUOGCBO',\n",
      "                           'L2IX64KM2SRVJBFSE',\n",
      "                           'TPOV4E3SZ2AT4',\n",
      "                           'YAV5VBY5SYSR',\n",
      "                           'EJUD2I2HFE2WPFHSD3',\n",
      "                           'J64PZDKBNP5MVAVNTPL',\n",
      "                           'EUOWISJS6ZHO7UESS',\n",
      "                           'ONUPGM3WWBHWZNC77L',\n",
      "                           'WG7IJEDG336E2Y',\n",
      "                           'KJYF6U3NPSHK',\n",
      "                           'OXTSO5FPTA6Y46D2X6U',\n",
      "                           '2VHRPDEH2YNCZI',\n",
      "                           '4NI4V545AYLWMNEL4',\n",
      "                           'WOVPZGPUWBQQJQ',\n",
      "                           '6JJ6JDR2VNDC35',\n",
      "                           'GFS44BVC57ORLJAZ6DZ',\n",
      "                           'ZFB77YXTWZT345QYIBW',\n",
      "                           'JRRCGEXJ6BYIYNF',\n",
      "                           'CYSFJM6DE4VK',\n",
      "                           'PI3LZTXWFRKNONIN',\n",
      "                           '7W5KUKH3JLUUM2',\n",
      "                           'DK3QBX2X2LOE',\n",
      "                           'AJWYDPPIAQUEBWCTIM',\n",
      "                           'YLNJTXJWULLYLLE',\n",
      "                           'ZDJ5TUIYRPB55RXUW4',\n",
      "                           'HJ5MRK6GD5IL5',\n",
      "                           'KTP24B35JKXRY',\n",
      "                           'WIZLRSAFOU5J6WR6DX5',\n",
      "                           'SYY564Q4QYWN',\n",
      "                           '3GZLFOLI4EXKFC',\n",
      "                           'LB3CBNVRUD3CW5JZWX']},\n",
      " 'feature_23': {'25%': -1.3484667691734344,\n",
      "                '50%': -0.11119885045486437,\n",
      "                '75%': 1.1312134271573653,\n",
      "                'count': 752128.0,\n",
      "                'dtype': 'float64',\n",
      "                'max': 8.767270338377992,\n",
      "                'mean': -0.10763435614500347,\n",
      "                'min': -8.94847817863572,\n",
      "                'std': 1.8467221917394023},\n",
      " 'feature_24': {'25%': -2.329047552413548,\n",
      "                '50%': -0.2053926407062739,\n",
      "                '75%': 2.0043870582851575,\n",
      "                'count': 752128.0,\n",
      "                'dtype': 'float64',\n",
      "                'max': 16.762801859931027,\n",
      "                'mean': -0.12336242460299225,\n",
      "                'min': -17.68551752937184,\n",
      "                'std': 3.332540042071055},\n",
      " 'feature_25': {'25%': -18.0,\n",
      "                '50%': 0.0,\n",
      "                '75%': 18.0,\n",
      "                'count': 752128.0,\n",
      "                'dtype': 'int32',\n",
      "                'max': 150.0,\n",
      "                'mean': -0.5940983449625595,\n",
      "                'min': -178.0,\n",
      "                'std': 27.987583649235013},\n",
      " 'feature_26': {'25%': -2.2872042879150523,\n",
      "                '50%': -0.15796053184195907,\n",
      "                '75%': 2.0656204771074953,\n",
      "                'count': 752128.0,\n",
      "                'dtype': 'float64',\n",
      "                'max': 18.351954664687096,\n",
      "                'mean': -0.073767427083112,\n",
      "                'min': -19.791915382401132,\n",
      "                'std': 3.3202432579532832},\n",
      " 'feature_27': {'25%': -67510.25,\n",
      "                '50%': -90.5,\n",
      "                '75%': 67209.25,\n",
      "                'count': 752128.0,\n",
      "                'dtype': 'int32',\n",
      "                'max': 486448.0,\n",
      "                'mean': -123.78508046502724,\n",
      "                'min': -453484.0,\n",
      "                'std': 99966.2127343334},\n",
      " 'feature_28': {'25%': -1.2601825037667473,\n",
      "                '50%': -0.007427944589294688,\n",
      "                '75%': 1.212967133629303,\n",
      "                'count': 752128.0,\n",
      "                'dtype': 'float64',\n",
      "                'max': 9.615197359502915,\n",
      "                'mean': -0.037214077843618826,\n",
      "                'min': -9.86358905474803,\n",
      "                'std': 1.8501948362207186},\n",
      " 'feature_29': {'25%': -0.6729058725931774,\n",
      "                '50%': 2.535755299371594e-05,\n",
      "                '75%': 0.675062155466108,\n",
      "                'count': 752128.0,\n",
      "                'dtype': 'float64',\n",
      "                'max': 5.003531040388779,\n",
      "                'mean': 0.0005072732627032341,\n",
      "                'min': -4.965070927819147,\n",
      "                'std': 0.9989670956443533},\n",
      " 'feature_3': {'25%': -1.181807103934644,\n",
      "               '50%': -0.10978607762341487,\n",
      "               '75%': 1.0046152286787087,\n",
      "               'count': 752128.0,\n",
      "               'dtype': 'float64',\n",
      "               'max': 8.86735572444352,\n",
      "               'mean': -0.07863563971414475,\n",
      "               'min': -9.371184429062444,\n",
      "               'std': 1.7340708529219644},\n",
      " 'feature_30': {'25%': -1.121817134163663,\n",
      "                '50%': 0.0006082093274595993,\n",
      "                '75%': 1.1300519043289206,\n",
      "                'count': 752128.0,\n",
      "                'dtype': 'float64',\n",
      "                'max': 7.581906037486601,\n",
      "                'mean': 0.0016098223827596117,\n",
      "                'min': -7.896858947427389,\n",
      "                'std': 1.6716990101818436},\n",
      " 'feature_4': {'25%': -10.0,\n",
      "               '50%': 1.0,\n",
      "               '75%': 13.0,\n",
      "               'count': 752128.0,\n",
      "               'dtype': 'int32',\n",
      "               'max': 99.0,\n",
      "               'mean': 1.4314185883253914,\n",
      "               'min': -99.0,\n",
      "               'std': 18.078364852979632},\n",
      " 'feature_5': {'25%': -6751.0,\n",
      "               '50%': -3.0,\n",
      "               '75%': 6737.0,\n",
      "               'count': 752128.0,\n",
      "               'dtype': 'int32',\n",
      "               'max': 46936.0,\n",
      "               'mean': -1.7922880148059905,\n",
      "               'min': -46482.0,\n",
      "               'std': 9999.427945122487},\n",
      " 'feature_6': {'25%': -1.3993964128479341,\n",
      "               '50%': -0.09607352125367465,\n",
      "               '75%': 1.2306329031867025,\n",
      "               'count': 752128.0,\n",
      "               'dtype': 'float64',\n",
      "               'max': 10.791306682917638,\n",
      "               'mean': -0.06993924577393262,\n",
      "               'min': -9.653745026023817,\n",
      "               'std': 1.9662389554875832},\n",
      " 'feature_7': {'25%': -1.221536913927048,\n",
      "               '50%': -0.03881939396725752,\n",
      "               '75%': 1.1217947413179015,\n",
      "               'count': 752128.0,\n",
      "               'dtype': 'float64',\n",
      "               'max': 8.734835619443846,\n",
      "               'mean': -0.057295665148808676,\n",
      "               'min': -8.531633061138807,\n",
      "               'std': 1.7520604543846363},\n",
      " 'feature_8': {'25%': -0.6764031349522716,\n",
      "               '50%': -0.0037178219011777874,\n",
      "               '75%': 0.6734156302725831,\n",
      "               'count': 752128.0,\n",
      "               'dtype': 'float64',\n",
      "               'max': 4.66330402853211,\n",
      "               'mean': -0.001987683449709819,\n",
      "               'min': -4.673905671912276,\n",
      "               'std': 1.0010678034458134},\n",
      " 'feature_9': {'25%': -2.635929450353234,\n",
      "               '50%': 0.009550921689363917,\n",
      "               '75%': 2.6630118133494745,\n",
      "               'count': 752128.0,\n",
      "               'dtype': 'float64',\n",
      "               'max': 25.172230287631024,\n",
      "               'mean': 0.030221577886781967,\n",
      "               'min': -21.869241112612137,\n",
      "               'std': 4.144158937492318}}\n"
     ]
    }
   ],
   "source": [
    "import pprint\n",
    "\n",
    "def gen_category_schema(df, categories, num_features):\n",
    "    \"\"\"Generate a data schema for category and numeric features\n",
    "    \"\"\"\n",
    "    \n",
    "    schema = {}\n",
    "    \n",
    "    cat = df.loc[:, categories].describe()\n",
    "    cat.loc['unique', :] = df.loc[:, categories].apply(lambda x: x.unique().tolist())\n",
    "    cat.loc['nunique', :] = df.loc[:, categories].apply(lambda x: x.nunique())\n",
    "    cat.loc['dtype', :] = 'category'\n",
    "    schema.update(cat.T.to_dict('index'))\n",
    "    \n",
    "    num_df = df.copy().loc[:, num_features]\n",
    "    num = num_df.describe()\n",
    "    num = num.append(pd.DataFrame(\n",
    "        {'dtype': [t.__str__() for t in num_df.dtypes.values]}, \n",
    "        index = num_features).T)\n",
    "    schema.update(num.T.to_dict('index'))\n",
    "    \n",
    "    return schema \n",
    "\n",
    "dschema = gen_category_schema(user_features_df, categories, num_features)\n",
    "pprint.pprint(dschema)"
   ]
  },
  {
   "cell_type": "code",
   "execution_count": 135,
   "metadata": {},
   "outputs": [
    {
     "data": {
      "text/plain": [
       "{'prob_score', 'user_id'}"
      ]
     },
     "execution_count": 135,
     "metadata": {},
     "output_type": "execute_result"
    }
   ],
   "source": [
    "s  = set(df.columns) - set(['count'])\n",
    "s"
   ]
  },
  {
   "cell_type": "code",
   "execution_count": 136,
   "metadata": {},
   "outputs": [
    {
     "name": "stdout",
     "output_type": "stream",
     "text": [
      "prob_score\n",
      "user_id\n"
     ]
    }
   ],
   "source": [
    "for i in s: print(i)"
   ]
  },
  {
   "cell_type": "markdown",
   "metadata": {},
   "source": [
    "### Test input data types"
   ]
  },
  {
   "cell_type": "code",
   "execution_count": 137,
   "metadata": {
    "scrolled": true
   },
   "outputs": [],
   "source": [
    "def test_input_data_types(df, dschema):\n",
    "\n",
    "    for feature in dschema.keys():       \n",
    "        assert df[feature].dtype.__str__() == dschema[feature]['dtype'], f'Data type test failed for {feature}'\n",
    "            \n",
    "test_input_data_types(user_features_df, dschema)"
   ]
  },
  {
   "cell_type": "markdown",
   "metadata": {},
   "source": [
    "- Break the test example:"
   ]
  },
  {
   "cell_type": "code",
   "execution_count": 138,
   "metadata": {},
   "outputs": [
    {
     "ename": "AssertionError",
     "evalue": "Data type test failed for feature_1",
     "output_type": "error",
     "traceback": [
      "\u001b[0;31m---------------------------------------------------------------------------\u001b[0m",
      "\u001b[0;31mAssertionError\u001b[0m                            Traceback (most recent call last)",
      "\u001b[0;32m<ipython-input-138-a0bbd23cd7eb>\u001b[0m in \u001b[0;36m<module>\u001b[0;34m\u001b[0m\n\u001b[1;32m      6\u001b[0m \u001b[0;34m\u001b[0m\u001b[0m\n\u001b[1;32m      7\u001b[0m \u001b[0;31m# Run test\u001b[0m\u001b[0;34m\u001b[0m\u001b[0;34m\u001b[0m\u001b[0;34m\u001b[0m\u001b[0m\n\u001b[0;32m----> 8\u001b[0;31m \u001b[0mtest_input_data_types\u001b[0m\u001b[0;34m(\u001b[0m\u001b[0muser_features_df2\u001b[0m\u001b[0;34m,\u001b[0m \u001b[0mdschema\u001b[0m\u001b[0;34m)\u001b[0m\u001b[0;34m\u001b[0m\u001b[0;34m\u001b[0m\u001b[0m\n\u001b[0m",
      "\u001b[0;32m<ipython-input-137-f3d76958c48a>\u001b[0m in \u001b[0;36mtest_input_data_types\u001b[0;34m(df, dschema)\u001b[0m\n\u001b[1;32m      2\u001b[0m \u001b[0;34m\u001b[0m\u001b[0m\n\u001b[1;32m      3\u001b[0m     \u001b[0;32mfor\u001b[0m \u001b[0mfeature\u001b[0m  \u001b[0;32min\u001b[0m \u001b[0mdschema\u001b[0m\u001b[0;34m.\u001b[0m\u001b[0mkeys\u001b[0m\u001b[0;34m(\u001b[0m\u001b[0;34m)\u001b[0m\u001b[0;34m:\u001b[0m\u001b[0;34m\u001b[0m\u001b[0;34m\u001b[0m\u001b[0m\n\u001b[0;32m----> 4\u001b[0;31m         \u001b[0;32massert\u001b[0m \u001b[0mdf\u001b[0m\u001b[0;34m[\u001b[0m\u001b[0mfeature\u001b[0m\u001b[0;34m]\u001b[0m\u001b[0;34m.\u001b[0m\u001b[0mdtype\u001b[0m\u001b[0;34m.\u001b[0m\u001b[0m__str__\u001b[0m\u001b[0;34m(\u001b[0m\u001b[0;34m)\u001b[0m \u001b[0;34m==\u001b[0m \u001b[0mdschema\u001b[0m\u001b[0;34m[\u001b[0m\u001b[0mfeature\u001b[0m\u001b[0;34m]\u001b[0m\u001b[0;34m[\u001b[0m\u001b[0;34m'dtype'\u001b[0m\u001b[0;34m]\u001b[0m\u001b[0;34m,\u001b[0m \u001b[0;34mf'Data type test failed for {feature}'\u001b[0m\u001b[0;34m\u001b[0m\u001b[0;34m\u001b[0m\u001b[0m\n\u001b[0m\u001b[1;32m      5\u001b[0m \u001b[0;34m\u001b[0m\u001b[0m\n\u001b[1;32m      6\u001b[0m \u001b[0mtest_input_data_types\u001b[0m\u001b[0;34m(\u001b[0m\u001b[0muser_features_df\u001b[0m\u001b[0;34m,\u001b[0m \u001b[0mdschema\u001b[0m\u001b[0;34m)\u001b[0m\u001b[0;34m\u001b[0m\u001b[0;34m\u001b[0m\u001b[0m\n",
      "\u001b[0;31mAssertionError\u001b[0m: Data type test failed for feature_1"
     ]
    }
   ],
   "source": [
    "# Create new DF\n",
    "user_features_df2 = user_features_df.copy()\n",
    "\n",
    "# Change dtype for 'feature_1'\n",
    "user_features_df2['feature_1'] = user_features_df2['feature_1'].astype('str')\n",
    "\n",
    "# Run test\n",
    "test_input_data_types(user_features_df2, dschema)"
   ]
  },
  {
   "cell_type": "markdown",
   "metadata": {},
   "source": [
    "### Test numeric data ranges (min, max)"
   ]
  },
  {
   "cell_type": "code",
   "execution_count": 139,
   "metadata": {
    "scrolled": true
   },
   "outputs": [],
   "source": [
    "def test_numeric_data_ranges(df, dschema, num_features):\n",
    "\n",
    "    for feature in num_features:\n",
    "        # use assertions to ensure the max/min values found in the dataset\n",
    "        assert df[feature].max() <= dschema[feature]['max'], f'Max value test failed for {feature}'\n",
    "        assert df[feature].min() >= dschema[feature]['min'], f'Min value test failed for {feature}'\n",
    "\n",
    "test_numeric_data_ranges(user_features_df, dschema, num_features)"
   ]
  },
  {
   "cell_type": "markdown",
   "metadata": {},
   "source": [
    "- Try to break the test:"
   ]
  },
  {
   "cell_type": "code",
   "execution_count": 140,
   "metadata": {},
   "outputs": [
    {
     "name": "stdout",
     "output_type": "stream",
     "text": [
      "Old max value: 450\n",
      "New max value: 4500\n"
     ]
    }
   ],
   "source": [
    "# Create a new DF\n",
    "user_features_df2 = user_features_df.copy()\n",
    "\n",
    "# Check max value\n",
    "user_features_df2['feature_2'].max()\n",
    "print(f\"Old max value: {user_features_df2['feature_2'].max()}\")\n",
    "\n",
    "# Simulate max value change\n",
    "user_features_df2.loc[:0, 'feature_2'] = user_features_df2['feature_2'].max() * 10\n",
    "print(f\"New max value: {user_features_df2['feature_2'].max()}\")"
   ]
  },
  {
   "cell_type": "code",
   "execution_count": 141,
   "metadata": {},
   "outputs": [
    {
     "ename": "AssertionError",
     "evalue": "Max value test failed for feature_2",
     "output_type": "error",
     "traceback": [
      "\u001b[0;31m---------------------------------------------------------------------------\u001b[0m",
      "\u001b[0;31mAssertionError\u001b[0m                            Traceback (most recent call last)",
      "\u001b[0;32m<ipython-input-141-52fda5982884>\u001b[0m in \u001b[0;36m<module>\u001b[0;34m\u001b[0m\n\u001b[1;32m      1\u001b[0m \u001b[0;31m# Run test for new data\u001b[0m\u001b[0;34m\u001b[0m\u001b[0;34m\u001b[0m\u001b[0;34m\u001b[0m\u001b[0m\n\u001b[1;32m      2\u001b[0m \u001b[0;34m\u001b[0m\u001b[0m\n\u001b[0;32m----> 3\u001b[0;31m \u001b[0mtest_numeric_data_ranges\u001b[0m\u001b[0;34m(\u001b[0m\u001b[0muser_features_df2\u001b[0m\u001b[0;34m,\u001b[0m \u001b[0mdschema\u001b[0m\u001b[0;34m,\u001b[0m \u001b[0mnum_features\u001b[0m\u001b[0;34m)\u001b[0m\u001b[0;34m\u001b[0m\u001b[0;34m\u001b[0m\u001b[0m\n\u001b[0m",
      "\u001b[0;32m<ipython-input-139-7f62dad3d7f9>\u001b[0m in \u001b[0;36mtest_numeric_data_ranges\u001b[0;34m(df, dschema, num_features)\u001b[0m\n\u001b[1;32m      3\u001b[0m     \u001b[0;32mfor\u001b[0m \u001b[0mfeature\u001b[0m \u001b[0;32min\u001b[0m \u001b[0mnum_features\u001b[0m\u001b[0;34m:\u001b[0m\u001b[0;34m\u001b[0m\u001b[0;34m\u001b[0m\u001b[0m\n\u001b[1;32m      4\u001b[0m         \u001b[0;31m# use assertions to ensure the max/min values found in the dataset\u001b[0m\u001b[0;34m\u001b[0m\u001b[0;34m\u001b[0m\u001b[0;34m\u001b[0m\u001b[0m\n\u001b[0;32m----> 5\u001b[0;31m         \u001b[0;32massert\u001b[0m \u001b[0mdf\u001b[0m\u001b[0;34m[\u001b[0m\u001b[0mfeature\u001b[0m\u001b[0;34m]\u001b[0m\u001b[0;34m.\u001b[0m\u001b[0mmax\u001b[0m\u001b[0;34m(\u001b[0m\u001b[0;34m)\u001b[0m \u001b[0;34m<=\u001b[0m \u001b[0mdschema\u001b[0m\u001b[0;34m[\u001b[0m\u001b[0mfeature\u001b[0m\u001b[0;34m]\u001b[0m\u001b[0;34m[\u001b[0m\u001b[0;34m'max'\u001b[0m\u001b[0;34m]\u001b[0m\u001b[0;34m,\u001b[0m \u001b[0;34mf'Max value test failed for {feature}'\u001b[0m\u001b[0;34m\u001b[0m\u001b[0;34m\u001b[0m\u001b[0m\n\u001b[0m\u001b[1;32m      6\u001b[0m         \u001b[0;32massert\u001b[0m \u001b[0mdf\u001b[0m\u001b[0;34m[\u001b[0m\u001b[0mfeature\u001b[0m\u001b[0;34m]\u001b[0m\u001b[0;34m.\u001b[0m\u001b[0mmin\u001b[0m\u001b[0;34m(\u001b[0m\u001b[0;34m)\u001b[0m \u001b[0;34m>=\u001b[0m \u001b[0mdschema\u001b[0m\u001b[0;34m[\u001b[0m\u001b[0mfeature\u001b[0m\u001b[0;34m]\u001b[0m\u001b[0;34m[\u001b[0m\u001b[0;34m'min'\u001b[0m\u001b[0;34m]\u001b[0m\u001b[0;34m,\u001b[0m \u001b[0;34mf'Min value test failed for {feature}'\u001b[0m\u001b[0;34m\u001b[0m\u001b[0;34m\u001b[0m\u001b[0m\n\u001b[1;32m      7\u001b[0m \u001b[0;34m\u001b[0m\u001b[0m\n",
      "\u001b[0;31mAssertionError\u001b[0m: Max value test failed for feature_2"
     ]
    }
   ],
   "source": [
    "# Run test for new data\n",
    "\n",
    "test_numeric_data_ranges(user_features_df2, dschema, num_features)"
   ]
  },
  {
   "cell_type": "markdown",
   "metadata": {},
   "source": [
    "### Test category data values"
   ]
  },
  {
   "cell_type": "code",
   "execution_count": 142,
   "metadata": {
    "scrolled": true
   },
   "outputs": [],
   "source": [
    "def test_category_data_values(df, dschema, categories):\n",
    "\n",
    "    for feature in categories:\n",
    "        set_a = df.loc[:, feature].unique().tolist()\n",
    "\n",
    "        # use assertions to ensure the feature categories exist in schema\n",
    "        cat_dif = list(set(set_a) - set(dschema[feature]['unique']))\n",
    "        assert len(cat_dif) == 0, f'DF has categories not in shema: {cat_dif}'\n",
    "\n",
    "test_category_data_values(user_features_df, dschema, categories)"
   ]
  },
  {
   "cell_type": "markdown",
   "metadata": {},
   "source": [
    "- Break this test example:"
   ]
  },
  {
   "cell_type": "code",
   "execution_count": 143,
   "metadata": {},
   "outputs": [
    {
     "data": {
      "text/plain": [
       "0             Unknown\n",
       "1    OUH6V7W7UIPZ2AZI\n",
       "2    OUH6V7W7UIPZ2AZI\n",
       "3        E62S2GPTI3CU\n",
       "4        E62S2GPTI3CU\n",
       "Name: feature_17, dtype: object"
      ]
     },
     "execution_count": 143,
     "metadata": {},
     "output_type": "execute_result"
    }
   ],
   "source": [
    "# Add a new category 'Unknown'\n",
    "feature_17_categories = user_features_df2['feature_17'].tolist()\n",
    "feature_17_categories[0] = 'Unknown'\n",
    "user_features_df2['feature_17'] = pd.Categorical(\n",
    "    user_features_df2['feature_17'], categories=set(feature_17_categories)\n",
    ")\n",
    "user_features_df2['feature_17'] = feature_17_categories\n",
    "user_features_df2['feature_17'].head()\n"
   ]
  },
  {
   "cell_type": "code",
   "execution_count": 144,
   "metadata": {},
   "outputs": [
    {
     "ename": "AssertionError",
     "evalue": "DF has categories not in shema: ['Unknown']",
     "output_type": "error",
     "traceback": [
      "\u001b[0;31m---------------------------------------------------------------------------\u001b[0m",
      "\u001b[0;31mAssertionError\u001b[0m                            Traceback (most recent call last)",
      "\u001b[0;32m<ipython-input-144-242a3aae65c2>\u001b[0m in \u001b[0;36m<module>\u001b[0;34m\u001b[0m\n\u001b[1;32m      1\u001b[0m \u001b[0;31m# Run test\u001b[0m\u001b[0;34m\u001b[0m\u001b[0;34m\u001b[0m\u001b[0;34m\u001b[0m\u001b[0m\n\u001b[1;32m      2\u001b[0m \u001b[0;34m\u001b[0m\u001b[0m\n\u001b[0;32m----> 3\u001b[0;31m \u001b[0mtest_category_data_values\u001b[0m\u001b[0;34m(\u001b[0m\u001b[0muser_features_df2\u001b[0m\u001b[0;34m,\u001b[0m \u001b[0mdschema\u001b[0m\u001b[0;34m,\u001b[0m \u001b[0mcategories\u001b[0m\u001b[0;34m)\u001b[0m\u001b[0;34m\u001b[0m\u001b[0;34m\u001b[0m\u001b[0m\n\u001b[0m",
      "\u001b[0;32m<ipython-input-142-0608ff0a4a6b>\u001b[0m in \u001b[0;36mtest_category_data_values\u001b[0;34m(df, dschema, categories)\u001b[0m\n\u001b[1;32m      6\u001b[0m         \u001b[0;31m# use assertions to ensure the feature categories exist in schema\u001b[0m\u001b[0;34m\u001b[0m\u001b[0;34m\u001b[0m\u001b[0;34m\u001b[0m\u001b[0m\n\u001b[1;32m      7\u001b[0m         \u001b[0mcat_dif\u001b[0m \u001b[0;34m=\u001b[0m \u001b[0mlist\u001b[0m\u001b[0;34m(\u001b[0m\u001b[0mset\u001b[0m\u001b[0;34m(\u001b[0m\u001b[0mset_a\u001b[0m\u001b[0;34m)\u001b[0m \u001b[0;34m-\u001b[0m \u001b[0mset\u001b[0m\u001b[0;34m(\u001b[0m\u001b[0mdschema\u001b[0m\u001b[0;34m[\u001b[0m\u001b[0mfeature\u001b[0m\u001b[0;34m]\u001b[0m\u001b[0;34m[\u001b[0m\u001b[0;34m'unique'\u001b[0m\u001b[0;34m]\u001b[0m\u001b[0;34m)\u001b[0m\u001b[0;34m)\u001b[0m\u001b[0;34m\u001b[0m\u001b[0;34m\u001b[0m\u001b[0m\n\u001b[0;32m----> 8\u001b[0;31m         \u001b[0;32massert\u001b[0m \u001b[0mlen\u001b[0m\u001b[0;34m(\u001b[0m\u001b[0mcat_dif\u001b[0m\u001b[0;34m)\u001b[0m \u001b[0;34m==\u001b[0m \u001b[0;36m0\u001b[0m\u001b[0;34m,\u001b[0m \u001b[0;34mf'DF has categories not in shema: {cat_dif}'\u001b[0m\u001b[0;34m\u001b[0m\u001b[0;34m\u001b[0m\u001b[0m\n\u001b[0m\u001b[1;32m      9\u001b[0m \u001b[0;34m\u001b[0m\u001b[0m\n\u001b[1;32m     10\u001b[0m \u001b[0mtest_category_data_values\u001b[0m\u001b[0;34m(\u001b[0m\u001b[0muser_features_df\u001b[0m\u001b[0;34m,\u001b[0m \u001b[0mdschema\u001b[0m\u001b[0;34m,\u001b[0m \u001b[0mcategories\u001b[0m\u001b[0;34m)\u001b[0m\u001b[0;34m\u001b[0m\u001b[0;34m\u001b[0m\u001b[0m\n",
      "\u001b[0;31mAssertionError\u001b[0m: DF has categories not in shema: ['Unknown']"
     ]
    }
   ],
   "source": [
    "# Run test \n",
    "\n",
    "test_category_data_values(user_features_df2, dschema, categories)"
   ]
  },
  {
   "cell_type": "markdown",
   "metadata": {},
   "source": [
    "## Testing pipeline config "
   ]
  },
  {
   "cell_type": "code",
   "execution_count": 154,
   "metadata": {
    "scrolled": true
   },
   "outputs": [
    {
     "data": {
      "text/plain": [
       "{'base': {'project_dir': '.', 'random_state': 42, 'log_level': 'DEBUG'},\n",
       " 'data_load': {'target': 'data/raw/target.feather',\n",
       "  'dataset': 'data/raw/user_features.feather',\n",
       "  'target_processed': 'data/processed/target.feather',\n",
       "  'dataset_processed': 'data/processed/user_features.feather'},\n",
       " 'featurize': {'features_path': 'data/processed/features.feather',\n",
       "  'categories': ['feature_17',\n",
       "   'feature_21',\n",
       "   'feature_11',\n",
       "   'feature_16',\n",
       "   'feature_22']},\n",
       " 'data_split': {'split_oos': True,\n",
       "  'test_size': 1,\n",
       "  'train_index_path': 'data/processed/train_index.csv',\n",
       "  'test_index_path': 'data/processed/test_index.csv'},\n",
       " 'train': {'catboost_params': {'iterations': 20,\n",
       "   'thread_count': 20,\n",
       "   'has_time': True,\n",
       "   'allow_writing_files': False},\n",
       "  'top_K_coef': 0.05,\n",
       "  'model_path': 'models/model.joblib',\n",
       "  'train_metrics': 'reports/train_metrics.json',\n",
       "  'train_metrics_path': 'reports/train_metrics.json',\n",
       "  'train_metrics_png': 'reports/train_metrics.png',\n",
       "  'train_plots_path': 'reports/train_plots.csv',\n",
       "  'raw_metrics_path': 'reports/raw_metrics.csv',\n",
       "  'encoder_path': 'models/encoder.pickle'}}"
      ]
     },
     "execution_count": 154,
     "metadata": {},
     "output_type": "execute_result"
    }
   ],
   "source": [
    "import os\n",
    "\n",
    "BASE_PATH = os.getcwd()\n",
    "CONFIG_PATH = f'{BASE_PATH}/config/params.yaml'\n",
    "\n",
    "config = yaml.safe_load(open(CONFIG_PATH))\n",
    "config"
   ]
  },
  {
   "cell_type": "markdown",
   "metadata": {},
   "source": [
    "### Test required fields"
   ]
  },
  {
   "cell_type": "code",
   "execution_count": 155,
   "metadata": {},
   "outputs": [
    {
     "data": {
      "text/plain": [
       "dict_keys(['base', 'data_load', 'featurize', 'data_split', 'train'])"
      ]
     },
     "execution_count": 155,
     "metadata": {},
     "output_type": "execute_result"
    }
   ],
   "source": [
    "config.keys()"
   ]
  },
  {
   "cell_type": "code",
   "execution_count": 160,
   "metadata": {},
   "outputs": [],
   "source": [
    "def test_check_required_fields(config):\n",
    "    \"\"\"Test that we not missed the required param sections\n",
    "    \"\"\"\n",
    "    assert 'base' in config.keys()\n",
    "    assert 'data_load' in config.keys()\n",
    "    assert 'target' in config['data_load'].keys()\n",
    "    assert 'test_size' in config['data_split'].keys()\n",
    "    assert 'train' in config.keys()\n",
    "    \n",
    "\n",
    "test_check_required_fields(config)"
   ]
  },
  {
   "cell_type": "markdown",
   "metadata": {},
   "source": [
    "### Test config value types"
   ]
  },
  {
   "cell_type": "code",
   "execution_count": 164,
   "metadata": {},
   "outputs": [
    {
     "ename": "AssertionError",
     "evalue": "Incorrect Type",
     "output_type": "error",
     "traceback": [
      "\u001b[0;31m---------------------------------------------------------------------------\u001b[0m",
      "\u001b[0;31mAssertionError\u001b[0m                            Traceback (most recent call last)",
      "\u001b[0;32m<ipython-input-164-ae01e6398026>\u001b[0m in \u001b[0;36m<module>\u001b[0;34m\u001b[0m\n\u001b[1;32m      3\u001b[0m     \u001b[0;32massert\u001b[0m \u001b[0misinstance\u001b[0m\u001b[0;34m(\u001b[0m\u001b[0mconfig\u001b[0m\u001b[0;34m[\u001b[0m\u001b[0;34m'data_split'\u001b[0m\u001b[0;34m]\u001b[0m\u001b[0;34m[\u001b[0m\u001b[0;34m'test_size'\u001b[0m\u001b[0;34m]\u001b[0m\u001b[0;34m,\u001b[0m \u001b[0mfloat\u001b[0m\u001b[0;34m)\u001b[0m\u001b[0;34m,\u001b[0m \u001b[0;34m\"Incorrect Type\"\u001b[0m\u001b[0;34m\u001b[0m\u001b[0;34m\u001b[0m\u001b[0m\n\u001b[1;32m      4\u001b[0m \u001b[0;34m\u001b[0m\u001b[0m\n\u001b[0;32m----> 5\u001b[0;31m \u001b[0mtest_config_value_types\u001b[0m\u001b[0;34m(\u001b[0m\u001b[0mconfig\u001b[0m\u001b[0;34m)\u001b[0m\u001b[0;34m\u001b[0m\u001b[0;34m\u001b[0m\u001b[0m\n\u001b[0m",
      "\u001b[0;32m<ipython-input-164-ae01e6398026>\u001b[0m in \u001b[0;36mtest_config_value_types\u001b[0;34m(config)\u001b[0m\n\u001b[1;32m      1\u001b[0m \u001b[0;32mdef\u001b[0m \u001b[0mtest_config_value_types\u001b[0m\u001b[0;34m(\u001b[0m\u001b[0mconfig\u001b[0m\u001b[0;34m)\u001b[0m\u001b[0;34m:\u001b[0m\u001b[0;34m\u001b[0m\u001b[0;34m\u001b[0m\u001b[0m\n\u001b[1;32m      2\u001b[0m \u001b[0;34m\u001b[0m\u001b[0m\n\u001b[0;32m----> 3\u001b[0;31m     \u001b[0;32massert\u001b[0m \u001b[0misinstance\u001b[0m\u001b[0;34m(\u001b[0m\u001b[0mconfig\u001b[0m\u001b[0;34m[\u001b[0m\u001b[0;34m'data_split'\u001b[0m\u001b[0;34m]\u001b[0m\u001b[0;34m[\u001b[0m\u001b[0;34m'test_size'\u001b[0m\u001b[0;34m]\u001b[0m\u001b[0;34m,\u001b[0m \u001b[0mfloat\u001b[0m\u001b[0;34m)\u001b[0m\u001b[0;34m,\u001b[0m \u001b[0;34m\"Incorrect Type\"\u001b[0m\u001b[0;34m\u001b[0m\u001b[0;34m\u001b[0m\u001b[0m\n\u001b[0m\u001b[1;32m      4\u001b[0m \u001b[0;34m\u001b[0m\u001b[0m\n\u001b[1;32m      5\u001b[0m \u001b[0mtest_config_value_types\u001b[0m\u001b[0;34m(\u001b[0m\u001b[0mconfig\u001b[0m\u001b[0;34m)\u001b[0m\u001b[0;34m\u001b[0m\u001b[0;34m\u001b[0m\u001b[0m\n",
      "\u001b[0;31mAssertionError\u001b[0m: Incorrect Type"
     ]
    }
   ],
   "source": [
    "def test_config_value_types(config):\n",
    "    \n",
    "    assert isinstance(config['data_split']['test_size'], float), \"Incorrect Type\"\n",
    "    \n",
    "test_config_value_types(config)"
   ]
  },
  {
   "cell_type": "markdown",
   "metadata": {},
   "source": [
    "### Test Model params"
   ]
  },
  {
   "cell_type": "code",
   "execution_count": 167,
   "metadata": {},
   "outputs": [
    {
     "ename": "KeyError",
     "evalue": "'loss_function'",
     "output_type": "error",
     "traceback": [
      "\u001b[0;31m---------------------------------------------------------------------------\u001b[0m",
      "\u001b[0;31mKeyError\u001b[0m                                  Traceback (most recent call last)",
      "\u001b[0;32m<ipython-input-167-9b5a1d7989f4>\u001b[0m in \u001b[0;36m<module>\u001b[0;34m\u001b[0m\n\u001b[1;32m      8\u001b[0m     \u001b[0;32massert\u001b[0m \u001b[0mconfig\u001b[0m\u001b[0;34m[\u001b[0m\u001b[0;34m'train'\u001b[0m\u001b[0;34m]\u001b[0m\u001b[0;34m[\u001b[0m\u001b[0;34m'catboost_params'\u001b[0m\u001b[0;34m]\u001b[0m\u001b[0;34m[\u001b[0m\u001b[0;34m'loss_function'\u001b[0m\u001b[0;34m]\u001b[0m \u001b[0;34m==\u001b[0m \u001b[0;34m'Logloss'\u001b[0m\u001b[0;34m\u001b[0m\u001b[0;34m\u001b[0m\u001b[0m\n\u001b[1;32m      9\u001b[0m \u001b[0;34m\u001b[0m\u001b[0m\n\u001b[0;32m---> 10\u001b[0;31m \u001b[0mtest_model_params\u001b[0m\u001b[0;34m(\u001b[0m\u001b[0mconfig\u001b[0m\u001b[0;34m)\u001b[0m\u001b[0;34m\u001b[0m\u001b[0;34m\u001b[0m\u001b[0m\n\u001b[0m",
      "\u001b[0;32m<ipython-input-167-9b5a1d7989f4>\u001b[0m in \u001b[0;36mtest_model_params\u001b[0;34m(config)\u001b[0m\n\u001b[1;32m      6\u001b[0m \u001b[0;34m\u001b[0m\u001b[0m\n\u001b[1;32m      7\u001b[0m     \u001b[0;32massert\u001b[0m \u001b[0mCatBoostClassifier\u001b[0m\u001b[0;34m(\u001b[0m\u001b[0;34m**\u001b[0m\u001b[0mconfig\u001b[0m\u001b[0;34m[\u001b[0m\u001b[0;34m'train'\u001b[0m\u001b[0;34m]\u001b[0m\u001b[0;34m[\u001b[0m\u001b[0;34m'catboost_params'\u001b[0m\u001b[0;34m]\u001b[0m\u001b[0;34m)\u001b[0m \u001b[0;31m# initialize model with params from config\u001b[0m\u001b[0;34m\u001b[0m\u001b[0;34m\u001b[0m\u001b[0m\n\u001b[0;32m----> 8\u001b[0;31m     \u001b[0;32massert\u001b[0m \u001b[0mconfig\u001b[0m\u001b[0;34m[\u001b[0m\u001b[0;34m'train'\u001b[0m\u001b[0;34m]\u001b[0m\u001b[0;34m[\u001b[0m\u001b[0;34m'catboost_params'\u001b[0m\u001b[0;34m]\u001b[0m\u001b[0;34m[\u001b[0m\u001b[0;34m'loss_function'\u001b[0m\u001b[0;34m]\u001b[0m \u001b[0;34m==\u001b[0m \u001b[0;34m'Logloss'\u001b[0m\u001b[0;34m\u001b[0m\u001b[0;34m\u001b[0m\u001b[0m\n\u001b[0m\u001b[1;32m      9\u001b[0m \u001b[0;34m\u001b[0m\u001b[0m\n\u001b[1;32m     10\u001b[0m \u001b[0mtest_model_params\u001b[0m\u001b[0;34m(\u001b[0m\u001b[0mconfig\u001b[0m\u001b[0;34m)\u001b[0m\u001b[0;34m\u001b[0m\u001b[0;34m\u001b[0m\u001b[0m\n",
      "\u001b[0;31mKeyError\u001b[0m: 'loss_function'"
     ]
    }
   ],
   "source": [
    "from catboost import CatBoostClassifier \n",
    "\n",
    "def test_model_params(config):\n",
    "    \"\"\"Test the estimator can be created with params in config\n",
    "    \"\"\"\n",
    "\n",
    "    assert CatBoostClassifier(**config['train']['catboost_params']) # initialize model with params from config\n",
    "    assert config['train']['catboost_params']['loss_function'] == 'Logloss'\n",
    "    \n",
    "test_model_params(config)"
   ]
  },
  {
   "cell_type": "markdown",
   "metadata": {},
   "source": [
    "# Run all tests"
   ]
  },
  {
   "cell_type": "markdown",
   "metadata": {},
   "source": [
    "To run all tests \n",
    "```bash\n",
    "pytest\n",
    "```\n",
    "\n",
    "To run a specific test  \n",
    "```bash\n",
    "pytest tests/test_config.py\n",
    "```"
   ]
  },
  {
   "cell_type": "code",
   "execution_count": 157,
   "metadata": {
    "scrolled": true
   },
   "outputs": [
    {
     "name": "stdout",
     "output_type": "stream",
     "text": [
      "============================= test session starts ==============================\n",
      "platform darwin -- Python 3.7.6, pytest-6.2.2, py-1.10.0, pluggy-0.13.1\n",
      "rootdir: /Users/antongusarov/ML_REPA/github/predict-device-change\n",
      "plugins: hypothesis-6.1.1\n",
      "collected 5 items\n",
      "\n",
      "test/property_based_test.py F                                            [ 20%]\n",
      "test/test_demo.py ...                                                    [ 80%]\n",
      "test/test_hypothesis_demo.py .                                           [100%]\n",
      "\n",
      "=================================== FAILURES ===================================\n",
      "__________________________________ test_sum_4 __________________________________\n",
      "\n",
      "    @settings(verbosity=Verbosity.verbose)\n",
      ">   @given(st.integers(), st.integers())\n",
      "    def test_sum_4(num1, num2):\n",
      "\n",
      "test/property_based_test.py:62: \n",
      "_ _ _ _ _ _ _ _ _ _ _ _ _ _ _ _ _ _ _ _ _ _ _ _ _ _ _ _ _ _ _ _ _ _ _ _ _ _ _ _ \n",
      "\n",
      "num1 = 0, num2 = 0\n",
      "\n",
      "    @settings(verbosity=Verbosity.verbose)\n",
      "    @given(st.integers(), st.integers())\n",
      "    def test_sum_4(num1, num2):\n",
      ">       assert my_sum(num1, num2) == num1 + num2\n",
      "E       assert 1 == (0 + 0)\n",
      "E        +  where 1 = my_sum(0, 0)\n",
      "\n",
      "test/property_based_test.py:64: AssertionError\n",
      "---------------------------------- Hypothesis ----------------------------------\n",
      "Trying example: test_sum_4(\n",
      "    num1=0, num2=0,\n",
      ")\n",
      "Traceback (most recent call last):\n",
      "  File \"/Users/antongusarov/ML_REPA/github/predict-device-change/test/property_based_test.py\", line 64, in test_sum_4\n",
      "    assert my_sum(num1, num2) == num1 + num2\n",
      "AssertionError: assert 1 == (0 + 0)\n",
      " +  where 1 = my_sum(0, 0)\n",
      "\n",
      "Trying example: test_sum_4(\n",
      "    num1=0, num2=0,\n",
      ")\n",
      "Traceback (most recent call last):\n",
      "  File \"/Users/antongusarov/ML_REPA/github/predict-device-change/test/property_based_test.py\", line 64, in test_sum_4\n",
      "    assert my_sum(num1, num2) == num1 + num2\n",
      "AssertionError: assert 1 == (0 + 0)\n",
      " +  where 1 = my_sum(0, 0)\n",
      "\n",
      "Falsifying example: test_sum_4(\n",
      "    num1=0, num2=0,\n",
      ")\n",
      "=========================== short test summary info ============================\n",
      "FAILED test/property_based_test.py::test_sum_4 - assert 1 == (0 + 0)\n",
      "========================= 1 failed, 4 passed in 0.37s ==========================\n"
     ]
    },
    {
     "ename": "CalledProcessError",
     "evalue": "Command 'b'pytest\\n'' returned non-zero exit status 1.",
     "output_type": "error",
     "traceback": [
      "\u001b[0;31m---------------------------------------------------------------------------\u001b[0m",
      "\u001b[0;31mCalledProcessError\u001b[0m                        Traceback (most recent call last)",
      "\u001b[0;32m<ipython-input-157-c6addb2415e8>\u001b[0m in \u001b[0;36m<module>\u001b[0;34m\u001b[0m\n\u001b[0;32m----> 1\u001b[0;31m \u001b[0mget_ipython\u001b[0m\u001b[0;34m(\u001b[0m\u001b[0;34m)\u001b[0m\u001b[0;34m.\u001b[0m\u001b[0mrun_cell_magic\u001b[0m\u001b[0;34m(\u001b[0m\u001b[0;34m'bash'\u001b[0m\u001b[0;34m,\u001b[0m \u001b[0;34m''\u001b[0m\u001b[0;34m,\u001b[0m \u001b[0;34m'pytest\\n'\u001b[0m\u001b[0;34m)\u001b[0m\u001b[0;34m\u001b[0m\u001b[0;34m\u001b[0m\u001b[0m\n\u001b[0m",
      "\u001b[0;32m~/ML_REPA/tutorial-predict-device-change/venv/lib/python3.7/site-packages/IPython/core/interactiveshell.py\u001b[0m in \u001b[0;36mrun_cell_magic\u001b[0;34m(self, magic_name, line, cell)\u001b[0m\n\u001b[1;32m   2369\u001b[0m             \u001b[0;32mwith\u001b[0m \u001b[0mself\u001b[0m\u001b[0;34m.\u001b[0m\u001b[0mbuiltin_trap\u001b[0m\u001b[0;34m:\u001b[0m\u001b[0;34m\u001b[0m\u001b[0;34m\u001b[0m\u001b[0m\n\u001b[1;32m   2370\u001b[0m                 \u001b[0margs\u001b[0m \u001b[0;34m=\u001b[0m \u001b[0;34m(\u001b[0m\u001b[0mmagic_arg_s\u001b[0m\u001b[0;34m,\u001b[0m \u001b[0mcell\u001b[0m\u001b[0;34m)\u001b[0m\u001b[0;34m\u001b[0m\u001b[0;34m\u001b[0m\u001b[0m\n\u001b[0;32m-> 2371\u001b[0;31m                 \u001b[0mresult\u001b[0m \u001b[0;34m=\u001b[0m \u001b[0mfn\u001b[0m\u001b[0;34m(\u001b[0m\u001b[0;34m*\u001b[0m\u001b[0margs\u001b[0m\u001b[0;34m,\u001b[0m \u001b[0;34m**\u001b[0m\u001b[0mkwargs\u001b[0m\u001b[0;34m)\u001b[0m\u001b[0;34m\u001b[0m\u001b[0;34m\u001b[0m\u001b[0m\n\u001b[0m\u001b[1;32m   2372\u001b[0m             \u001b[0;32mreturn\u001b[0m \u001b[0mresult\u001b[0m\u001b[0;34m\u001b[0m\u001b[0;34m\u001b[0m\u001b[0m\n\u001b[1;32m   2373\u001b[0m \u001b[0;34m\u001b[0m\u001b[0m\n",
      "\u001b[0;32m~/ML_REPA/tutorial-predict-device-change/venv/lib/python3.7/site-packages/IPython/core/magics/script.py\u001b[0m in \u001b[0;36mnamed_script_magic\u001b[0;34m(line, cell)\u001b[0m\n\u001b[1;32m    140\u001b[0m             \u001b[0;32melse\u001b[0m\u001b[0;34m:\u001b[0m\u001b[0;34m\u001b[0m\u001b[0;34m\u001b[0m\u001b[0m\n\u001b[1;32m    141\u001b[0m                 \u001b[0mline\u001b[0m \u001b[0;34m=\u001b[0m \u001b[0mscript\u001b[0m\u001b[0;34m\u001b[0m\u001b[0;34m\u001b[0m\u001b[0m\n\u001b[0;32m--> 142\u001b[0;31m             \u001b[0;32mreturn\u001b[0m \u001b[0mself\u001b[0m\u001b[0;34m.\u001b[0m\u001b[0mshebang\u001b[0m\u001b[0;34m(\u001b[0m\u001b[0mline\u001b[0m\u001b[0;34m,\u001b[0m \u001b[0mcell\u001b[0m\u001b[0;34m)\u001b[0m\u001b[0;34m\u001b[0m\u001b[0;34m\u001b[0m\u001b[0m\n\u001b[0m\u001b[1;32m    143\u001b[0m \u001b[0;34m\u001b[0m\u001b[0m\n\u001b[1;32m    144\u001b[0m         \u001b[0;31m# write a basic docstring:\u001b[0m\u001b[0;34m\u001b[0m\u001b[0;34m\u001b[0m\u001b[0;34m\u001b[0m\u001b[0m\n",
      "\u001b[0;32m<decorator-gen-110>\u001b[0m in \u001b[0;36mshebang\u001b[0;34m(self, line, cell)\u001b[0m\n",
      "\u001b[0;32m~/ML_REPA/tutorial-predict-device-change/venv/lib/python3.7/site-packages/IPython/core/magic.py\u001b[0m in \u001b[0;36m<lambda>\u001b[0;34m(f, *a, **k)\u001b[0m\n\u001b[1;32m    185\u001b[0m     \u001b[0;31m# but it's overkill for just that one bit of state.\u001b[0m\u001b[0;34m\u001b[0m\u001b[0;34m\u001b[0m\u001b[0;34m\u001b[0m\u001b[0m\n\u001b[1;32m    186\u001b[0m     \u001b[0;32mdef\u001b[0m \u001b[0mmagic_deco\u001b[0m\u001b[0;34m(\u001b[0m\u001b[0marg\u001b[0m\u001b[0;34m)\u001b[0m\u001b[0;34m:\u001b[0m\u001b[0;34m\u001b[0m\u001b[0;34m\u001b[0m\u001b[0m\n\u001b[0;32m--> 187\u001b[0;31m         \u001b[0mcall\u001b[0m \u001b[0;34m=\u001b[0m \u001b[0;32mlambda\u001b[0m \u001b[0mf\u001b[0m\u001b[0;34m,\u001b[0m \u001b[0;34m*\u001b[0m\u001b[0ma\u001b[0m\u001b[0;34m,\u001b[0m \u001b[0;34m**\u001b[0m\u001b[0mk\u001b[0m\u001b[0;34m:\u001b[0m \u001b[0mf\u001b[0m\u001b[0;34m(\u001b[0m\u001b[0;34m*\u001b[0m\u001b[0ma\u001b[0m\u001b[0;34m,\u001b[0m \u001b[0;34m**\u001b[0m\u001b[0mk\u001b[0m\u001b[0;34m)\u001b[0m\u001b[0;34m\u001b[0m\u001b[0;34m\u001b[0m\u001b[0m\n\u001b[0m\u001b[1;32m    188\u001b[0m \u001b[0;34m\u001b[0m\u001b[0m\n\u001b[1;32m    189\u001b[0m         \u001b[0;32mif\u001b[0m \u001b[0mcallable\u001b[0m\u001b[0;34m(\u001b[0m\u001b[0marg\u001b[0m\u001b[0;34m)\u001b[0m\u001b[0;34m:\u001b[0m\u001b[0;34m\u001b[0m\u001b[0;34m\u001b[0m\u001b[0m\n",
      "\u001b[0;32m~/ML_REPA/tutorial-predict-device-change/venv/lib/python3.7/site-packages/IPython/core/magics/script.py\u001b[0m in \u001b[0;36mshebang\u001b[0;34m(self, line, cell)\u001b[0m\n\u001b[1;32m    243\u001b[0m             \u001b[0msys\u001b[0m\u001b[0;34m.\u001b[0m\u001b[0mstderr\u001b[0m\u001b[0;34m.\u001b[0m\u001b[0mflush\u001b[0m\u001b[0;34m(\u001b[0m\u001b[0;34m)\u001b[0m\u001b[0;34m\u001b[0m\u001b[0;34m\u001b[0m\u001b[0m\n\u001b[1;32m    244\u001b[0m         \u001b[0;32mif\u001b[0m \u001b[0margs\u001b[0m\u001b[0;34m.\u001b[0m\u001b[0mraise_error\u001b[0m \u001b[0;32mand\u001b[0m \u001b[0mp\u001b[0m\u001b[0;34m.\u001b[0m\u001b[0mreturncode\u001b[0m\u001b[0;34m!=\u001b[0m\u001b[0;36m0\u001b[0m\u001b[0;34m:\u001b[0m\u001b[0;34m\u001b[0m\u001b[0;34m\u001b[0m\u001b[0m\n\u001b[0;32m--> 245\u001b[0;31m             \u001b[0;32mraise\u001b[0m \u001b[0mCalledProcessError\u001b[0m\u001b[0;34m(\u001b[0m\u001b[0mp\u001b[0m\u001b[0;34m.\u001b[0m\u001b[0mreturncode\u001b[0m\u001b[0;34m,\u001b[0m \u001b[0mcell\u001b[0m\u001b[0;34m,\u001b[0m \u001b[0moutput\u001b[0m\u001b[0;34m=\u001b[0m\u001b[0mout\u001b[0m\u001b[0;34m,\u001b[0m \u001b[0mstderr\u001b[0m\u001b[0;34m=\u001b[0m\u001b[0merr\u001b[0m\u001b[0;34m)\u001b[0m\u001b[0;34m\u001b[0m\u001b[0;34m\u001b[0m\u001b[0m\n\u001b[0m\u001b[1;32m    246\u001b[0m \u001b[0;34m\u001b[0m\u001b[0m\n\u001b[1;32m    247\u001b[0m     \u001b[0;32mdef\u001b[0m \u001b[0m_run_script\u001b[0m\u001b[0;34m(\u001b[0m\u001b[0mself\u001b[0m\u001b[0;34m,\u001b[0m \u001b[0mp\u001b[0m\u001b[0;34m,\u001b[0m \u001b[0mcell\u001b[0m\u001b[0;34m,\u001b[0m \u001b[0mto_close\u001b[0m\u001b[0;34m)\u001b[0m\u001b[0;34m:\u001b[0m\u001b[0;34m\u001b[0m\u001b[0;34m\u001b[0m\u001b[0m\n",
      "\u001b[0;31mCalledProcessError\u001b[0m: Command 'b'pytest\\n'' returned non-zero exit status 1."
     ]
    }
   ],
   "source": [
    "%%bash \n",
    "pytest"
   ]
  }
 ],
 "metadata": {
  "kernelspec": {
   "display_name": "Python 3",
   "language": "python",
   "name": "python3"
  },
  "language_info": {
   "codemirror_mode": {
    "name": "ipython",
    "version": 3
   },
   "file_extension": ".py",
   "mimetype": "text/x-python",
   "name": "python",
   "nbconvert_exporter": "python",
   "pygments_lexer": "ipython3",
   "version": "3.7.6"
  },
  "toc": {
   "base_numbering": 1,
   "nav_menu": {},
   "number_sections": true,
   "sideBar": true,
   "skip_h1_title": false,
   "title_cell": "Table of Contents",
   "title_sidebar": "Contents",
   "toc_cell": false,
   "toc_position": {
    "height": "640.9926147460938px",
    "left": "30px",
    "top": "52.42649459838867px",
    "width": "248.9889678955078px"
   },
   "toc_section_display": true,
   "toc_window_display": true
  },
  "varInspector": {
   "cols": {
    "lenName": 16,
    "lenType": 16,
    "lenVar": 40
   },
   "kernels_config": {
    "python": {
     "delete_cmd_postfix": "",
     "delete_cmd_prefix": "del ",
     "library": "var_list.py",
     "varRefreshCmd": "print(var_dic_list())"
    },
    "r": {
     "delete_cmd_postfix": ") ",
     "delete_cmd_prefix": "rm(",
     "library": "var_list.r",
     "varRefreshCmd": "cat(var_dic_list()) "
    }
   },
   "types_to_exclude": [
    "module",
    "function",
    "builtin_function_or_method",
    "instance",
    "_Feature"
   ],
   "window_display": false
  }
 },
 "nbformat": 4,
 "nbformat_minor": 4
}
