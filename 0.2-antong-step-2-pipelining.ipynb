{
 "cells": [
  {
   "cell_type": "markdown",
   "metadata": {},
   "source": [
    "# Step 2: Create pipelines\n",
    "After prototyping in the nobook we break our code into .py modules describing functionality (classes and functions) and logic (pipelines) which are contolled by params.yaml\n",
    "\n",
    "With this we now have a version control over code, logging and opportunity to cover the code by tests."
   ]
  },
  {
   "cell_type": "code",
   "execution_count": 1,
   "metadata": {},
   "outputs": [
    {
     "name": "stdout",
     "output_type": "stream",
     "text": [
      "/Users/antongusarov/ML_REPA/github/predict-device-change\r\n"
     ]
    }
   ],
   "source": [
    "!pwd"
   ]
  },
  {
   "cell_type": "code",
   "execution_count": 4,
   "metadata": {},
   "outputs": [
    {
     "name": "stdout",
     "output_type": "stream",
     "text": [
      ".\n",
      "├── __init__.py\n",
      "├── load.py\n",
      "└── process.py\n",
      "\n",
      "0 directories, 3 files\n"
     ]
    }
   ],
   "source": [
    "%%bash\n",
    "cd src/data\n",
    "tree -L 1"
   ]
  },
  {
   "cell_type": "code",
   "execution_count": 9,
   "metadata": {},
   "outputs": [
    {
     "name": "stdout",
     "output_type": "stream",
     "text": [
      ".\n",
      "├── __pycache__\n",
      "└── metrics.py\n",
      "\n",
      "1 directory, 1 file\n"
     ]
    }
   ],
   "source": [
    "%%bash\n",
    "cd src/evaluate\n",
    "tree -L 1"
   ]
  },
  {
   "cell_type": "code",
   "execution_count": 10,
   "metadata": {},
   "outputs": [
    {
     "name": "stdout",
     "output_type": "stream",
     "text": [
      ".\n",
      "├── __pycache__\n",
      "├── test\n",
      "└── train.py\n",
      "\n",
      "2 directories, 1 file\n"
     ]
    }
   ],
   "source": [
    "%%bash\n",
    "cd src/train\n",
    "tree -L 1"
   ]
  },
  {
   "cell_type": "code",
   "execution_count": 11,
   "metadata": {},
   "outputs": [
    {
     "name": "stdout",
     "output_type": "stream",
     "text": [
      ".\n",
      "├── __pycache__\n",
      "├── logging.py\n",
      "└── test_environment.py\n",
      "\n",
      "1 directory, 2 files\n"
     ]
    }
   ],
   "source": [
    "%%bash\n",
    "cd src/utils\n",
    "tree -L 1"
   ]
  },
  {
   "cell_type": "code",
   "execution_count": 12,
   "metadata": {},
   "outputs": [
    {
     "name": "stdout",
     "output_type": "stream",
     "text": [
      ".\n",
      "├── __pycache__\n",
      "├── featurize.py\n",
      "├── load_data.py\n",
      "└── train.py\n",
      "\n",
      "1 directory, 3 files\n"
     ]
    }
   ],
   "source": [
    "%%bash\n",
    "cd src/pipelines\n",
    "tree -L 1"
   ]
  },
  {
   "cell_type": "code",
   "execution_count": 20,
   "metadata": {},
   "outputs": [
    {
     "data": {
      "text/plain": [
       "{'base': {'project_dir': '.', 'random_state': 42, 'log_level': 'DEBUG'},\n",
       " 'data_load': {'target': 'data/raw/target.feather',\n",
       "  'dataset': 'data/raw/user_features.feather',\n",
       "  'target_processed': 'data/processed/target.feather',\n",
       "  'dataset_processed': 'data/processed/user_features.feather'},\n",
       " 'featurize': {'features_path': 'data/processed/features.feather',\n",
       "  'categories': ['feature_17',\n",
       "   'feature_21',\n",
       "   'feature_11',\n",
       "   'feature_16',\n",
       "   'feature_22']},\n",
       " 'data_split': {'split_oos': True,\n",
       "  'test_size': 1,\n",
       "  'train_index_path': 'data/processed/train_index.csv',\n",
       "  'test_index_path': 'data/processed/test_index.csv'},\n",
       " 'train': {'catboost_params': {'iterations': 20,\n",
       "   'thread_count': 20,\n",
       "   'has_time': True,\n",
       "   'allow_writing_files': False},\n",
       "  'top_K_coef': 0.05,\n",
       "  'model_path': 'models/model.joblib',\n",
       "  'train_metrics': 'reports/train_metrics.json',\n",
       "  'train_metrics_path': 'reports/train_metrics.json',\n",
       "  'train_metrics_png': 'reports/train_metrics.png',\n",
       "  'train_plots_path': 'reports/train_plots.csv',\n",
       "  'raw_metrics_path': 'reports/raw_metrics.csv',\n",
       "  'encoder_path': 'models/encoder.pickle'}}"
      ]
     },
     "execution_count": 20,
     "metadata": {},
     "output_type": "execute_result"
    }
   ],
   "source": [
    "import yaml\n",
    "yaml.safe_load(open('./config/params.yaml'))"
   ]
  },
  {
   "cell_type": "markdown",
   "metadata": {},
   "source": [
    "## Load and process data for training\n",
    "Call the load_data.py pipeline. Note that we now have logs to track and monitor processing."
   ]
  },
  {
   "cell_type": "code",
   "execution_count": 1,
   "metadata": {},
   "outputs": [
    {
     "name": "stdout",
     "output_type": "stream",
     "text": [
      "/Users/antongusarov/ML_REPA/github/predict-device-change\r\n"
     ]
    }
   ],
   "source": [
    "! pwd"
   ]
  },
  {
   "cell_type": "code",
   "execution_count": 2,
   "metadata": {},
   "outputs": [
    {
     "name": "stdout",
     "output_type": "stream",
     "text": [
      "2021-01-28 16:06:22,357 — DATA_LOAD — INFO — Load dataset\n",
      "2021-01-28 16:06:22,834 — DATA_LOAD — INFO — Process target\n",
      "2021-01-28 16:06:22,863 — DATA_LOAD — INFO — Process dataset\n",
      "2021-01-28 16:06:23,138 — DATA_LOAD — INFO — Save processed data and target\n",
      "2021-01-28 16:06:23,374 — DATA_LOAD — DEBUG — Processed data path: data/processed/user_features.feather\n",
      "2021-01-28 16:06:23,374 — DATA_LOAD — DEBUG — Processed data path: data/processed/target.feather\n"
     ]
    }
   ],
   "source": [
    "! python -m src.pipelines.load_data --config=config/params.yaml"
   ]
  },
  {
   "cell_type": "markdown",
   "metadata": {},
   "source": [
    "## Build features for training\n",
    "Call the featurize.py pipeline."
   ]
  },
  {
   "cell_type": "code",
   "execution_count": 3,
   "metadata": {
    "scrolled": true
   },
   "outputs": [
    {
     "name": "stdout",
     "output_type": "stream",
     "text": [
      "2021-01-28 16:07:56,664 — FEATURIZE — INFO — Load dataset\n",
      "2021-01-28 16:07:57,179 — FEATURIZE — INFO — Process dataset\n",
      "2021-01-28 16:07:57,384 — FEATURIZE — INFO — Add target column\n",
      "2021-01-28 16:07:58,151 — FEATURIZE — INFO — Process nulls\n",
      "2021-01-28 16:07:58,612 — FEATURIZE — INFO — Save features\n",
      "2021-01-28 16:07:58,815 — FEATURIZE — DEBUG — Features path: data/processed/features.feather\n"
     ]
    }
   ],
   "source": [
    "! python -m src.pipelines.featurize --config=config/params.yaml"
   ]
  },
  {
   "cell_type": "markdown",
   "metadata": {},
   "source": [
    "## Train and save model together with scores\n",
    "Call the pipelines/train.py pipeline where we train model, save calculated during train test metrics. Finally, save trained model."
   ]
  },
  {
   "cell_type": "code",
   "execution_count": 4,
   "metadata": {},
   "outputs": [
    {
     "name": "stdout",
     "output_type": "stream",
     "text": [
      "{'project_dir': '.', 'random_state': 42, 'log_level': 'DEBUG'}\n",
      "2021-01-28 16:10:03,924 — TRAIN — INFO — Load data\n",
      "2021-01-28 16:10:04,501 — TRAIN — INFO — Instantiate model\n",
      "2021-01-28 16:10:04,588 — TRAIN — INFO — Top_K 5.0% of the dataset size: 37606\n",
      "2021-01-28 16:10:04,591 — TRAIN — INFO — Fold 1:\n",
      "2021-01-28 16:10:04,591 — TRAIN — INFO — Train: 2020-04-30 00:00:00 - 2020-04-30 00:00:00\n",
      "2021-01-28 16:10:04,591 — TRAIN — INFO — Test: 2020-05-31 00:00:00 \n",
      "\n",
      "2021-01-28 16:10:04,717 — TRAIN — INFO — Train shapes: X - (150484, 30), y - (150484,)\n",
      "2021-01-28 16:10:04,717 — TRAIN — INFO — Test shapes: X - (150411, 30), y - (150411,)\n",
      "Learning rate set to 0.5\n",
      "0:\tlearn: 0.6136792\ttotal: 248ms\tremaining: 4.72s\n",
      "1:\tlearn: 0.5580362\ttotal: 349ms\tremaining: 3.14s\n",
      "2:\tlearn: 0.5270051\ttotal: 446ms\tremaining: 2.53s\n",
      "3:\tlearn: 0.5080045\ttotal: 531ms\tremaining: 2.12s\n",
      "4:\tlearn: 0.4978499\ttotal: 600ms\tremaining: 1.8s\n",
      "5:\tlearn: 0.4870497\ttotal: 654ms\tremaining: 1.53s\n",
      "6:\tlearn: 0.4816503\ttotal: 713ms\tremaining: 1.32s\n",
      "7:\tlearn: 0.4764344\ttotal: 770ms\tremaining: 1.16s\n",
      "8:\tlearn: 0.4704595\ttotal: 828ms\tremaining: 1.01s\n",
      "9:\tlearn: 0.4606868\ttotal: 877ms\tremaining: 877ms\n",
      "10:\tlearn: 0.4547115\ttotal: 936ms\tremaining: 766ms\n",
      "11:\tlearn: 0.4504684\ttotal: 989ms\tremaining: 660ms\n",
      "12:\tlearn: 0.4481462\ttotal: 1.05s\tremaining: 565ms\n",
      "13:\tlearn: 0.4446295\ttotal: 1.1s\tremaining: 473ms\n",
      "14:\tlearn: 0.4414735\ttotal: 1.17s\tremaining: 389ms\n",
      "15:\tlearn: 0.4402453\ttotal: 1.23s\tremaining: 307ms\n",
      "16:\tlearn: 0.4389055\ttotal: 1.29s\tremaining: 227ms\n",
      "17:\tlearn: 0.4365894\ttotal: 1.34s\tremaining: 149ms\n",
      "18:\tlearn: 0.4347508\ttotal: 1.4s\tremaining: 73.8ms\n",
      "19:\tlearn: 0.4331521\ttotal: 1.46s\tremaining: 0us\n",
      "2021-01-28 16:10:06,864 — TRAIN — INFO — Max probas: 0.9871681095571868\n",
      "2021-01-28 16:10:06,905 — src.evaluate.metrics — INFO — Lift: 0.8375259267138223 / 0.39038368204453133 = 2.1453917395509507\n",
      "2021-01-28 16:10:06,984 — TRAIN — INFO — Precision at 37606: 0.8375259267138223\n",
      "2021-01-28 16:10:06,985 — TRAIN — INFO — Recall at 37606: 1.0\n",
      "\n",
      "2021-01-28 16:10:06,985 — TRAIN — INFO — Fold 2:\n",
      "2021-01-28 16:10:06,985 — TRAIN — INFO — Train: 2020-04-30 00:00:00 - 2020-05-31 00:00:00\n",
      "2021-01-28 16:10:06,985 — TRAIN — INFO — Test: 2020-06-30 00:00:00 \n",
      "\n",
      "2021-01-28 16:10:07,209 — TRAIN — INFO — Train shapes: X - (300895, 30), y - (300895,)\n",
      "2021-01-28 16:10:07,209 — TRAIN — INFO — Test shapes: X - (150187, 30), y - (150187,)\n",
      "Learning rate set to 0.5\n",
      "0:\tlearn: 0.6104631\ttotal: 99.8ms\tremaining: 1.9s\n",
      "1:\tlearn: 0.5544946\ttotal: 187ms\tremaining: 1.68s\n",
      "2:\tlearn: 0.5271744\ttotal: 267ms\tremaining: 1.51s\n",
      "3:\tlearn: 0.5124134\ttotal: 353ms\tremaining: 1.41s\n",
      "4:\tlearn: 0.5026628\ttotal: 436ms\tremaining: 1.31s\n",
      "5:\tlearn: 0.4963831\ttotal: 521ms\tremaining: 1.22s\n",
      "6:\tlearn: 0.4866665\ttotal: 618ms\tremaining: 1.15s\n",
      "7:\tlearn: 0.4773124\ttotal: 692ms\tremaining: 1.04s\n",
      "8:\tlearn: 0.4698307\ttotal: 817ms\tremaining: 998ms\n",
      "9:\tlearn: 0.4645964\ttotal: 940ms\tremaining: 940ms\n",
      "10:\tlearn: 0.4599309\ttotal: 1.05s\tremaining: 856ms\n",
      "11:\tlearn: 0.4564951\ttotal: 1.16s\tremaining: 771ms\n",
      "12:\tlearn: 0.4521219\ttotal: 1.27s\tremaining: 685ms\n",
      "13:\tlearn: 0.4491513\ttotal: 1.37s\tremaining: 588ms\n",
      "14:\tlearn: 0.4447869\ttotal: 1.45s\tremaining: 485ms\n",
      "15:\tlearn: 0.4425909\ttotal: 1.54s\tremaining: 385ms\n",
      "16:\tlearn: 0.4395536\ttotal: 1.63s\tremaining: 287ms\n",
      "17:\tlearn: 0.4379529\ttotal: 1.72s\tremaining: 191ms\n",
      "18:\tlearn: 0.4357037\ttotal: 1.8s\tremaining: 94.8ms\n",
      "19:\tlearn: 0.4342798\ttotal: 1.88s\tremaining: 0us\n",
      "2021-01-28 16:10:09,792 — TRAIN — INFO — Max probas: 0.9869278333116273\n",
      "2021-01-28 16:10:09,831 — src.evaluate.metrics — INFO — Lift: 0.8371004626921236 / 0.38953438047234445 = 2.1489770984452417\n",
      "2021-01-28 16:10:09,906 — TRAIN — INFO — Precision at 37606: 0.8371004626921236\n",
      "2021-01-28 16:10:09,906 — TRAIN — INFO — Recall at 37606: 1.0\n",
      "\n",
      "2021-01-28 16:10:09,906 — TRAIN — INFO — Fold 3:\n",
      "2021-01-28 16:10:09,906 — TRAIN — INFO — Train: 2020-04-30 00:00:00 - 2020-06-30 00:00:00\n",
      "2021-01-28 16:10:09,906 — TRAIN — INFO — Test: 2020-07-31 00:00:00 \n",
      "\n",
      "2021-01-28 16:10:10,166 — TRAIN — INFO — Train shapes: X - (451082, 30), y - (451082,)\n",
      "2021-01-28 16:10:10,166 — TRAIN — INFO — Test shapes: X - (150492, 30), y - (150492,)\n",
      "Learning rate set to 0.5\n",
      "0:\tlearn: 0.6136329\ttotal: 128ms\tremaining: 2.44s\n",
      "1:\tlearn: 0.5574970\ttotal: 239ms\tremaining: 2.15s\n",
      "2:\tlearn: 0.5261245\ttotal: 356ms\tremaining: 2.02s\n",
      "3:\tlearn: 0.5099224\ttotal: 503ms\tremaining: 2.01s\n",
      "4:\tlearn: 0.4954246\ttotal: 637ms\tremaining: 1.91s\n",
      "5:\tlearn: 0.4866363\ttotal: 785ms\tremaining: 1.83s\n",
      "6:\tlearn: 0.4835736\ttotal: 924ms\tremaining: 1.72s\n",
      "7:\tlearn: 0.4769144\ttotal: 1.05s\tremaining: 1.58s\n",
      "8:\tlearn: 0.4671975\ttotal: 1.16s\tremaining: 1.42s\n",
      "9:\tlearn: 0.4634357\ttotal: 1.27s\tremaining: 1.27s\n",
      "10:\tlearn: 0.4577202\ttotal: 1.38s\tremaining: 1.13s\n",
      "11:\tlearn: 0.4535041\ttotal: 1.49s\tremaining: 996ms\n",
      "12:\tlearn: 0.4491261\ttotal: 1.61s\tremaining: 867ms\n",
      "13:\tlearn: 0.4455420\ttotal: 1.72s\tremaining: 736ms\n",
      "14:\tlearn: 0.4428389\ttotal: 1.82s\tremaining: 605ms\n",
      "15:\tlearn: 0.4400514\ttotal: 1.93s\tremaining: 482ms\n",
      "16:\tlearn: 0.4380481\ttotal: 2.03s\tremaining: 358ms\n",
      "17:\tlearn: 0.4355952\ttotal: 2.16s\tremaining: 240ms\n",
      "18:\tlearn: 0.4339538\ttotal: 2.32s\tremaining: 122ms\n",
      "19:\tlearn: 0.4320864\ttotal: 2.46s\tremaining: 0us\n",
      "2021-01-28 16:10:13,483 — TRAIN — INFO — Max probas: 0.9899003328573063\n",
      "2021-01-28 16:10:13,520 — src.evaluate.metrics — INFO — Lift: 0.8331915119927671 / 0.38920341280599635 = 2.1407610636962286\n",
      "2021-01-28 16:10:13,598 — TRAIN — INFO — Precision at 37606: 0.8331915119927671\n",
      "2021-01-28 16:10:13,598 — TRAIN — INFO — Recall at 37606: 1.0\n",
      "\n",
      "2021-01-28 16:10:13,599 — TRAIN — INFO — Fold 4:\n",
      "2021-01-28 16:10:13,599 — TRAIN — INFO — Train: 2020-04-30 00:00:00 - 2020-07-31 00:00:00\n",
      "2021-01-28 16:10:13,599 — TRAIN — INFO — Test: 2020-08-31 00:00:00 \n",
      "\n",
      "2021-01-28 16:10:13,858 — TRAIN — INFO — Train shapes: X - (601574, 30), y - (601574,)\n",
      "2021-01-28 16:10:13,858 — TRAIN — INFO — Test shapes: X - (150554, 30), y - (150554,)\n",
      "Learning rate set to 0.5\n",
      "0:\tlearn: 0.6141153\ttotal: 188ms\tremaining: 3.57s\n",
      "1:\tlearn: 0.5583069\ttotal: 348ms\tremaining: 3.13s\n",
      "2:\tlearn: 0.5296820\ttotal: 502ms\tremaining: 2.85s\n",
      "3:\tlearn: 0.5112843\ttotal: 640ms\tremaining: 2.56s\n",
      "4:\tlearn: 0.4997697\ttotal: 772ms\tremaining: 2.32s\n",
      "5:\tlearn: 0.4896203\ttotal: 921ms\tremaining: 2.15s\n",
      "6:\tlearn: 0.4819019\ttotal: 1.07s\tremaining: 1.98s\n",
      "7:\tlearn: 0.4765184\ttotal: 1.22s\tremaining: 1.84s\n",
      "8:\tlearn: 0.4683325\ttotal: 1.36s\tremaining: 1.66s\n",
      "9:\tlearn: 0.4650332\ttotal: 1.51s\tremaining: 1.51s\n",
      "10:\tlearn: 0.4598382\ttotal: 1.72s\tremaining: 1.41s\n",
      "11:\tlearn: 0.4548769\ttotal: 1.89s\tremaining: 1.26s\n",
      "12:\tlearn: 0.4508626\ttotal: 2.09s\tremaining: 1.13s\n",
      "13:\tlearn: 0.4465254\ttotal: 2.25s\tremaining: 962ms\n",
      "14:\tlearn: 0.4432983\ttotal: 2.39s\tremaining: 796ms\n",
      "15:\tlearn: 0.4410902\ttotal: 2.55s\tremaining: 637ms\n",
      "16:\tlearn: 0.4390184\ttotal: 2.71s\tremaining: 478ms\n",
      "17:\tlearn: 0.4370420\ttotal: 2.85s\tremaining: 317ms\n",
      "18:\tlearn: 0.4342460\ttotal: 3.01s\tremaining: 158ms\n",
      "19:\tlearn: 0.4332474\ttotal: 3.21s\tremaining: 0us\n",
      "2021-01-28 16:10:18,219 — TRAIN — INFO — Max probas: 0.9909481618927353\n",
      "2021-01-28 16:10:18,264 — src.evaluate.metrics — INFO — Lift: 0.8344147210551508 / 0.39068374138182976 = 2.1357805116329276\n",
      "2021-01-28 16:10:18,355 — TRAIN — INFO — Precision at 37606: 0.8344147210551508\n",
      "2021-01-28 16:10:18,355 — TRAIN — INFO — Recall at 37606: 1.0\n",
      "\n",
      "2021-01-28 16:10:18,355 — src.train.train — INFO — 2020-09-30 00:00:00\n",
      "2021-01-28 16:10:18,355 — src.train.train — INFO — 2020-08-31T00:00:00.000000000\n",
      "2021-01-28 16:10:18,356 — TRAIN — INFO — Save \"raw\" metrics for plotting\n",
      "2021-01-28 16:10:18,362 — TRAIN — INFO — Save aggregated metrics\n",
      "2021-01-28 16:10:18,371 — TRAIN — INFO — Generate & save plots\n",
      "2021-01-28 16:10:18,670 — TRAIN — INFO — Save model\n",
      "2021-01-28 16:10:18,673 — TRAIN — INFO — Model saved to: ./models/model.joblib\n"
     ]
    }
   ],
   "source": [
    "! python -m src.pipelines.train --config=config/params.yaml"
   ]
  },
  {
   "cell_type": "code",
   "execution_count": null,
   "metadata": {},
   "outputs": [],
   "source": []
  }
 ],
 "metadata": {
  "kernelspec": {
   "display_name": "venv",
   "language": "python",
   "name": "venv"
  },
  "language_info": {
   "codemirror_mode": {
    "name": "ipython",
    "version": 3
   },
   "file_extension": ".py",
   "mimetype": "text/x-python",
   "name": "python",
   "nbconvert_exporter": "python",
   "pygments_lexer": "ipython3",
   "version": "3.7.6"
  },
  "toc": {
   "base_numbering": 1,
   "nav_menu": {},
   "number_sections": true,
   "sideBar": true,
   "skip_h1_title": false,
   "title_cell": "Table of Contents",
   "title_sidebar": "Contents",
   "toc_cell": false,
   "toc_position": {
    "height": "calc(100% - 180px)",
    "left": "10px",
    "top": "150px",
    "width": "280.9007263183594px"
   },
   "toc_section_display": true,
   "toc_window_display": true
  },
  "varInspector": {
   "cols": {
    "lenName": 16,
    "lenType": 16,
    "lenVar": 40
   },
   "kernels_config": {
    "python": {
     "delete_cmd_postfix": "",
     "delete_cmd_prefix": "del ",
     "library": "var_list.py",
     "varRefreshCmd": "print(var_dic_list())"
    },
    "r": {
     "delete_cmd_postfix": ") ",
     "delete_cmd_prefix": "rm(",
     "library": "var_list.r",
     "varRefreshCmd": "cat(var_dic_list()) "
    }
   },
   "types_to_exclude": [
    "module",
    "function",
    "builtin_function_or_method",
    "instance",
    "_Feature"
   ],
   "window_display": false
  }
 },
 "nbformat": 4,
 "nbformat_minor": 4
}
