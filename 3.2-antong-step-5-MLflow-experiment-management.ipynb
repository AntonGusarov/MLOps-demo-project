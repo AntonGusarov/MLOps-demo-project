{
 "cells": [
  {
   "cell_type": "markdown",
   "metadata": {
    "toc": true
   },
   "source": [
    "<h1>Table of Contents<span class=\"tocSkip\"></span></h1>\n",
    "<div class=\"toc\"><ul class=\"toc-item\"><li><span><a href=\"#DVC-+-MLflow-=-experiments-managementm\" data-toc-modified-id=\"DVC-+-MLflow-=-experiments-managementm-1\"><span class=\"toc-item-num\">1&nbsp;&nbsp;</span>DVC + MLflow = experiments managementm</a></span><ul class=\"toc-item\"><li><span><a href=\"#Create-a-new-log_metrics-pipeline-stage\" data-toc-modified-id=\"Create-a-new-log_metrics-pipeline-stage-1.1\"><span class=\"toc-item-num\">1.1&nbsp;&nbsp;</span>Create a new <code>log_metrics</code> pipeline stage</a></span></li></ul></li><li><span><a href=\"#Experimenting\" data-toc-modified-id=\"Experimenting-2\"><span class=\"toc-item-num\">2&nbsp;&nbsp;</span>Experimenting</a></span><ul class=\"toc-item\"><li><span><a href=\"#Experiment-1\" data-toc-modified-id=\"Experiment-1-2.1\"><span class=\"toc-item-num\">2.1&nbsp;&nbsp;</span>Experiment 1</a></span></li><li><span><a href=\"#Experiment-2:-params-tuning\" data-toc-modified-id=\"Experiment-2:-params-tuning-2.2\"><span class=\"toc-item-num\">2.2&nbsp;&nbsp;</span>Experiment 2: params tuning</a></span></li></ul></li><li><span><a href=\"#Show-metrics-and-params-diffs-with-DVC\" data-toc-modified-id=\"Show-metrics-and-params-diffs-with-DVC-3\"><span class=\"toc-item-num\">3&nbsp;&nbsp;</span>Show metrics and params diffs with DVC</a></span></li></ul></div>"
   ]
  },
  {
   "cell_type": "markdown",
   "metadata": {},
   "source": [
    "# DVC + MLflow = experiments managementm"
   ]
  },
  {
   "cell_type": "markdown",
   "metadata": {},
   "source": [
    "## Create a new `log_metrics` pipeline stage\n",
    "\n",
    "Then we can add it to DVC as a stage and run together with other stades through `dvc repro`"
   ]
  },
  {
   "cell_type": "markdown",
   "metadata": {},
   "source": [
    "Install `catboost` flavour which is not supported out of the box: "
   ]
  },
  {
   "cell_type": "code",
   "execution_count": 1,
   "metadata": {},
   "outputs": [
    {
     "name": "stdout",
     "output_type": "stream",
     "text": [
      "Processing ./src/utils/cb_flavor\n",
      "Using legacy 'setup.py install' for cb-flavor, since package 'wheel' is not installed.\n",
      "Installing collected packages: cb-flavor\n",
      "    Running setup.py install for cb-flavor ... \u001b[?25ldone\n",
      "\u001b[?25hSuccessfully installed cb-flavor-0.0.1\n",
      "\u001b[33mWARNING: You are using pip version 21.0; however, version 21.0.1 is available.\n",
      "You should consider upgrading via the '/Users/antongusarov/ML_REPA/tutorial-predict-device-change/venv/bin/python -m pip install --upgrade pip' command.\u001b[0m\n"
     ]
    }
   ],
   "source": [
    "! pip install src/utils/cb_flavor/."
   ]
  },
  {
   "cell_type": "markdown",
   "metadata": {},
   "source": [
    "Check that the newly created `log_metrics` pipeline stage is functioning properly:"
   ]
  },
  {
   "cell_type": "code",
   "execution_count": 1,
   "metadata": {},
   "outputs": [
    {
     "name": "stdout",
     "output_type": "stream",
     "text": [
      "2021-02-25 23:18:53,090 — LOG_METRICS — INFO — Start logging\n",
      "2021-02-25 23:18:53,100 — LOG_METRICS — DEBUG — Experiment ID: 3, Run ID: f5a3393ee58544a0aef78787a8e41fa9\n",
      "2021-02-25 23:18:53,104 — LOG_METRICS — INFO — Log train metrics\n",
      "2021-02-25 23:18:53,109 — LOG_METRICS — INFO — Log cross-validation metrics (raw metrics, by folds\n",
      "2021-02-25 23:18:53,112 — LOG_METRICS — DEBUG — lift: {'2020-05-31': 2.1466859497062547, '2020-06-30': 2.1505471897179307, '2020-07-31': 2.1445188225607903, '2020-08-31': 2.1383669439425}\n",
      "2021-02-25 23:18:53,117 — LOG_METRICS — DEBUG — precision_at_k: {'2020-05-31': 0.8380311652395894, '2020-06-30': 0.8377120672233155, '2020-07-31': 0.8346540445673563, '2020-08-31': 0.8354251981066851}\n",
      "2021-02-25 23:18:53,124 — LOG_METRICS — DEBUG — recall_at_k: {'2020-05-31': 1.0, '2020-06-30': 1.0, '2020-07-31': 1.0, '2020-08-31': 1.0}\n",
      "2021-02-25 23:18:53,132 — LOG_METRICS — INFO — Log params\n",
      "2021-02-25 23:18:53,136 — LOG_METRICS — INFO — Log artifacts\n",
      "2021-02-25 23:18:53,619 — LOG_METRICS — INFO — Log model\n",
      "2021-02-25 23:18:54,112 — LOG_METRICS — INFO — Log mlflow report\n"
     ]
    }
   ],
   "source": [
    "! python -m src.pipelines.log_metrics --config=config/params.yaml"
   ]
  },
  {
   "cell_type": "markdown",
   "metadata": {},
   "source": [
    "! mlflow ui"
   ]
  },
  {
   "cell_type": "markdown",
   "metadata": {},
   "source": [
    "Add this new pipeline stage into DVC (`dvc.yaml`):"
   ]
  },
  {
   "cell_type": "code",
   "execution_count": 11,
   "metadata": {},
   "outputs": [
    {
     "name": "stdout",
     "output_type": "stream",
     "text": [
      "Running stage 'log_metrics' with command:\n",
      "\tpython -m src.pipelines.log_metrics --config=config/params.yaml\n",
      "2021-02-26 00:11:36,720 — LOG_METRICS — INFO — Start logging\n",
      "2021-02-26 00:11:36,735 — LOG_METRICS — DEBUG — Experiment ID: 3, Run ID: 7100759601764c9ea53d15fa91a3b60b\n",
      "2021-02-26 00:11:36,739 — LOG_METRICS — INFO — Log train metrics\n",
      "2021-02-26 00:11:36,744 — LOG_METRICS — INFO — Log cross-validation metrics (raw metrics, by folds\n",
      "2021-02-26 00:11:36,751 — LOG_METRICS — DEBUG — lift: {'2020-05-31': 2.038653459900317, '2020-06-30': 2.0630316674750206, '2020-07-31': 2.04804690407424, '2020-08-31': 2.054648213922152}\n",
      "2021-02-26 00:11:36,760 — LOG_METRICS — DEBUG — precision_at_k: {'2020-05-31': 0.7958570440887093, '2020-06-30': 0.8036217624847098, '2020-07-31': 0.7971068446524491, '2020-08-31': 0.8027176514386002}\n",
      "2021-02-26 00:11:36,766 — LOG_METRICS — DEBUG — recall_at_k: {'2020-05-31': 1.0, '2020-06-30': 1.0, '2020-07-31': 1.0, '2020-08-31': 1.0}\n",
      "2021-02-26 00:11:36,772 — LOG_METRICS — INFO — Log params\n",
      "2021-02-26 00:11:36,774 — LOG_METRICS — INFO — Log artifacts\n",
      "2021-02-26 00:11:37,186 — LOG_METRICS — INFO — Log model\n",
      "2021-02-26 00:11:37,438 — LOG_METRICS — INFO — Log mlflow report\n",
      "Modifying stage 'log_metrics' in 'dvc.yaml'\n",
      "Updating lock file 'dvc.lock'\n",
      "\n",
      "To track the changes with git, run:\n",
      "\n",
      "\tgit add dvc.lock dvc.yaml\n"
     ]
    }
   ],
   "source": [
    "%%bash\n",
    "dvc run -f \\\n",
    "    -n log_metrics \\\n",
    "    -d data/processed/features.feather \\\n",
    "    -d models/model.joblib \\\n",
    "    -d reports/train_metrics.json \\\n",
    "    -d reports/raw_metrics.csv \\\n",
    "    -O reports/mlflow_report.md\\\n",
    "    -p config/params.yaml:train,log_metrics \\\n",
    "    python -m src.pipelines.log_metrics --config=config/params.yaml"
   ]
  },
  {
   "cell_type": "code",
   "execution_count": 12,
   "metadata": {},
   "outputs": [
    {
     "name": "stdout",
     "output_type": "stream",
     "text": [
      "\u001b7\u001b[?47h\u001b[?1h\u001b=\n",
      "\n",
      "\n",
      "\n",
      "\n",
      "\n",
      "\n",
      "\n",
      "\n",
      "\n",
      "\n",
      "\n",
      "\n",
      "\n",
      "\n",
      "\n",
      "\n",
      "\n",
      "\n",
      "\n",
      "\n",
      "\n",
      "\n",
      "\u001b[H\u001b[2J\u001b[H\u001b[H\u001b[2J\u001b[H+-----------------+  \u001b[m\n",
      "| load_data_stage |  \u001b[m\n",
      "+-----------------+  \u001b[m\n",
      "+-----------------+  \u001b[m\n",
      "| featurize_stage |  \u001b[m\n",
      "+-----------------+  \u001b[m\n",
      "+--------------------+               +-------------+  \u001b[m\n",
      "| data/processed.dvc |               | train_stage |  \u001b[m\n",
      "+--------------------+               +-------------+  \u001b[m\n",
      "                   **               **                \u001b[m\n",
      "                     ***         ***                  \u001b[m\n",
      "                        **     **                     \u001b[m\n",
      "                    +-------------+                   \u001b[m\n",
      "                    | log_metrics |                   \u001b[m\n",
      "                    +-------------+                   \u001b[m\n",
      "\u001b[1m~\u001b[m\n",
      "\u001b[1m~\u001b[m\n",
      "\u001b[1m~\u001b[m\n",
      "\u001b[1m~\u001b[m\n",
      "\u001b[1m~\u001b[m\n",
      "\u001b[1m~\u001b[m\n",
      "\u001b[1m~\u001b[m\n",
      "\u001b[1m~\u001b[m\n",
      "\u001b[K\u001b[7m(END)\u001b[m\u001b[Kp/zg2nfhts6q74ptj2dn93gxfr0000gn/T/tmpnelsbodb (END)\u001b[m\u001b[K\u0007"
     ]
    }
   ],
   "source": [
    "! dvc dag"
   ]
  },
  {
   "cell_type": "markdown",
   "metadata": {},
   "source": [
    "# Experimenting"
   ]
  },
  {
   "cell_type": "markdown",
   "metadata": {},
   "source": [
    "## Experiment 1"
   ]
  },
  {
   "cell_type": "markdown",
   "metadata": {},
   "source": [
    "- Create a new branch `experiment_1`"
   ]
  },
  {
   "cell_type": "code",
   "execution_count": 22,
   "metadata": {},
   "outputs": [
    {
     "name": "stdout",
     "output_type": "stream",
     "text": [
      "fatal: A branch named 'experiment_1' already exists.\r\n"
     ]
    }
   ],
   "source": [
    "! git checkout -b \"experiment_1\""
   ]
  },
  {
   "cell_type": "markdown",
   "metadata": {},
   "source": [
    "- Modify any train parameters in `params.yaml`\n",
    "\n",
    "For example:\n",
    "\n",
    "```yaml\n",
    "train:\n",
    "  estimator: catboost\n",
    "  catboost_params:\n",
    "    iterations: 10\n",
    "    thread_count: 50\n",
    "    has_time: true\n",
    "    depth: 6\n",
    "    learning_rate: 0.15\n",
    "    allow_writing_files: false\n",
    "```"
   ]
  },
  {
   "cell_type": "markdown",
   "metadata": {},
   "source": [
    "- Run experiment:"
   ]
  },
  {
   "cell_type": "code",
   "execution_count": 23,
   "metadata": {},
   "outputs": [
    {
     "name": "stdout",
     "output_type": "stream",
     "text": [
      "Stage 'load_data_stage' didn't change, skipping                       core\u001b[39m>\n",
      "'data/processed.dvc' didn't change, skipping\n",
      "Stage 'train_stage' didn't change, skipping\n",
      "Stage 'log_metrics' didn't change, skipping\n",
      "Stage 'featurize_stage' didn't change, skipping\n",
      "Data and pipelines are up to date.\n",
      "\u001b[0m"
     ]
    }
   ],
   "source": [
    "! dvc repro"
   ]
  },
  {
   "cell_type": "markdown",
   "metadata": {},
   "source": [
    "Note that `dvc.lock` has changed accordingly reflecting the updated model paramaters.\n",
    "\n",
    "- Commit the experiment:"
   ]
  },
  {
   "cell_type": "markdown",
   "metadata": {},
   "source": [
    "```bash\n",
    "git add .\n",
    "git commit -m \"Make experiment 1\"\n",
    "```"
   ]
  },
  {
   "cell_type": "markdown",
   "metadata": {},
   "source": [
    "- **Add tag**\n",
    "Use MLflow `run_id` as a part of the tag \n",
    "```bash\n",
    "git tag exp-1-[MLFLOW_RUN_ID] -a\n",
    "```"
   ]
  },
  {
   "cell_type": "markdown",
   "metadata": {},
   "source": [
    "```bash \n",
    "! git tag exp-1-89997d6ead9845babd4d6263b85bc217 -a\n",
    "```"
   ]
  },
  {
   "cell_type": "code",
   "execution_count": 24,
   "metadata": {},
   "outputs": [
    {
     "name": "stdout",
     "output_type": "stream",
     "text": [
      "exp-1-89997d6ead9845babd4d6263b85bc217\r\n",
      "exp_1.0\r\n",
      "v0.1\r\n",
      "v0.2\r\n"
     ]
    }
   ],
   "source": [
    "! git tag"
   ]
  },
  {
   "cell_type": "markdown",
   "metadata": {},
   "source": [
    "- **DVC Push** using `dvc push`:"
   ]
  },
  {
   "cell_type": "code",
   "execution_count": 26,
   "metadata": {
    "scrolled": true
   },
   "outputs": [
    {
     "name": "stdout",
     "output_type": "stream",
     "text": [
      "Everything is up to date.                                                       \n",
      "\u001b[0m"
     ]
    }
   ],
   "source": [
    "! dvc push -r myremote"
   ]
  },
  {
   "cell_type": "markdown",
   "metadata": {},
   "source": [
    "- **Push to `origin experiments`**:"
   ]
  },
  {
   "cell_type": "code",
   "execution_count": 27,
   "metadata": {},
   "outputs": [
    {
     "name": "stdout",
     "output_type": "stream",
     "text": [
      "Enumerating objects: 19, done.\n",
      "Counting objects: 100% (19/19), done.\n",
      "Delta compression using up to 8 threads\n",
      "Compressing objects: 100% (10/10), done.\n",
      "Writing objects: 100% (10/10), 29.94 KiB | 5.99 MiB/s, done.\n",
      "Total 10 (delta 4), reused 0 (delta 0)\n",
      "remote: Resolving deltas: 100% (4/4), completed with 4 local objects.\u001b[K\n",
      "remote: This repository moved. Please use the new location:\u001b[K\n",
      "remote:   git@github.com:AntonGusarov/MLOps-demo-project.git\u001b[K\n",
      "remote: \n",
      "remote: Create a pull request for 'experiment_1' on GitHub by visiting:\u001b[K\n",
      "remote:      https://github.com/AntonGusarov/MLOps-demo-project/pull/new/experiment_1\u001b[K\n",
      "remote: \n",
      "To github.com:AntonGusarov/predict-device-change.git\n",
      " * [new branch]      experiment_1 -> experiment_1\n"
     ]
    }
   ],
   "source": [
    "! git push origin experiment_1"
   ]
  },
  {
   "cell_type": "markdown",
   "metadata": {},
   "source": [
    "**Create a Merge Request into & merge `dev`**"
   ]
  },
  {
   "cell_type": "markdown",
   "metadata": {},
   "source": [
    "## Experiment 2: params tuning"
   ]
  },
  {
   "cell_type": "markdown",
   "metadata": {},
   "source": [
    "**GitHub**:\n",
    "\n",
    "- Create an issue: `Add experiment 2`\n",
    "- Create a new branch from `exeriments`\n",
    "\n",
    "**Git fetch** the experiment branch to local workspace\n",
    "\n",
    "```bash\n",
    "git fetch\n",
    "git checkout <EXPERIMENT_BRANCH_NAME>\n",
    "```"
   ]
  },
  {
   "cell_type": "code",
   "execution_count": 28,
   "metadata": {},
   "outputs": [
    {
     "name": "stdout",
     "output_type": "stream",
     "text": [
      "  dvc_pipelines\u001b[m\r\n",
      "* \u001b[32mexperiment_1\u001b[m\r\n",
      "  master\u001b[m\r\n"
     ]
    }
   ],
   "source": [
    "! git branch"
   ]
  },
  {
   "cell_type": "code",
   "execution_count": 29,
   "metadata": {},
   "outputs": [
    {
     "name": "stdout",
     "output_type": "stream",
     "text": [
      "From github.com:AntonGusarov/predict-device-change\r\n",
      " * [new branch]      experiment_2 -> origin/experiment_2\r\n"
     ]
    }
   ],
   "source": [
    "! git fetch"
   ]
  },
  {
   "cell_type": "code",
   "execution_count": 31,
   "metadata": {},
   "outputs": [
    {
     "name": "stdout",
     "output_type": "stream",
     "text": [
      "  dvc_pipelines\u001b[m\r\n",
      "* \u001b[32mexperiment_1\u001b[m\r\n",
      "  master\u001b[m\r\n",
      "  \u001b[31mremotes/AntonGusarov/dvc_pipelines\u001b[m\r\n",
      "  \u001b[31mremotes/AntonGusarov/experiment_1\u001b[m\r\n",
      "  \u001b[31mremotes/AntonGusarov/master\u001b[m\r\n",
      "  \u001b[31mremotes/origin/HEAD\u001b[m -> origin/master\r\n",
      "  \u001b[31mremotes/origin/dvc_pipelines\u001b[m\r\n",
      "  \u001b[31mremotes/origin/experiment_1\u001b[m\r\n",
      "  \u001b[31mremotes/origin/experiment_2\u001b[m\r\n",
      "  \u001b[31mremotes/origin/master\u001b[m\r\n"
     ]
    }
   ],
   "source": [
    "! git branch -a"
   ]
  },
  {
   "cell_type": "code",
   "execution_count": 32,
   "metadata": {},
   "outputs": [
    {
     "name": "stdout",
     "output_type": "stream",
     "text": [
      "D\t1.1-antong_step_3_unittests.ipynb\r\n",
      "D\t2.1-antong_step4_dvc.ipynb\r\n",
      "A\tUntitled1.ipynb\r\n",
      "A\tstep-4.1-metrics-tracking.ipynb\r\n",
      "A\tstep-4.2-model-life-cycle-management.ipynb\r\n",
      "A\tstep-4.3-experiment-management.ipynb\r\n",
      "Note: checking out 'remotes/origin/experiment_2'.\r\n",
      "\r\n",
      "You are in 'detached HEAD' state. You can look around, make experimental\r\n",
      "changes and commit them, and you can discard any commits you make in this\r\n",
      "state without impacting any branches by performing another checkout.\r\n",
      "\r\n",
      "If you want to create a new branch to retain commits you create, you may\r\n",
      "do so (now or later) by using -b with the checkout command again. Example:\r\n",
      "\r\n",
      "  git checkout -b <new-branch-name>\r\n",
      "\r\n",
      "HEAD is now at 92d2082 Merge pull request #3 from AntonGusarov/experiment_1\r\n"
     ]
    }
   ],
   "source": [
    "! git checkout remotes/origin/experiment_2"
   ]
  },
  {
   "cell_type": "markdown",
   "metadata": {},
   "source": [
    "Used PyCharm to checkout from a remote branch (automatically creates a local copy of a remote branch). "
   ]
  },
  {
   "cell_type": "code",
   "execution_count": 34,
   "metadata": {},
   "outputs": [
    {
     "name": "stdout",
     "output_type": "stream",
     "text": [
      "  dvc_pipelines\u001b[m\r\n",
      "  experiment_1\u001b[m\r\n",
      "* \u001b[32mexperiment_2\u001b[m\r\n",
      "  master\u001b[m\r\n",
      "  \u001b[31mremotes/AntonGusarov/dvc_pipelines\u001b[m\r\n",
      "  \u001b[31mremotes/AntonGusarov/experiment_1\u001b[m\r\n",
      "  \u001b[31mremotes/AntonGusarov/master\u001b[m\r\n",
      "  \u001b[31mremotes/origin/HEAD\u001b[m -> origin/master\r\n",
      "  \u001b[31mremotes/origin/dvc_pipelines\u001b[m\r\n",
      "  \u001b[31mremotes/origin/experiment_1\u001b[m\r\n",
      "  \u001b[31mremotes/origin/experiment_2\u001b[m\r\n",
      "  \u001b[31mremotes/origin/master\u001b[m\r\n"
     ]
    }
   ],
   "source": [
    "! git branch -a"
   ]
  },
  {
   "cell_type": "markdown",
   "metadata": {},
   "source": [
    "**Modify any train parameters in `params.yaml`**\n",
    "\n",
    "For example:\n",
    "\n",
    "```yaml\n",
    "base:\n",
    "  ...\n",
    "  exp_name: 'Experiment 2'\n",
    "  \n",
    "catboost_params:\n",
    "    iterations: 30\n",
    "```"
   ]
  },
  {
   "cell_type": "markdown",
   "metadata": {},
   "source": [
    "- **Run experiment** via DVC pipeline"
   ]
  },
  {
   "cell_type": "code",
   "execution_count": 35,
   "metadata": {
    "scrolled": true
   },
   "outputs": [
    {
     "name": "stdout",
     "output_type": "stream",
     "text": [
      "'data/processed.dvc' didn't change, skipping                          core\u001b[39m>\n",
      "Running stage 'train_stage' with command:\n",
      "\tpython -m src.pipelines.train --config=config/params.yaml\n",
      "{'project_dir': '.', 'random_state': 42, 'log_level': 'DEBUG', 'exp_name': 'Experiment 1'}\n",
      "2021-02-26 13:04:57,784 — TRAIN — INFO — Load data\n",
      "2021-02-26 13:04:58,358 — TRAIN — INFO — Instantiate model\n",
      "2021-02-26 13:04:58,445 — TRAIN — INFO — Top_K 5.0% of the dataset size: 37606\n",
      "2021-02-26 13:04:58,446 — TRAIN — INFO — Fold 1:\n",
      "2021-02-26 13:04:58,446 — TRAIN — INFO — Train: 2020-04-30 00:00:00 - 2020-04-30 00:00:00\n",
      "2021-02-26 13:04:58,446 — TRAIN — INFO — Test: 2020-05-31 00:00:00 \n",
      "\n",
      "2021-02-26 13:04:58,566 — TRAIN — INFO — Train shapes: X - (150484, 30), y - (150484,)\n",
      "2021-02-26 13:04:58,567 — TRAIN — INFO — Test shapes: X - (150411, 30), y - (150411,)\n",
      "0:\tlearn: 0.6627438\ttotal: 192ms\tremaining: 5.58s\n",
      "1:\tlearn: 0.6299553\ttotal: 297ms\tremaining: 4.15s\n",
      "2:\tlearn: 0.6057897\ttotal: 409ms\tremaining: 3.68s\n",
      "3:\tlearn: 0.5924123\ttotal: 516ms\tremaining: 3.35s\n",
      "4:\tlearn: 0.5752082\ttotal: 643ms\tremaining: 3.22s\n",
      "5:\tlearn: 0.5637938\ttotal: 746ms\tremaining: 2.98s\n",
      "6:\tlearn: 0.5531022\ttotal: 847ms\tremaining: 2.78s\n",
      "7:\tlearn: 0.5441916\ttotal: 943ms\tremaining: 2.59s\n",
      "8:\tlearn: 0.5351240\ttotal: 1.04s\tremaining: 2.42s\n",
      "9:\tlearn: 0.5294968\ttotal: 1.15s\tremaining: 2.29s\n",
      "10:\tlearn: 0.5211446\ttotal: 1.26s\tremaining: 2.17s\n",
      "11:\tlearn: 0.5155345\ttotal: 1.35s\tremaining: 2.03s\n",
      "12:\tlearn: 0.5117880\ttotal: 1.46s\tremaining: 1.91s\n",
      "13:\tlearn: 0.5055696\ttotal: 1.56s\tremaining: 1.78s\n",
      "14:\tlearn: 0.5019285\ttotal: 1.67s\tremaining: 1.67s\n",
      "15:\tlearn: 0.4985118\ttotal: 1.78s\tremaining: 1.56s\n",
      "16:\tlearn: 0.4951032\ttotal: 1.9s\tremaining: 1.45s\n",
      "17:\tlearn: 0.4905797\ttotal: 2.01s\tremaining: 1.34s\n",
      "18:\tlearn: 0.4875681\ttotal: 2.12s\tremaining: 1.23s\n",
      "19:\tlearn: 0.4849577\ttotal: 2.21s\tremaining: 1.11s\n",
      "20:\tlearn: 0.4827478\ttotal: 2.32s\tremaining: 995ms\n",
      "21:\tlearn: 0.4787618\ttotal: 2.42s\tremaining: 878ms\n",
      "22:\tlearn: 0.4760227\ttotal: 2.52s\tremaining: 768ms\n",
      "23:\tlearn: 0.4737450\ttotal: 2.63s\tremaining: 657ms\n",
      "24:\tlearn: 0.4707111\ttotal: 2.72s\tremaining: 544ms\n",
      "25:\tlearn: 0.4686202\ttotal: 2.82s\tremaining: 434ms\n",
      "26:\tlearn: 0.4673564\ttotal: 2.92s\tremaining: 325ms\n",
      "27:\tlearn: 0.4655903\ttotal: 3.04s\tremaining: 217ms\n",
      "28:\tlearn: 0.4627328\ttotal: 3.14s\tremaining: 108ms\n",
      "29:\tlearn: 0.4599142\ttotal: 3.24s\tremaining: 0us\n",
      "2021-02-26 13:05:02,326 — TRAIN — INFO — Max probas: 0.9444672161478113\n",
      "2021-02-26 13:05:02,364 — src.evaluate.metrics — INFO — Lift: 0.8374461522097537 / 0.39038368204453133 = 2.14518739057906\n",
      "2021-02-26 13:05:02,436 — TRAIN — INFO — Precision at 37606: 0.8374461522097537\n",
      "2021-02-26 13:05:02,436 — TRAIN — INFO — Recall at 37606: 1.0\n",
      "\n",
      "2021-02-26 13:05:02,436 — TRAIN — INFO — Fold 2:\n",
      "2021-02-26 13:05:02,436 — TRAIN — INFO — Train: 2020-04-30 00:00:00 - 2020-05-31 00:00:00\n",
      "2021-02-26 13:05:02,436 — TRAIN — INFO — Test: 2020-06-30 00:00:00 \n",
      "\n",
      "2021-02-26 13:05:02,607 — TRAIN — INFO — Train shapes: X - (300895, 30), y - (300895,)\n",
      "2021-02-26 13:05:02,608 — TRAIN — INFO — Test shapes: X - (150187, 30), y - (150187,)\n",
      "0:\tlearn: 0.6615318\ttotal: 133ms\tremaining: 3.86s\n",
      "1:\tlearn: 0.6311358\ttotal: 257ms\tremaining: 3.6s\n",
      "2:\tlearn: 0.6058219\ttotal: 367ms\tremaining: 3.3s\n",
      "3:\tlearn: 0.5860958\ttotal: 486ms\tremaining: 3.16s\n",
      "4:\tlearn: 0.5699847\ttotal: 634ms\tremaining: 3.17s\n",
      "5:\tlearn: 0.5561752\ttotal: 762ms\tremaining: 3.05s\n",
      "6:\tlearn: 0.5475497\ttotal: 878ms\tremaining: 2.89s\n",
      "7:\tlearn: 0.5387625\ttotal: 994ms\tremaining: 2.73s\n",
      "8:\tlearn: 0.5319154\ttotal: 1.13s\tremaining: 2.63s\n",
      "9:\tlearn: 0.5239090\ttotal: 1.26s\tremaining: 2.53s\n",
      "10:\tlearn: 0.5187616\ttotal: 1.39s\tremaining: 2.41s\n",
      "11:\tlearn: 0.5141741\ttotal: 1.51s\tremaining: 2.27s\n",
      "12:\tlearn: 0.5077786\ttotal: 1.64s\tremaining: 2.15s\n",
      "13:\tlearn: 0.5046982\ttotal: 1.78s\tremaining: 2.03s\n",
      "14:\tlearn: 0.5009138\ttotal: 1.89s\tremaining: 1.89s\n",
      "15:\tlearn: 0.4955383\ttotal: 2.01s\tremaining: 1.76s\n",
      "16:\tlearn: 0.4937244\ttotal: 2.12s\tremaining: 1.62s\n",
      "17:\tlearn: 0.4911110\ttotal: 2.25s\tremaining: 1.5s\n",
      "18:\tlearn: 0.4886194\ttotal: 2.37s\tremaining: 1.37s\n",
      "19:\tlearn: 0.4856572\ttotal: 2.5s\tremaining: 1.25s\n",
      "20:\tlearn: 0.4824740\ttotal: 2.63s\tremaining: 1.13s\n",
      "21:\tlearn: 0.4794188\ttotal: 2.74s\tremaining: 997ms\n",
      "22:\tlearn: 0.4762990\ttotal: 2.86s\tremaining: 871ms\n",
      "23:\tlearn: 0.4733271\ttotal: 2.98s\tremaining: 744ms\n",
      "24:\tlearn: 0.4702667\ttotal: 3.1s\tremaining: 619ms\n",
      "25:\tlearn: 0.4675431\ttotal: 3.21s\tremaining: 493ms\n",
      "26:\tlearn: 0.4653469\ttotal: 3.32s\tremaining: 369ms\n",
      "27:\tlearn: 0.4642490\ttotal: 3.43s\tremaining: 245ms\n",
      "28:\tlearn: 0.4621003\ttotal: 3.58s\tremaining: 124ms\n",
      "29:\tlearn: 0.4607412\ttotal: 3.72s\tremaining: 0us\n",
      "2021-02-26 13:05:06,970 — TRAIN — INFO — Max probas: 0.9430350991941063\n",
      "2021-02-26 13:05:07,009 — src.evaluate.metrics — INFO — Lift: 0.8371270541934798 / 0.38953438047234445 = 2.1490453632831845\n",
      "2021-02-26 13:05:07,077 — TRAIN — INFO — Precision at 37606: 0.8371270541934798\n",
      "2021-02-26 13:05:07,077 — TRAIN — INFO — Recall at 37606: 1.0\n",
      "\n",
      "2021-02-26 13:05:07,077 — TRAIN — INFO — Fold 3:\n",
      "2021-02-26 13:05:07,077 — TRAIN — INFO — Train: 2020-04-30 00:00:00 - 2020-06-30 00:00:00\n",
      "2021-02-26 13:05:07,077 — TRAIN — INFO — Test: 2020-07-31 00:00:00 \n",
      "\n",
      "2021-02-26 13:05:07,346 — TRAIN — INFO — Train shapes: X - (451082, 30), y - (451082,)\n",
      "2021-02-26 13:05:07,346 — TRAIN — INFO — Test shapes: X - (150492, 30), y - (150492,)\n",
      "0:\tlearn: 0.6628015\ttotal: 182ms\tremaining: 5.29s\n",
      "1:\tlearn: 0.6331666\ttotal: 325ms\tremaining: 4.54s\n",
      "2:\tlearn: 0.6091258\ttotal: 467ms\tremaining: 4.21s\n",
      "3:\tlearn: 0.5891205\ttotal: 627ms\tremaining: 4.08s\n",
      "4:\tlearn: 0.5733701\ttotal: 762ms\tremaining: 3.81s\n",
      "5:\tlearn: 0.5578508\ttotal: 919ms\tremaining: 3.68s\n",
      "6:\tlearn: 0.5490911\ttotal: 1.06s\tremaining: 3.49s\n",
      "7:\tlearn: 0.5382719\ttotal: 1.21s\tremaining: 3.33s\n",
      "8:\tlearn: 0.5310938\ttotal: 1.36s\tremaining: 3.17s\n",
      "9:\tlearn: 0.5255640\ttotal: 1.5s\tremaining: 3s\n",
      "10:\tlearn: 0.5184301\ttotal: 1.64s\tremaining: 2.84s\n",
      "11:\tlearn: 0.5129622\ttotal: 1.79s\tremaining: 2.68s\n",
      "12:\tlearn: 0.5076107\ttotal: 1.94s\tremaining: 2.53s\n",
      "13:\tlearn: 0.5023113\ttotal: 2.08s\tremaining: 2.37s\n",
      "14:\tlearn: 0.4995564\ttotal: 2.23s\tremaining: 2.23s\n",
      "15:\tlearn: 0.4948273\ttotal: 2.37s\tremaining: 2.08s\n",
      "16:\tlearn: 0.4922795\ttotal: 2.52s\tremaining: 1.92s\n",
      "17:\tlearn: 0.4877490\ttotal: 2.66s\tremaining: 1.78s\n",
      "18:\tlearn: 0.4834108\ttotal: 2.82s\tremaining: 1.63s\n",
      "19:\tlearn: 0.4798650\ttotal: 2.96s\tremaining: 1.48s\n",
      "20:\tlearn: 0.4760858\ttotal: 3.11s\tremaining: 1.33s\n",
      "21:\tlearn: 0.4733281\ttotal: 3.26s\tremaining: 1.19s\n",
      "22:\tlearn: 0.4717310\ttotal: 3.43s\tremaining: 1.04s\n",
      "23:\tlearn: 0.4702659\ttotal: 3.59s\tremaining: 897ms\n",
      "24:\tlearn: 0.4685149\ttotal: 3.75s\tremaining: 751ms\n",
      "25:\tlearn: 0.4662444\ttotal: 3.9s\tremaining: 599ms\n",
      "26:\tlearn: 0.4647923\ttotal: 4.06s\tremaining: 451ms\n",
      "27:\tlearn: 0.4634339\ttotal: 4.21s\tremaining: 300ms\n",
      "28:\tlearn: 0.4622327\ttotal: 4.37s\tremaining: 151ms\n",
      "29:\tlearn: 0.4602277\ttotal: 4.52s\tremaining: 0us\n",
      "2021-02-26 13:05:12,662 — TRAIN — INFO — Max probas: 0.9426183098269693\n",
      "2021-02-26 13:05:12,701 — src.evaluate.metrics — INFO — Lift: 0.8332712864968356 / 0.38920341280599635 = 2.1409660323615682\n",
      "2021-02-26 13:05:12,770 — TRAIN — INFO — Precision at 37606: 0.8332712864968356\n",
      "2021-02-26 13:05:12,770 — TRAIN — INFO — Recall at 37606: 1.0\n",
      "\n",
      "2021-02-26 13:05:12,770 — TRAIN — INFO — Fold 4:\n",
      "2021-02-26 13:05:12,770 — TRAIN — INFO — Train: 2020-04-30 00:00:00 - 2020-07-31 00:00:00\n",
      "2021-02-26 13:05:12,770 — TRAIN — INFO — Test: 2020-08-31 00:00:00 \n",
      "\n",
      "2021-02-26 13:05:13,008 — TRAIN — INFO — Train shapes: X - (601574, 30), y - (601574,)\n",
      "2021-02-26 13:05:13,008 — TRAIN — INFO — Test shapes: X - (150554, 30), y - (150554,)\n",
      "0:\tlearn: 0.6629855\ttotal: 231ms\tremaining: 6.7s\n",
      "1:\tlearn: 0.6331832\ttotal: 418ms\tremaining: 5.86s\n",
      "2:\tlearn: 0.6094619\ttotal: 584ms\tremaining: 5.25s\n",
      "3:\tlearn: 0.5893126\ttotal: 766ms\tremaining: 4.98s\n",
      "4:\tlearn: 0.5728767\ttotal: 930ms\tremaining: 4.65s\n",
      "5:\tlearn: 0.5581549\ttotal: 1.11s\tremaining: 4.44s\n",
      "6:\tlearn: 0.5442189\ttotal: 1.28s\tremaining: 4.21s\n",
      "7:\tlearn: 0.5362403\ttotal: 1.45s\tremaining: 3.97s\n",
      "8:\tlearn: 0.5292682\ttotal: 1.61s\tremaining: 3.75s\n",
      "9:\tlearn: 0.5250413\ttotal: 1.78s\tremaining: 3.56s\n",
      "10:\tlearn: 0.5170933\ttotal: 1.94s\tremaining: 3.35s\n",
      "11:\tlearn: 0.5117468\ttotal: 2.12s\tremaining: 3.17s\n",
      "12:\tlearn: 0.5050379\ttotal: 2.28s\tremaining: 2.98s\n"
     ]
    },
    {
     "name": "stdout",
     "output_type": "stream",
     "text": [
      "13:\tlearn: 0.5017730\ttotal: 2.44s\tremaining: 2.79s\n",
      "14:\tlearn: 0.4969726\ttotal: 2.61s\tremaining: 2.61s\n",
      "15:\tlearn: 0.4941473\ttotal: 2.79s\tremaining: 2.44s\n",
      "16:\tlearn: 0.4919248\ttotal: 2.97s\tremaining: 2.27s\n",
      "17:\tlearn: 0.4895653\ttotal: 3.14s\tremaining: 2.09s\n",
      "18:\tlearn: 0.4854192\ttotal: 3.31s\tremaining: 1.91s\n",
      "19:\tlearn: 0.4829664\ttotal: 3.5s\tremaining: 1.75s\n",
      "20:\tlearn: 0.4811894\ttotal: 3.67s\tremaining: 1.57s\n",
      "21:\tlearn: 0.4781727\ttotal: 3.85s\tremaining: 1.4s\n",
      "22:\tlearn: 0.4760381\ttotal: 4.03s\tremaining: 1.23s\n",
      "23:\tlearn: 0.4745870\ttotal: 4.2s\tremaining: 1.05s\n",
      "24:\tlearn: 0.4720071\ttotal: 4.37s\tremaining: 874ms\n",
      "25:\tlearn: 0.4692665\ttotal: 4.57s\tremaining: 703ms\n",
      "26:\tlearn: 0.4667085\ttotal: 4.78s\tremaining: 531ms\n",
      "27:\tlearn: 0.4641235\ttotal: 4.96s\tremaining: 354ms\n",
      "28:\tlearn: 0.4628421\ttotal: 5.14s\tremaining: 177ms\n",
      "29:\tlearn: 0.4609297\ttotal: 5.32s\tremaining: 0us\n",
      "2021-02-26 13:05:19,277 — TRAIN — INFO — Max probas: 0.9436699116130296\n",
      "2021-02-26 13:05:19,318 — src.evaluate.metrics — INFO — Lift: 0.833164920491411 / 0.39068374138182976 = 2.1325815032500364\n",
      "2021-02-26 13:05:19,390 — TRAIN — INFO — Precision at 37606: 0.833164920491411\n",
      "2021-02-26 13:05:19,390 — TRAIN — INFO — Recall at 37606: 1.0\n",
      "\n",
      "2021-02-26 13:05:19,390 — src.train.train — INFO — 2020-09-30 00:00:00\n",
      "2021-02-26 13:05:19,390 — src.train.train — INFO — 2020-08-31T00:00:00.000000000\n",
      "2021-02-26 13:05:19,390 — TRAIN — INFO — Save \"raw\" metrics for plotting\n",
      "2021-02-26 13:05:19,394 — TRAIN — INFO — Save aggregated metrics\n",
      "2021-02-26 13:05:19,399 — TRAIN — INFO — Generate & save plots\n",
      "2021-02-26 13:05:19,706 — TRAIN — INFO — Save model\n",
      "2021-02-26 13:05:19,712 — TRAIN — INFO — Model saved to: ./models/model.joblib\n",
      "Updating lock file 'dvc.lock'                                         core\u001b[39m>\n",
      "\n",
      "Running stage 'log_metrics' with command:\n",
      "\tpython -m src.pipelines.log_metrics --config=config/params.yaml\n",
      "2021-02-26 13:05:21,596 — LOG_METRICS — INFO — Start logging\n",
      "INFO: 'Experiment 1' does not exist. Creating a new experiment\n",
      "2021-02-26 13:05:21,611 — LOG_METRICS — DEBUG — Experiment ID: 4, Run ID: dca173dc365e4ab5b4bb7decc0e83bab\n",
      "2021-02-26 13:05:21,615 — LOG_METRICS — INFO — Log train metrics\n",
      "2021-02-26 13:05:21,620 — LOG_METRICS — INFO — Log cross-validation metrics (raw metrics, by folds\n",
      "2021-02-26 13:05:21,631 — LOG_METRICS — DEBUG — lift: {'2020-05-31': 2.14518739057906, '2020-06-30': 2.1490453632831845, '2020-07-31': 2.140966032361568, '2020-08-31': 2.1325815032500364}\n",
      "2021-02-26 13:05:21,643 — LOG_METRICS — DEBUG — precision_at_k: {'2020-05-31': 0.8374461522097537, '2020-06-30': 0.8371270541934798, '2020-07-31': 0.8332712864968356, '2020-08-31': 0.8331649204914109}\n",
      "2021-02-26 13:05:21,650 — LOG_METRICS — DEBUG — recall_at_k: {'2020-05-31': 1.0, '2020-06-30': 1.0, '2020-07-31': 1.0, '2020-08-31': 1.0}\n",
      "2021-02-26 13:05:21,657 — LOG_METRICS — INFO — Log params\n",
      "2021-02-26 13:05:21,661 — LOG_METRICS — INFO — Log artifacts\n",
      "2021-02-26 13:05:22,156 — LOG_METRICS — INFO — Log model\n",
      "2021-02-26 13:05:22,444 — LOG_METRICS — INFO — Log mlflow report\n",
      "Updating lock file 'dvc.lock'                                         core\u001b[39m>\n",
      "\n",
      "Running stage 'load_data_stage' with command:\n",
      "\tpython -m src.pipelines.load_data --config=config/params.yaml\n",
      "2021-02-26 13:05:23,062 — DATA_LOAD — INFO — Load dataset\n",
      "2021-02-26 13:05:23,377 — DATA_LOAD — INFO — Process target\n",
      "2021-02-26 13:05:23,400 — DATA_LOAD — INFO — Process dataset\n",
      "2021-02-26 13:05:23,646 — DATA_LOAD — INFO — Save processed data and target\n",
      "2021-02-26 13:05:24,256 — DATA_LOAD — DEBUG — Processed data path: data/processed/user_features.feather\n",
      "2021-02-26 13:05:24,256 — DATA_LOAD — DEBUG — Processed data path: data/processed/target.feather\n",
      "Updating lock file 'dvc.lock'                                         core\u001b[39m>\n",
      "\n",
      "Running stage 'featurize_stage' with command:\n",
      "\tpython -m src.pipelines.featurize --config=config/params.yaml\n",
      "2021-02-26 13:05:24,751 — FEATURIZE — INFO — Load dataset\n",
      "2021-02-26 13:05:24,897 — FEATURIZE — INFO — Process dataset\n",
      "2021-02-26 13:05:25,069 — FEATURIZE — INFO — Add target column\n",
      "2021-02-26 13:05:25,947 — FEATURIZE — INFO — Process nulls\n",
      "2021-02-26 13:05:26,394 — FEATURIZE — INFO — Save features\n",
      "2021-02-26 13:05:26,988 — FEATURIZE — DEBUG — Features path: data/processed/features.feather\n",
      "Updating lock file 'dvc.lock'                                         core\u001b[39m>\n",
      "\n",
      "To track the changes with git, run:\n",
      "\n",
      "\tgit add dvc.lock\n",
      "Use `dvc push` to send your updates to remote storage.\n",
      "\u001b[0m"
     ]
    }
   ],
   "source": [
    "! dvc repro"
   ]
  },
  {
   "cell_type": "markdown",
   "metadata": {},
   "source": [
    "We can now check the results in MLflow server and `mlflow_report.md` to check the current experiment and run details. "
   ]
  },
  {
   "cell_type": "markdown",
   "metadata": {},
   "source": [
    "- **Commit experiment**"
   ]
  },
  {
   "cell_type": "markdown",
   "metadata": {},
   "source": [
    "- **Add tag** using PyCharm"
   ]
  },
  {
   "cell_type": "code",
   "execution_count": 37,
   "metadata": {},
   "outputs": [
    {
     "name": "stdout",
     "output_type": "stream",
     "text": [
      "exp-1-89997d6ead9845babd4d6263b85bc217\r\n",
      "exp-2-dca173dc365e4ab5b4bb7decc0e83bab\r\n",
      "exp_1.0\r\n",
      "v0.1\r\n",
      "v0.2\r\n"
     ]
    }
   ],
   "source": [
    "! git tag"
   ]
  },
  {
   "cell_type": "markdown",
   "metadata": {},
   "source": [
    "- **git push**"
   ]
  },
  {
   "cell_type": "code",
   "execution_count": 41,
   "metadata": {
    "scrolled": true
   },
   "outputs": [
    {
     "name": "stdout",
     "output_type": "stream",
     "text": [
      "  dvc_pipelines\u001b[m\r\n",
      "  experiment_1\u001b[m\r\n",
      "* \u001b[32mexperiment_2\u001b[m\r\n",
      "  master\u001b[m\r\n"
     ]
    }
   ],
   "source": [
    "! git branch"
   ]
  },
  {
   "cell_type": "code",
   "execution_count": 42,
   "metadata": {},
   "outputs": [
    {
     "name": "stdout",
     "output_type": "stream",
     "text": [
      "Enumerating objects: 13, done.\n",
      "Counting objects: 100% (13/13), done.\n",
      "Delta compression using up to 8 threads\n",
      "Compressing objects: 100% (7/7), done.\n",
      "Writing objects: 100% (7/7), 848 bytes | 424.00 KiB/s, done.\n",
      "Total 7 (delta 4), reused 0 (delta 0)\n",
      "remote: Resolving deltas: 100% (4/4), completed with 4 local objects.\u001b[K\n",
      "remote: This repository moved. Please use the new location:\u001b[K\n",
      "remote:   git@github.com:AntonGusarov/MLOps-demo-project.git\u001b[K\n",
      "To github.com:AntonGusarov/predict-device-change.git\n",
      "   92d2082..dfd70aa  experiment_2 -> experiment_2\n"
     ]
    }
   ],
   "source": [
    "! git push"
   ]
  },
  {
   "cell_type": "markdown",
   "metadata": {},
   "source": [
    "# Show metrics and params diffs with DVC"
   ]
  },
  {
   "cell_type": "code",
   "execution_count": 43,
   "metadata": {},
   "outputs": [
    {
     "name": "stdout",
     "output_type": "stream",
     "text": [
      "\treports/train_metrics.json:                                          core\u001b[39m>\n",
      "\t\tlift_max: 2.1490453632831845\n",
      "\t\tlift_min: 2.1325815032500364\n",
      "\t\tlift_std: 0.007060729528481228\n",
      "\t\tlift_mean: 2.141945072368462\n",
      "\t\tprecision_at_k_max: 0.8374461522097537\n",
      "\t\tprecision_at_k_min: 0.833164920491411\n",
      "\t\tprecision_at_k_std: 0.0023529597322963485\n",
      "\t\tprecision_at_k_mean: 0.8352523533478701\n",
      "\t\trecall_at_k_max: 1.0\n",
      "\t\trecall_at_k_min: 1.0\n",
      "\t\trecall_at_k_std: 0.0\n",
      "\t\trecall_at_k_mean: 1.0\n",
      "\u001b[0m"
     ]
    }
   ],
   "source": [
    "! dvc metrics show"
   ]
  },
  {
   "cell_type": "code",
   "execution_count": 45,
   "metadata": {},
   "outputs": [
    {
     "name": "stdout",
     "output_type": "stream",
     "text": [
      "Path                        Metric               Old      New      Changee\u001b[39m>\n",
      "reports/train_metrics.json  lift_max             2.0829   2.14905  0.06615\n",
      "reports/train_metrics.json  lift_mean            2.07286  2.14195  0.06908\n",
      "reports/train_metrics.json  lift_min             2.06383  2.13258  0.06875\n",
      "reports/train_metrics.json  lift_std             0.00785  0.00706  -0.00079\n",
      "reports/train_metrics.json  precision_at_k_max   0.81136  0.83745  0.02609\n",
      "reports/train_metrics.json  precision_at_k_mean  0.80832  0.83525  0.02694\n",
      "reports/train_metrics.json  precision_at_k_min   0.80325  0.83316  0.02992\n",
      "reports/train_metrics.json  precision_at_k_std   0.00356  0.00235  -0.0012\n",
      "\u001b[0m"
     ]
    }
   ],
   "source": [
    "!dvc metrics diff exp-1-89997d6ead9845babd4d6263b85bc217 exp-2-dca173dc365e4ab5b4bb7decc0e83bab"
   ]
  }
 ],
 "metadata": {
  "kernelspec": {
   "display_name": "venv",
   "language": "python",
   "name": "venv"
  },
  "language_info": {
   "codemirror_mode": {
    "name": "ipython",
    "version": 3
   },
   "file_extension": ".py",
   "mimetype": "text/x-python",
   "name": "python",
   "nbconvert_exporter": "python",
   "pygments_lexer": "ipython3",
   "version": "3.7.6"
  },
  "toc": {
   "base_numbering": 1,
   "nav_menu": {},
   "number_sections": true,
   "sideBar": true,
   "skip_h1_title": false,
   "title_cell": "Table of Contents",
   "title_sidebar": "Contents",
   "toc_cell": true,
   "toc_position": {
    "height": "calc(100% - 180px)",
    "left": "10px",
    "top": "150px",
    "width": "333.45587158203125px"
   },
   "toc_section_display": true,
   "toc_window_display": true
  }
 },
 "nbformat": 4,
 "nbformat_minor": 4
}
